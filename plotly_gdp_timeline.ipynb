{
 "cells": [
  {
   "cell_type": "code",
   "execution_count": 304,
   "id": "d6175849",
   "metadata": {},
   "outputs": [],
   "source": [
    "import pandas as pd\n",
    "import plotly.express as px\n",
    "import plotly.graph_objects as go"
   ]
  },
  {
   "cell_type": "code",
   "execution_count": 305,
   "id": "c5d1b36e",
   "metadata": {},
   "outputs": [
    {
     "data": {
      "text/html": [
       "<div>\n",
       "<style scoped>\n",
       "    .dataframe tbody tr th:only-of-type {\n",
       "        vertical-align: middle;\n",
       "    }\n",
       "\n",
       "    .dataframe tbody tr th {\n",
       "        vertical-align: top;\n",
       "    }\n",
       "\n",
       "    .dataframe thead th {\n",
       "        text-align: right;\n",
       "    }\n",
       "</style>\n",
       "<table border=\"1\" class=\"dataframe\">\n",
       "  <thead>\n",
       "    <tr style=\"text-align: right;\">\n",
       "      <th></th>\n",
       "      <th>country</th>\n",
       "      <th>1800</th>\n",
       "      <th>1801</th>\n",
       "      <th>1802</th>\n",
       "      <th>1803</th>\n",
       "      <th>1804</th>\n",
       "      <th>1805</th>\n",
       "      <th>1806</th>\n",
       "      <th>1807</th>\n",
       "      <th>1808</th>\n",
       "      <th>...</th>\n",
       "      <th>2091</th>\n",
       "      <th>2092</th>\n",
       "      <th>2093</th>\n",
       "      <th>2094</th>\n",
       "      <th>2095</th>\n",
       "      <th>2096</th>\n",
       "      <th>2097</th>\n",
       "      <th>2098</th>\n",
       "      <th>2099</th>\n",
       "      <th>2100</th>\n",
       "    </tr>\n",
       "  </thead>\n",
       "  <tbody>\n",
       "    <tr>\n",
       "      <th>0</th>\n",
       "      <td>Afghanistan</td>\n",
       "      <td>3.28M</td>\n",
       "      <td>3.28M</td>\n",
       "      <td>3.28M</td>\n",
       "      <td>3.28M</td>\n",
       "      <td>3.28M</td>\n",
       "      <td>3.28M</td>\n",
       "      <td>3.28M</td>\n",
       "      <td>3.28M</td>\n",
       "      <td>3.28M</td>\n",
       "      <td>...</td>\n",
       "      <td>76.6M</td>\n",
       "      <td>76.4M</td>\n",
       "      <td>76.3M</td>\n",
       "      <td>76.1M</td>\n",
       "      <td>76M</td>\n",
       "      <td>75.8M</td>\n",
       "      <td>75.6M</td>\n",
       "      <td>75.4M</td>\n",
       "      <td>75.2M</td>\n",
       "      <td>74.9M</td>\n",
       "    </tr>\n",
       "    <tr>\n",
       "      <th>1</th>\n",
       "      <td>Angola</td>\n",
       "      <td>1.57M</td>\n",
       "      <td>1.57M</td>\n",
       "      <td>1.57M</td>\n",
       "      <td>1.57M</td>\n",
       "      <td>1.57M</td>\n",
       "      <td>1.57M</td>\n",
       "      <td>1.57M</td>\n",
       "      <td>1.57M</td>\n",
       "      <td>1.57M</td>\n",
       "      <td>...</td>\n",
       "      <td>168M</td>\n",
       "      <td>170M</td>\n",
       "      <td>172M</td>\n",
       "      <td>175M</td>\n",
       "      <td>177M</td>\n",
       "      <td>179M</td>\n",
       "      <td>182M</td>\n",
       "      <td>184M</td>\n",
       "      <td>186M</td>\n",
       "      <td>188M</td>\n",
       "    </tr>\n",
       "    <tr>\n",
       "      <th>2</th>\n",
       "      <td>Albania</td>\n",
       "      <td>400k</td>\n",
       "      <td>402k</td>\n",
       "      <td>404k</td>\n",
       "      <td>405k</td>\n",
       "      <td>407k</td>\n",
       "      <td>409k</td>\n",
       "      <td>411k</td>\n",
       "      <td>413k</td>\n",
       "      <td>414k</td>\n",
       "      <td>...</td>\n",
       "      <td>1.33M</td>\n",
       "      <td>1.3M</td>\n",
       "      <td>1.27M</td>\n",
       "      <td>1.25M</td>\n",
       "      <td>1.22M</td>\n",
       "      <td>1.19M</td>\n",
       "      <td>1.17M</td>\n",
       "      <td>1.14M</td>\n",
       "      <td>1.11M</td>\n",
       "      <td>1.09M</td>\n",
       "    </tr>\n",
       "    <tr>\n",
       "      <th>3</th>\n",
       "      <td>Andorra</td>\n",
       "      <td>2650</td>\n",
       "      <td>2650</td>\n",
       "      <td>2650</td>\n",
       "      <td>2650</td>\n",
       "      <td>2650</td>\n",
       "      <td>2650</td>\n",
       "      <td>2650</td>\n",
       "      <td>2650</td>\n",
       "      <td>2650</td>\n",
       "      <td>...</td>\n",
       "      <td>63k</td>\n",
       "      <td>62.9k</td>\n",
       "      <td>62.9k</td>\n",
       "      <td>62.8k</td>\n",
       "      <td>62.7k</td>\n",
       "      <td>62.7k</td>\n",
       "      <td>62.6k</td>\n",
       "      <td>62.5k</td>\n",
       "      <td>62.5k</td>\n",
       "      <td>62.4k</td>\n",
       "    </tr>\n",
       "    <tr>\n",
       "      <th>4</th>\n",
       "      <td>United Arab Emirates</td>\n",
       "      <td>40.2k</td>\n",
       "      <td>40.2k</td>\n",
       "      <td>40.2k</td>\n",
       "      <td>40.2k</td>\n",
       "      <td>40.2k</td>\n",
       "      <td>40.2k</td>\n",
       "      <td>40.2k</td>\n",
       "      <td>40.2k</td>\n",
       "      <td>40.2k</td>\n",
       "      <td>...</td>\n",
       "      <td>12.3M</td>\n",
       "      <td>12.4M</td>\n",
       "      <td>12.5M</td>\n",
       "      <td>12.5M</td>\n",
       "      <td>12.6M</td>\n",
       "      <td>12.7M</td>\n",
       "      <td>12.7M</td>\n",
       "      <td>12.8M</td>\n",
       "      <td>12.8M</td>\n",
       "      <td>12.9M</td>\n",
       "    </tr>\n",
       "    <tr>\n",
       "      <th>...</th>\n",
       "      <td>...</td>\n",
       "      <td>...</td>\n",
       "      <td>...</td>\n",
       "      <td>...</td>\n",
       "      <td>...</td>\n",
       "      <td>...</td>\n",
       "      <td>...</td>\n",
       "      <td>...</td>\n",
       "      <td>...</td>\n",
       "      <td>...</td>\n",
       "      <td>...</td>\n",
       "      <td>...</td>\n",
       "      <td>...</td>\n",
       "      <td>...</td>\n",
       "      <td>...</td>\n",
       "      <td>...</td>\n",
       "      <td>...</td>\n",
       "      <td>...</td>\n",
       "      <td>...</td>\n",
       "      <td>...</td>\n",
       "      <td>...</td>\n",
       "    </tr>\n",
       "    <tr>\n",
       "      <th>192</th>\n",
       "      <td>Samoa</td>\n",
       "      <td>47.3k</td>\n",
       "      <td>47.3k</td>\n",
       "      <td>47.3k</td>\n",
       "      <td>47.3k</td>\n",
       "      <td>47.3k</td>\n",
       "      <td>47.3k</td>\n",
       "      <td>47.3k</td>\n",
       "      <td>47.2k</td>\n",
       "      <td>47.2k</td>\n",
       "      <td>...</td>\n",
       "      <td>315k</td>\n",
       "      <td>314k</td>\n",
       "      <td>314k</td>\n",
       "      <td>314k</td>\n",
       "      <td>313k</td>\n",
       "      <td>313k</td>\n",
       "      <td>312k</td>\n",
       "      <td>312k</td>\n",
       "      <td>311k</td>\n",
       "      <td>310k</td>\n",
       "    </tr>\n",
       "    <tr>\n",
       "      <th>193</th>\n",
       "      <td>Yemen</td>\n",
       "      <td>2.59M</td>\n",
       "      <td>2.59M</td>\n",
       "      <td>2.59M</td>\n",
       "      <td>2.59M</td>\n",
       "      <td>2.59M</td>\n",
       "      <td>2.59M</td>\n",
       "      <td>2.59M</td>\n",
       "      <td>2.59M</td>\n",
       "      <td>2.59M</td>\n",
       "      <td>...</td>\n",
       "      <td>54.5M</td>\n",
       "      <td>54.4M</td>\n",
       "      <td>54.3M</td>\n",
       "      <td>54.1M</td>\n",
       "      <td>54M</td>\n",
       "      <td>53.8M</td>\n",
       "      <td>53.7M</td>\n",
       "      <td>53.5M</td>\n",
       "      <td>53.4M</td>\n",
       "      <td>53.2M</td>\n",
       "    </tr>\n",
       "    <tr>\n",
       "      <th>194</th>\n",
       "      <td>South Africa</td>\n",
       "      <td>1.45M</td>\n",
       "      <td>1.45M</td>\n",
       "      <td>1.46M</td>\n",
       "      <td>1.46M</td>\n",
       "      <td>1.47M</td>\n",
       "      <td>1.47M</td>\n",
       "      <td>1.48M</td>\n",
       "      <td>1.49M</td>\n",
       "      <td>1.49M</td>\n",
       "      <td>...</td>\n",
       "      <td>79.8M</td>\n",
       "      <td>79.8M</td>\n",
       "      <td>79.7M</td>\n",
       "      <td>79.7M</td>\n",
       "      <td>79.6M</td>\n",
       "      <td>79.5M</td>\n",
       "      <td>79.5M</td>\n",
       "      <td>79.4M</td>\n",
       "      <td>79.3M</td>\n",
       "      <td>79.2M</td>\n",
       "    </tr>\n",
       "    <tr>\n",
       "      <th>195</th>\n",
       "      <td>Zambia</td>\n",
       "      <td>747k</td>\n",
       "      <td>758k</td>\n",
       "      <td>770k</td>\n",
       "      <td>782k</td>\n",
       "      <td>794k</td>\n",
       "      <td>806k</td>\n",
       "      <td>818k</td>\n",
       "      <td>831k</td>\n",
       "      <td>843k</td>\n",
       "      <td>...</td>\n",
       "      <td>74.4M</td>\n",
       "      <td>75.2M</td>\n",
       "      <td>76M</td>\n",
       "      <td>76.8M</td>\n",
       "      <td>77.6M</td>\n",
       "      <td>78.4M</td>\n",
       "      <td>79.2M</td>\n",
       "      <td>80M</td>\n",
       "      <td>80.8M</td>\n",
       "      <td>81.5M</td>\n",
       "    </tr>\n",
       "    <tr>\n",
       "      <th>196</th>\n",
       "      <td>Zimbabwe</td>\n",
       "      <td>1.09M</td>\n",
       "      <td>1.09M</td>\n",
       "      <td>1.09M</td>\n",
       "      <td>1.09M</td>\n",
       "      <td>1.09M</td>\n",
       "      <td>1.09M</td>\n",
       "      <td>1.09M</td>\n",
       "      <td>1.09M</td>\n",
       "      <td>1.09M</td>\n",
       "      <td>...</td>\n",
       "      <td>30.8M</td>\n",
       "      <td>30.9M</td>\n",
       "      <td>30.9M</td>\n",
       "      <td>30.9M</td>\n",
       "      <td>30.9M</td>\n",
       "      <td>30.9M</td>\n",
       "      <td>31M</td>\n",
       "      <td>31M</td>\n",
       "      <td>31M</td>\n",
       "      <td>31M</td>\n",
       "    </tr>\n",
       "  </tbody>\n",
       "</table>\n",
       "<p>197 rows × 302 columns</p>\n",
       "</div>"
      ],
      "text/plain": [
       "                  country   1800   1801   1802   1803   1804   1805   1806  \\\n",
       "0             Afghanistan  3.28M  3.28M  3.28M  3.28M  3.28M  3.28M  3.28M   \n",
       "1                  Angola  1.57M  1.57M  1.57M  1.57M  1.57M  1.57M  1.57M   \n",
       "2                 Albania   400k   402k   404k   405k   407k   409k   411k   \n",
       "3                 Andorra   2650   2650   2650   2650   2650   2650   2650   \n",
       "4    United Arab Emirates  40.2k  40.2k  40.2k  40.2k  40.2k  40.2k  40.2k   \n",
       "..                    ...    ...    ...    ...    ...    ...    ...    ...   \n",
       "192                 Samoa  47.3k  47.3k  47.3k  47.3k  47.3k  47.3k  47.3k   \n",
       "193                 Yemen  2.59M  2.59M  2.59M  2.59M  2.59M  2.59M  2.59M   \n",
       "194          South Africa  1.45M  1.45M  1.46M  1.46M  1.47M  1.47M  1.48M   \n",
       "195                Zambia   747k   758k   770k   782k   794k   806k   818k   \n",
       "196              Zimbabwe  1.09M  1.09M  1.09M  1.09M  1.09M  1.09M  1.09M   \n",
       "\n",
       "      1807   1808  ...   2091   2092   2093   2094   2095   2096   2097  \\\n",
       "0    3.28M  3.28M  ...  76.6M  76.4M  76.3M  76.1M    76M  75.8M  75.6M   \n",
       "1    1.57M  1.57M  ...   168M   170M   172M   175M   177M   179M   182M   \n",
       "2     413k   414k  ...  1.33M   1.3M  1.27M  1.25M  1.22M  1.19M  1.17M   \n",
       "3     2650   2650  ...    63k  62.9k  62.9k  62.8k  62.7k  62.7k  62.6k   \n",
       "4    40.2k  40.2k  ...  12.3M  12.4M  12.5M  12.5M  12.6M  12.7M  12.7M   \n",
       "..     ...    ...  ...    ...    ...    ...    ...    ...    ...    ...   \n",
       "192  47.2k  47.2k  ...   315k   314k   314k   314k   313k   313k   312k   \n",
       "193  2.59M  2.59M  ...  54.5M  54.4M  54.3M  54.1M    54M  53.8M  53.7M   \n",
       "194  1.49M  1.49M  ...  79.8M  79.8M  79.7M  79.7M  79.6M  79.5M  79.5M   \n",
       "195   831k   843k  ...  74.4M  75.2M    76M  76.8M  77.6M  78.4M  79.2M   \n",
       "196  1.09M  1.09M  ...  30.8M  30.9M  30.9M  30.9M  30.9M  30.9M    31M   \n",
       "\n",
       "      2098   2099   2100  \n",
       "0    75.4M  75.2M  74.9M  \n",
       "1     184M   186M   188M  \n",
       "2    1.14M  1.11M  1.09M  \n",
       "3    62.5k  62.5k  62.4k  \n",
       "4    12.8M  12.8M  12.9M  \n",
       "..     ...    ...    ...  \n",
       "192   312k   311k   310k  \n",
       "193  53.5M  53.4M  53.2M  \n",
       "194  79.4M  79.3M  79.2M  \n",
       "195    80M  80.8M  81.5M  \n",
       "196    31M    31M    31M  \n",
       "\n",
       "[197 rows x 302 columns]"
      ]
     },
     "execution_count": 305,
     "metadata": {},
     "output_type": "execute_result"
    }
   ],
   "source": [
    "gdp = pd.read_csv('../_data/_gp/income_per_person_gdppercapita_ppp_inflation_adjusted.csv')\n",
    "pop = pd.read_csv('../_data/_gp/population_total.csv')\n",
    "lif = pd.read_csv('../_data/_gp/life_expectancy_years.csv')\n",
    "\n",
    "pop"
   ]
  },
  {
   "cell_type": "code",
   "execution_count": 306,
   "id": "9ee95ce3",
   "metadata": {},
   "outputs": [],
   "source": [
    "years = [str(1990 + i) for i in range(35)]\n",
    "\n",
    "middel_east_country = ['Iran', 'Iraq', 'Yemen', 'Syria', 'Turkey',\n",
    "                       'Bahrain','United Arab Emirates','Qatar', 'Jordan', 'Kuwait',\n",
    "                       'Israel', 'Saudi Arabia', 'Oman', 'Palestine', 'Egypt']"
   ]
  },
  {
   "cell_type": "code",
   "execution_count": 307,
   "id": "d588ea50",
   "metadata": {},
   "outputs": [
    {
     "data": {
      "text/html": [
       "<div>\n",
       "<style scoped>\n",
       "    .dataframe tbody tr th:only-of-type {\n",
       "        vertical-align: middle;\n",
       "    }\n",
       "\n",
       "    .dataframe tbody tr th {\n",
       "        vertical-align: top;\n",
       "    }\n",
       "\n",
       "    .dataframe thead th {\n",
       "        text-align: right;\n",
       "    }\n",
       "</style>\n",
       "<table border=\"1\" class=\"dataframe\">\n",
       "  <thead>\n",
       "    <tr style=\"text-align: right;\">\n",
       "      <th></th>\n",
       "      <th>year</th>\n",
       "      <th>gdp</th>\n",
       "      <th>life exp</th>\n",
       "      <th>pop</th>\n",
       "      <th>country</th>\n",
       "    </tr>\n",
       "  </thead>\n",
       "  <tbody>\n",
       "    <tr>\n",
       "      <th>0</th>\n",
       "      <td>1990</td>\n",
       "      <td>8630</td>\n",
       "      <td>66.7</td>\n",
       "      <td>56.4M</td>\n",
       "      <td>Iran</td>\n",
       "    </tr>\n",
       "    <tr>\n",
       "      <th>1</th>\n",
       "      <td>1991</td>\n",
       "      <td>9480</td>\n",
       "      <td>68.9</td>\n",
       "      <td>57.7M</td>\n",
       "      <td>Iran</td>\n",
       "    </tr>\n",
       "    <tr>\n",
       "      <th>2</th>\n",
       "      <td>1992</td>\n",
       "      <td>9570</td>\n",
       "      <td>69.3</td>\n",
       "      <td>58.8M</td>\n",
       "      <td>Iran</td>\n",
       "    </tr>\n",
       "    <tr>\n",
       "      <th>3</th>\n",
       "      <td>1993</td>\n",
       "      <td>9510</td>\n",
       "      <td>69.6</td>\n",
       "      <td>59.7M</td>\n",
       "      <td>Iran</td>\n",
       "    </tr>\n",
       "    <tr>\n",
       "      <th>4</th>\n",
       "      <td>1994</td>\n",
       "      <td>9240</td>\n",
       "      <td>70.0</td>\n",
       "      <td>60.6M</td>\n",
       "      <td>Iran</td>\n",
       "    </tr>\n",
       "    <tr>\n",
       "      <th>...</th>\n",
       "      <td>...</td>\n",
       "      <td>...</td>\n",
       "      <td>...</td>\n",
       "      <td>...</td>\n",
       "      <td>...</td>\n",
       "    </tr>\n",
       "    <tr>\n",
       "      <th>520</th>\n",
       "      <td>2020</td>\n",
       "      <td>12k</td>\n",
       "      <td>71.0</td>\n",
       "      <td>102M</td>\n",
       "      <td>Egypt</td>\n",
       "    </tr>\n",
       "    <tr>\n",
       "      <th>521</th>\n",
       "      <td>2021</td>\n",
       "      <td>12.1k</td>\n",
       "      <td>71.3</td>\n",
       "      <td>104M</td>\n",
       "      <td>Egypt</td>\n",
       "    </tr>\n",
       "    <tr>\n",
       "      <th>522</th>\n",
       "      <td>2022</td>\n",
       "      <td>12.6k</td>\n",
       "      <td>71.4</td>\n",
       "      <td>106M</td>\n",
       "      <td>Egypt</td>\n",
       "    </tr>\n",
       "    <tr>\n",
       "      <th>523</th>\n",
       "      <td>2023</td>\n",
       "      <td>13k</td>\n",
       "      <td>71.6</td>\n",
       "      <td>108M</td>\n",
       "      <td>Egypt</td>\n",
       "    </tr>\n",
       "    <tr>\n",
       "      <th>524</th>\n",
       "      <td>2024</td>\n",
       "      <td>13.4k</td>\n",
       "      <td>71.7</td>\n",
       "      <td>110M</td>\n",
       "      <td>Egypt</td>\n",
       "    </tr>\n",
       "  </tbody>\n",
       "</table>\n",
       "<p>525 rows × 5 columns</p>\n",
       "</div>"
      ],
      "text/plain": [
       "     year    gdp  life exp    pop country\n",
       "0    1990   8630      66.7  56.4M    Iran\n",
       "1    1991   9480      68.9  57.7M    Iran\n",
       "2    1992   9570      69.3  58.8M    Iran\n",
       "3    1993   9510      69.6  59.7M    Iran\n",
       "4    1994   9240      70.0  60.6M    Iran\n",
       "..    ...    ...       ...    ...     ...\n",
       "520  2020    12k      71.0   102M   Egypt\n",
       "521  2021  12.1k      71.3   104M   Egypt\n",
       "522  2022  12.6k      71.4   106M   Egypt\n",
       "523  2023    13k      71.6   108M   Egypt\n",
       "524  2024  13.4k      71.7   110M   Egypt\n",
       "\n",
       "[525 rows x 5 columns]"
      ]
     },
     "execution_count": 307,
     "metadata": {},
     "output_type": "execute_result"
    }
   ],
   "source": [
    "df = pd.DataFrame()\n",
    "for country in middel_east_country:\n",
    "\n",
    "    if ((gdp['country'] == country).any() &\n",
    "        (lif['country'] == country).any() &\n",
    "        (pop['country'] == country).any()):\n",
    "        \n",
    "        gdp_row = pd.DataFrame(gdp[gdp['country'] == country], columns=years).T\n",
    "        lif_row = pd.DataFrame(lif[lif['country'] == country], columns=years).T\n",
    "        pop_row = pd.DataFrame(pop[pop['country'] == country], columns=years).T\n",
    "\n",
    "        gdp_row = gdp_row.rename(columns={gdp_row.columns[0]: 'gdp'})\n",
    "        lif_row = lif_row.rename(columns={lif_row.columns[0]: 'life exp'})\n",
    "        pop_row = pop_row.rename(columns={pop_row.columns[0]: 'pop'})\n",
    "\n",
    "        gdp_row = gdp_row.join([lif_row, pop_row])\n",
    "        gdp_row['country'] = country\n",
    "        gdp_row = gdp_row.reset_index()\n",
    "        gdp_row = gdp_row.rename(columns={'index': 'year'})\n",
    "\n",
    "        df = pd.concat([df, gdp_row], ignore_index=True)\n",
    "    else:\n",
    "        print(f'{country} is not exist')\n",
    "        break\n",
    "\n",
    "df"
   ]
  },
  {
   "cell_type": "code",
   "execution_count": 308,
   "id": "9eb8cc47",
   "metadata": {},
   "outputs": [
    {
     "name": "stdout",
     "output_type": "stream",
     "text": [
      "<class 'pandas.core.frame.DataFrame'>\n",
      "RangeIndex: 525 entries, 0 to 524\n",
      "Data columns (total 5 columns):\n",
      " #   Column    Non-Null Count  Dtype  \n",
      "---  ------    --------------  -----  \n",
      " 0   year      525 non-null    object \n",
      " 1   gdp       525 non-null    float64\n",
      " 2   life exp  525 non-null    float64\n",
      " 3   pop       525 non-null    float64\n",
      " 4   country   525 non-null    object \n",
      "dtypes: float64(3), object(2)\n",
      "memory usage: 20.6+ KB\n"
     ]
    }
   ],
   "source": [
    "df['gdp'] = [(float(i[:-1]) * 1e3 if i.lower().endswith('k') else\n",
    "              float(i[:-1]) * 1e6 if i.lower().endswith('m') else \n",
    "              float(i[:-1]) * 1e9 if i.lower().endswith('b') else \n",
    "              float(i)) for i in df['gdp'].values.astype('str')]\n",
    "\n",
    "df['pop'] = [(float(i[:-1]) * 1e3 if i.lower().endswith('k') else\n",
    "              float(i[:-1]) * 1e6 if i.lower().endswith('m') else \n",
    "              float(i[:-1]) * 1e9 if i.lower().endswith('b') else \n",
    "              float(i)) for i in df['pop'].values.astype('str')]\n",
    "\n",
    "df.info()"
   ]
  },
  {
   "cell_type": "code",
   "execution_count": 309,
   "id": "de32874c",
   "metadata": {},
   "outputs": [
    {
     "data": {
      "application/vnd.plotly.v1+json": {
       "config": {
        "plotlyServerURL": "https://plot.ly"
       },
       "data": [
        {
         "hovertemplate": "<b>%{hovertext}</b><br><br>country=Iran<br>year=1990<br>gdp=%{x}<br>life exp=%{y}<br>pop=%{marker.size}<extra></extra>",
         "hovertext": [
          "Iran"
         ],
         "ids": [
          "Iran"
         ],
         "legendgroup": "Iran",
         "marker": {
          "color": "#636efa",
          "size": [
           56400000
          ],
          "sizemode": "area",
          "sizeref": 17187.5,
          "symbol": "circle"
         },
         "mode": "markers",
         "name": "Iran",
         "orientation": "v",
         "showlegend": true,
         "type": "scatter",
         "x": [
          8630
         ],
         "xaxis": "x",
         "y": [
          66.7
         ],
         "yaxis": "y"
        },
        {
         "hovertemplate": "<b>%{hovertext}</b><br><br>country=Iraq<br>year=1990<br>gdp=%{x}<br>life exp=%{y}<br>pop=%{marker.size}<extra></extra>",
         "hovertext": [
          "Iraq"
         ],
         "ids": [
          "Iraq"
         ],
         "legendgroup": "Iraq",
         "marker": {
          "color": "#EF553B",
          "size": [
           17400000
          ],
          "sizemode": "area",
          "sizeref": 17187.5,
          "symbol": "circle"
         },
         "mode": "markers",
         "name": "Iraq",
         "orientation": "v",
         "showlegend": true,
         "type": "scatter",
         "x": [
          4550
         ],
         "xaxis": "x",
         "y": [
          67
         ],
         "yaxis": "y"
        },
        {
         "hovertemplate": "<b>%{hovertext}</b><br><br>country=Yemen<br>year=1990<br>gdp=%{x}<br>life exp=%{y}<br>pop=%{marker.size}<extra></extra>",
         "hovertext": [
          "Yemen"
         ],
         "ids": [
          "Yemen"
         ],
         "legendgroup": "Yemen",
         "marker": {
          "color": "#00cc96",
          "size": [
           11700000
          ],
          "sizemode": "area",
          "sizeref": 17187.5,
          "symbol": "circle"
         },
         "mode": "markers",
         "name": "Yemen",
         "orientation": "v",
         "showlegend": true,
         "type": "scatter",
         "x": [
          4210
         ],
         "xaxis": "x",
         "y": [
          59.1
         ],
         "yaxis": "y"
        },
        {
         "hovertemplate": "<b>%{hovertext}</b><br><br>country=Syria<br>year=1990<br>gdp=%{x}<br>life exp=%{y}<br>pop=%{marker.size}<extra></extra>",
         "hovertext": [
          "Syria"
         ],
         "ids": [
          "Syria"
         ],
         "legendgroup": "Syria",
         "marker": {
          "color": "#ab63fa",
          "size": [
           12400000
          ],
          "sizemode": "area",
          "sizeref": 17187.5,
          "symbol": "circle"
         },
         "mode": "markers",
         "name": "Syria",
         "orientation": "v",
         "showlegend": true,
         "type": "scatter",
         "x": [
          10600
         ],
         "xaxis": "x",
         "y": [
          68.8
         ],
         "yaxis": "y"
        },
        {
         "hovertemplate": "<b>%{hovertext}</b><br><br>country=Turkey<br>year=1990<br>gdp=%{x}<br>life exp=%{y}<br>pop=%{marker.size}<extra></extra>",
         "hovertext": [
          "Turkey"
         ],
         "ids": [
          "Turkey"
         ],
         "legendgroup": "Turkey",
         "marker": {
          "color": "#FFA15A",
          "size": [
           53900000
          ],
          "sizemode": "area",
          "sizeref": 17187.5,
          "symbol": "circle"
         },
         "mode": "markers",
         "name": "Turkey",
         "orientation": "v",
         "showlegend": true,
         "type": "scatter",
         "x": [
          12600
         ],
         "xaxis": "x",
         "y": [
          68.8
         ],
         "yaxis": "y"
        },
        {
         "hovertemplate": "<b>%{hovertext}</b><br><br>country=Bahrain<br>year=1990<br>gdp=%{x}<br>life exp=%{y}<br>pop=%{marker.size}<extra></extra>",
         "hovertext": [
          "Bahrain"
         ],
         "ids": [
          "Bahrain"
         ],
         "legendgroup": "Bahrain",
         "marker": {
          "color": "#19d3f3",
          "size": [
           496000
          ],
          "sizemode": "area",
          "sizeref": 17187.5,
          "symbol": "circle"
         },
         "mode": "markers",
         "name": "Bahrain",
         "orientation": "v",
         "showlegend": true,
         "type": "scatter",
         "x": [
          38600
         ],
         "xaxis": "x",
         "y": [
          69.5
         ],
         "yaxis": "y"
        },
        {
         "hovertemplate": "<b>%{hovertext}</b><br><br>country=United Arab Emirates<br>year=1990<br>gdp=%{x}<br>life exp=%{y}<br>pop=%{marker.size}<extra></extra>",
         "hovertext": [
          "United Arab Emirates"
         ],
         "ids": [
          "United Arab Emirates"
         ],
         "legendgroup": "United Arab Emirates",
         "marker": {
          "color": "#FF6692",
          "size": [
           1830000
          ],
          "sizemode": "area",
          "sizeref": 17187.5,
          "symbol": "circle"
         },
         "mode": "markers",
         "name": "United Arab Emirates",
         "orientation": "v",
         "showlegend": true,
         "type": "scatter",
         "x": [
          51300
         ],
         "xaxis": "x",
         "y": [
          68.7
         ],
         "yaxis": "y"
        },
        {
         "hovertemplate": "<b>%{hovertext}</b><br><br>country=Qatar<br>year=1990<br>gdp=%{x}<br>life exp=%{y}<br>pop=%{marker.size}<extra></extra>",
         "hovertext": [
          "Qatar"
         ],
         "ids": [
          "Qatar"
         ],
         "legendgroup": "Qatar",
         "marker": {
          "color": "#B6E880",
          "size": [
           476000
          ],
          "sizemode": "area",
          "sizeref": 17187.5,
          "symbol": "circle"
         },
         "mode": "markers",
         "name": "Qatar",
         "orientation": "v",
         "showlegend": true,
         "type": "scatter",
         "x": [
          61200
         ],
         "xaxis": "x",
         "y": [
          69.9
         ],
         "yaxis": "y"
        },
        {
         "hovertemplate": "<b>%{hovertext}</b><br><br>country=Jordan<br>year=1990<br>gdp=%{x}<br>life exp=%{y}<br>pop=%{marker.size}<extra></extra>",
         "hovertext": [
          "Jordan"
         ],
         "ids": [
          "Jordan"
         ],
         "legendgroup": "Jordan",
         "marker": {
          "color": "#FF97FF",
          "size": [
           3570000
          ],
          "sizemode": "area",
          "sizeref": 17187.5,
          "symbol": "circle"
         },
         "mode": "markers",
         "name": "Jordan",
         "orientation": "v",
         "showlegend": true,
         "type": "scatter",
         "x": [
          7920
         ],
         "xaxis": "x",
         "y": [
          71.2
         ],
         "yaxis": "y"
        },
        {
         "hovertemplate": "<b>%{hovertext}</b><br><br>country=Kuwait<br>year=1990<br>gdp=%{x}<br>life exp=%{y}<br>pop=%{marker.size}<extra></extra>",
         "hovertext": [
          "Kuwait"
         ],
         "ids": [
          "Kuwait"
         ],
         "legendgroup": "Kuwait",
         "marker": {
          "color": "#FECB52",
          "size": [
           2100000
          ],
          "sizemode": "area",
          "sizeref": 17187.5,
          "symbol": "circle"
         },
         "mode": "markers",
         "name": "Kuwait",
         "orientation": "v",
         "showlegend": true,
         "type": "scatter",
         "x": [
          31200
         ],
         "xaxis": "x",
         "y": [
          74.9
         ],
         "yaxis": "y"
        },
        {
         "hovertemplate": "<b>%{hovertext}</b><br><br>country=Israel<br>year=1990<br>gdp=%{x}<br>life exp=%{y}<br>pop=%{marker.size}<extra></extra>",
         "hovertext": [
          "Israel"
         ],
         "ids": [
          "Israel"
         ],
         "legendgroup": "Israel",
         "marker": {
          "color": "#636efa",
          "size": [
           4450000
          ],
          "sizemode": "area",
          "sizeref": 17187.5,
          "symbol": "circle"
         },
         "mode": "markers",
         "name": "Israel",
         "orientation": "v",
         "showlegend": true,
         "type": "scatter",
         "x": [
          23600
         ],
         "xaxis": "x",
         "y": [
          77.3
         ],
         "yaxis": "y"
        },
        {
         "hovertemplate": "<b>%{hovertext}</b><br><br>country=Saudi Arabia<br>year=1990<br>gdp=%{x}<br>life exp=%{y}<br>pop=%{marker.size}<extra></extra>",
         "hovertext": [
          "Saudi Arabia"
         ],
         "ids": [
          "Saudi Arabia"
         ],
         "legendgroup": "Saudi Arabia",
         "marker": {
          "color": "#EF553B",
          "size": [
           16200000
          ],
          "sizemode": "area",
          "sizeref": 17187.5,
          "symbol": "circle"
         },
         "mode": "markers",
         "name": "Saudi Arabia",
         "orientation": "v",
         "showlegend": true,
         "type": "scatter",
         "x": [
          16700
         ],
         "xaxis": "x",
         "y": [
          68.1
         ],
         "yaxis": "y"
        },
        {
         "hovertemplate": "<b>%{hovertext}</b><br><br>country=Oman<br>year=1990<br>gdp=%{x}<br>life exp=%{y}<br>pop=%{marker.size}<extra></extra>",
         "hovertext": [
          "Oman"
         ],
         "ids": [
          "Oman"
         ],
         "legendgroup": "Oman",
         "marker": {
          "color": "#00cc96",
          "size": [
           1810000
          ],
          "sizemode": "area",
          "sizeref": 17187.5,
          "symbol": "circle"
         },
         "mode": "markers",
         "name": "Oman",
         "orientation": "v",
         "showlegend": true,
         "type": "scatter",
         "x": [
          30300
         ],
         "xaxis": "x",
         "y": [
          66.8
         ],
         "yaxis": "y"
        },
        {
         "hovertemplate": "<b>%{hovertext}</b><br><br>country=Palestine<br>year=1990<br>gdp=%{x}<br>life exp=%{y}<br>pop=%{marker.size}<extra></extra>",
         "hovertext": [
          "Palestine"
         ],
         "ids": [
          "Palestine"
         ],
         "legendgroup": "Palestine",
         "marker": {
          "color": "#ab63fa",
          "size": [
           2100000
          ],
          "sizemode": "area",
          "sizeref": 17187.5,
          "symbol": "circle"
         },
         "mode": "markers",
         "name": "Palestine",
         "orientation": "v",
         "showlegend": true,
         "type": "scatter",
         "x": [
          3110
         ],
         "xaxis": "x",
         "y": [
          69.1
         ],
         "yaxis": "y"
        },
        {
         "hovertemplate": "<b>%{hovertext}</b><br><br>country=Egypt<br>year=1990<br>gdp=%{x}<br>life exp=%{y}<br>pop=%{marker.size}<extra></extra>",
         "hovertext": [
          "Egypt"
         ],
         "ids": [
          "Egypt"
         ],
         "legendgroup": "Egypt",
         "marker": {
          "color": "#FFA15A",
          "size": [
           56100000
          ],
          "sizemode": "area",
          "sizeref": 17187.5,
          "symbol": "circle"
         },
         "mode": "markers",
         "name": "Egypt",
         "orientation": "v",
         "showlegend": true,
         "type": "scatter",
         "x": [
          6090
         ],
         "xaxis": "x",
         "y": [
          63.9
         ],
         "yaxis": "y"
        }
       ],
       "frames": [
        {
         "data": [
          {
           "hovertemplate": "<b>%{hovertext}</b><br><br>country=Iran<br>year=1990<br>gdp=%{x}<br>life exp=%{y}<br>pop=%{marker.size}<extra></extra>",
           "hovertext": [
            "Iran"
           ],
           "ids": [
            "Iran"
           ],
           "legendgroup": "Iran",
           "marker": {
            "color": "#636efa",
            "size": [
             56400000
            ],
            "sizemode": "area",
            "sizeref": 17187.5,
            "symbol": "circle"
           },
           "mode": "markers",
           "name": "Iran",
           "orientation": "v",
           "showlegend": true,
           "type": "scatter",
           "x": [
            8630
           ],
           "xaxis": "x",
           "y": [
            66.7
           ],
           "yaxis": "y"
          },
          {
           "hovertemplate": "<b>%{hovertext}</b><br><br>country=Iraq<br>year=1990<br>gdp=%{x}<br>life exp=%{y}<br>pop=%{marker.size}<extra></extra>",
           "hovertext": [
            "Iraq"
           ],
           "ids": [
            "Iraq"
           ],
           "legendgroup": "Iraq",
           "marker": {
            "color": "#EF553B",
            "size": [
             17400000
            ],
            "sizemode": "area",
            "sizeref": 17187.5,
            "symbol": "circle"
           },
           "mode": "markers",
           "name": "Iraq",
           "orientation": "v",
           "showlegend": true,
           "type": "scatter",
           "x": [
            4550
           ],
           "xaxis": "x",
           "y": [
            67
           ],
           "yaxis": "y"
          },
          {
           "hovertemplate": "<b>%{hovertext}</b><br><br>country=Yemen<br>year=1990<br>gdp=%{x}<br>life exp=%{y}<br>pop=%{marker.size}<extra></extra>",
           "hovertext": [
            "Yemen"
           ],
           "ids": [
            "Yemen"
           ],
           "legendgroup": "Yemen",
           "marker": {
            "color": "#00cc96",
            "size": [
             11700000
            ],
            "sizemode": "area",
            "sizeref": 17187.5,
            "symbol": "circle"
           },
           "mode": "markers",
           "name": "Yemen",
           "orientation": "v",
           "showlegend": true,
           "type": "scatter",
           "x": [
            4210
           ],
           "xaxis": "x",
           "y": [
            59.1
           ],
           "yaxis": "y"
          },
          {
           "hovertemplate": "<b>%{hovertext}</b><br><br>country=Syria<br>year=1990<br>gdp=%{x}<br>life exp=%{y}<br>pop=%{marker.size}<extra></extra>",
           "hovertext": [
            "Syria"
           ],
           "ids": [
            "Syria"
           ],
           "legendgroup": "Syria",
           "marker": {
            "color": "#ab63fa",
            "size": [
             12400000
            ],
            "sizemode": "area",
            "sizeref": 17187.5,
            "symbol": "circle"
           },
           "mode": "markers",
           "name": "Syria",
           "orientation": "v",
           "showlegend": true,
           "type": "scatter",
           "x": [
            10600
           ],
           "xaxis": "x",
           "y": [
            68.8
           ],
           "yaxis": "y"
          },
          {
           "hovertemplate": "<b>%{hovertext}</b><br><br>country=Turkey<br>year=1990<br>gdp=%{x}<br>life exp=%{y}<br>pop=%{marker.size}<extra></extra>",
           "hovertext": [
            "Turkey"
           ],
           "ids": [
            "Turkey"
           ],
           "legendgroup": "Turkey",
           "marker": {
            "color": "#FFA15A",
            "size": [
             53900000
            ],
            "sizemode": "area",
            "sizeref": 17187.5,
            "symbol": "circle"
           },
           "mode": "markers",
           "name": "Turkey",
           "orientation": "v",
           "showlegend": true,
           "type": "scatter",
           "x": [
            12600
           ],
           "xaxis": "x",
           "y": [
            68.8
           ],
           "yaxis": "y"
          },
          {
           "hovertemplate": "<b>%{hovertext}</b><br><br>country=Bahrain<br>year=1990<br>gdp=%{x}<br>life exp=%{y}<br>pop=%{marker.size}<extra></extra>",
           "hovertext": [
            "Bahrain"
           ],
           "ids": [
            "Bahrain"
           ],
           "legendgroup": "Bahrain",
           "marker": {
            "color": "#19d3f3",
            "size": [
             496000
            ],
            "sizemode": "area",
            "sizeref": 17187.5,
            "symbol": "circle"
           },
           "mode": "markers",
           "name": "Bahrain",
           "orientation": "v",
           "showlegend": true,
           "type": "scatter",
           "x": [
            38600
           ],
           "xaxis": "x",
           "y": [
            69.5
           ],
           "yaxis": "y"
          },
          {
           "hovertemplate": "<b>%{hovertext}</b><br><br>country=United Arab Emirates<br>year=1990<br>gdp=%{x}<br>life exp=%{y}<br>pop=%{marker.size}<extra></extra>",
           "hovertext": [
            "United Arab Emirates"
           ],
           "ids": [
            "United Arab Emirates"
           ],
           "legendgroup": "United Arab Emirates",
           "marker": {
            "color": "#FF6692",
            "size": [
             1830000
            ],
            "sizemode": "area",
            "sizeref": 17187.5,
            "symbol": "circle"
           },
           "mode": "markers",
           "name": "United Arab Emirates",
           "orientation": "v",
           "showlegend": true,
           "type": "scatter",
           "x": [
            51300
           ],
           "xaxis": "x",
           "y": [
            68.7
           ],
           "yaxis": "y"
          },
          {
           "hovertemplate": "<b>%{hovertext}</b><br><br>country=Qatar<br>year=1990<br>gdp=%{x}<br>life exp=%{y}<br>pop=%{marker.size}<extra></extra>",
           "hovertext": [
            "Qatar"
           ],
           "ids": [
            "Qatar"
           ],
           "legendgroup": "Qatar",
           "marker": {
            "color": "#B6E880",
            "size": [
             476000
            ],
            "sizemode": "area",
            "sizeref": 17187.5,
            "symbol": "circle"
           },
           "mode": "markers",
           "name": "Qatar",
           "orientation": "v",
           "showlegend": true,
           "type": "scatter",
           "x": [
            61200
           ],
           "xaxis": "x",
           "y": [
            69.9
           ],
           "yaxis": "y"
          },
          {
           "hovertemplate": "<b>%{hovertext}</b><br><br>country=Jordan<br>year=1990<br>gdp=%{x}<br>life exp=%{y}<br>pop=%{marker.size}<extra></extra>",
           "hovertext": [
            "Jordan"
           ],
           "ids": [
            "Jordan"
           ],
           "legendgroup": "Jordan",
           "marker": {
            "color": "#FF97FF",
            "size": [
             3570000
            ],
            "sizemode": "area",
            "sizeref": 17187.5,
            "symbol": "circle"
           },
           "mode": "markers",
           "name": "Jordan",
           "orientation": "v",
           "showlegend": true,
           "type": "scatter",
           "x": [
            7920
           ],
           "xaxis": "x",
           "y": [
            71.2
           ],
           "yaxis": "y"
          },
          {
           "hovertemplate": "<b>%{hovertext}</b><br><br>country=Kuwait<br>year=1990<br>gdp=%{x}<br>life exp=%{y}<br>pop=%{marker.size}<extra></extra>",
           "hovertext": [
            "Kuwait"
           ],
           "ids": [
            "Kuwait"
           ],
           "legendgroup": "Kuwait",
           "marker": {
            "color": "#FECB52",
            "size": [
             2100000
            ],
            "sizemode": "area",
            "sizeref": 17187.5,
            "symbol": "circle"
           },
           "mode": "markers",
           "name": "Kuwait",
           "orientation": "v",
           "showlegend": true,
           "type": "scatter",
           "x": [
            31200
           ],
           "xaxis": "x",
           "y": [
            74.9
           ],
           "yaxis": "y"
          },
          {
           "hovertemplate": "<b>%{hovertext}</b><br><br>country=Israel<br>year=1990<br>gdp=%{x}<br>life exp=%{y}<br>pop=%{marker.size}<extra></extra>",
           "hovertext": [
            "Israel"
           ],
           "ids": [
            "Israel"
           ],
           "legendgroup": "Israel",
           "marker": {
            "color": "#636efa",
            "size": [
             4450000
            ],
            "sizemode": "area",
            "sizeref": 17187.5,
            "symbol": "circle"
           },
           "mode": "markers",
           "name": "Israel",
           "orientation": "v",
           "showlegend": true,
           "type": "scatter",
           "x": [
            23600
           ],
           "xaxis": "x",
           "y": [
            77.3
           ],
           "yaxis": "y"
          },
          {
           "hovertemplate": "<b>%{hovertext}</b><br><br>country=Saudi Arabia<br>year=1990<br>gdp=%{x}<br>life exp=%{y}<br>pop=%{marker.size}<extra></extra>",
           "hovertext": [
            "Saudi Arabia"
           ],
           "ids": [
            "Saudi Arabia"
           ],
           "legendgroup": "Saudi Arabia",
           "marker": {
            "color": "#EF553B",
            "size": [
             16200000
            ],
            "sizemode": "area",
            "sizeref": 17187.5,
            "symbol": "circle"
           },
           "mode": "markers",
           "name": "Saudi Arabia",
           "orientation": "v",
           "showlegend": true,
           "type": "scatter",
           "x": [
            16700
           ],
           "xaxis": "x",
           "y": [
            68.1
           ],
           "yaxis": "y"
          },
          {
           "hovertemplate": "<b>%{hovertext}</b><br><br>country=Oman<br>year=1990<br>gdp=%{x}<br>life exp=%{y}<br>pop=%{marker.size}<extra></extra>",
           "hovertext": [
            "Oman"
           ],
           "ids": [
            "Oman"
           ],
           "legendgroup": "Oman",
           "marker": {
            "color": "#00cc96",
            "size": [
             1810000
            ],
            "sizemode": "area",
            "sizeref": 17187.5,
            "symbol": "circle"
           },
           "mode": "markers",
           "name": "Oman",
           "orientation": "v",
           "showlegend": true,
           "type": "scatter",
           "x": [
            30300
           ],
           "xaxis": "x",
           "y": [
            66.8
           ],
           "yaxis": "y"
          },
          {
           "hovertemplate": "<b>%{hovertext}</b><br><br>country=Palestine<br>year=1990<br>gdp=%{x}<br>life exp=%{y}<br>pop=%{marker.size}<extra></extra>",
           "hovertext": [
            "Palestine"
           ],
           "ids": [
            "Palestine"
           ],
           "legendgroup": "Palestine",
           "marker": {
            "color": "#ab63fa",
            "size": [
             2100000
            ],
            "sizemode": "area",
            "sizeref": 17187.5,
            "symbol": "circle"
           },
           "mode": "markers",
           "name": "Palestine",
           "orientation": "v",
           "showlegend": true,
           "type": "scatter",
           "x": [
            3110
           ],
           "xaxis": "x",
           "y": [
            69.1
           ],
           "yaxis": "y"
          },
          {
           "hovertemplate": "<b>%{hovertext}</b><br><br>country=Egypt<br>year=1990<br>gdp=%{x}<br>life exp=%{y}<br>pop=%{marker.size}<extra></extra>",
           "hovertext": [
            "Egypt"
           ],
           "ids": [
            "Egypt"
           ],
           "legendgroup": "Egypt",
           "marker": {
            "color": "#FFA15A",
            "size": [
             56100000
            ],
            "sizemode": "area",
            "sizeref": 17187.5,
            "symbol": "circle"
           },
           "mode": "markers",
           "name": "Egypt",
           "orientation": "v",
           "showlegend": true,
           "type": "scatter",
           "x": [
            6090
           ],
           "xaxis": "x",
           "y": [
            63.9
           ],
           "yaxis": "y"
          }
         ],
         "name": "1990"
        },
        {
         "data": [
          {
           "hovertemplate": "<b>%{hovertext}</b><br><br>country=Iran<br>year=1991<br>gdp=%{x}<br>life exp=%{y}<br>pop=%{marker.size}<extra></extra>",
           "hovertext": [
            "Iran"
           ],
           "ids": [
            "Iran"
           ],
           "legendgroup": "Iran",
           "marker": {
            "color": "#636efa",
            "size": [
             57700000
            ],
            "sizemode": "area",
            "sizeref": 17187.5,
            "symbol": "circle"
           },
           "mode": "markers",
           "name": "Iran",
           "orientation": "v",
           "showlegend": true,
           "type": "scatter",
           "x": [
            9480
           ],
           "xaxis": "x",
           "y": [
            68.9
           ],
           "yaxis": "y"
          },
          {
           "hovertemplate": "<b>%{hovertext}</b><br><br>country=Iraq<br>year=1991<br>gdp=%{x}<br>life exp=%{y}<br>pop=%{marker.size}<extra></extra>",
           "hovertext": [
            "Iraq"
           ],
           "ids": [
            "Iraq"
           ],
           "legendgroup": "Iraq",
           "marker": {
            "color": "#EF553B",
            "size": [
             17900000
            ],
            "sizemode": "area",
            "sizeref": 17187.5,
            "symbol": "circle"
           },
           "mode": "markers",
           "name": "Iraq",
           "orientation": "v",
           "showlegend": true,
           "type": "scatter",
           "x": [
            1770
           ],
           "xaxis": "x",
           "y": [
            67
           ],
           "yaxis": "y"
          },
          {
           "hovertemplate": "<b>%{hovertext}</b><br><br>country=Yemen<br>year=1991<br>gdp=%{x}<br>life exp=%{y}<br>pop=%{marker.size}<extra></extra>",
           "hovertext": [
            "Yemen"
           ],
           "ids": [
            "Yemen"
           ],
           "legendgroup": "Yemen",
           "marker": {
            "color": "#00cc96",
            "size": [
             12300000
            ],
            "sizemode": "area",
            "sizeref": 17187.5,
            "symbol": "circle"
           },
           "mode": "markers",
           "name": "Yemen",
           "orientation": "v",
           "showlegend": true,
           "type": "scatter",
           "x": [
            4260
           ],
           "xaxis": "x",
           "y": [
            59.5
           ],
           "yaxis": "y"
          },
          {
           "hovertemplate": "<b>%{hovertext}</b><br><br>country=Syria<br>year=1991<br>gdp=%{x}<br>life exp=%{y}<br>pop=%{marker.size}<extra></extra>",
           "hovertext": [
            "Syria"
           ],
           "ids": [
            "Syria"
           ],
           "legendgroup": "Syria",
           "marker": {
            "color": "#ab63fa",
            "size": [
             12800000
            ],
            "sizemode": "area",
            "sizeref": 17187.5,
            "symbol": "circle"
           },
           "mode": "markers",
           "name": "Syria",
           "orientation": "v",
           "showlegend": true,
           "type": "scatter",
           "x": [
            11000
           ],
           "xaxis": "x",
           "y": [
            68.8
           ],
           "yaxis": "y"
          },
          {
           "hovertemplate": "<b>%{hovertext}</b><br><br>country=Turkey<br>year=1991<br>gdp=%{x}<br>life exp=%{y}<br>pop=%{marker.size}<extra></extra>",
           "hovertext": [
            "Turkey"
           ],
           "ids": [
            "Turkey"
           ],
           "legendgroup": "Turkey",
           "marker": {
            "color": "#FFA15A",
            "size": [
             54800000
            ],
            "sizemode": "area",
            "sizeref": 17187.5,
            "symbol": "circle"
           },
           "mode": "markers",
           "name": "Turkey",
           "orientation": "v",
           "showlegend": true,
           "type": "scatter",
           "x": [
            12500
           ],
           "xaxis": "x",
           "y": [
            69.3
           ],
           "yaxis": "y"
          },
          {
           "hovertemplate": "<b>%{hovertext}</b><br><br>country=Bahrain<br>year=1991<br>gdp=%{x}<br>life exp=%{y}<br>pop=%{marker.size}<extra></extra>",
           "hovertext": [
            "Bahrain"
           ],
           "ids": [
            "Bahrain"
           ],
           "legendgroup": "Bahrain",
           "marker": {
            "color": "#19d3f3",
            "size": [
             510000
            ],
            "sizemode": "area",
            "sizeref": 17187.5,
            "symbol": "circle"
           },
           "mode": "markers",
           "name": "Bahrain",
           "orientation": "v",
           "showlegend": true,
           "type": "scatter",
           "x": [
            41800
           ],
           "xaxis": "x",
           "y": [
            69.5
           ],
           "yaxis": "y"
          },
          {
           "hovertemplate": "<b>%{hovertext}</b><br><br>country=United Arab Emirates<br>year=1991<br>gdp=%{x}<br>life exp=%{y}<br>pop=%{marker.size}<extra></extra>",
           "hovertext": [
            "United Arab Emirates"
           ],
           "ids": [
            "United Arab Emirates"
           ],
           "legendgroup": "United Arab Emirates",
           "marker": {
            "color": "#FF6692",
            "size": [
             1940000
            ],
            "sizemode": "area",
            "sizeref": 17187.5,
            "symbol": "circle"
           },
           "mode": "markers",
           "name": "United Arab Emirates",
           "orientation": "v",
           "showlegend": true,
           "type": "scatter",
           "x": [
            50500
           ],
           "xaxis": "x",
           "y": [
            68.7
           ],
           "yaxis": "y"
          },
          {
           "hovertemplate": "<b>%{hovertext}</b><br><br>country=Qatar<br>year=1991<br>gdp=%{x}<br>life exp=%{y}<br>pop=%{marker.size}<extra></extra>",
           "hovertext": [
            "Qatar"
           ],
           "ids": [
            "Qatar"
           ],
           "legendgroup": "Qatar",
           "marker": {
            "color": "#B6E880",
            "size": [
             487000
            ],
            "sizemode": "area",
            "sizeref": 17187.5,
            "symbol": "circle"
           },
           "mode": "markers",
           "name": "Qatar",
           "orientation": "v",
           "showlegend": true,
           "type": "scatter",
           "x": [
            58300
           ],
           "xaxis": "x",
           "y": [
            69.8
           ],
           "yaxis": "y"
          },
          {
           "hovertemplate": "<b>%{hovertext}</b><br><br>country=Jordan<br>year=1991<br>gdp=%{x}<br>life exp=%{y}<br>pop=%{marker.size}<extra></extra>",
           "hovertext": [
            "Jordan"
           ],
           "ids": [
            "Jordan"
           ],
           "legendgroup": "Jordan",
           "marker": {
            "color": "#FF97FF",
            "size": [
             3760000
            ],
            "sizemode": "area",
            "sizeref": 17187.5,
            "symbol": "circle"
           },
           "mode": "markers",
           "name": "Jordan",
           "orientation": "v",
           "showlegend": true,
           "type": "scatter",
           "x": [
            7640
           ],
           "xaxis": "x",
           "y": [
            71.4
           ],
           "yaxis": "y"
          },
          {
           "hovertemplate": "<b>%{hovertext}</b><br><br>country=Kuwait<br>year=1991<br>gdp=%{x}<br>life exp=%{y}<br>pop=%{marker.size}<extra></extra>",
           "hovertext": [
            "Kuwait"
           ],
           "ids": [
            "Kuwait"
           ],
           "legendgroup": "Kuwait",
           "marker": {
            "color": "#FECB52",
            "size": [
             2029999.9999999998
            ],
            "sizemode": "area",
            "sizeref": 17187.5,
            "symbol": "circle"
           },
           "mode": "markers",
           "name": "Kuwait",
           "orientation": "v",
           "showlegend": true,
           "type": "scatter",
           "x": [
            18900
           ],
           "xaxis": "x",
           "y": [
            72.2
           ],
           "yaxis": "y"
          },
          {
           "hovertemplate": "<b>%{hovertext}</b><br><br>country=Israel<br>year=1991<br>gdp=%{x}<br>life exp=%{y}<br>pop=%{marker.size}<extra></extra>",
           "hovertext": [
            "Israel"
           ],
           "ids": [
            "Israel"
           ],
           "legendgroup": "Israel",
           "marker": {
            "color": "#636efa",
            "size": [
             4590000
            ],
            "sizemode": "area",
            "sizeref": 17187.5,
            "symbol": "circle"
           },
           "mode": "markers",
           "name": "Israel",
           "orientation": "v",
           "showlegend": true,
           "type": "scatter",
           "x": [
            24000
           ],
           "xaxis": "x",
           "y": [
            77.2
           ],
           "yaxis": "y"
          },
          {
           "hovertemplate": "<b>%{hovertext}</b><br><br>country=Saudi Arabia<br>year=1991<br>gdp=%{x}<br>life exp=%{y}<br>pop=%{marker.size}<extra></extra>",
           "hovertext": [
            "Saudi Arabia"
           ],
           "ids": [
            "Saudi Arabia"
           ],
           "legendgroup": "Saudi Arabia",
           "marker": {
            "color": "#EF553B",
            "size": [
             16800000
            ],
            "sizemode": "area",
            "sizeref": 17187.5,
            "symbol": "circle"
           },
           "mode": "markers",
           "name": "Saudi Arabia",
           "orientation": "v",
           "showlegend": true,
           "type": "scatter",
           "x": [
            19600
           ],
           "xaxis": "x",
           "y": [
            68.5
           ],
           "yaxis": "y"
          },
          {
           "hovertemplate": "<b>%{hovertext}</b><br><br>country=Oman<br>year=1991<br>gdp=%{x}<br>life exp=%{y}<br>pop=%{marker.size}<extra></extra>",
           "hovertext": [
            "Oman"
           ],
           "ids": [
            "Oman"
           ],
           "legendgroup": "Oman",
           "marker": {
            "color": "#00cc96",
            "size": [
             1890000
            ],
            "sizemode": "area",
            "sizeref": 17187.5,
            "symbol": "circle"
           },
           "mode": "markers",
           "name": "Oman",
           "orientation": "v",
           "showlegend": true,
           "type": "scatter",
           "x": [
            30800
           ],
           "xaxis": "x",
           "y": [
            67
           ],
           "yaxis": "y"
          },
          {
           "hovertemplate": "<b>%{hovertext}</b><br><br>country=Palestine<br>year=1991<br>gdp=%{x}<br>life exp=%{y}<br>pop=%{marker.size}<extra></extra>",
           "hovertext": [
            "Palestine"
           ],
           "ids": [
            "Palestine"
           ],
           "legendgroup": "Palestine",
           "marker": {
            "color": "#ab63fa",
            "size": [
             2190000
            ],
            "sizemode": "area",
            "sizeref": 17187.5,
            "symbol": "circle"
           },
           "mode": "markers",
           "name": "Palestine",
           "orientation": "v",
           "showlegend": true,
           "type": "scatter",
           "x": [
            2850
           ],
           "xaxis": "x",
           "y": [
            69.4
           ],
           "yaxis": "y"
          },
          {
           "hovertemplate": "<b>%{hovertext}</b><br><br>country=Egypt<br>year=1991<br>gdp=%{x}<br>life exp=%{y}<br>pop=%{marker.size}<extra></extra>",
           "hovertext": [
            "Egypt"
           ],
           "ids": [
            "Egypt"
           ],
           "legendgroup": "Egypt",
           "marker": {
            "color": "#FFA15A",
            "size": [
             57400000
            ],
            "sizemode": "area",
            "sizeref": 17187.5,
            "symbol": "circle"
           },
           "mode": "markers",
           "name": "Egypt",
           "orientation": "v",
           "showlegend": true,
           "type": "scatter",
           "x": [
            6020
           ],
           "xaxis": "x",
           "y": [
            64.5
           ],
           "yaxis": "y"
          }
         ],
         "name": "1991"
        },
        {
         "data": [
          {
           "hovertemplate": "<b>%{hovertext}</b><br><br>country=Iran<br>year=1992<br>gdp=%{x}<br>life exp=%{y}<br>pop=%{marker.size}<extra></extra>",
           "hovertext": [
            "Iran"
           ],
           "ids": [
            "Iran"
           ],
           "legendgroup": "Iran",
           "marker": {
            "color": "#636efa",
            "size": [
             58800000
            ],
            "sizemode": "area",
            "sizeref": 17187.5,
            "symbol": "circle"
           },
           "mode": "markers",
           "name": "Iran",
           "orientation": "v",
           "showlegend": true,
           "type": "scatter",
           "x": [
            9570
           ],
           "xaxis": "x",
           "y": [
            69.3
           ],
           "yaxis": "y"
          },
          {
           "hovertemplate": "<b>%{hovertext}</b><br><br>country=Iraq<br>year=1992<br>gdp=%{x}<br>life exp=%{y}<br>pop=%{marker.size}<extra></extra>",
           "hovertext": [
            "Iraq"
           ],
           "ids": [
            "Iraq"
           ],
           "legendgroup": "Iraq",
           "marker": {
            "color": "#EF553B",
            "size": [
             18400000
            ],
            "sizemode": "area",
            "sizeref": 17187.5,
            "symbol": "circle"
           },
           "mode": "markers",
           "name": "Iraq",
           "orientation": "v",
           "showlegend": true,
           "type": "scatter",
           "x": [
            2380
           ],
           "xaxis": "x",
           "y": [
            67
           ],
           "yaxis": "y"
          },
          {
           "hovertemplate": "<b>%{hovertext}</b><br><br>country=Yemen<br>year=1992<br>gdp=%{x}<br>life exp=%{y}<br>pop=%{marker.size}<extra></extra>",
           "hovertext": [
            "Yemen"
           ],
           "ids": [
            "Yemen"
           ],
           "legendgroup": "Yemen",
           "marker": {
            "color": "#00cc96",
            "size": [
             13000000
            ],
            "sizemode": "area",
            "sizeref": 17187.5,
            "symbol": "circle"
           },
           "mode": "markers",
           "name": "Yemen",
           "orientation": "v",
           "showlegend": true,
           "type": "scatter",
           "x": [
            4370
           ],
           "xaxis": "x",
           "y": [
            59.9
           ],
           "yaxis": "y"
          },
          {
           "hovertemplate": "<b>%{hovertext}</b><br><br>country=Syria<br>year=1992<br>gdp=%{x}<br>life exp=%{y}<br>pop=%{marker.size}<extra></extra>",
           "hovertext": [
            "Syria"
           ],
           "ids": [
            "Syria"
           ],
           "legendgroup": "Syria",
           "marker": {
            "color": "#ab63fa",
            "size": [
             13200000
            ],
            "sizemode": "area",
            "sizeref": 17187.5,
            "symbol": "circle"
           },
           "mode": "markers",
           "name": "Syria",
           "orientation": "v",
           "showlegend": true,
           "type": "scatter",
           "x": [
            11600
           ],
           "xaxis": "x",
           "y": [
            68.6
           ],
           "yaxis": "y"
          },
          {
           "hovertemplate": "<b>%{hovertext}</b><br><br>country=Turkey<br>year=1992<br>gdp=%{x}<br>life exp=%{y}<br>pop=%{marker.size}<extra></extra>",
           "hovertext": [
            "Turkey"
           ],
           "ids": [
            "Turkey"
           ],
           "legendgroup": "Turkey",
           "marker": {
            "color": "#FFA15A",
            "size": [
             55700000
            ],
            "sizemode": "area",
            "sizeref": 17187.5,
            "symbol": "circle"
           },
           "mode": "markers",
           "name": "Turkey",
           "orientation": "v",
           "showlegend": true,
           "type": "scatter",
           "x": [
            12900
           ],
           "xaxis": "x",
           "y": [
            69.6
           ],
           "yaxis": "y"
          },
          {
           "hovertemplate": "<b>%{hovertext}</b><br><br>country=Bahrain<br>year=1992<br>gdp=%{x}<br>life exp=%{y}<br>pop=%{marker.size}<extra></extra>",
           "hovertext": [
            "Bahrain"
           ],
           "ids": [
            "Bahrain"
           ],
           "legendgroup": "Bahrain",
           "marker": {
            "color": "#19d3f3",
            "size": [
             523000
            ],
            "sizemode": "area",
            "sizeref": 17187.5,
            "symbol": "circle"
           },
           "mode": "markers",
           "name": "Bahrain",
           "orientation": "v",
           "showlegend": true,
           "type": "scatter",
           "x": [
            43400
           ],
           "xaxis": "x",
           "y": [
            69.8
           ],
           "yaxis": "y"
          },
          {
           "hovertemplate": "<b>%{hovertext}</b><br><br>country=United Arab Emirates<br>year=1992<br>gdp=%{x}<br>life exp=%{y}<br>pop=%{marker.size}<extra></extra>",
           "hovertext": [
            "United Arab Emirates"
           ],
           "ids": [
            "United Arab Emirates"
           ],
           "legendgroup": "United Arab Emirates",
           "marker": {
            "color": "#FF6692",
            "size": [
             2049999.9999999998
            ],
            "sizemode": "area",
            "sizeref": 17187.5,
            "symbol": "circle"
           },
           "mode": "markers",
           "name": "United Arab Emirates",
           "orientation": "v",
           "showlegend": true,
           "type": "scatter",
           "x": [
            50500
           ],
           "xaxis": "x",
           "y": [
            68.8
           ],
           "yaxis": "y"
          },
          {
           "hovertemplate": "<b>%{hovertext}</b><br><br>country=Qatar<br>year=1992<br>gdp=%{x}<br>life exp=%{y}<br>pop=%{marker.size}<extra></extra>",
           "hovertext": [
            "Qatar"
           ],
           "ids": [
            "Qatar"
           ],
           "legendgroup": "Qatar",
           "marker": {
            "color": "#B6E880",
            "size": [
             495000
            ],
            "sizemode": "area",
            "sizeref": 17187.5,
            "symbol": "circle"
           },
           "mode": "markers",
           "name": "Qatar",
           "orientation": "v",
           "showlegend": true,
           "type": "scatter",
           "x": [
            63400
           ],
           "xaxis": "x",
           "y": [
            69.8
           ],
           "yaxis": "y"
          },
          {
           "hovertemplate": "<b>%{hovertext}</b><br><br>country=Jordan<br>year=1992<br>gdp=%{x}<br>life exp=%{y}<br>pop=%{marker.size}<extra></extra>",
           "hovertext": [
            "Jordan"
           ],
           "ids": [
            "Jordan"
           ],
           "legendgroup": "Jordan",
           "marker": {
            "color": "#FF97FF",
            "size": [
             3980000
            ],
            "sizemode": "area",
            "sizeref": 17187.5,
            "symbol": "circle"
           },
           "mode": "markers",
           "name": "Jordan",
           "orientation": "v",
           "showlegend": true,
           "type": "scatter",
           "x": [
            8250
           ],
           "xaxis": "x",
           "y": [
            71.8
           ],
           "yaxis": "y"
          },
          {
           "hovertemplate": "<b>%{hovertext}</b><br><br>country=Kuwait<br>year=1992<br>gdp=%{x}<br>life exp=%{y}<br>pop=%{marker.size}<extra></extra>",
           "hovertext": [
            "Kuwait"
           ],
           "ids": [
            "Kuwait"
           ],
           "legendgroup": "Kuwait",
           "marker": {
            "color": "#FECB52",
            "size": [
             1910000
            ],
            "sizemode": "area",
            "sizeref": 17187.5,
            "symbol": "circle"
           },
           "mode": "markers",
           "name": "Kuwait",
           "orientation": "v",
           "showlegend": true,
           "type": "scatter",
           "x": [
            36600
           ],
           "xaxis": "x",
           "y": [
            79.5
           ],
           "yaxis": "y"
          },
          {
           "hovertemplate": "<b>%{hovertext}</b><br><br>country=Israel<br>year=1992<br>gdp=%{x}<br>life exp=%{y}<br>pop=%{marker.size}<extra></extra>",
           "hovertext": [
            "Israel"
           ],
           "ids": [
            "Israel"
           ],
           "legendgroup": "Israel",
           "marker": {
            "color": "#636efa",
            "size": [
             4750000
            ],
            "sizemode": "area",
            "sizeref": 17187.5,
            "symbol": "circle"
           },
           "mode": "markers",
           "name": "Israel",
           "orientation": "v",
           "showlegend": true,
           "type": "scatter",
           "x": [
            24900
           ],
           "xaxis": "x",
           "y": [
            77.1
           ],
           "yaxis": "y"
          },
          {
           "hovertemplate": "<b>%{hovertext}</b><br><br>country=Saudi Arabia<br>year=1992<br>gdp=%{x}<br>life exp=%{y}<br>pop=%{marker.size}<extra></extra>",
           "hovertext": [
            "Saudi Arabia"
           ],
           "ids": [
            "Saudi Arabia"
           ],
           "legendgroup": "Saudi Arabia",
           "marker": {
            "color": "#EF553B",
            "size": [
             17300000
            ],
            "sizemode": "area",
            "sizeref": 17187.5,
            "symbol": "circle"
           },
           "mode": "markers",
           "name": "Saudi Arabia",
           "orientation": "v",
           "showlegend": true,
           "type": "scatter",
           "x": [
            20800
           ],
           "xaxis": "x",
           "y": [
            68.8
           ],
           "yaxis": "y"
          },
          {
           "hovertemplate": "<b>%{hovertext}</b><br><br>country=Oman<br>year=1992<br>gdp=%{x}<br>life exp=%{y}<br>pop=%{marker.size}<extra></extra>",
           "hovertext": [
            "Oman"
           ],
           "ids": [
            "Oman"
           ],
           "legendgroup": "Oman",
           "marker": {
            "color": "#00cc96",
            "size": [
             1980000
            ],
            "sizemode": "area",
            "sizeref": 17187.5,
            "symbol": "circle"
           },
           "mode": "markers",
           "name": "Oman",
           "orientation": "v",
           "showlegend": true,
           "type": "scatter",
           "x": [
            31900
           ],
           "xaxis": "x",
           "y": [
            67.3
           ],
           "yaxis": "y"
          },
          {
           "hovertemplate": "<b>%{hovertext}</b><br><br>country=Palestine<br>year=1992<br>gdp=%{x}<br>life exp=%{y}<br>pop=%{marker.size}<extra></extra>",
           "hovertext": [
            "Palestine"
           ],
           "ids": [
            "Palestine"
           ],
           "legendgroup": "Palestine",
           "marker": {
            "color": "#ab63fa",
            "size": [
             2290000
            ],
            "sizemode": "area",
            "sizeref": 17187.5,
            "symbol": "circle"
           },
           "mode": "markers",
           "name": "Palestine",
           "orientation": "v",
           "showlegend": true,
           "type": "scatter",
           "x": [
            3380
           ],
           "xaxis": "x",
           "y": [
            69.6
           ],
           "yaxis": "y"
          },
          {
           "hovertemplate": "<b>%{hovertext}</b><br><br>country=Egypt<br>year=1992<br>gdp=%{x}<br>life exp=%{y}<br>pop=%{marker.size}<extra></extra>",
           "hovertext": [
            "Egypt"
           ],
           "ids": [
            "Egypt"
           ],
           "legendgroup": "Egypt",
           "marker": {
            "color": "#FFA15A",
            "size": [
             58700000
            ],
            "sizemode": "area",
            "sizeref": 17187.5,
            "symbol": "circle"
           },
           "mode": "markers",
           "name": "Egypt",
           "orientation": "v",
           "showlegend": true,
           "type": "scatter",
           "x": [
            6150
           ],
           "xaxis": "x",
           "y": [
            65.2
           ],
           "yaxis": "y"
          }
         ],
         "name": "1992"
        },
        {
         "data": [
          {
           "hovertemplate": "<b>%{hovertext}</b><br><br>country=Iran<br>year=1993<br>gdp=%{x}<br>life exp=%{y}<br>pop=%{marker.size}<extra></extra>",
           "hovertext": [
            "Iran"
           ],
           "ids": [
            "Iran"
           ],
           "legendgroup": "Iran",
           "marker": {
            "color": "#636efa",
            "size": [
             59700000
            ],
            "sizemode": "area",
            "sizeref": 17187.5,
            "symbol": "circle"
           },
           "mode": "markers",
           "name": "Iran",
           "orientation": "v",
           "showlegend": true,
           "type": "scatter",
           "x": [
            9510
           ],
           "xaxis": "x",
           "y": [
            69.6
           ],
           "yaxis": "y"
          },
          {
           "hovertemplate": "<b>%{hovertext}</b><br><br>country=Iraq<br>year=1993<br>gdp=%{x}<br>life exp=%{y}<br>pop=%{marker.size}<extra></extra>",
           "hovertext": [
            "Iraq"
           ],
           "ids": [
            "Iraq"
           ],
           "legendgroup": "Iraq",
           "marker": {
            "color": "#EF553B",
            "size": [
             19000000
            ],
            "sizemode": "area",
            "sizeref": 17187.5,
            "symbol": "circle"
           },
           "mode": "markers",
           "name": "Iraq",
           "orientation": "v",
           "showlegend": true,
           "type": "scatter",
           "x": [
            2480
           ],
           "xaxis": "x",
           "y": [
            67.1
           ],
           "yaxis": "y"
          },
          {
           "hovertemplate": "<b>%{hovertext}</b><br><br>country=Yemen<br>year=1993<br>gdp=%{x}<br>life exp=%{y}<br>pop=%{marker.size}<extra></extra>",
           "hovertext": [
            "Yemen"
           ],
           "ids": [
            "Yemen"
           ],
           "legendgroup": "Yemen",
           "marker": {
            "color": "#00cc96",
            "size": [
             13600000
            ],
            "sizemode": "area",
            "sizeref": 17187.5,
            "symbol": "circle"
           },
           "mode": "markers",
           "name": "Yemen",
           "orientation": "v",
           "showlegend": true,
           "type": "scatter",
           "x": [
            4320
           ],
           "xaxis": "x",
           "y": [
            60.3
           ],
           "yaxis": "y"
          },
          {
           "hovertemplate": "<b>%{hovertext}</b><br><br>country=Syria<br>year=1993<br>gdp=%{x}<br>life exp=%{y}<br>pop=%{marker.size}<extra></extra>",
           "hovertext": [
            "Syria"
           ],
           "ids": [
            "Syria"
           ],
           "legendgroup": "Syria",
           "marker": {
            "color": "#ab63fa",
            "size": [
             13600000
            ],
            "sizemode": "area",
            "sizeref": 17187.5,
            "symbol": "circle"
           },
           "mode": "markers",
           "name": "Syria",
           "orientation": "v",
           "showlegend": true,
           "type": "scatter",
           "x": [
            11700
           ],
           "xaxis": "x",
           "y": [
            69.3
           ],
           "yaxis": "y"
          },
          {
           "hovertemplate": "<b>%{hovertext}</b><br><br>country=Turkey<br>year=1993<br>gdp=%{x}<br>life exp=%{y}<br>pop=%{marker.size}<extra></extra>",
           "hovertext": [
            "Turkey"
           ],
           "ids": [
            "Turkey"
           ],
           "legendgroup": "Turkey",
           "marker": {
            "color": "#FFA15A",
            "size": [
             56700000
            ],
            "sizemode": "area",
            "sizeref": 17187.5,
            "symbol": "circle"
           },
           "mode": "markers",
           "name": "Turkey",
           "orientation": "v",
           "showlegend": true,
           "type": "scatter",
           "x": [
            13700
           ],
           "xaxis": "x",
           "y": [
            70.1
           ],
           "yaxis": "y"
          },
          {
           "hovertemplate": "<b>%{hovertext}</b><br><br>country=Bahrain<br>year=1993<br>gdp=%{x}<br>life exp=%{y}<br>pop=%{marker.size}<extra></extra>",
           "hovertext": [
            "Bahrain"
           ],
           "ids": [
            "Bahrain"
           ],
           "legendgroup": "Bahrain",
           "marker": {
            "color": "#19d3f3",
            "size": [
             536000
            ],
            "sizemode": "area",
            "sizeref": 17187.5,
            "symbol": "circle"
           },
           "mode": "markers",
           "name": "Bahrain",
           "orientation": "v",
           "showlegend": true,
           "type": "scatter",
           "x": [
            47800
           ],
           "xaxis": "x",
           "y": [
            70.1
           ],
           "yaxis": "y"
          },
          {
           "hovertemplate": "<b>%{hovertext}</b><br><br>country=United Arab Emirates<br>year=1993<br>gdp=%{x}<br>life exp=%{y}<br>pop=%{marker.size}<extra></extra>",
           "hovertext": [
            "United Arab Emirates"
           ],
           "ids": [
            "United Arab Emirates"
           ],
           "legendgroup": "United Arab Emirates",
           "marker": {
            "color": "#FF6692",
            "size": [
             2170000
            ],
            "sizemode": "area",
            "sizeref": 17187.5,
            "symbol": "circle"
           },
           "mode": "markers",
           "name": "United Arab Emirates",
           "orientation": "v",
           "showlegend": true,
           "type": "scatter",
           "x": [
            50100
           ],
           "xaxis": "x",
           "y": [
            68.8
           ],
           "yaxis": "y"
          },
          {
           "hovertemplate": "<b>%{hovertext}</b><br><br>country=Qatar<br>year=1993<br>gdp=%{x}<br>life exp=%{y}<br>pop=%{marker.size}<extra></extra>",
           "hovertext": [
            "Qatar"
           ],
           "ids": [
            "Qatar"
           ],
           "legendgroup": "Qatar",
           "marker": {
            "color": "#B6E880",
            "size": [
             501000
            ],
            "sizemode": "area",
            "sizeref": 17187.5,
            "symbol": "circle"
           },
           "mode": "markers",
           "name": "Qatar",
           "orientation": "v",
           "showlegend": true,
           "type": "scatter",
           "x": [
            61300
           ],
           "xaxis": "x",
           "y": [
            69.9
           ],
           "yaxis": "y"
          },
          {
           "hovertemplate": "<b>%{hovertext}</b><br><br>country=Jordan<br>year=1993<br>gdp=%{x}<br>life exp=%{y}<br>pop=%{marker.size}<extra></extra>",
           "hovertext": [
            "Jordan"
           ],
           "ids": [
            "Jordan"
           ],
           "legendgroup": "Jordan",
           "marker": {
            "color": "#FF97FF",
            "size": [
             4200000
            ],
            "sizemode": "area",
            "sizeref": 17187.5,
            "symbol": "circle"
           },
           "mode": "markers",
           "name": "Jordan",
           "orientation": "v",
           "showlegend": true,
           "type": "scatter",
           "x": [
            8170
           ],
           "xaxis": "x",
           "y": [
            71.6
           ],
           "yaxis": "y"
          },
          {
           "hovertemplate": "<b>%{hovertext}</b><br><br>country=Kuwait<br>year=1993<br>gdp=%{x}<br>life exp=%{y}<br>pop=%{marker.size}<extra></extra>",
           "hovertext": [
            "Kuwait"
           ],
           "ids": [
            "Kuwait"
           ],
           "legendgroup": "Kuwait",
           "marker": {
            "color": "#FECB52",
            "size": [
             1770000
            ],
            "sizemode": "area",
            "sizeref": 17187.5,
            "symbol": "circle"
           },
           "mode": "markers",
           "name": "Kuwait",
           "orientation": "v",
           "showlegend": true,
           "type": "scatter",
           "x": [
            52700
           ],
           "xaxis": "x",
           "y": [
            79.5
           ],
           "yaxis": "y"
          },
          {
           "hovertemplate": "<b>%{hovertext}</b><br><br>country=Israel<br>year=1993<br>gdp=%{x}<br>life exp=%{y}<br>pop=%{marker.size}<extra></extra>",
           "hovertext": [
            "Israel"
           ],
           "ids": [
            "Israel"
           ],
           "legendgroup": "Israel",
           "marker": {
            "color": "#636efa",
            "size": [
             4930000
            ],
            "sizemode": "area",
            "sizeref": 17187.5,
            "symbol": "circle"
           },
           "mode": "markers",
           "name": "Israel",
           "orientation": "v",
           "showlegend": true,
           "type": "scatter",
           "x": [
            25300
           ],
           "xaxis": "x",
           "y": [
            77.5
           ],
           "yaxis": "y"
          },
          {
           "hovertemplate": "<b>%{hovertext}</b><br><br>country=Saudi Arabia<br>year=1993<br>gdp=%{x}<br>life exp=%{y}<br>pop=%{marker.size}<extra></extra>",
           "hovertext": [
            "Saudi Arabia"
           ],
           "ids": [
            "Saudi Arabia"
           ],
           "legendgroup": "Saudi Arabia",
           "marker": {
            "color": "#EF553B",
            "size": [
             17800000
            ],
            "sizemode": "area",
            "sizeref": 17187.5,
            "symbol": "circle"
           },
           "mode": "markers",
           "name": "Saudi Arabia",
           "orientation": "v",
           "showlegend": true,
           "type": "scatter",
           "x": [
            21000
           ],
           "xaxis": "x",
           "y": [
            69
           ],
           "yaxis": "y"
          },
          {
           "hovertemplate": "<b>%{hovertext}</b><br><br>country=Oman<br>year=1993<br>gdp=%{x}<br>life exp=%{y}<br>pop=%{marker.size}<extra></extra>",
           "hovertext": [
            "Oman"
           ],
           "ids": [
            "Oman"
           ],
           "legendgroup": "Oman",
           "marker": {
            "color": "#00cc96",
            "size": [
             2069999.9999999998
            ],
            "sizemode": "area",
            "sizeref": 17187.5,
            "symbol": "circle"
           },
           "mode": "markers",
           "name": "Oman",
           "orientation": "v",
           "showlegend": true,
           "type": "scatter",
           "x": [
            32400
           ],
           "xaxis": "x",
           "y": [
            67.5
           ],
           "yaxis": "y"
          },
          {
           "hovertemplate": "<b>%{hovertext}</b><br><br>country=Palestine<br>year=1993<br>gdp=%{x}<br>life exp=%{y}<br>pop=%{marker.size}<extra></extra>",
           "hovertext": [
            "Palestine"
           ],
           "ids": [
            "Palestine"
           ],
           "legendgroup": "Palestine",
           "marker": {
            "color": "#ab63fa",
            "size": [
             2390000
            ],
            "sizemode": "area",
            "sizeref": 17187.5,
            "symbol": "circle"
           },
           "mode": "markers",
           "name": "Palestine",
           "orientation": "v",
           "showlegend": true,
           "type": "scatter",
           "x": [
            3570
           ],
           "xaxis": "x",
           "y": [
            70
           ],
           "yaxis": "y"
          },
          {
           "hovertemplate": "<b>%{hovertext}</b><br><br>country=Egypt<br>year=1993<br>gdp=%{x}<br>life exp=%{y}<br>pop=%{marker.size}<extra></extra>",
           "hovertext": [
            "Egypt"
           ],
           "ids": [
            "Egypt"
           ],
           "legendgroup": "Egypt",
           "marker": {
            "color": "#FFA15A",
            "size": [
             59900000
            ],
            "sizemode": "area",
            "sizeref": 17187.5,
            "symbol": "circle"
           },
           "mode": "markers",
           "name": "Egypt",
           "orientation": "v",
           "showlegend": true,
           "type": "scatter",
           "x": [
            6200
           ],
           "xaxis": "x",
           "y": [
            65.4
           ],
           "yaxis": "y"
          }
         ],
         "name": "1993"
        },
        {
         "data": [
          {
           "hovertemplate": "<b>%{hovertext}</b><br><br>country=Iran<br>year=1994<br>gdp=%{x}<br>life exp=%{y}<br>pop=%{marker.size}<extra></extra>",
           "hovertext": [
            "Iran"
           ],
           "ids": [
            "Iran"
           ],
           "legendgroup": "Iran",
           "marker": {
            "color": "#636efa",
            "size": [
             60600000
            ],
            "sizemode": "area",
            "sizeref": 17187.5,
            "symbol": "circle"
           },
           "mode": "markers",
           "name": "Iran",
           "orientation": "v",
           "showlegend": true,
           "type": "scatter",
           "x": [
            9240
           ],
           "xaxis": "x",
           "y": [
            70
           ],
           "yaxis": "y"
          },
          {
           "hovertemplate": "<b>%{hovertext}</b><br><br>country=Iraq<br>year=1994<br>gdp=%{x}<br>life exp=%{y}<br>pop=%{marker.size}<extra></extra>",
           "hovertext": [
            "Iraq"
           ],
           "ids": [
            "Iraq"
           ],
           "legendgroup": "Iraq",
           "marker": {
            "color": "#EF553B",
            "size": [
             19500000
            ],
            "sizemode": "area",
            "sizeref": 17187.5,
            "symbol": "circle"
           },
           "mode": "markers",
           "name": "Iraq",
           "orientation": "v",
           "showlegend": true,
           "type": "scatter",
           "x": [
            2450
           ],
           "xaxis": "x",
           "y": [
            67.1
           ],
           "yaxis": "y"
          },
          {
           "hovertemplate": "<b>%{hovertext}</b><br><br>country=Yemen<br>year=1994<br>gdp=%{x}<br>life exp=%{y}<br>pop=%{marker.size}<extra></extra>",
           "hovertext": [
            "Yemen"
           ],
           "ids": [
            "Yemen"
           ],
           "legendgroup": "Yemen",
           "marker": {
            "color": "#00cc96",
            "size": [
             14300000
            ],
            "sizemode": "area",
            "sizeref": 17187.5,
            "symbol": "circle"
           },
           "mode": "markers",
           "name": "Yemen",
           "orientation": "v",
           "showlegend": true,
           "type": "scatter",
           "x": [
            4390
           ],
           "xaxis": "x",
           "y": [
            60.5
           ],
           "yaxis": "y"
          },
          {
           "hovertemplate": "<b>%{hovertext}</b><br><br>country=Syria<br>year=1994<br>gdp=%{x}<br>life exp=%{y}<br>pop=%{marker.size}<extra></extra>",
           "hovertext": [
            "Syria"
           ],
           "ids": [
            "Syria"
           ],
           "legendgroup": "Syria",
           "marker": {
            "color": "#ab63fa",
            "size": [
             14000000
            ],
            "sizemode": "area",
            "sizeref": 17187.5,
            "symbol": "circle"
           },
           "mode": "markers",
           "name": "Syria",
           "orientation": "v",
           "showlegend": true,
           "type": "scatter",
           "x": [
            11600
           ],
           "xaxis": "x",
           "y": [
            69.5
           ],
           "yaxis": "y"
          },
          {
           "hovertemplate": "<b>%{hovertext}</b><br><br>country=Turkey<br>year=1994<br>gdp=%{x}<br>life exp=%{y}<br>pop=%{marker.size}<extra></extra>",
           "hovertext": [
            "Turkey"
           ],
           "ids": [
            "Turkey"
           ],
           "legendgroup": "Turkey",
           "marker": {
            "color": "#FFA15A",
            "size": [
             57600000
            ],
            "sizemode": "area",
            "sizeref": 17187.5,
            "symbol": "circle"
           },
           "mode": "markers",
           "name": "Turkey",
           "orientation": "v",
           "showlegend": true,
           "type": "scatter",
           "x": [
            12800
           ],
           "xaxis": "x",
           "y": [
            70.4
           ],
           "yaxis": "y"
          },
          {
           "hovertemplate": "<b>%{hovertext}</b><br><br>country=Bahrain<br>year=1994<br>gdp=%{x}<br>life exp=%{y}<br>pop=%{marker.size}<extra></extra>",
           "hovertext": [
            "Bahrain"
           ],
           "ids": [
            "Bahrain"
           ],
           "legendgroup": "Bahrain",
           "marker": {
            "color": "#19d3f3",
            "size": [
             550000
            ],
            "sizemode": "area",
            "sizeref": 17187.5,
            "symbol": "circle"
           },
           "mode": "markers",
           "name": "Bahrain",
           "orientation": "v",
           "showlegend": true,
           "type": "scatter",
           "x": [
            46500
           ],
           "xaxis": "x",
           "y": [
            70.3
           ],
           "yaxis": "y"
          },
          {
           "hovertemplate": "<b>%{hovertext}</b><br><br>country=United Arab Emirates<br>year=1994<br>gdp=%{x}<br>life exp=%{y}<br>pop=%{marker.size}<extra></extra>",
           "hovertext": [
            "United Arab Emirates"
           ],
           "ids": [
            "United Arab Emirates"
           ],
           "legendgroup": "United Arab Emirates",
           "marker": {
            "color": "#FF6692",
            "size": [
             2290000
            ],
            "sizemode": "area",
            "sizeref": 17187.5,
            "symbol": "circle"
           },
           "mode": "markers",
           "name": "United Arab Emirates",
           "orientation": "v",
           "showlegend": true,
           "type": "scatter",
           "x": [
            53100
           ],
           "xaxis": "x",
           "y": [
            68.7
           ],
           "yaxis": "y"
          },
          {
           "hovertemplate": "<b>%{hovertext}</b><br><br>country=Qatar<br>year=1994<br>gdp=%{x}<br>life exp=%{y}<br>pop=%{marker.size}<extra></extra>",
           "hovertext": [
            "Qatar"
           ],
           "ids": [
            "Qatar"
           ],
           "legendgroup": "Qatar",
           "marker": {
            "color": "#B6E880",
            "size": [
             507000
            ],
            "sizemode": "area",
            "sizeref": 17187.5,
            "symbol": "circle"
           },
           "mode": "markers",
           "name": "Qatar",
           "orientation": "v",
           "showlegend": true,
           "type": "scatter",
           "x": [
            61000
           ],
           "xaxis": "x",
           "y": [
            71
           ],
           "yaxis": "y"
          },
          {
           "hovertemplate": "<b>%{hovertext}</b><br><br>country=Jordan<br>year=1994<br>gdp=%{x}<br>life exp=%{y}<br>pop=%{marker.size}<extra></extra>",
           "hovertext": [
            "Jordan"
           ],
           "ids": [
            "Jordan"
           ],
           "legendgroup": "Jordan",
           "marker": {
            "color": "#FF97FF",
            "size": [
             4410000
            ],
            "sizemode": "area",
            "sizeref": 17187.5,
            "symbol": "circle"
           },
           "mode": "markers",
           "name": "Jordan",
           "orientation": "v",
           "showlegend": true,
           "type": "scatter",
           "x": [
            8170
           ],
           "xaxis": "x",
           "y": [
            71.7
           ],
           "yaxis": "y"
          },
          {
           "hovertemplate": "<b>%{hovertext}</b><br><br>country=Kuwait<br>year=1994<br>gdp=%{x}<br>life exp=%{y}<br>pop=%{marker.size}<extra></extra>",
           "hovertext": [
            "Kuwait"
           ],
           "ids": [
            "Kuwait"
           ],
           "legendgroup": "Kuwait",
           "marker": {
            "color": "#FECB52",
            "size": [
             1660000
            ],
            "sizemode": "area",
            "sizeref": 17187.5,
            "symbol": "circle"
           },
           "mode": "markers",
           "name": "Kuwait",
           "orientation": "v",
           "showlegend": true,
           "type": "scatter",
           "x": [
            61000
           ],
           "xaxis": "x",
           "y": [
            78.7
           ],
           "yaxis": "y"
          },
          {
           "hovertemplate": "<b>%{hovertext}</b><br><br>country=Israel<br>year=1994<br>gdp=%{x}<br>life exp=%{y}<br>pop=%{marker.size}<extra></extra>",
           "hovertext": [
            "Israel"
           ],
           "ids": [
            "Israel"
           ],
           "legendgroup": "Israel",
           "marker": {
            "color": "#636efa",
            "size": [
             5110000
            ],
            "sizemode": "area",
            "sizeref": 17187.5,
            "symbol": "circle"
           },
           "mode": "markers",
           "name": "Israel",
           "orientation": "v",
           "showlegend": true,
           "type": "scatter",
           "x": [
            26500
           ],
           "xaxis": "x",
           "y": [
            77.7
           ],
           "yaxis": "y"
          },
          {
           "hovertemplate": "<b>%{hovertext}</b><br><br>country=Saudi Arabia<br>year=1994<br>gdp=%{x}<br>life exp=%{y}<br>pop=%{marker.size}<extra></extra>",
           "hovertext": [
            "Saudi Arabia"
           ],
           "ids": [
            "Saudi Arabia"
           ],
           "legendgroup": "Saudi Arabia",
           "marker": {
            "color": "#EF553B",
            "size": [
             18200000
            ],
            "sizemode": "area",
            "sizeref": 17187.5,
            "symbol": "circle"
           },
           "mode": "markers",
           "name": "Saudi Arabia",
           "orientation": "v",
           "showlegend": true,
           "type": "scatter",
           "x": [
            21700
           ],
           "xaxis": "x",
           "y": [
            69.2
           ],
           "yaxis": "y"
          },
          {
           "hovertemplate": "<b>%{hovertext}</b><br><br>country=Oman<br>year=1994<br>gdp=%{x}<br>life exp=%{y}<br>pop=%{marker.size}<extra></extra>",
           "hovertext": [
            "Oman"
           ],
           "ids": [
            "Oman"
           ],
           "legendgroup": "Oman",
           "marker": {
            "color": "#00cc96",
            "size": [
             2150000
            ],
            "sizemode": "area",
            "sizeref": 17187.5,
            "symbol": "circle"
           },
           "mode": "markers",
           "name": "Oman",
           "orientation": "v",
           "showlegend": true,
           "type": "scatter",
           "x": [
            32400
           ],
           "xaxis": "x",
           "y": [
            67.7
           ],
           "yaxis": "y"
          },
          {
           "hovertemplate": "<b>%{hovertext}</b><br><br>country=Palestine<br>year=1994<br>gdp=%{x}<br>life exp=%{y}<br>pop=%{marker.size}<extra></extra>",
           "hovertext": [
            "Palestine"
           ],
           "ids": [
            "Palestine"
           ],
           "legendgroup": "Palestine",
           "marker": {
            "color": "#ab63fa",
            "size": [
             2500000
            ],
            "sizemode": "area",
            "sizeref": 17187.5,
            "symbol": "circle"
           },
           "mode": "markers",
           "name": "Palestine",
           "orientation": "v",
           "showlegend": true,
           "type": "scatter",
           "x": [
            3950
           ],
           "xaxis": "x",
           "y": [
            70.6
           ],
           "yaxis": "y"
          },
          {
           "hovertemplate": "<b>%{hovertext}</b><br><br>country=Egypt<br>year=1994<br>gdp=%{x}<br>life exp=%{y}<br>pop=%{marker.size}<extra></extra>",
           "hovertext": [
            "Egypt"
           ],
           "ids": [
            "Egypt"
           ],
           "legendgroup": "Egypt",
           "marker": {
            "color": "#FFA15A",
            "size": [
             61100000
            ],
            "sizemode": "area",
            "sizeref": 17187.5,
            "symbol": "circle"
           },
           "mode": "markers",
           "name": "Egypt",
           "orientation": "v",
           "showlegend": true,
           "type": "scatter",
           "x": [
            6320
           ],
           "xaxis": "x",
           "y": [
            65.7
           ],
           "yaxis": "y"
          }
         ],
         "name": "1994"
        },
        {
         "data": [
          {
           "hovertemplate": "<b>%{hovertext}</b><br><br>country=Iran<br>year=1995<br>gdp=%{x}<br>life exp=%{y}<br>pop=%{marker.size}<extra></extra>",
           "hovertext": [
            "Iran"
           ],
           "ids": [
            "Iran"
           ],
           "legendgroup": "Iran",
           "marker": {
            "color": "#636efa",
            "size": [
             61400000
            ],
            "sizemode": "area",
            "sizeref": 17187.5,
            "symbol": "circle"
           },
           "mode": "markers",
           "name": "Iran",
           "orientation": "v",
           "showlegend": true,
           "type": "scatter",
           "x": [
            9320
           ],
           "xaxis": "x",
           "y": [
            70.4
           ],
           "yaxis": "y"
          },
          {
           "hovertemplate": "<b>%{hovertext}</b><br><br>country=Iraq<br>year=1995<br>gdp=%{x}<br>life exp=%{y}<br>pop=%{marker.size}<extra></extra>",
           "hovertext": [
            "Iraq"
           ],
           "ids": [
            "Iraq"
           ],
           "legendgroup": "Iraq",
           "marker": {
            "color": "#EF553B",
            "size": [
             20100000
            ],
            "sizemode": "area",
            "sizeref": 17187.5,
            "symbol": "circle"
           },
           "mode": "markers",
           "name": "Iraq",
           "orientation": "v",
           "showlegend": true,
           "type": "scatter",
           "x": [
            2320
           ],
           "xaxis": "x",
           "y": [
            67.2
           ],
           "yaxis": "y"
          },
          {
           "hovertemplate": "<b>%{hovertext}</b><br><br>country=Yemen<br>year=1995<br>gdp=%{x}<br>life exp=%{y}<br>pop=%{marker.size}<extra></extra>",
           "hovertext": [
            "Yemen"
           ],
           "ids": [
            "Yemen"
           ],
           "legendgroup": "Yemen",
           "marker": {
            "color": "#00cc96",
            "size": [
             14900000
            ],
            "sizemode": "area",
            "sizeref": 17187.5,
            "symbol": "circle"
           },
           "mode": "markers",
           "name": "Yemen",
           "orientation": "v",
           "showlegend": true,
           "type": "scatter",
           "x": [
            4440
           ],
           "xaxis": "x",
           "y": [
            61.1
           ],
           "yaxis": "y"
          },
          {
           "hovertemplate": "<b>%{hovertext}</b><br><br>country=Syria<br>year=1995<br>gdp=%{x}<br>life exp=%{y}<br>pop=%{marker.size}<extra></extra>",
           "hovertext": [
            "Syria"
           ],
           "ids": [
            "Syria"
           ],
           "legendgroup": "Syria",
           "marker": {
            "color": "#ab63fa",
            "size": [
             14300000
            ],
            "sizemode": "area",
            "sizeref": 17187.5,
            "symbol": "circle"
           },
           "mode": "markers",
           "name": "Syria",
           "orientation": "v",
           "showlegend": true,
           "type": "scatter",
           "x": [
            11500
           ],
           "xaxis": "x",
           "y": [
            69.8
           ],
           "yaxis": "y"
          },
          {
           "hovertemplate": "<b>%{hovertext}</b><br><br>country=Turkey<br>year=1995<br>gdp=%{x}<br>life exp=%{y}<br>pop=%{marker.size}<extra></extra>",
           "hovertext": [
            "Turkey"
           ],
           "ids": [
            "Turkey"
           ],
           "legendgroup": "Turkey",
           "marker": {
            "color": "#FFA15A",
            "size": [
             58500000
            ],
            "sizemode": "area",
            "sizeref": 17187.5,
            "symbol": "circle"
           },
           "mode": "markers",
           "name": "Turkey",
           "orientation": "v",
           "showlegend": true,
           "type": "scatter",
           "x": [
            13600
           ],
           "xaxis": "x",
           "y": [
            70.8
           ],
           "yaxis": "y"
          },
          {
           "hovertemplate": "<b>%{hovertext}</b><br><br>country=Bahrain<br>year=1995<br>gdp=%{x}<br>life exp=%{y}<br>pop=%{marker.size}<extra></extra>",
           "hovertext": [
            "Bahrain"
           ],
           "ids": [
            "Bahrain"
           ],
           "legendgroup": "Bahrain",
           "marker": {
            "color": "#19d3f3",
            "size": [
             564000
            ],
            "sizemode": "area",
            "sizeref": 17187.5,
            "symbol": "circle"
           },
           "mode": "markers",
           "name": "Bahrain",
           "orientation": "v",
           "showlegend": true,
           "type": "scatter",
           "x": [
            47200
           ],
           "xaxis": "x",
           "y": [
            70.5
           ],
           "yaxis": "y"
          },
          {
           "hovertemplate": "<b>%{hovertext}</b><br><br>country=United Arab Emirates<br>year=1995<br>gdp=%{x}<br>life exp=%{y}<br>pop=%{marker.size}<extra></extra>",
           "hovertext": [
            "United Arab Emirates"
           ],
           "ids": [
            "United Arab Emirates"
           ],
           "legendgroup": "United Arab Emirates",
           "marker": {
            "color": "#FF6692",
            "size": [
             2420000
            ],
            "sizemode": "area",
            "sizeref": 17187.5,
            "symbol": "circle"
           },
           "mode": "markers",
           "name": "United Arab Emirates",
           "orientation": "v",
           "showlegend": true,
           "type": "scatter",
           "x": [
            56200
           ],
           "xaxis": "x",
           "y": [
            68.8
           ],
           "yaxis": "y"
          },
          {
           "hovertemplate": "<b>%{hovertext}</b><br><br>country=Qatar<br>year=1995<br>gdp=%{x}<br>life exp=%{y}<br>pop=%{marker.size}<extra></extra>",
           "hovertext": [
            "Qatar"
           ],
           "ids": [
            "Qatar"
           ],
           "legendgroup": "Qatar",
           "marker": {
            "color": "#B6E880",
            "size": [
             513000
            ],
            "sizemode": "area",
            "sizeref": 17187.5,
            "symbol": "circle"
           },
           "mode": "markers",
           "name": "Qatar",
           "orientation": "v",
           "showlegend": true,
           "type": "scatter",
           "x": [
            61200
           ],
           "xaxis": "x",
           "y": [
            71.8
           ],
           "yaxis": "y"
          },
          {
           "hovertemplate": "<b>%{hovertext}</b><br><br>country=Jordan<br>year=1995<br>gdp=%{x}<br>life exp=%{y}<br>pop=%{marker.size}<extra></extra>",
           "hovertext": [
            "Jordan"
           ],
           "ids": [
            "Jordan"
           ],
           "legendgroup": "Jordan",
           "marker": {
            "color": "#FF97FF",
            "size": [
             4590000
            ],
            "sizemode": "area",
            "sizeref": 17187.5,
            "symbol": "circle"
           },
           "mode": "markers",
           "name": "Jordan",
           "orientation": "v",
           "showlegend": true,
           "type": "scatter",
           "x": [
            8330
           ],
           "xaxis": "x",
           "y": [
            71.8
           ],
           "yaxis": "y"
          },
          {
           "hovertemplate": "<b>%{hovertext}</b><br><br>country=Kuwait<br>year=1995<br>gdp=%{x}<br>life exp=%{y}<br>pop=%{marker.size}<extra></extra>",
           "hovertext": [
            "Kuwait"
           ],
           "ids": [
            "Kuwait"
           ],
           "legendgroup": "Kuwait",
           "marker": {
            "color": "#FECB52",
            "size": [
             1610000
            ],
            "sizemode": "area",
            "sizeref": 17187.5,
            "symbol": "circle"
           },
           "mode": "markers",
           "name": "Kuwait",
           "orientation": "v",
           "showlegend": true,
           "type": "scatter",
           "x": [
            63700
           ],
           "xaxis": "x",
           "y": [
            78.3
           ],
           "yaxis": "y"
          },
          {
           "hovertemplate": "<b>%{hovertext}</b><br><br>country=Israel<br>year=1995<br>gdp=%{x}<br>life exp=%{y}<br>pop=%{marker.size}<extra></extra>",
           "hovertext": [
            "Israel"
           ],
           "ids": [
            "Israel"
           ],
           "legendgroup": "Israel",
           "marker": {
            "color": "#636efa",
            "size": [
             5270000
            ],
            "sizemode": "area",
            "sizeref": 17187.5,
            "symbol": "circle"
           },
           "mode": "markers",
           "name": "Israel",
           "orientation": "v",
           "showlegend": true,
           "type": "scatter",
           "x": [
            26200
           ],
           "xaxis": "x",
           "y": [
            77.8
           ],
           "yaxis": "y"
          },
          {
           "hovertemplate": "<b>%{hovertext}</b><br><br>country=Saudi Arabia<br>year=1995<br>gdp=%{x}<br>life exp=%{y}<br>pop=%{marker.size}<extra></extra>",
           "hovertext": [
            "Saudi Arabia"
           ],
           "ids": [
            "Saudi Arabia"
           ],
           "legendgroup": "Saudi Arabia",
           "marker": {
            "color": "#EF553B",
            "size": [
             18600000
            ],
            "sizemode": "area",
            "sizeref": 17187.5,
            "symbol": "circle"
           },
           "mode": "markers",
           "name": "Saudi Arabia",
           "orientation": "v",
           "showlegend": true,
           "type": "scatter",
           "x": [
            22300
           ],
           "xaxis": "x",
           "y": [
            69.4
           ],
           "yaxis": "y"
          },
          {
           "hovertemplate": "<b>%{hovertext}</b><br><br>country=Oman<br>year=1995<br>gdp=%{x}<br>life exp=%{y}<br>pop=%{marker.size}<extra></extra>",
           "hovertext": [
            "Oman"
           ],
           "ids": [
            "Oman"
           ],
           "legendgroup": "Oman",
           "marker": {
            "color": "#00cc96",
            "size": [
             2200000
            ],
            "sizemode": "area",
            "sizeref": 17187.5,
            "symbol": "circle"
           },
           "mode": "markers",
           "name": "Oman",
           "orientation": "v",
           "showlegend": true,
           "type": "scatter",
           "x": [
            33200
           ],
           "xaxis": "x",
           "y": [
            67.9
           ],
           "yaxis": "y"
          },
          {
           "hovertemplate": "<b>%{hovertext}</b><br><br>country=Palestine<br>year=1995<br>gdp=%{x}<br>life exp=%{y}<br>pop=%{marker.size}<extra></extra>",
           "hovertext": [
            "Palestine"
           ],
           "ids": [
            "Palestine"
           ],
           "legendgroup": "Palestine",
           "marker": {
            "color": "#ab63fa",
            "size": [
             2620000
            ],
            "sizemode": "area",
            "sizeref": 17187.5,
            "symbol": "circle"
           },
           "mode": "markers",
           "name": "Palestine",
           "orientation": "v",
           "showlegend": true,
           "type": "scatter",
           "x": [
            4050
           ],
           "xaxis": "x",
           "y": [
            70.9
           ],
           "yaxis": "y"
          },
          {
           "hovertemplate": "<b>%{hovertext}</b><br><br>country=Egypt<br>year=1995<br>gdp=%{x}<br>life exp=%{y}<br>pop=%{marker.size}<extra></extra>",
           "hovertext": [
            "Egypt"
           ],
           "ids": [
            "Egypt"
           ],
           "legendgroup": "Egypt",
           "marker": {
            "color": "#FFA15A",
            "size": [
             62300000
            ],
            "sizemode": "area",
            "sizeref": 17187.5,
            "symbol": "circle"
           },
           "mode": "markers",
           "name": "Egypt",
           "orientation": "v",
           "showlegend": true,
           "type": "scatter",
           "x": [
            6480
           ],
           "xaxis": "x",
           "y": [
            66.4
           ],
           "yaxis": "y"
          }
         ],
         "name": "1995"
        },
        {
         "data": [
          {
           "hovertemplate": "<b>%{hovertext}</b><br><br>country=Iran<br>year=1996<br>gdp=%{x}<br>life exp=%{y}<br>pop=%{marker.size}<extra></extra>",
           "hovertext": [
            "Iran"
           ],
           "ids": [
            "Iran"
           ],
           "legendgroup": "Iran",
           "marker": {
            "color": "#636efa",
            "size": [
             62300000
            ],
            "sizemode": "area",
            "sizeref": 17187.5,
            "symbol": "circle"
           },
           "mode": "markers",
           "name": "Iran",
           "orientation": "v",
           "showlegend": true,
           "type": "scatter",
           "x": [
            9670
           ],
           "xaxis": "x",
           "y": [
            70.7
           ],
           "yaxis": "y"
          },
          {
           "hovertemplate": "<b>%{hovertext}</b><br><br>country=Iraq<br>year=1996<br>gdp=%{x}<br>life exp=%{y}<br>pop=%{marker.size}<extra></extra>",
           "hovertext": [
            "Iraq"
           ],
           "ids": [
            "Iraq"
           ],
           "legendgroup": "Iraq",
           "marker": {
            "color": "#EF553B",
            "size": [
             20800000
            ],
            "sizemode": "area",
            "sizeref": 17187.5,
            "symbol": "circle"
           },
           "mode": "markers",
           "name": "Iraq",
           "orientation": "v",
           "showlegend": true,
           "type": "scatter",
           "x": [
            2720
           ],
           "xaxis": "x",
           "y": [
            67.3
           ],
           "yaxis": "y"
          },
          {
           "hovertemplate": "<b>%{hovertext}</b><br><br>country=Yemen<br>year=1996<br>gdp=%{x}<br>life exp=%{y}<br>pop=%{marker.size}<extra></extra>",
           "hovertext": [
            "Yemen"
           ],
           "ids": [
            "Yemen"
           ],
           "legendgroup": "Yemen",
           "marker": {
            "color": "#00cc96",
            "size": [
             15500000
            ],
            "sizemode": "area",
            "sizeref": 17187.5,
            "symbol": "circle"
           },
           "mode": "markers",
           "name": "Yemen",
           "orientation": "v",
           "showlegend": true,
           "type": "scatter",
           "x": [
            4480
           ],
           "xaxis": "x",
           "y": [
            61.5
           ],
           "yaxis": "y"
          },
          {
           "hovertemplate": "<b>%{hovertext}</b><br><br>country=Syria<br>year=1996<br>gdp=%{x}<br>life exp=%{y}<br>pop=%{marker.size}<extra></extra>",
           "hovertext": [
            "Syria"
           ],
           "ids": [
            "Syria"
           ],
           "legendgroup": "Syria",
           "marker": {
            "color": "#ab63fa",
            "size": [
             14800000
            ],
            "sizemode": "area",
            "sizeref": 17187.5,
            "symbol": "circle"
           },
           "mode": "markers",
           "name": "Syria",
           "orientation": "v",
           "showlegend": true,
           "type": "scatter",
           "x": [
            11100
           ],
           "xaxis": "x",
           "y": [
            70.1
           ],
           "yaxis": "y"
          },
          {
           "hovertemplate": "<b>%{hovertext}</b><br><br>country=Turkey<br>year=1996<br>gdp=%{x}<br>life exp=%{y}<br>pop=%{marker.size}<extra></extra>",
           "hovertext": [
            "Turkey"
           ],
           "ids": [
            "Turkey"
           ],
           "legendgroup": "Turkey",
           "marker": {
            "color": "#FFA15A",
            "size": [
             59400000
            ],
            "sizemode": "area",
            "sizeref": 17187.5,
            "symbol": "circle"
           },
           "mode": "markers",
           "name": "Turkey",
           "orientation": "v",
           "showlegend": true,
           "type": "scatter",
           "x": [
            14400
           ],
           "xaxis": "x",
           "y": [
            71.5
           ],
           "yaxis": "y"
          },
          {
           "hovertemplate": "<b>%{hovertext}</b><br><br>country=Bahrain<br>year=1996<br>gdp=%{x}<br>life exp=%{y}<br>pop=%{marker.size}<extra></extra>",
           "hovertext": [
            "Bahrain"
           ],
           "ids": [
            "Bahrain"
           ],
           "legendgroup": "Bahrain",
           "marker": {
            "color": "#19d3f3",
            "size": [
             579000
            ],
            "sizemode": "area",
            "sizeref": 17187.5,
            "symbol": "circle"
           },
           "mode": "markers",
           "name": "Bahrain",
           "orientation": "v",
           "showlegend": true,
           "type": "scatter",
           "x": [
            47800
           ],
           "xaxis": "x",
           "y": [
            70.7
           ],
           "yaxis": "y"
          },
          {
           "hovertemplate": "<b>%{hovertext}</b><br><br>country=United Arab Emirates<br>year=1996<br>gdp=%{x}<br>life exp=%{y}<br>pop=%{marker.size}<extra></extra>",
           "hovertext": [
            "United Arab Emirates"
           ],
           "ids": [
            "United Arab Emirates"
           ],
           "legendgroup": "United Arab Emirates",
           "marker": {
            "color": "#FF6692",
            "size": [
             2540000
            ],
            "sizemode": "area",
            "sizeref": 17187.5,
            "symbol": "circle"
           },
           "mode": "markers",
           "name": "United Arab Emirates",
           "orientation": "v",
           "showlegend": true,
           "type": "scatter",
           "x": [
            58600
           ],
           "xaxis": "x",
           "y": [
            68.9
           ],
           "yaxis": "y"
          },
          {
           "hovertemplate": "<b>%{hovertext}</b><br><br>country=Qatar<br>year=1996<br>gdp=%{x}<br>life exp=%{y}<br>pop=%{marker.size}<extra></extra>",
           "hovertext": [
            "Qatar"
           ],
           "ids": [
            "Qatar"
           ],
           "legendgroup": "Qatar",
           "marker": {
            "color": "#B6E880",
            "size": [
             523000
            ],
            "sizemode": "area",
            "sizeref": 17187.5,
            "symbol": "circle"
           },
           "mode": "markers",
           "name": "Qatar",
           "orientation": "v",
           "showlegend": true,
           "type": "scatter",
           "x": [
            62300
           ],
           "xaxis": "x",
           "y": [
            70.6
           ],
           "yaxis": "y"
          },
          {
           "hovertemplate": "<b>%{hovertext}</b><br><br>country=Jordan<br>year=1996<br>gdp=%{x}<br>life exp=%{y}<br>pop=%{marker.size}<extra></extra>",
           "hovertext": [
            "Jordan"
           ],
           "ids": [
            "Jordan"
           ],
           "legendgroup": "Jordan",
           "marker": {
            "color": "#FF97FF",
            "size": [
             4730000
            ],
            "sizemode": "area",
            "sizeref": 17187.5,
            "symbol": "circle"
           },
           "mode": "markers",
           "name": "Jordan",
           "orientation": "v",
           "showlegend": true,
           "type": "scatter",
           "x": [
            8250
           ],
           "xaxis": "x",
           "y": [
            71.8
           ],
           "yaxis": "y"
          },
          {
           "hovertemplate": "<b>%{hovertext}</b><br><br>country=Kuwait<br>year=1996<br>gdp=%{x}<br>life exp=%{y}<br>pop=%{marker.size}<extra></extra>",
           "hovertext": [
            "Kuwait"
           ],
           "ids": [
            "Kuwait"
           ],
           "legendgroup": "Kuwait",
           "marker": {
            "color": "#FECB52",
            "size": [
             1630000
            ],
            "sizemode": "area",
            "sizeref": 17187.5,
            "symbol": "circle"
           },
           "mode": "markers",
           "name": "Kuwait",
           "orientation": "v",
           "showlegend": true,
           "type": "scatter",
           "x": [
            63300
           ],
           "xaxis": "x",
           "y": [
            78.8
           ],
           "yaxis": "y"
          },
          {
           "hovertemplate": "<b>%{hovertext}</b><br><br>country=Israel<br>year=1996<br>gdp=%{x}<br>life exp=%{y}<br>pop=%{marker.size}<extra></extra>",
           "hovertext": [
            "Israel"
           ],
           "ids": [
            "Israel"
           ],
           "legendgroup": "Israel",
           "marker": {
            "color": "#636efa",
            "size": [
             5420000
            ],
            "sizemode": "area",
            "sizeref": 17187.5,
            "symbol": "circle"
           },
           "mode": "markers",
           "name": "Israel",
           "orientation": "v",
           "showlegend": true,
           "type": "scatter",
           "x": [
            27100
           ],
           "xaxis": "x",
           "y": [
            78
           ],
           "yaxis": "y"
          },
          {
           "hovertemplate": "<b>%{hovertext}</b><br><br>country=Saudi Arabia<br>year=1996<br>gdp=%{x}<br>life exp=%{y}<br>pop=%{marker.size}<extra></extra>",
           "hovertext": [
            "Saudi Arabia"
           ],
           "ids": [
            "Saudi Arabia"
           ],
           "legendgroup": "Saudi Arabia",
           "marker": {
            "color": "#EF553B",
            "size": [
             19000000
            ],
            "sizemode": "area",
            "sizeref": 17187.5,
            "symbol": "circle"
           },
           "mode": "markers",
           "name": "Saudi Arabia",
           "orientation": "v",
           "showlegend": true,
           "type": "scatter",
           "x": [
            23600
           ],
           "xaxis": "x",
           "y": [
            69.6
           ],
           "yaxis": "y"
          },
          {
           "hovertemplate": "<b>%{hovertext}</b><br><br>country=Oman<br>year=1996<br>gdp=%{x}<br>life exp=%{y}<br>pop=%{marker.size}<extra></extra>",
           "hovertext": [
            "Oman"
           ],
           "ids": [
            "Oman"
           ],
           "legendgroup": "Oman",
           "marker": {
            "color": "#00cc96",
            "size": [
             2240000
            ],
            "sizemode": "area",
            "sizeref": 17187.5,
            "symbol": "circle"
           },
           "mode": "markers",
           "name": "Oman",
           "orientation": "v",
           "showlegend": true,
           "type": "scatter",
           "x": [
            33700
           ],
           "xaxis": "x",
           "y": [
            68.1
           ],
           "yaxis": "y"
          },
          {
           "hovertemplate": "<b>%{hovertext}</b><br><br>country=Palestine<br>year=1996<br>gdp=%{x}<br>life exp=%{y}<br>pop=%{marker.size}<extra></extra>",
           "hovertext": [
            "Palestine"
           ],
           "ids": [
            "Palestine"
           ],
           "legendgroup": "Palestine",
           "marker": {
            "color": "#ab63fa",
            "size": [
             2740000
            ],
            "sizemode": "area",
            "sizeref": 17187.5,
            "symbol": "circle"
           },
           "mode": "markers",
           "name": "Palestine",
           "orientation": "v",
           "showlegend": true,
           "type": "scatter",
           "x": [
            3920
           ],
           "xaxis": "x",
           "y": [
            71.2
           ],
           "yaxis": "y"
          },
          {
           "hovertemplate": "<b>%{hovertext}</b><br><br>country=Egypt<br>year=1996<br>gdp=%{x}<br>life exp=%{y}<br>pop=%{marker.size}<extra></extra>",
           "hovertext": [
            "Egypt"
           ],
           "ids": [
            "Egypt"
           ],
           "legendgroup": "Egypt",
           "marker": {
            "color": "#FFA15A",
            "size": [
             63600000
            ],
            "sizemode": "area",
            "sizeref": 17187.5,
            "symbol": "circle"
           },
           "mode": "markers",
           "name": "Egypt",
           "orientation": "v",
           "showlegend": true,
           "type": "scatter",
           "x": [
            6670
           ],
           "xaxis": "x",
           "y": [
            66.9
           ],
           "yaxis": "y"
          }
         ],
         "name": "1996"
        },
        {
         "data": [
          {
           "hovertemplate": "<b>%{hovertext}</b><br><br>country=Iran<br>year=1997<br>gdp=%{x}<br>life exp=%{y}<br>pop=%{marker.size}<extra></extra>",
           "hovertext": [
            "Iran"
           ],
           "ids": [
            "Iran"
           ],
           "legendgroup": "Iran",
           "marker": {
            "color": "#636efa",
            "size": [
             63100000
            ],
            "sizemode": "area",
            "sizeref": 17187.5,
            "symbol": "circle"
           },
           "mode": "markers",
           "name": "Iran",
           "orientation": "v",
           "showlegend": true,
           "type": "scatter",
           "x": [
            9590
           ],
           "xaxis": "x",
           "y": [
            70.9
           ],
           "yaxis": "y"
          },
          {
           "hovertemplate": "<b>%{hovertext}</b><br><br>country=Iraq<br>year=1997<br>gdp=%{x}<br>life exp=%{y}<br>pop=%{marker.size}<extra></extra>",
           "hovertext": [
            "Iraq"
           ],
           "ids": [
            "Iraq"
           ],
           "legendgroup": "Iraq",
           "marker": {
            "color": "#EF553B",
            "size": [
             21400000
            ],
            "sizemode": "area",
            "sizeref": 17187.5,
            "symbol": "circle"
           },
           "mode": "markers",
           "name": "Iraq",
           "orientation": "v",
           "showlegend": true,
           "type": "scatter",
           "x": [
            2720
           ],
           "xaxis": "x",
           "y": [
            67.5
           ],
           "yaxis": "y"
          },
          {
           "hovertemplate": "<b>%{hovertext}</b><br><br>country=Yemen<br>year=1997<br>gdp=%{x}<br>life exp=%{y}<br>pop=%{marker.size}<extra></extra>",
           "hovertext": [
            "Yemen"
           ],
           "ids": [
            "Yemen"
           ],
           "legendgroup": "Yemen",
           "marker": {
            "color": "#00cc96",
            "size": [
             16000000
            ],
            "sizemode": "area",
            "sizeref": 17187.5,
            "symbol": "circle"
           },
           "mode": "markers",
           "name": "Yemen",
           "orientation": "v",
           "showlegend": true,
           "type": "scatter",
           "x": [
            4570
           ],
           "xaxis": "x",
           "y": [
            62
           ],
           "yaxis": "y"
          },
          {
           "hovertemplate": "<b>%{hovertext}</b><br><br>country=Syria<br>year=1997<br>gdp=%{x}<br>life exp=%{y}<br>pop=%{marker.size}<extra></extra>",
           "hovertext": [
            "Syria"
           ],
           "ids": [
            "Syria"
           ],
           "legendgroup": "Syria",
           "marker": {
            "color": "#ab63fa",
            "size": [
             15200000
            ],
            "sizemode": "area",
            "sizeref": 17187.5,
            "symbol": "circle"
           },
           "mode": "markers",
           "name": "Syria",
           "orientation": "v",
           "showlegend": true,
           "type": "scatter",
           "x": [
            10300
           ],
           "xaxis": "x",
           "y": [
            70.4
           ],
           "yaxis": "y"
          },
          {
           "hovertemplate": "<b>%{hovertext}</b><br><br>country=Turkey<br>year=1997<br>gdp=%{x}<br>life exp=%{y}<br>pop=%{marker.size}<extra></extra>",
           "hovertext": [
            "Turkey"
           ],
           "ids": [
            "Turkey"
           ],
           "legendgroup": "Turkey",
           "marker": {
            "color": "#FFA15A",
            "size": [
             60400000
            ],
            "sizemode": "area",
            "sizeref": 17187.5,
            "symbol": "circle"
           },
           "mode": "markers",
           "name": "Turkey",
           "orientation": "v",
           "showlegend": true,
           "type": "scatter",
           "x": [
            15300
           ],
           "xaxis": "x",
           "y": [
            72
           ],
           "yaxis": "y"
          },
          {
           "hovertemplate": "<b>%{hovertext}</b><br><br>country=Bahrain<br>year=1997<br>gdp=%{x}<br>life exp=%{y}<br>pop=%{marker.size}<extra></extra>",
           "hovertext": [
            "Bahrain"
           ],
           "ids": [
            "Bahrain"
           ],
           "legendgroup": "Bahrain",
           "marker": {
            "color": "#19d3f3",
            "size": [
             595000
            ],
            "sizemode": "area",
            "sizeref": 17187.5,
            "symbol": "circle"
           },
           "mode": "markers",
           "name": "Bahrain",
           "orientation": "v",
           "showlegend": true,
           "type": "scatter",
           "x": [
            48000
           ],
           "xaxis": "x",
           "y": [
            70.9
           ],
           "yaxis": "y"
          },
          {
           "hovertemplate": "<b>%{hovertext}</b><br><br>country=United Arab Emirates<br>year=1997<br>gdp=%{x}<br>life exp=%{y}<br>pop=%{marker.size}<extra></extra>",
           "hovertext": [
            "United Arab Emirates"
           ],
           "ids": [
            "United Arab Emirates"
           ],
           "legendgroup": "United Arab Emirates",
           "marker": {
            "color": "#FF6692",
            "size": [
             2670000
            ],
            "sizemode": "area",
            "sizeref": 17187.5,
            "symbol": "circle"
           },
           "mode": "markers",
           "name": "United Arab Emirates",
           "orientation": "v",
           "showlegend": true,
           "type": "scatter",
           "x": [
            62800
           ],
           "xaxis": "x",
           "y": [
            69
           ],
           "yaxis": "y"
          },
          {
           "hovertemplate": "<b>%{hovertext}</b><br><br>country=Qatar<br>year=1997<br>gdp=%{x}<br>life exp=%{y}<br>pop=%{marker.size}<extra></extra>",
           "hovertext": [
            "Qatar"
           ],
           "ids": [
            "Qatar"
           ],
           "legendgroup": "Qatar",
           "marker": {
            "color": "#B6E880",
            "size": [
             535000
            ],
            "sizemode": "area",
            "sizeref": 17187.5,
            "symbol": "circle"
           },
           "mode": "markers",
           "name": "Qatar",
           "orientation": "v",
           "showlegend": true,
           "type": "scatter",
           "x": [
            78400
           ],
           "xaxis": "x",
           "y": [
            70.1
           ],
           "yaxis": "y"
          },
          {
           "hovertemplate": "<b>%{hovertext}</b><br><br>country=Jordan<br>year=1997<br>gdp=%{x}<br>life exp=%{y}<br>pop=%{marker.size}<extra></extra>",
           "hovertext": [
            "Jordan"
           ],
           "ids": [
            "Jordan"
           ],
           "legendgroup": "Jordan",
           "marker": {
            "color": "#FF97FF",
            "size": [
             4850000
            ],
            "sizemode": "area",
            "sizeref": 17187.5,
            "symbol": "circle"
           },
           "mode": "markers",
           "name": "Jordan",
           "orientation": "v",
           "showlegend": true,
           "type": "scatter",
           "x": [
            8320
           ],
           "xaxis": "x",
           "y": [
            72
           ],
           "yaxis": "y"
          },
          {
           "hovertemplate": "<b>%{hovertext}</b><br><br>country=Kuwait<br>year=1997<br>gdp=%{x}<br>life exp=%{y}<br>pop=%{marker.size}<extra></extra>",
           "hovertext": [
            "Kuwait"
           ],
           "ids": [
            "Kuwait"
           ],
           "legendgroup": "Kuwait",
           "marker": {
            "color": "#FECB52",
            "size": [
             1710000
            ],
            "sizemode": "area",
            "sizeref": 17187.5,
            "symbol": "circle"
           },
           "mode": "markers",
           "name": "Kuwait",
           "orientation": "v",
           "showlegend": true,
           "type": "scatter",
           "x": [
            61700
           ],
           "xaxis": "x",
           "y": [
            77.8
           ],
           "yaxis": "y"
          },
          {
           "hovertemplate": "<b>%{hovertext}</b><br><br>country=Israel<br>year=1997<br>gdp=%{x}<br>life exp=%{y}<br>pop=%{marker.size}<extra></extra>",
           "hovertext": [
            "Israel"
           ],
           "ids": [
            "Israel"
           ],
           "legendgroup": "Israel",
           "marker": {
            "color": "#636efa",
            "size": [
             5570000
            ],
            "sizemode": "area",
            "sizeref": 17187.5,
            "symbol": "circle"
           },
           "mode": "markers",
           "name": "Israel",
           "orientation": "v",
           "showlegend": true,
           "type": "scatter",
           "x": [
            27500
           ],
           "xaxis": "x",
           "y": [
            78.2
           ],
           "yaxis": "y"
          },
          {
           "hovertemplate": "<b>%{hovertext}</b><br><br>country=Saudi Arabia<br>year=1997<br>gdp=%{x}<br>life exp=%{y}<br>pop=%{marker.size}<extra></extra>",
           "hovertext": [
            "Saudi Arabia"
           ],
           "ids": [
            "Saudi Arabia"
           ],
           "legendgroup": "Saudi Arabia",
           "marker": {
            "color": "#EF553B",
            "size": [
             19400000
            ],
            "sizemode": "area",
            "sizeref": 17187.5,
            "symbol": "circle"
           },
           "mode": "markers",
           "name": "Saudi Arabia",
           "orientation": "v",
           "showlegend": true,
           "type": "scatter",
           "x": [
            24500
           ],
           "xaxis": "x",
           "y": [
            69.8
           ],
           "yaxis": "y"
          },
          {
           "hovertemplate": "<b>%{hovertext}</b><br><br>country=Oman<br>year=1997<br>gdp=%{x}<br>life exp=%{y}<br>pop=%{marker.size}<extra></extra>",
           "hovertext": [
            "Oman"
           ],
           "ids": [
            "Oman"
           ],
           "legendgroup": "Oman",
           "marker": {
            "color": "#00cc96",
            "size": [
             2250000
            ],
            "sizemode": "area",
            "sizeref": 17187.5,
            "symbol": "circle"
           },
           "mode": "markers",
           "name": "Oman",
           "orientation": "v",
           "showlegend": true,
           "type": "scatter",
           "x": [
            35500
           ],
           "xaxis": "x",
           "y": [
            68.4
           ],
           "yaxis": "y"
          },
          {
           "hovertemplate": "<b>%{hovertext}</b><br><br>country=Palestine<br>year=1997<br>gdp=%{x}<br>life exp=%{y}<br>pop=%{marker.size}<extra></extra>",
           "hovertext": [
            "Palestine"
           ],
           "ids": [
            "Palestine"
           ],
           "legendgroup": "Palestine",
           "marker": {
            "color": "#ab63fa",
            "size": [
             2870000
            ],
            "sizemode": "area",
            "sizeref": 17187.5,
            "symbol": "circle"
           },
           "mode": "markers",
           "name": "Palestine",
           "orientation": "v",
           "showlegend": true,
           "type": "scatter",
           "x": [
            4300
           ],
           "xaxis": "x",
           "y": [
            71.4
           ],
           "yaxis": "y"
          },
          {
           "hovertemplate": "<b>%{hovertext}</b><br><br>country=Egypt<br>year=1997<br>gdp=%{x}<br>life exp=%{y}<br>pop=%{marker.size}<extra></extra>",
           "hovertext": [
            "Egypt"
           ],
           "ids": [
            "Egypt"
           ],
           "legendgroup": "Egypt",
           "marker": {
            "color": "#FFA15A",
            "size": [
             64900000.00000001
            ],
            "sizemode": "area",
            "sizeref": 17187.5,
            "symbol": "circle"
           },
           "mode": "markers",
           "name": "Egypt",
           "orientation": "v",
           "showlegend": true,
           "type": "scatter",
           "x": [
            6900
           ],
           "xaxis": "x",
           "y": [
            67.2
           ],
           "yaxis": "y"
          }
         ],
         "name": "1997"
        },
        {
         "data": [
          {
           "hovertemplate": "<b>%{hovertext}</b><br><br>country=Iran<br>year=1998<br>gdp=%{x}<br>life exp=%{y}<br>pop=%{marker.size}<extra></extra>",
           "hovertext": [
            "Iran"
           ],
           "ids": [
            "Iran"
           ],
           "legendgroup": "Iran",
           "marker": {
            "color": "#636efa",
            "size": [
             64000000
            ],
            "sizemode": "area",
            "sizeref": 17187.5,
            "symbol": "circle"
           },
           "mode": "markers",
           "name": "Iran",
           "orientation": "v",
           "showlegend": true,
           "type": "scatter",
           "x": [
            9670
           ],
           "xaxis": "x",
           "y": [
            71.3
           ],
           "yaxis": "y"
          },
          {
           "hovertemplate": "<b>%{hovertext}</b><br><br>country=Iraq<br>year=1998<br>gdp=%{x}<br>life exp=%{y}<br>pop=%{marker.size}<extra></extra>",
           "hovertext": [
            "Iraq"
           ],
           "ids": [
            "Iraq"
           ],
           "legendgroup": "Iraq",
           "marker": {
            "color": "#EF553B",
            "size": [
             22100000
            ],
            "sizemode": "area",
            "sizeref": 17187.5,
            "symbol": "circle"
           },
           "mode": "markers",
           "name": "Iraq",
           "orientation": "v",
           "showlegend": true,
           "type": "scatter",
           "x": [
            3250
           ],
           "xaxis": "x",
           "y": [
            67.9
           ],
           "yaxis": "y"
          },
          {
           "hovertemplate": "<b>%{hovertext}</b><br><br>country=Yemen<br>year=1998<br>gdp=%{x}<br>life exp=%{y}<br>pop=%{marker.size}<extra></extra>",
           "hovertext": [
            "Yemen"
           ],
           "ids": [
            "Yemen"
           ],
           "legendgroup": "Yemen",
           "marker": {
            "color": "#00cc96",
            "size": [
             16500000
            ],
            "sizemode": "area",
            "sizeref": 17187.5,
            "symbol": "circle"
           },
           "mode": "markers",
           "name": "Yemen",
           "orientation": "v",
           "showlegend": true,
           "type": "scatter",
           "x": [
            4700
           ],
           "xaxis": "x",
           "y": [
            62.5
           ],
           "yaxis": "y"
          },
          {
           "hovertemplate": "<b>%{hovertext}</b><br><br>country=Syria<br>year=1998<br>gdp=%{x}<br>life exp=%{y}<br>pop=%{marker.size}<extra></extra>",
           "hovertext": [
            "Syria"
           ],
           "ids": [
            "Syria"
           ],
           "legendgroup": "Syria",
           "marker": {
            "color": "#ab63fa",
            "size": [
             15600000
            ],
            "sizemode": "area",
            "sizeref": 17187.5,
            "symbol": "circle"
           },
           "mode": "markers",
           "name": "Syria",
           "orientation": "v",
           "showlegend": true,
           "type": "scatter",
           "x": [
            10200
           ],
           "xaxis": "x",
           "y": [
            70.4
           ],
           "yaxis": "y"
          },
          {
           "hovertemplate": "<b>%{hovertext}</b><br><br>country=Turkey<br>year=1998<br>gdp=%{x}<br>life exp=%{y}<br>pop=%{marker.size}<extra></extra>",
           "hovertext": [
            "Turkey"
           ],
           "ids": [
            "Turkey"
           ],
           "legendgroup": "Turkey",
           "marker": {
            "color": "#FFA15A",
            "size": [
             61300000
            ],
            "sizemode": "area",
            "sizeref": 17187.5,
            "symbol": "circle"
           },
           "mode": "markers",
           "name": "Turkey",
           "orientation": "v",
           "showlegend": true,
           "type": "scatter",
           "x": [
            15400
           ],
           "xaxis": "x",
           "y": [
            72.7
           ],
           "yaxis": "y"
          },
          {
           "hovertemplate": "<b>%{hovertext}</b><br><br>country=Bahrain<br>year=1998<br>gdp=%{x}<br>life exp=%{y}<br>pop=%{marker.size}<extra></extra>",
           "hovertext": [
            "Bahrain"
           ],
           "ids": [
            "Bahrain"
           ],
           "legendgroup": "Bahrain",
           "marker": {
            "color": "#19d3f3",
            "size": [
             614000
            ],
            "sizemode": "area",
            "sizeref": 17187.5,
            "symbol": "circle"
           },
           "mode": "markers",
           "name": "Bahrain",
           "orientation": "v",
           "showlegend": true,
           "type": "scatter",
           "x": [
            48700
           ],
           "xaxis": "x",
           "y": [
            71
           ],
           "yaxis": "y"
          },
          {
           "hovertemplate": "<b>%{hovertext}</b><br><br>country=United Arab Emirates<br>year=1998<br>gdp=%{x}<br>life exp=%{y}<br>pop=%{marker.size}<extra></extra>",
           "hovertext": [
            "United Arab Emirates"
           ],
           "ids": [
            "United Arab Emirates"
           ],
           "legendgroup": "United Arab Emirates",
           "marker": {
            "color": "#FF6692",
            "size": [
             2810000
            ],
            "sizemode": "area",
            "sizeref": 17187.5,
            "symbol": "circle"
           },
           "mode": "markers",
           "name": "United Arab Emirates",
           "orientation": "v",
           "showlegend": true,
           "type": "scatter",
           "x": [
            62800
           ],
           "xaxis": "x",
           "y": [
            69.2
           ],
           "yaxis": "y"
          },
          {
           "hovertemplate": "<b>%{hovertext}</b><br><br>country=Qatar<br>year=1998<br>gdp=%{x}<br>life exp=%{y}<br>pop=%{marker.size}<extra></extra>",
           "hovertext": [
            "Qatar"
           ],
           "ids": [
            "Qatar"
           ],
           "legendgroup": "Qatar",
           "marker": {
            "color": "#B6E880",
            "size": [
             552000
            ],
            "sizemode": "area",
            "sizeref": 17187.5,
            "symbol": "circle"
           },
           "mode": "markers",
           "name": "Qatar",
           "orientation": "v",
           "showlegend": true,
           "type": "scatter",
           "x": [
            83900
           ],
           "xaxis": "x",
           "y": [
            70.2
           ],
           "yaxis": "y"
          },
          {
           "hovertemplate": "<b>%{hovertext}</b><br><br>country=Jordan<br>year=1998<br>gdp=%{x}<br>life exp=%{y}<br>pop=%{marker.size}<extra></extra>",
           "hovertext": [
            "Jordan"
           ],
           "ids": [
            "Jordan"
           ],
           "legendgroup": "Jordan",
           "marker": {
            "color": "#FF97FF",
            "size": [
             4940000
            ],
            "sizemode": "area",
            "sizeref": 17187.5,
            "symbol": "circle"
           },
           "mode": "markers",
           "name": "Jordan",
           "orientation": "v",
           "showlegend": true,
           "type": "scatter",
           "x": [
            8400
           ],
           "xaxis": "x",
           "y": [
            72.3
           ],
           "yaxis": "y"
          },
          {
           "hovertemplate": "<b>%{hovertext}</b><br><br>country=Kuwait<br>year=1998<br>gdp=%{x}<br>life exp=%{y}<br>pop=%{marker.size}<extra></extra>",
           "hovertext": [
            "Kuwait"
           ],
           "ids": [
            "Kuwait"
           ],
           "legendgroup": "Kuwait",
           "marker": {
            "color": "#FECB52",
            "size": [
             1830000
            ],
            "sizemode": "area",
            "sizeref": 17187.5,
            "symbol": "circle"
           },
           "mode": "markers",
           "name": "Kuwait",
           "orientation": "v",
           "showlegend": true,
           "type": "scatter",
           "x": [
            59700
           ],
           "xaxis": "x",
           "y": [
            78.5
           ],
           "yaxis": "y"
          },
          {
           "hovertemplate": "<b>%{hovertext}</b><br><br>country=Israel<br>year=1998<br>gdp=%{x}<br>life exp=%{y}<br>pop=%{marker.size}<extra></extra>",
           "hovertext": [
            "Israel"
           ],
           "ids": [
            "Israel"
           ],
           "legendgroup": "Israel",
           "marker": {
            "color": "#636efa",
            "size": [
             5700000
            ],
            "sizemode": "area",
            "sizeref": 17187.5,
            "symbol": "circle"
           },
           "mode": "markers",
           "name": "Israel",
           "orientation": "v",
           "showlegend": true,
           "type": "scatter",
           "x": [
            28000
           ],
           "xaxis": "x",
           "y": [
            78.4
           ],
           "yaxis": "y"
          },
          {
           "hovertemplate": "<b>%{hovertext}</b><br><br>country=Saudi Arabia<br>year=1998<br>gdp=%{x}<br>life exp=%{y}<br>pop=%{marker.size}<extra></extra>",
           "hovertext": [
            "Saudi Arabia"
           ],
           "ids": [
            "Saudi Arabia"
           ],
           "legendgroup": "Saudi Arabia",
           "marker": {
            "color": "#EF553B",
            "size": [
             19800000
            ],
            "sizemode": "area",
            "sizeref": 17187.5,
            "symbol": "circle"
           },
           "mode": "markers",
           "name": "Saudi Arabia",
           "orientation": "v",
           "showlegend": true,
           "type": "scatter",
           "x": [
            25900
           ],
           "xaxis": "x",
           "y": [
            70
           ],
           "yaxis": "y"
          },
          {
           "hovertemplate": "<b>%{hovertext}</b><br><br>country=Oman<br>year=1998<br>gdp=%{x}<br>life exp=%{y}<br>pop=%{marker.size}<extra></extra>",
           "hovertext": [
            "Oman"
           ],
           "ids": [
            "Oman"
           ],
           "legendgroup": "Oman",
           "marker": {
            "color": "#00cc96",
            "size": [
             2250000
            ],
            "sizemode": "area",
            "sizeref": 17187.5,
            "symbol": "circle"
           },
           "mode": "markers",
           "name": "Oman",
           "orientation": "v",
           "showlegend": true,
           "type": "scatter",
           "x": [
            36400
           ],
           "xaxis": "x",
           "y": [
            68.6
           ],
           "yaxis": "y"
          },
          {
           "hovertemplate": "<b>%{hovertext}</b><br><br>country=Palestine<br>year=1998<br>gdp=%{x}<br>life exp=%{y}<br>pop=%{marker.size}<extra></extra>",
           "hovertext": [
            "Palestine"
           ],
           "ids": [
            "Palestine"
           ],
           "legendgroup": "Palestine",
           "marker": {
            "color": "#ab63fa",
            "size": [
             3000000
            ],
            "sizemode": "area",
            "sizeref": 17187.5,
            "symbol": "circle"
           },
           "mode": "markers",
           "name": "Palestine",
           "orientation": "v",
           "showlegend": true,
           "type": "scatter",
           "x": [
            4790
           ],
           "xaxis": "x",
           "y": [
            71.7
           ],
           "yaxis": "y"
          },
          {
           "hovertemplate": "<b>%{hovertext}</b><br><br>country=Egypt<br>year=1998<br>gdp=%{x}<br>life exp=%{y}<br>pop=%{marker.size}<extra></extra>",
           "hovertext": [
            "Egypt"
           ],
           "ids": [
            "Egypt"
           ],
           "legendgroup": "Egypt",
           "marker": {
            "color": "#FFA15A",
            "size": [
             66200000
            ],
            "sizemode": "area",
            "sizeref": 17187.5,
            "symbol": "circle"
           },
           "mode": "markers",
           "name": "Egypt",
           "orientation": "v",
           "showlegend": true,
           "type": "scatter",
           "x": [
            7140
           ],
           "xaxis": "x",
           "y": [
            67.5
           ],
           "yaxis": "y"
          }
         ],
         "name": "1998"
        },
        {
         "data": [
          {
           "hovertemplate": "<b>%{hovertext}</b><br><br>country=Iran<br>year=1999<br>gdp=%{x}<br>life exp=%{y}<br>pop=%{marker.size}<extra></extra>",
           "hovertext": [
            "Iran"
           ],
           "ids": [
            "Iran"
           ],
           "legendgroup": "Iran",
           "marker": {
            "color": "#636efa",
            "size": [
             64800000
            ],
            "sizemode": "area",
            "sizeref": 17187.5,
            "symbol": "circle"
           },
           "mode": "markers",
           "name": "Iran",
           "orientation": "v",
           "showlegend": true,
           "type": "scatter",
           "x": [
            9640
           ],
           "xaxis": "x",
           "y": [
            71.6
           ],
           "yaxis": "y"
          },
          {
           "hovertemplate": "<b>%{hovertext}</b><br><br>country=Iraq<br>year=1999<br>gdp=%{x}<br>life exp=%{y}<br>pop=%{marker.size}<extra></extra>",
           "hovertext": [
            "Iraq"
           ],
           "ids": [
            "Iraq"
           ],
           "legendgroup": "Iraq",
           "marker": {
            "color": "#EF553B",
            "size": [
             22800000
            ],
            "sizemode": "area",
            "sizeref": 17187.5,
            "symbol": "circle"
           },
           "mode": "markers",
           "name": "Iraq",
           "orientation": "v",
           "showlegend": true,
           "type": "scatter",
           "x": [
            3670
           ],
           "xaxis": "x",
           "y": [
            68.3
           ],
           "yaxis": "y"
          },
          {
           "hovertemplate": "<b>%{hovertext}</b><br><br>country=Yemen<br>year=1999<br>gdp=%{x}<br>life exp=%{y}<br>pop=%{marker.size}<extra></extra>",
           "hovertext": [
            "Yemen"
           ],
           "ids": [
            "Yemen"
           ],
           "legendgroup": "Yemen",
           "marker": {
            "color": "#00cc96",
            "size": [
             16900000
            ],
            "sizemode": "area",
            "sizeref": 17187.5,
            "symbol": "circle"
           },
           "mode": "markers",
           "name": "Yemen",
           "orientation": "v",
           "showlegend": true,
           "type": "scatter",
           "x": [
            4740
           ],
           "xaxis": "x",
           "y": [
            63
           ],
           "yaxis": "y"
          },
          {
           "hovertemplate": "<b>%{hovertext}</b><br><br>country=Syria<br>year=1999<br>gdp=%{x}<br>life exp=%{y}<br>pop=%{marker.size}<extra></extra>",
           "hovertext": [
            "Syria"
           ],
           "ids": [
            "Syria"
           ],
           "legendgroup": "Syria",
           "marker": {
            "color": "#ab63fa",
            "size": [
             16000000
            ],
            "sizemode": "area",
            "sizeref": 17187.5,
            "symbol": "circle"
           },
           "mode": "markers",
           "name": "Syria",
           "orientation": "v",
           "showlegend": true,
           "type": "scatter",
           "x": [
            9250
           ],
           "xaxis": "x",
           "y": [
            70.9
           ],
           "yaxis": "y"
          },
          {
           "hovertemplate": "<b>%{hovertext}</b><br><br>country=Turkey<br>year=1999<br>gdp=%{x}<br>life exp=%{y}<br>pop=%{marker.size}<extra></extra>",
           "hovertext": [
            "Turkey"
           ],
           "ids": [
            "Turkey"
           ],
           "legendgroup": "Turkey",
           "marker": {
            "color": "#FFA15A",
            "size": [
             62300000
            ],
            "sizemode": "area",
            "sizeref": 17187.5,
            "symbol": "circle"
           },
           "mode": "markers",
           "name": "Turkey",
           "orientation": "v",
           "showlegend": true,
           "type": "scatter",
           "x": [
            14700
           ],
           "xaxis": "x",
           "y": [
            72.8
           ],
           "yaxis": "y"
          },
          {
           "hovertemplate": "<b>%{hovertext}</b><br><br>country=Bahrain<br>year=1999<br>gdp=%{x}<br>life exp=%{y}<br>pop=%{marker.size}<extra></extra>",
           "hovertext": [
            "Bahrain"
           ],
           "ids": [
            "Bahrain"
           ],
           "legendgroup": "Bahrain",
           "marker": {
            "color": "#19d3f3",
            "size": [
             637000
            ],
            "sizemode": "area",
            "sizeref": 17187.5,
            "symbol": "circle"
           },
           "mode": "markers",
           "name": "Bahrain",
           "orientation": "v",
           "showlegend": true,
           "type": "scatter",
           "x": [
            49000
           ],
           "xaxis": "x",
           "y": [
            71.2
           ],
           "yaxis": "y"
          },
          {
           "hovertemplate": "<b>%{hovertext}</b><br><br>country=United Arab Emirates<br>year=1999<br>gdp=%{x}<br>life exp=%{y}<br>pop=%{marker.size}<extra></extra>",
           "hovertext": [
            "United Arab Emirates"
           ],
           "ids": [
            "United Arab Emirates"
           ],
           "legendgroup": "United Arab Emirates",
           "marker": {
            "color": "#FF6692",
            "size": [
             2970000
            ],
            "sizemode": "area",
            "sizeref": 17187.5,
            "symbol": "circle"
           },
           "mode": "markers",
           "name": "United Arab Emirates",
           "orientation": "v",
           "showlegend": true,
           "type": "scatter",
           "x": [
            64599.99999999999
           ],
           "xaxis": "x",
           "y": [
            69.2
           ],
           "yaxis": "y"
          },
          {
           "hovertemplate": "<b>%{hovertext}</b><br><br>country=Qatar<br>year=1999<br>gdp=%{x}<br>life exp=%{y}<br>pop=%{marker.size}<extra></extra>",
           "hovertext": [
            "Qatar"
           ],
           "ids": [
            "Qatar"
           ],
           "legendgroup": "Qatar",
           "marker": {
            "color": "#B6E880",
            "size": [
             570000
            ],
            "sizemode": "area",
            "sizeref": 17187.5,
            "symbol": "circle"
           },
           "mode": "markers",
           "name": "Qatar",
           "orientation": "v",
           "showlegend": true,
           "type": "scatter",
           "x": [
            83900
           ],
           "xaxis": "x",
           "y": [
            70.6
           ],
           "yaxis": "y"
          },
          {
           "hovertemplate": "<b>%{hovertext}</b><br><br>country=Jordan<br>year=1999<br>gdp=%{x}<br>life exp=%{y}<br>pop=%{marker.size}<extra></extra>",
           "hovertext": [
            "Jordan"
           ],
           "ids": [
            "Jordan"
           ],
           "legendgroup": "Jordan",
           "marker": {
            "color": "#FF97FF",
            "size": [
             5030000
            ],
            "sizemode": "area",
            "sizeref": 17187.5,
            "symbol": "circle"
           },
           "mode": "markers",
           "name": "Jordan",
           "orientation": "v",
           "showlegend": true,
           "type": "scatter",
           "x": [
            8540
           ],
           "xaxis": "x",
           "y": [
            72.5
           ],
           "yaxis": "y"
          },
          {
           "hovertemplate": "<b>%{hovertext}</b><br><br>country=Kuwait<br>year=1999<br>gdp=%{x}<br>life exp=%{y}<br>pop=%{marker.size}<extra></extra>",
           "hovertext": [
            "Kuwait"
           ],
           "ids": [
            "Kuwait"
           ],
           "legendgroup": "Kuwait",
           "marker": {
            "color": "#FECB52",
            "size": [
             1950000
            ],
            "sizemode": "area",
            "sizeref": 17187.5,
            "symbol": "circle"
           },
           "mode": "markers",
           "name": "Kuwait",
           "orientation": "v",
           "showlegend": true,
           "type": "scatter",
           "x": [
            55000
           ],
           "xaxis": "x",
           "y": [
            77.8
           ],
           "yaxis": "y"
          },
          {
           "hovertemplate": "<b>%{hovertext}</b><br><br>country=Israel<br>year=1999<br>gdp=%{x}<br>life exp=%{y}<br>pop=%{marker.size}<extra></extra>",
           "hovertext": [
            "Israel"
           ],
           "ids": [
            "Israel"
           ],
           "legendgroup": "Israel",
           "marker": {
            "color": "#636efa",
            "size": [
             5820000
            ],
            "sizemode": "area",
            "sizeref": 17187.5,
            "symbol": "circle"
           },
           "mode": "markers",
           "name": "Israel",
           "orientation": "v",
           "showlegend": true,
           "type": "scatter",
           "x": [
            28200
           ],
           "xaxis": "x",
           "y": [
            78.7
           ],
           "yaxis": "y"
          },
          {
           "hovertemplate": "<b>%{hovertext}</b><br><br>country=Saudi Arabia<br>year=1999<br>gdp=%{x}<br>life exp=%{y}<br>pop=%{marker.size}<extra></extra>",
           "hovertext": [
            "Saudi Arabia"
           ],
           "ids": [
            "Saudi Arabia"
           ],
           "legendgroup": "Saudi Arabia",
           "marker": {
            "color": "#EF553B",
            "size": [
             20200000
            ],
            "sizemode": "area",
            "sizeref": 17187.5,
            "symbol": "circle"
           },
           "mode": "markers",
           "name": "Saudi Arabia",
           "orientation": "v",
           "showlegend": true,
           "type": "scatter",
           "x": [
            25600
           ],
           "xaxis": "x",
           "y": [
            70.2
           ],
           "yaxis": "y"
          },
          {
           "hovertemplate": "<b>%{hovertext}</b><br><br>country=Oman<br>year=1999<br>gdp=%{x}<br>life exp=%{y}<br>pop=%{marker.size}<extra></extra>",
           "hovertext": [
            "Oman"
           ],
           "ids": [
            "Oman"
           ],
           "legendgroup": "Oman",
           "marker": {
            "color": "#00cc96",
            "size": [
             2250000
            ],
            "sizemode": "area",
            "sizeref": 17187.5,
            "symbol": "circle"
           },
           "mode": "markers",
           "name": "Oman",
           "orientation": "v",
           "showlegend": true,
           "type": "scatter",
           "x": [
            36500
           ],
           "xaxis": "x",
           "y": [
            68.8
           ],
           "yaxis": "y"
          },
          {
           "hovertemplate": "<b>%{hovertext}</b><br><br>country=Palestine<br>year=1999<br>gdp=%{x}<br>life exp=%{y}<br>pop=%{marker.size}<extra></extra>",
           "hovertext": [
            "Palestine"
           ],
           "ids": [
            "Palestine"
           ],
           "legendgroup": "Palestine",
           "marker": {
            "color": "#ab63fa",
            "size": [
             3120000
            ],
            "sizemode": "area",
            "sizeref": 17187.5,
            "symbol": "circle"
           },
           "mode": "markers",
           "name": "Palestine",
           "orientation": "v",
           "showlegend": true,
           "type": "scatter",
           "x": [
            5050
           ],
           "xaxis": "x",
           "y": [
            71.9
           ],
           "yaxis": "y"
          },
          {
           "hovertemplate": "<b>%{hovertext}</b><br><br>country=Egypt<br>year=1999<br>gdp=%{x}<br>life exp=%{y}<br>pop=%{marker.size}<extra></extra>",
           "hovertext": [
            "Egypt"
           ],
           "ids": [
            "Egypt"
           ],
           "legendgroup": "Egypt",
           "marker": {
            "color": "#FFA15A",
            "size": [
             67500000
            ],
            "sizemode": "area",
            "sizeref": 17187.5,
            "symbol": "circle"
           },
           "mode": "markers",
           "name": "Egypt",
           "orientation": "v",
           "showlegend": true,
           "type": "scatter",
           "x": [
            7420
           ],
           "xaxis": "x",
           "y": [
            67.9
           ],
           "yaxis": "y"
          }
         ],
         "name": "1999"
        },
        {
         "data": [
          {
           "hovertemplate": "<b>%{hovertext}</b><br><br>country=Iran<br>year=2000<br>gdp=%{x}<br>life exp=%{y}<br>pop=%{marker.size}<extra></extra>",
           "hovertext": [
            "Iran"
           ],
           "ids": [
            "Iran"
           ],
           "legendgroup": "Iran",
           "marker": {
            "color": "#636efa",
            "size": [
             65599999.99999999
            ],
            "sizemode": "area",
            "sizeref": 17187.5,
            "symbol": "circle"
           },
           "mode": "markers",
           "name": "Iran",
           "orientation": "v",
           "showlegend": true,
           "type": "scatter",
           "x": [
            10100
           ],
           "xaxis": "x",
           "y": [
            71.9
           ],
           "yaxis": "y"
          },
          {
           "hovertemplate": "<b>%{hovertext}</b><br><br>country=Iraq<br>year=2000<br>gdp=%{x}<br>life exp=%{y}<br>pop=%{marker.size}<extra></extra>",
           "hovertext": [
            "Iraq"
           ],
           "ids": [
            "Iraq"
           ],
           "legendgroup": "Iraq",
           "marker": {
            "color": "#EF553B",
            "size": [
             23500000
            ],
            "sizemode": "area",
            "sizeref": 17187.5,
            "symbol": "circle"
           },
           "mode": "markers",
           "name": "Iraq",
           "orientation": "v",
           "showlegend": true,
           "type": "scatter",
           "x": [
            4240
           ],
           "xaxis": "x",
           "y": [
            68.6
           ],
           "yaxis": "y"
          },
          {
           "hovertemplate": "<b>%{hovertext}</b><br><br>country=Yemen<br>year=2000<br>gdp=%{x}<br>life exp=%{y}<br>pop=%{marker.size}<extra></extra>",
           "hovertext": [
            "Yemen"
           ],
           "ids": [
            "Yemen"
           ],
           "legendgroup": "Yemen",
           "marker": {
            "color": "#00cc96",
            "size": [
             17400000
            ],
            "sizemode": "area",
            "sizeref": 17187.5,
            "symbol": "circle"
           },
           "mode": "markers",
           "name": "Yemen",
           "orientation": "v",
           "showlegend": true,
           "type": "scatter",
           "x": [
            4900
           ],
           "xaxis": "x",
           "y": [
            63.5
           ],
           "yaxis": "y"
          },
          {
           "hovertemplate": "<b>%{hovertext}</b><br><br>country=Syria<br>year=2000<br>gdp=%{x}<br>life exp=%{y}<br>pop=%{marker.size}<extra></extra>",
           "hovertext": [
            "Syria"
           ],
           "ids": [
            "Syria"
           ],
           "legendgroup": "Syria",
           "marker": {
            "color": "#ab63fa",
            "size": [
             16399999.999999998
            ],
            "sizemode": "area",
            "sizeref": 17187.5,
            "symbol": "circle"
           },
           "mode": "markers",
           "name": "Syria",
           "orientation": "v",
           "showlegend": true,
           "type": "scatter",
           "x": [
            8910
           ],
           "xaxis": "x",
           "y": [
            71.6
           ],
           "yaxis": "y"
          },
          {
           "hovertemplate": "<b>%{hovertext}</b><br><br>country=Turkey<br>year=2000<br>gdp=%{x}<br>life exp=%{y}<br>pop=%{marker.size}<extra></extra>",
           "hovertext": [
            "Turkey"
           ],
           "ids": [
            "Turkey"
           ],
           "legendgroup": "Turkey",
           "marker": {
            "color": "#FFA15A",
            "size": [
             63200000
            ],
            "sizemode": "area",
            "sizeref": 17187.5,
            "symbol": "circle"
           },
           "mode": "markers",
           "name": "Turkey",
           "orientation": "v",
           "showlegend": true,
           "type": "scatter",
           "x": [
            15400
           ],
           "xaxis": "x",
           "y": [
            74.7
           ],
           "yaxis": "y"
          },
          {
           "hovertemplate": "<b>%{hovertext}</b><br><br>country=Bahrain<br>year=2000<br>gdp=%{x}<br>life exp=%{y}<br>pop=%{marker.size}<extra></extra>",
           "hovertext": [
            "Bahrain"
           ],
           "ids": [
            "Bahrain"
           ],
           "legendgroup": "Bahrain",
           "marker": {
            "color": "#19d3f3",
            "size": [
             665000
            ],
            "sizemode": "area",
            "sizeref": 17187.5,
            "symbol": "circle"
           },
           "mode": "markers",
           "name": "Bahrain",
           "orientation": "v",
           "showlegend": true,
           "type": "scatter",
           "x": [
            49400
           ],
           "xaxis": "x",
           "y": [
            71.7
           ],
           "yaxis": "y"
          },
          {
           "hovertemplate": "<b>%{hovertext}</b><br><br>country=United Arab Emirates<br>year=2000<br>gdp=%{x}<br>life exp=%{y}<br>pop=%{marker.size}<extra></extra>",
           "hovertext": [
            "United Arab Emirates"
           ],
           "ids": [
            "United Arab Emirates"
           ],
           "legendgroup": "United Arab Emirates",
           "marker": {
            "color": "#FF6692",
            "size": [
             3130000
            ],
            "sizemode": "area",
            "sizeref": 17187.5,
            "symbol": "circle"
           },
           "mode": "markers",
           "name": "United Arab Emirates",
           "orientation": "v",
           "showlegend": true,
           "type": "scatter",
           "x": [
            71600
           ],
           "xaxis": "x",
           "y": [
            69.1
           ],
           "yaxis": "y"
          },
          {
           "hovertemplate": "<b>%{hovertext}</b><br><br>country=Qatar<br>year=2000<br>gdp=%{x}<br>life exp=%{y}<br>pop=%{marker.size}<extra></extra>",
           "hovertext": [
            "Qatar"
           ],
           "ids": [
            "Qatar"
           ],
           "legendgroup": "Qatar",
           "marker": {
            "color": "#B6E880",
            "size": [
             592000
            ],
            "sizemode": "area",
            "sizeref": 17187.5,
            "symbol": "circle"
           },
           "mode": "markers",
           "name": "Qatar",
           "orientation": "v",
           "showlegend": true,
           "type": "scatter",
           "x": [
            86600
           ],
           "xaxis": "x",
           "y": [
            71.2
           ],
           "yaxis": "y"
          },
          {
           "hovertemplate": "<b>%{hovertext}</b><br><br>country=Jordan<br>year=2000<br>gdp=%{x}<br>life exp=%{y}<br>pop=%{marker.size}<extra></extra>",
           "hovertext": [
            "Jordan"
           ],
           "ids": [
            "Jordan"
           ],
           "legendgroup": "Jordan",
           "marker": {
            "color": "#FF97FF",
            "size": [
             5120000
            ],
            "sizemode": "area",
            "sizeref": 17187.5,
            "symbol": "circle"
           },
           "mode": "markers",
           "name": "Jordan",
           "orientation": "v",
           "showlegend": true,
           "type": "scatter",
           "x": [
            8740
           ],
           "xaxis": "x",
           "y": [
            72.9
           ],
           "yaxis": "y"
          },
          {
           "hovertemplate": "<b>%{hovertext}</b><br><br>country=Kuwait<br>year=2000<br>gdp=%{x}<br>life exp=%{y}<br>pop=%{marker.size}<extra></extra>",
           "hovertext": [
            "Kuwait"
           ],
           "ids": [
            "Kuwait"
           ],
           "legendgroup": "Kuwait",
           "marker": {
            "color": "#FECB52",
            "size": [
             2049999.9999999998
            ],
            "sizemode": "area",
            "sizeref": 17187.5,
            "symbol": "circle"
           },
           "mode": "markers",
           "name": "Kuwait",
           "orientation": "v",
           "showlegend": true,
           "type": "scatter",
           "x": [
            55000
           ],
           "xaxis": "x",
           "y": [
            78.1
           ],
           "yaxis": "y"
          },
          {
           "hovertemplate": "<b>%{hovertext}</b><br><br>country=Israel<br>year=2000<br>gdp=%{x}<br>life exp=%{y}<br>pop=%{marker.size}<extra></extra>",
           "hovertext": [
            "Israel"
           ],
           "ids": [
            "Israel"
           ],
           "legendgroup": "Israel",
           "marker": {
            "color": "#636efa",
            "size": [
             5950000
            ],
            "sizemode": "area",
            "sizeref": 17187.5,
            "symbol": "circle"
           },
           "mode": "markers",
           "name": "Israel",
           "orientation": "v",
           "showlegend": true,
           "type": "scatter",
           "x": [
            29900
           ],
           "xaxis": "x",
           "y": [
            78.9
           ],
           "yaxis": "y"
          },
          {
           "hovertemplate": "<b>%{hovertext}</b><br><br>country=Saudi Arabia<br>year=2000<br>gdp=%{x}<br>life exp=%{y}<br>pop=%{marker.size}<extra></extra>",
           "hovertext": [
            "Saudi Arabia"
           ],
           "ids": [
            "Saudi Arabia"
           ],
           "legendgroup": "Saudi Arabia",
           "marker": {
            "color": "#EF553B",
            "size": [
             20700000
            ],
            "sizemode": "area",
            "sizeref": 17187.5,
            "symbol": "circle"
           },
           "mode": "markers",
           "name": "Saudi Arabia",
           "orientation": "v",
           "showlegend": true,
           "type": "scatter",
           "x": [
            27800
           ],
           "xaxis": "x",
           "y": [
            70.4
           ],
           "yaxis": "y"
          },
          {
           "hovertemplate": "<b>%{hovertext}</b><br><br>country=Oman<br>year=2000<br>gdp=%{x}<br>life exp=%{y}<br>pop=%{marker.size}<extra></extra>",
           "hovertext": [
            "Oman"
           ],
           "ids": [
            "Oman"
           ],
           "legendgroup": "Oman",
           "marker": {
            "color": "#00cc96",
            "size": [
             2270000
            ],
            "sizemode": "area",
            "sizeref": 17187.5,
            "symbol": "circle"
           },
           "mode": "markers",
           "name": "Oman",
           "orientation": "v",
           "showlegend": true,
           "type": "scatter",
           "x": [
            38600
           ],
           "xaxis": "x",
           "y": [
            69.1
           ],
           "yaxis": "y"
          },
          {
           "hovertemplate": "<b>%{hovertext}</b><br><br>country=Palestine<br>year=2000<br>gdp=%{x}<br>life exp=%{y}<br>pop=%{marker.size}<extra></extra>",
           "hovertext": [
            "Palestine"
           ],
           "ids": [
            "Palestine"
           ],
           "legendgroup": "Palestine",
           "marker": {
            "color": "#ab63fa",
            "size": [
             3220000
            ],
            "sizemode": "area",
            "sizeref": 17187.5,
            "symbol": "circle"
           },
           "mode": "markers",
           "name": "Palestine",
           "orientation": "v",
           "showlegend": true,
           "type": "scatter",
           "x": [
            4500
           ],
           "xaxis": "x",
           "y": [
            70.2
           ],
           "yaxis": "y"
          },
          {
           "hovertemplate": "<b>%{hovertext}</b><br><br>country=Egypt<br>year=2000<br>gdp=%{x}<br>life exp=%{y}<br>pop=%{marker.size}<extra></extra>",
           "hovertext": [
            "Egypt"
           ],
           "ids": [
            "Egypt"
           ],
           "legendgroup": "Egypt",
           "marker": {
            "color": "#FFA15A",
            "size": [
             68800000
            ],
            "sizemode": "area",
            "sizeref": 17187.5,
            "symbol": "circle"
           },
           "mode": "markers",
           "name": "Egypt",
           "orientation": "v",
           "showlegend": true,
           "type": "scatter",
           "x": [
            7750
           ],
           "xaxis": "x",
           "y": [
            68.5
           ],
           "yaxis": "y"
          }
         ],
         "name": "2000"
        },
        {
         "data": [
          {
           "hovertemplate": "<b>%{hovertext}</b><br><br>country=Iran<br>year=2001<br>gdp=%{x}<br>life exp=%{y}<br>pop=%{marker.size}<extra></extra>",
           "hovertext": [
            "Iran"
           ],
           "ids": [
            "Iran"
           ],
           "legendgroup": "Iran",
           "marker": {
            "color": "#636efa",
            "size": [
             66400000.00000001
            ],
            "sizemode": "area",
            "sizeref": 17187.5,
            "symbol": "circle"
           },
           "mode": "markers",
           "name": "Iran",
           "orientation": "v",
           "showlegend": true,
           "type": "scatter",
           "x": [
            10000
           ],
           "xaxis": "x",
           "y": [
            72.2
           ],
           "yaxis": "y"
          },
          {
           "hovertemplate": "<b>%{hovertext}</b><br><br>country=Iraq<br>year=2001<br>gdp=%{x}<br>life exp=%{y}<br>pop=%{marker.size}<extra></extra>",
           "hovertext": [
            "Iraq"
           ],
           "ids": [
            "Iraq"
           ],
           "legendgroup": "Iraq",
           "marker": {
            "color": "#EF553B",
            "size": [
             24200000
            ],
            "sizemode": "area",
            "sizeref": 17187.5,
            "symbol": "circle"
           },
           "mode": "markers",
           "name": "Iraq",
           "orientation": "v",
           "showlegend": true,
           "type": "scatter",
           "x": [
            4820
           ],
           "xaxis": "x",
           "y": [
            69
           ],
           "yaxis": "y"
          },
          {
           "hovertemplate": "<b>%{hovertext}</b><br><br>country=Yemen<br>year=2001<br>gdp=%{x}<br>life exp=%{y}<br>pop=%{marker.size}<extra></extra>",
           "hovertext": [
            "Yemen"
           ],
           "ids": [
            "Yemen"
           ],
           "legendgroup": "Yemen",
           "marker": {
            "color": "#00cc96",
            "size": [
             17900000
            ],
            "sizemode": "area",
            "sizeref": 17187.5,
            "symbol": "circle"
           },
           "mode": "markers",
           "name": "Yemen",
           "orientation": "v",
           "showlegend": true,
           "type": "scatter",
           "x": [
            4940
           ],
           "xaxis": "x",
           "y": [
            64
           ],
           "yaxis": "y"
          },
          {
           "hovertemplate": "<b>%{hovertext}</b><br><br>country=Syria<br>year=2001<br>gdp=%{x}<br>life exp=%{y}<br>pop=%{marker.size}<extra></extra>",
           "hovertext": [
            "Syria"
           ],
           "ids": [
            "Syria"
           ],
           "legendgroup": "Syria",
           "marker": {
            "color": "#ab63fa",
            "size": [
             16800000
            ],
            "sizemode": "area",
            "sizeref": 17187.5,
            "symbol": "circle"
           },
           "mode": "markers",
           "name": "Syria",
           "orientation": "v",
           "showlegend": true,
           "type": "scatter",
           "x": [
            8730
           ],
           "xaxis": "x",
           "y": [
            72.4
           ],
           "yaxis": "y"
          },
          {
           "hovertemplate": "<b>%{hovertext}</b><br><br>country=Turkey<br>year=2001<br>gdp=%{x}<br>life exp=%{y}<br>pop=%{marker.size}<extra></extra>",
           "hovertext": [
            "Turkey"
           ],
           "ids": [
            "Turkey"
           ],
           "legendgroup": "Turkey",
           "marker": {
            "color": "#FFA15A",
            "size": [
             64200000
            ],
            "sizemode": "area",
            "sizeref": 17187.5,
            "symbol": "circle"
           },
           "mode": "markers",
           "name": "Turkey",
           "orientation": "v",
           "showlegend": true,
           "type": "scatter",
           "x": [
            14300
           ],
           "xaxis": "x",
           "y": [
            75
           ],
           "yaxis": "y"
          },
          {
           "hovertemplate": "<b>%{hovertext}</b><br><br>country=Bahrain<br>year=2001<br>gdp=%{x}<br>life exp=%{y}<br>pop=%{marker.size}<extra></extra>",
           "hovertext": [
            "Bahrain"
           ],
           "ids": [
            "Bahrain"
           ],
           "legendgroup": "Bahrain",
           "marker": {
            "color": "#19d3f3",
            "size": [
             698000
            ],
            "sizemode": "area",
            "sizeref": 17187.5,
            "symbol": "circle"
           },
           "mode": "markers",
           "name": "Bahrain",
           "orientation": "v",
           "showlegend": true,
           "type": "scatter",
           "x": [
            48200
           ],
           "xaxis": "x",
           "y": [
            73.4
           ],
           "yaxis": "y"
          },
          {
           "hovertemplate": "<b>%{hovertext}</b><br><br>country=United Arab Emirates<br>year=2001<br>gdp=%{x}<br>life exp=%{y}<br>pop=%{marker.size}<extra></extra>",
           "hovertext": [
            "United Arab Emirates"
           ],
           "ids": [
            "United Arab Emirates"
           ],
           "legendgroup": "United Arab Emirates",
           "marker": {
            "color": "#FF6692",
            "size": [
             3300000
            ],
            "sizemode": "area",
            "sizeref": 17187.5,
            "symbol": "circle"
           },
           "mode": "markers",
           "name": "United Arab Emirates",
           "orientation": "v",
           "showlegend": true,
           "type": "scatter",
           "x": [
            72200
           ],
           "xaxis": "x",
           "y": [
            69.2
           ],
           "yaxis": "y"
          },
          {
           "hovertemplate": "<b>%{hovertext}</b><br><br>country=Qatar<br>year=2001<br>gdp=%{x}<br>life exp=%{y}<br>pop=%{marker.size}<extra></extra>",
           "hovertext": [
            "Qatar"
           ],
           "ids": [
            "Qatar"
           ],
           "legendgroup": "Qatar",
           "marker": {
            "color": "#B6E880",
            "size": [
             615000
            ],
            "sizemode": "area",
            "sizeref": 17187.5,
            "symbol": "circle"
           },
           "mode": "markers",
           "name": "Qatar",
           "orientation": "v",
           "showlegend": true,
           "type": "scatter",
           "x": [
            86600
           ],
           "xaxis": "x",
           "y": [
            71.5
           ],
           "yaxis": "y"
          },
          {
           "hovertemplate": "<b>%{hovertext}</b><br><br>country=Jordan<br>year=2001<br>gdp=%{x}<br>life exp=%{y}<br>pop=%{marker.size}<extra></extra>",
           "hovertext": [
            "Jordan"
           ],
           "ids": [
            "Jordan"
           ],
           "legendgroup": "Jordan",
           "marker": {
            "color": "#FF97FF",
            "size": [
             5220000
            ],
            "sizemode": "area",
            "sizeref": 17187.5,
            "symbol": "circle"
           },
           "mode": "markers",
           "name": "Jordan",
           "orientation": "v",
           "showlegend": true,
           "type": "scatter",
           "x": [
            9040
           ],
           "xaxis": "x",
           "y": [
            73
           ],
           "yaxis": "y"
          },
          {
           "hovertemplate": "<b>%{hovertext}</b><br><br>country=Kuwait<br>year=2001<br>gdp=%{x}<br>life exp=%{y}<br>pop=%{marker.size}<extra></extra>",
           "hovertext": [
            "Kuwait"
           ],
           "ids": [
            "Kuwait"
           ],
           "legendgroup": "Kuwait",
           "marker": {
            "color": "#FECB52",
            "size": [
             2100000
            ],
            "sizemode": "area",
            "sizeref": 17187.5,
            "symbol": "circle"
           },
           "mode": "markers",
           "name": "Kuwait",
           "orientation": "v",
           "showlegend": true,
           "type": "scatter",
           "x": [
            53600
           ],
           "xaxis": "x",
           "y": [
            79.2
           ],
           "yaxis": "y"
          },
          {
           "hovertemplate": "<b>%{hovertext}</b><br><br>country=Israel<br>year=2001<br>gdp=%{x}<br>life exp=%{y}<br>pop=%{marker.size}<extra></extra>",
           "hovertext": [
            "Israel"
           ],
           "ids": [
            "Israel"
           ],
           "legendgroup": "Israel",
           "marker": {
            "color": "#636efa",
            "size": [
             6060000
            ],
            "sizemode": "area",
            "sizeref": 17187.5,
            "symbol": "circle"
           },
           "mode": "markers",
           "name": "Israel",
           "orientation": "v",
           "showlegend": true,
           "type": "scatter",
           "x": [
            29300
           ],
           "xaxis": "x",
           "y": [
            79
           ],
           "yaxis": "y"
          },
          {
           "hovertemplate": "<b>%{hovertext}</b><br><br>country=Saudi Arabia<br>year=2001<br>gdp=%{x}<br>life exp=%{y}<br>pop=%{marker.size}<extra></extra>",
           "hovertext": [
            "Saudi Arabia"
           ],
           "ids": [
            "Saudi Arabia"
           ],
           "legendgroup": "Saudi Arabia",
           "marker": {
            "color": "#EF553B",
            "size": [
             21200000
            ],
            "sizemode": "area",
            "sizeref": 17187.5,
            "symbol": "circle"
           },
           "mode": "markers",
           "name": "Saudi Arabia",
           "orientation": "v",
           "showlegend": true,
           "type": "scatter",
           "x": [
            28100
           ],
           "xaxis": "x",
           "y": [
            70.6
           ],
           "yaxis": "y"
          },
          {
           "hovertemplate": "<b>%{hovertext}</b><br><br>country=Oman<br>year=2001<br>gdp=%{x}<br>life exp=%{y}<br>pop=%{marker.size}<extra></extra>",
           "hovertext": [
            "Oman"
           ],
           "ids": [
            "Oman"
           ],
           "legendgroup": "Oman",
           "marker": {
            "color": "#00cc96",
            "size": [
             2290000
            ],
            "sizemode": "area",
            "sizeref": 17187.5,
            "symbol": "circle"
           },
           "mode": "markers",
           "name": "Oman",
           "orientation": "v",
           "showlegend": true,
           "type": "scatter",
           "x": [
            39900
           ],
           "xaxis": "x",
           "y": [
            69.5
           ],
           "yaxis": "y"
          },
          {
           "hovertemplate": "<b>%{hovertext}</b><br><br>country=Palestine<br>year=2001<br>gdp=%{x}<br>life exp=%{y}<br>pop=%{marker.size}<extra></extra>",
           "hovertext": [
            "Palestine"
           ],
           "ids": [
            "Palestine"
           ],
           "legendgroup": "Palestine",
           "marker": {
            "color": "#ab63fa",
            "size": [
             3310000
            ],
            "sizemode": "area",
            "sizeref": 17187.5,
            "symbol": "circle"
           },
           "mode": "markers",
           "name": "Palestine",
           "orientation": "v",
           "showlegend": true,
           "type": "scatter",
           "x": [
            3980
           ],
           "xaxis": "x",
           "y": [
            69.6
           ],
           "yaxis": "y"
          },
          {
           "hovertemplate": "<b>%{hovertext}</b><br><br>country=Egypt<br>year=2001<br>gdp=%{x}<br>life exp=%{y}<br>pop=%{marker.size}<extra></extra>",
           "hovertext": [
            "Egypt"
           ],
           "ids": [
            "Egypt"
           ],
           "legendgroup": "Egypt",
           "marker": {
            "color": "#FFA15A",
            "size": [
             70200000
            ],
            "sizemode": "area",
            "sizeref": 17187.5,
            "symbol": "circle"
           },
           "mode": "markers",
           "name": "Egypt",
           "orientation": "v",
           "showlegend": true,
           "type": "scatter",
           "x": [
            7870
           ],
           "xaxis": "x",
           "y": [
            68.3
           ],
           "yaxis": "y"
          }
         ],
         "name": "2001"
        },
        {
         "data": [
          {
           "hovertemplate": "<b>%{hovertext}</b><br><br>country=Iran<br>year=2002<br>gdp=%{x}<br>life exp=%{y}<br>pop=%{marker.size}<extra></extra>",
           "hovertext": [
            "Iran"
           ],
           "ids": [
            "Iran"
           ],
           "legendgroup": "Iran",
           "marker": {
            "color": "#636efa",
            "size": [
             67300000
            ],
            "sizemode": "area",
            "sizeref": 17187.5,
            "symbol": "circle"
           },
           "mode": "markers",
           "name": "Iran",
           "orientation": "v",
           "showlegend": true,
           "type": "scatter",
           "x": [
            10600
           ],
           "xaxis": "x",
           "y": [
            72.5
           ],
           "yaxis": "y"
          },
          {
           "hovertemplate": "<b>%{hovertext}</b><br><br>country=Iraq<br>year=2002<br>gdp=%{x}<br>life exp=%{y}<br>pop=%{marker.size}<extra></extra>",
           "hovertext": [
            "Iraq"
           ],
           "ids": [
            "Iraq"
           ],
           "legendgroup": "Iraq",
           "marker": {
            "color": "#EF553B",
            "size": [
             24900000
            ],
            "sizemode": "area",
            "sizeref": 17187.5,
            "symbol": "circle"
           },
           "mode": "markers",
           "name": "Iraq",
           "orientation": "v",
           "showlegend": true,
           "type": "scatter",
           "x": [
            5380
           ],
           "xaxis": "x",
           "y": [
            69.3
           ],
           "yaxis": "y"
          },
          {
           "hovertemplate": "<b>%{hovertext}</b><br><br>country=Yemen<br>year=2002<br>gdp=%{x}<br>life exp=%{y}<br>pop=%{marker.size}<extra></extra>",
           "hovertext": [
            "Yemen"
           ],
           "ids": [
            "Yemen"
           ],
           "legendgroup": "Yemen",
           "marker": {
            "color": "#00cc96",
            "size": [
             18400000
            ],
            "sizemode": "area",
            "sizeref": 17187.5,
            "symbol": "circle"
           },
           "mode": "markers",
           "name": "Yemen",
           "orientation": "v",
           "showlegend": true,
           "type": "scatter",
           "x": [
            4990
           ],
           "xaxis": "x",
           "y": [
            64.5
           ],
           "yaxis": "y"
          },
          {
           "hovertemplate": "<b>%{hovertext}</b><br><br>country=Syria<br>year=2002<br>gdp=%{x}<br>life exp=%{y}<br>pop=%{marker.size}<extra></extra>",
           "hovertext": [
            "Syria"
           ],
           "ids": [
            "Syria"
           ],
           "legendgroup": "Syria",
           "marker": {
            "color": "#ab63fa",
            "size": [
             17100000
            ],
            "sizemode": "area",
            "sizeref": 17187.5,
            "symbol": "circle"
           },
           "mode": "markers",
           "name": "Syria",
           "orientation": "v",
           "showlegend": true,
           "type": "scatter",
           "x": [
            8750
           ],
           "xaxis": "x",
           "y": [
            72.8
           ],
           "yaxis": "y"
          },
          {
           "hovertemplate": "<b>%{hovertext}</b><br><br>country=Turkey<br>year=2002<br>gdp=%{x}<br>life exp=%{y}<br>pop=%{marker.size}<extra></extra>",
           "hovertext": [
            "Turkey"
           ],
           "ids": [
            "Turkey"
           ],
           "legendgroup": "Turkey",
           "marker": {
            "color": "#FFA15A",
            "size": [
             65099999.99999999
            ],
            "sizemode": "area",
            "sizeref": 17187.5,
            "symbol": "circle"
           },
           "mode": "markers",
           "name": "Turkey",
           "orientation": "v",
           "showlegend": true,
           "type": "scatter",
           "x": [
            15000
           ],
           "xaxis": "x",
           "y": [
            75.2
           ],
           "yaxis": "y"
          },
          {
           "hovertemplate": "<b>%{hovertext}</b><br><br>country=Bahrain<br>year=2002<br>gdp=%{x}<br>life exp=%{y}<br>pop=%{marker.size}<extra></extra>",
           "hovertext": [
            "Bahrain"
           ],
           "ids": [
            "Bahrain"
           ],
           "legendgroup": "Bahrain",
           "marker": {
            "color": "#19d3f3",
            "size": [
             735000
            ],
            "sizemode": "area",
            "sizeref": 17187.5,
            "symbol": "circle"
           },
           "mode": "markers",
           "name": "Bahrain",
           "orientation": "v",
           "showlegend": true,
           "type": "scatter",
           "x": [
            47300
           ],
           "xaxis": "x",
           "y": [
            72.7
           ],
           "yaxis": "y"
          },
          {
           "hovertemplate": "<b>%{hovertext}</b><br><br>country=United Arab Emirates<br>year=2002<br>gdp=%{x}<br>life exp=%{y}<br>pop=%{marker.size}<extra></extra>",
           "hovertext": [
            "United Arab Emirates"
           ],
           "ids": [
            "United Arab Emirates"
           ],
           "legendgroup": "United Arab Emirates",
           "marker": {
            "color": "#FF6692",
            "size": [
             3480000
            ],
            "sizemode": "area",
            "sizeref": 17187.5,
            "symbol": "circle"
           },
           "mode": "markers",
           "name": "United Arab Emirates",
           "orientation": "v",
           "showlegend": true,
           "type": "scatter",
           "x": [
            73500
           ],
           "xaxis": "x",
           "y": [
            69.4
           ],
           "yaxis": "y"
          },
          {
           "hovertemplate": "<b>%{hovertext}</b><br><br>country=Qatar<br>year=2002<br>gdp=%{x}<br>life exp=%{y}<br>pop=%{marker.size}<extra></extra>",
           "hovertext": [
            "Qatar"
           ],
           "ids": [
            "Qatar"
           ],
           "legendgroup": "Qatar",
           "marker": {
            "color": "#B6E880",
            "size": [
             641000
            ],
            "sizemode": "area",
            "sizeref": 17187.5,
            "symbol": "circle"
           },
           "mode": "markers",
           "name": "Qatar",
           "orientation": "v",
           "showlegend": true,
           "type": "scatter",
           "x": [
            89100
           ],
           "xaxis": "x",
           "y": [
            71.5
           ],
           "yaxis": "y"
          },
          {
           "hovertemplate": "<b>%{hovertext}</b><br><br>country=Jordan<br>year=2002<br>gdp=%{x}<br>life exp=%{y}<br>pop=%{marker.size}<extra></extra>",
           "hovertext": [
            "Jordan"
           ],
           "ids": [
            "Jordan"
           ],
           "legendgroup": "Jordan",
           "marker": {
            "color": "#FF97FF",
            "size": [
             5320000
            ],
            "sizemode": "area",
            "sizeref": 17187.5,
            "symbol": "circle"
           },
           "mode": "markers",
           "name": "Jordan",
           "orientation": "v",
           "showlegend": true,
           "type": "scatter",
           "x": [
            9380
           ],
           "xaxis": "x",
           "y": [
            73.3
           ],
           "yaxis": "y"
          },
          {
           "hovertemplate": "<b>%{hovertext}</b><br><br>country=Kuwait<br>year=2002<br>gdp=%{x}<br>life exp=%{y}<br>pop=%{marker.size}<extra></extra>",
           "hovertext": [
            "Kuwait"
           ],
           "ids": [
            "Kuwait"
           ],
           "legendgroup": "Kuwait",
           "marker": {
            "color": "#FECB52",
            "size": [
             2140000
            ],
            "sizemode": "area",
            "sizeref": 17187.5,
            "symbol": "circle"
           },
           "mode": "markers",
           "name": "Kuwait",
           "orientation": "v",
           "showlegend": true,
           "type": "scatter",
           "x": [
            54300
           ],
           "xaxis": "x",
           "y": [
            78.6
           ],
           "yaxis": "y"
          },
          {
           "hovertemplate": "<b>%{hovertext}</b><br><br>country=Israel<br>year=2002<br>gdp=%{x}<br>life exp=%{y}<br>pop=%{marker.size}<extra></extra>",
           "hovertext": [
            "Israel"
           ],
           "ids": [
            "Israel"
           ],
           "legendgroup": "Israel",
           "marker": {
            "color": "#636efa",
            "size": [
             6170000
            ],
            "sizemode": "area",
            "sizeref": 17187.5,
            "symbol": "circle"
           },
           "mode": "markers",
           "name": "Israel",
           "orientation": "v",
           "showlegend": true,
           "type": "scatter",
           "x": [
            28600
           ],
           "xaxis": "x",
           "y": [
            78.9
           ],
           "yaxis": "y"
          },
          {
           "hovertemplate": "<b>%{hovertext}</b><br><br>country=Saudi Arabia<br>year=2002<br>gdp=%{x}<br>life exp=%{y}<br>pop=%{marker.size}<extra></extra>",
           "hovertext": [
            "Saudi Arabia"
           ],
           "ids": [
            "Saudi Arabia"
           ],
           "legendgroup": "Saudi Arabia",
           "marker": {
            "color": "#EF553B",
            "size": [
             21800000
            ],
            "sizemode": "area",
            "sizeref": 17187.5,
            "symbol": "circle"
           },
           "mode": "markers",
           "name": "Saudi Arabia",
           "orientation": "v",
           "showlegend": true,
           "type": "scatter",
           "x": [
            28000
           ],
           "xaxis": "x",
           "y": [
            70.7
           ],
           "yaxis": "y"
          },
          {
           "hovertemplate": "<b>%{hovertext}</b><br><br>country=Oman<br>year=2002<br>gdp=%{x}<br>life exp=%{y}<br>pop=%{marker.size}<extra></extra>",
           "hovertext": [
            "Oman"
           ],
           "ids": [
            "Oman"
           ],
           "legendgroup": "Oman",
           "marker": {
            "color": "#00cc96",
            "size": [
             2330000
            ],
            "sizemode": "area",
            "sizeref": 17187.5,
            "symbol": "circle"
           },
           "mode": "markers",
           "name": "Oman",
           "orientation": "v",
           "showlegend": true,
           "type": "scatter",
           "x": [
            38800
           ],
           "xaxis": "x",
           "y": [
            69.6
           ],
           "yaxis": "y"
          },
          {
           "hovertemplate": "<b>%{hovertext}</b><br><br>country=Palestine<br>year=2002<br>gdp=%{x}<br>life exp=%{y}<br>pop=%{marker.size}<extra></extra>",
           "hovertext": [
            "Palestine"
           ],
           "ids": [
            "Palestine"
           ],
           "legendgroup": "Palestine",
           "marker": {
            "color": "#ab63fa",
            "size": [
             3380000
            ],
            "sizemode": "area",
            "sizeref": 17187.5,
            "symbol": "circle"
           },
           "mode": "markers",
           "name": "Palestine",
           "orientation": "v",
           "showlegend": true,
           "type": "scatter",
           "x": [
            3400
           ],
           "xaxis": "x",
           "y": [
            68.8
           ],
           "yaxis": "y"
          },
          {
           "hovertemplate": "<b>%{hovertext}</b><br><br>country=Egypt<br>year=2002<br>gdp=%{x}<br>life exp=%{y}<br>pop=%{marker.size}<extra></extra>",
           "hovertext": [
            "Egypt"
           ],
           "ids": [
            "Egypt"
           ],
           "legendgroup": "Egypt",
           "marker": {
            "color": "#FFA15A",
            "size": [
             71500000
            ],
            "sizemode": "area",
            "sizeref": 17187.5,
            "symbol": "circle"
           },
           "mode": "markers",
           "name": "Egypt",
           "orientation": "v",
           "showlegend": true,
           "type": "scatter",
           "x": [
            7910
           ],
           "xaxis": "x",
           "y": [
            68.3
           ],
           "yaxis": "y"
          }
         ],
         "name": "2002"
        },
        {
         "data": [
          {
           "hovertemplate": "<b>%{hovertext}</b><br><br>country=Iran<br>year=2003<br>gdp=%{x}<br>life exp=%{y}<br>pop=%{marker.size}<extra></extra>",
           "hovertext": [
            "Iran"
           ],
           "ids": [
            "Iran"
           ],
           "legendgroup": "Iran",
           "marker": {
            "color": "#636efa",
            "size": [
             68100000
            ],
            "sizemode": "area",
            "sizeref": 17187.5,
            "symbol": "circle"
           },
           "mode": "markers",
           "name": "Iran",
           "orientation": "v",
           "showlegend": true,
           "type": "scatter",
           "x": [
            11400
           ],
           "xaxis": "x",
           "y": [
            71.8
           ],
           "yaxis": "y"
          },
          {
           "hovertemplate": "<b>%{hovertext}</b><br><br>country=Iraq<br>year=2003<br>gdp=%{x}<br>life exp=%{y}<br>pop=%{marker.size}<extra></extra>",
           "hovertext": [
            "Iraq"
           ],
           "ids": [
            "Iraq"
           ],
           "legendgroup": "Iraq",
           "marker": {
            "color": "#EF553B",
            "size": [
             25600000
            ],
            "sizemode": "area",
            "sizeref": 17187.5,
            "symbol": "circle"
           },
           "mode": "markers",
           "name": "Iraq",
           "orientation": "v",
           "showlegend": true,
           "type": "scatter",
           "x": [
            4400
           ],
           "xaxis": "x",
           "y": [
            68.1
           ],
           "yaxis": "y"
          },
          {
           "hovertemplate": "<b>%{hovertext}</b><br><br>country=Yemen<br>year=2003<br>gdp=%{x}<br>life exp=%{y}<br>pop=%{marker.size}<extra></extra>",
           "hovertext": [
            "Yemen"
           ],
           "ids": [
            "Yemen"
           ],
           "legendgroup": "Yemen",
           "marker": {
            "color": "#00cc96",
            "size": [
             19000000
            ],
            "sizemode": "area",
            "sizeref": 17187.5,
            "symbol": "circle"
           },
           "mode": "markers",
           "name": "Yemen",
           "orientation": "v",
           "showlegend": true,
           "type": "scatter",
           "x": [
            5030
           ],
           "xaxis": "x",
           "y": [
            64.9
           ],
           "yaxis": "y"
          },
          {
           "hovertemplate": "<b>%{hovertext}</b><br><br>country=Syria<br>year=2003<br>gdp=%{x}<br>life exp=%{y}<br>pop=%{marker.size}<extra></extra>",
           "hovertext": [
            "Syria"
           ],
           "ids": [
            "Syria"
           ],
           "legendgroup": "Syria",
           "marker": {
            "color": "#ab63fa",
            "size": [
             17400000
            ],
            "sizemode": "area",
            "sizeref": 17187.5,
            "symbol": "circle"
           },
           "mode": "markers",
           "name": "Syria",
           "orientation": "v",
           "showlegend": true,
           "type": "scatter",
           "x": [
            8120
           ],
           "xaxis": "x",
           "y": [
            73.8
           ],
           "yaxis": "y"
          },
          {
           "hovertemplate": "<b>%{hovertext}</b><br><br>country=Turkey<br>year=2003<br>gdp=%{x}<br>life exp=%{y}<br>pop=%{marker.size}<extra></extra>",
           "hovertext": [
            "Turkey"
           ],
           "ids": [
            "Turkey"
           ],
           "legendgroup": "Turkey",
           "marker": {
            "color": "#FFA15A",
            "size": [
             66099999.99999999
            ],
            "sizemode": "area",
            "sizeref": 17187.5,
            "symbol": "circle"
           },
           "mode": "markers",
           "name": "Turkey",
           "orientation": "v",
           "showlegend": true,
           "type": "scatter",
           "x": [
            15700
           ],
           "xaxis": "x",
           "y": [
            75.7
           ],
           "yaxis": "y"
          },
          {
           "hovertemplate": "<b>%{hovertext}</b><br><br>country=Bahrain<br>year=2003<br>gdp=%{x}<br>life exp=%{y}<br>pop=%{marker.size}<extra></extra>",
           "hovertext": [
            "Bahrain"
           ],
           "ids": [
            "Bahrain"
           ],
           "legendgroup": "Bahrain",
           "marker": {
            "color": "#19d3f3",
            "size": [
             779000
            ],
            "sizemode": "area",
            "sizeref": 17187.5,
            "symbol": "circle"
           },
           "mode": "markers",
           "name": "Bahrain",
           "orientation": "v",
           "showlegend": true,
           "type": "scatter",
           "x": [
            47500
           ],
           "xaxis": "x",
           "y": [
            72.2
           ],
           "yaxis": "y"
          },
          {
           "hovertemplate": "<b>%{hovertext}</b><br><br>country=United Arab Emirates<br>year=2003<br>gdp=%{x}<br>life exp=%{y}<br>pop=%{marker.size}<extra></extra>",
           "hovertext": [
            "United Arab Emirates"
           ],
           "ids": [
            "United Arab Emirates"
           ],
           "legendgroup": "United Arab Emirates",
           "marker": {
            "color": "#FF6692",
            "size": [
             3710000
            ],
            "sizemode": "area",
            "sizeref": 17187.5,
            "symbol": "circle"
           },
           "mode": "markers",
           "name": "United Arab Emirates",
           "orientation": "v",
           "showlegend": true,
           "type": "scatter",
           "x": [
            78600
           ],
           "xaxis": "x",
           "y": [
            69.3
           ],
           "yaxis": "y"
          },
          {
           "hovertemplate": "<b>%{hovertext}</b><br><br>country=Qatar<br>year=2003<br>gdp=%{x}<br>life exp=%{y}<br>pop=%{marker.size}<extra></extra>",
           "hovertext": [
            "Qatar"
           ],
           "ids": [
            "Qatar"
           ],
           "legendgroup": "Qatar",
           "marker": {
            "color": "#B6E880",
            "size": [
             682000
            ],
            "sizemode": "area",
            "sizeref": 17187.5,
            "symbol": "circle"
           },
           "mode": "markers",
           "name": "Qatar",
           "orientation": "v",
           "showlegend": true,
           "type": "scatter",
           "x": [
            86900
           ],
           "xaxis": "x",
           "y": [
            71.7
           ],
           "yaxis": "y"
          },
          {
           "hovertemplate": "<b>%{hovertext}</b><br><br>country=Jordan<br>year=2003<br>gdp=%{x}<br>life exp=%{y}<br>pop=%{marker.size}<extra></extra>",
           "hovertext": [
            "Jordan"
           ],
           "ids": [
            "Jordan"
           ],
           "legendgroup": "Jordan",
           "marker": {
            "color": "#FF97FF",
            "size": [
             5430000
            ],
            "sizemode": "area",
            "sizeref": 17187.5,
            "symbol": "circle"
           },
           "mode": "markers",
           "name": "Jordan",
           "orientation": "v",
           "showlegend": true,
           "type": "scatter",
           "x": [
            9560
           ],
           "xaxis": "x",
           "y": [
            73.8
           ],
           "yaxis": "y"
          },
          {
           "hovertemplate": "<b>%{hovertext}</b><br><br>country=Kuwait<br>year=2003<br>gdp=%{x}<br>life exp=%{y}<br>pop=%{marker.size}<extra></extra>",
           "hovertext": [
            "Kuwait"
           ],
           "ids": [
            "Kuwait"
           ],
           "legendgroup": "Kuwait",
           "marker": {
            "color": "#FECB52",
            "size": [
             2160000
            ],
            "sizemode": "area",
            "sizeref": 17187.5,
            "symbol": "circle"
           },
           "mode": "markers",
           "name": "Kuwait",
           "orientation": "v",
           "showlegend": true,
           "type": "scatter",
           "x": [
            63000
           ],
           "xaxis": "x",
           "y": [
            78.9
           ],
           "yaxis": "y"
          },
          {
           "hovertemplate": "<b>%{hovertext}</b><br><br>country=Israel<br>year=2003<br>gdp=%{x}<br>life exp=%{y}<br>pop=%{marker.size}<extra></extra>",
           "hovertext": [
            "Israel"
           ],
           "ids": [
            "Israel"
           ],
           "legendgroup": "Israel",
           "marker": {
            "color": "#636efa",
            "size": [
             6280000
            ],
            "sizemode": "area",
            "sizeref": 17187.5,
            "symbol": "circle"
           },
           "mode": "markers",
           "name": "Israel",
           "orientation": "v",
           "showlegend": true,
           "type": "scatter",
           "x": [
            28500
           ],
           "xaxis": "x",
           "y": [
            79.5
           ],
           "yaxis": "y"
          },
          {
           "hovertemplate": "<b>%{hovertext}</b><br><br>country=Saudi Arabia<br>year=2003<br>gdp=%{x}<br>life exp=%{y}<br>pop=%{marker.size}<extra></extra>",
           "hovertext": [
            "Saudi Arabia"
           ],
           "ids": [
            "Saudi Arabia"
           ],
           "legendgroup": "Saudi Arabia",
           "marker": {
            "color": "#EF553B",
            "size": [
             22500000
            ],
            "sizemode": "area",
            "sizeref": 17187.5,
            "symbol": "circle"
           },
           "mode": "markers",
           "name": "Saudi Arabia",
           "orientation": "v",
           "showlegend": true,
           "type": "scatter",
           "x": [
            31800
           ],
           "xaxis": "x",
           "y": [
            70.9
           ],
           "yaxis": "y"
          },
          {
           "hovertemplate": "<b>%{hovertext}</b><br><br>country=Oman<br>year=2003<br>gdp=%{x}<br>life exp=%{y}<br>pop=%{marker.size}<extra></extra>",
           "hovertext": [
            "Oman"
           ],
           "ids": [
            "Oman"
           ],
           "legendgroup": "Oman",
           "marker": {
            "color": "#00cc96",
            "size": [
             2390000
            ],
            "sizemode": "area",
            "sizeref": 17187.5,
            "symbol": "circle"
           },
           "mode": "markers",
           "name": "Oman",
           "orientation": "v",
           "showlegend": true,
           "type": "scatter",
           "x": [
            36900
           ],
           "xaxis": "x",
           "y": [
            69.8
           ],
           "yaxis": "y"
          },
          {
           "hovertemplate": "<b>%{hovertext}</b><br><br>country=Palestine<br>year=2003<br>gdp=%{x}<br>life exp=%{y}<br>pop=%{marker.size}<extra></extra>",
           "hovertext": [
            "Palestine"
           ],
           "ids": [
            "Palestine"
           ],
           "legendgroup": "Palestine",
           "marker": {
            "color": "#ab63fa",
            "size": [
             3440000
            ],
            "sizemode": "area",
            "sizeref": 17187.5,
            "symbol": "circle"
           },
           "mode": "markers",
           "name": "Palestine",
           "orientation": "v",
           "showlegend": true,
           "type": "scatter",
           "x": [
            3770
           ],
           "xaxis": "x",
           "y": [
            70
           ],
           "yaxis": "y"
          },
          {
           "hovertemplate": "<b>%{hovertext}</b><br><br>country=Egypt<br>year=2003<br>gdp=%{x}<br>life exp=%{y}<br>pop=%{marker.size}<extra></extra>",
           "hovertext": [
            "Egypt"
           ],
           "ids": [
            "Egypt"
           ],
           "legendgroup": "Egypt",
           "marker": {
            "color": "#FFA15A",
            "size": [
             72800000
            ],
            "sizemode": "area",
            "sizeref": 17187.5,
            "symbol": "circle"
           },
           "mode": "markers",
           "name": "Egypt",
           "orientation": "v",
           "showlegend": true,
           "type": "scatter",
           "x": [
            8010
           ],
           "xaxis": "x",
           "y": [
            68.2
           ],
           "yaxis": "y"
          }
         ],
         "name": "2003"
        },
        {
         "data": [
          {
           "hovertemplate": "<b>%{hovertext}</b><br><br>country=Iran<br>year=2004<br>gdp=%{x}<br>life exp=%{y}<br>pop=%{marker.size}<extra></extra>",
           "hovertext": [
            "Iran"
           ],
           "ids": [
            "Iran"
           ],
           "legendgroup": "Iran",
           "marker": {
            "color": "#636efa",
            "size": [
             69000000
            ],
            "sizemode": "area",
            "sizeref": 17187.5,
            "symbol": "circle"
           },
           "mode": "markers",
           "name": "Iran",
           "orientation": "v",
           "showlegend": true,
           "type": "scatter",
           "x": [
            11800
           ],
           "xaxis": "x",
           "y": [
            73.2
           ],
           "yaxis": "y"
          },
          {
           "hovertemplate": "<b>%{hovertext}</b><br><br>country=Iraq<br>year=2004<br>gdp=%{x}<br>life exp=%{y}<br>pop=%{marker.size}<extra></extra>",
           "hovertext": [
            "Iraq"
           ],
           "ids": [
            "Iraq"
           ],
           "legendgroup": "Iraq",
           "marker": {
            "color": "#EF553B",
            "size": [
             26300000
            ],
            "sizemode": "area",
            "sizeref": 17187.5,
            "symbol": "circle"
           },
           "mode": "markers",
           "name": "Iraq",
           "orientation": "v",
           "showlegend": true,
           "type": "scatter",
           "x": [
            7050
           ],
           "xaxis": "x",
           "y": [
            68.3
           ],
           "yaxis": "y"
          },
          {
           "hovertemplate": "<b>%{hovertext}</b><br><br>country=Yemen<br>year=2004<br>gdp=%{x}<br>life exp=%{y}<br>pop=%{marker.size}<extra></extra>",
           "hovertext": [
            "Yemen"
           ],
           "ids": [
            "Yemen"
           ],
           "legendgroup": "Yemen",
           "marker": {
            "color": "#00cc96",
            "size": [
             19500000
            ],
            "sizemode": "area",
            "sizeref": 17187.5,
            "symbol": "circle"
           },
           "mode": "markers",
           "name": "Yemen",
           "orientation": "v",
           "showlegend": true,
           "type": "scatter",
           "x": [
            5080
           ],
           "xaxis": "x",
           "y": [
            65.3
           ],
           "yaxis": "y"
          },
          {
           "hovertemplate": "<b>%{hovertext}</b><br><br>country=Syria<br>year=2004<br>gdp=%{x}<br>life exp=%{y}<br>pop=%{marker.size}<extra></extra>",
           "hovertext": [
            "Syria"
           ],
           "ids": [
            "Syria"
           ],
           "legendgroup": "Syria",
           "marker": {
            "color": "#ab63fa",
            "size": [
             17800000
            ],
            "sizemode": "area",
            "sizeref": 17187.5,
            "symbol": "circle"
           },
           "mode": "markers",
           "name": "Syria",
           "orientation": "v",
           "showlegend": true,
           "type": "scatter",
           "x": [
            8200
           ],
           "xaxis": "x",
           "y": [
            74.1
           ],
           "yaxis": "y"
          },
          {
           "hovertemplate": "<b>%{hovertext}</b><br><br>country=Turkey<br>year=2004<br>gdp=%{x}<br>life exp=%{y}<br>pop=%{marker.size}<extra></extra>",
           "hovertext": [
            "Turkey"
           ],
           "ids": [
            "Turkey"
           ],
           "legendgroup": "Turkey",
           "marker": {
            "color": "#FFA15A",
            "size": [
             67000000
            ],
            "sizemode": "area",
            "sizeref": 17187.5,
            "symbol": "circle"
           },
           "mode": "markers",
           "name": "Turkey",
           "orientation": "v",
           "showlegend": true,
           "type": "scatter",
           "x": [
            17000
           ],
           "xaxis": "x",
           "y": [
            76.3
           ],
           "yaxis": "y"
          },
          {
           "hovertemplate": "<b>%{hovertext}</b><br><br>country=Bahrain<br>year=2004<br>gdp=%{x}<br>life exp=%{y}<br>pop=%{marker.size}<extra></extra>",
           "hovertext": [
            "Bahrain"
           ],
           "ids": [
            "Bahrain"
           ],
           "legendgroup": "Bahrain",
           "marker": {
            "color": "#19d3f3",
            "size": [
             830000
            ],
            "sizemode": "area",
            "sizeref": 17187.5,
            "symbol": "circle"
           },
           "mode": "markers",
           "name": "Bahrain",
           "orientation": "v",
           "showlegend": true,
           "type": "scatter",
           "x": [
            47700
           ],
           "xaxis": "x",
           "y": [
            72.3
           ],
           "yaxis": "y"
          },
          {
           "hovertemplate": "<b>%{hovertext}</b><br><br>country=United Arab Emirates<br>year=2004<br>gdp=%{x}<br>life exp=%{y}<br>pop=%{marker.size}<extra></extra>",
           "hovertext": [
            "United Arab Emirates"
           ],
           "ids": [
            "United Arab Emirates"
           ],
           "legendgroup": "United Arab Emirates",
           "marker": {
            "color": "#FF6692",
            "size": [
             4070000.0000000005
            ],
            "sizemode": "area",
            "sizeref": 17187.5,
            "symbol": "circle"
           },
           "mode": "markers",
           "name": "United Arab Emirates",
           "orientation": "v",
           "showlegend": true,
           "type": "scatter",
           "x": [
            82500
           ],
           "xaxis": "x",
           "y": [
            69.1
           ],
           "yaxis": "y"
          },
          {
           "hovertemplate": "<b>%{hovertext}</b><br><br>country=Qatar<br>year=2004<br>gdp=%{x}<br>life exp=%{y}<br>pop=%{marker.size}<extra></extra>",
           "hovertext": [
            "Qatar"
           ],
           "ids": [
            "Qatar"
           ],
           "legendgroup": "Qatar",
           "marker": {
            "color": "#B6E880",
            "size": [
             753000
            ],
            "sizemode": "area",
            "sizeref": 17187.5,
            "symbol": "circle"
           },
           "mode": "markers",
           "name": "Qatar",
           "orientation": "v",
           "showlegend": true,
           "type": "scatter",
           "x": [
            93700
           ],
           "xaxis": "x",
           "y": [
            72.2
           ],
           "yaxis": "y"
          },
          {
           "hovertemplate": "<b>%{hovertext}</b><br><br>country=Jordan<br>year=2004<br>gdp=%{x}<br>life exp=%{y}<br>pop=%{marker.size}<extra></extra>",
           "hovertext": [
            "Jordan"
           ],
           "ids": [
            "Jordan"
           ],
           "legendgroup": "Jordan",
           "marker": {
            "color": "#FF97FF",
            "size": [
             5580000
            ],
            "sizemode": "area",
            "sizeref": 17187.5,
            "symbol": "circle"
           },
           "mode": "markers",
           "name": "Jordan",
           "orientation": "v",
           "showlegend": true,
           "type": "scatter",
           "x": [
            10100
           ],
           "xaxis": "x",
           "y": [
            74
           ],
           "yaxis": "y"
          },
          {
           "hovertemplate": "<b>%{hovertext}</b><br><br>country=Kuwait<br>year=2004<br>gdp=%{x}<br>life exp=%{y}<br>pop=%{marker.size}<extra></extra>",
           "hovertext": [
            "Kuwait"
           ],
           "ids": [
            "Kuwait"
           ],
           "legendgroup": "Kuwait",
           "marker": {
            "color": "#FECB52",
            "size": [
             2200000
            ],
            "sizemode": "area",
            "sizeref": 17187.5,
            "symbol": "circle"
           },
           "mode": "markers",
           "name": "Kuwait",
           "orientation": "v",
           "showlegend": true,
           "type": "scatter",
           "x": [
            68200
           ],
           "xaxis": "x",
           "y": [
            78.8
           ],
           "yaxis": "y"
          },
          {
           "hovertemplate": "<b>%{hovertext}</b><br><br>country=Israel<br>year=2004<br>gdp=%{x}<br>life exp=%{y}<br>pop=%{marker.size}<extra></extra>",
           "hovertext": [
            "Israel"
           ],
           "ids": [
            "Israel"
           ],
           "legendgroup": "Israel",
           "marker": {
            "color": "#636efa",
            "size": [
             6400000
            ],
            "sizemode": "area",
            "sizeref": 17187.5,
            "symbol": "circle"
           },
           "mode": "markers",
           "name": "Israel",
           "orientation": "v",
           "showlegend": true,
           "type": "scatter",
           "x": [
            29300
           ],
           "xaxis": "x",
           "y": [
            79.9
           ],
           "yaxis": "y"
          },
          {
           "hovertemplate": "<b>%{hovertext}</b><br><br>country=Saudi Arabia<br>year=2004<br>gdp=%{x}<br>life exp=%{y}<br>pop=%{marker.size}<extra></extra>",
           "hovertext": [
            "Saudi Arabia"
           ],
           "ids": [
            "Saudi Arabia"
           ],
           "legendgroup": "Saudi Arabia",
           "marker": {
            "color": "#EF553B",
            "size": [
             23100000
            ],
            "sizemode": "area",
            "sizeref": 17187.5,
            "symbol": "circle"
           },
           "mode": "markers",
           "name": "Saudi Arabia",
           "orientation": "v",
           "showlegend": true,
           "type": "scatter",
           "x": [
            35100
           ],
           "xaxis": "x",
           "y": [
            71.1
           ],
           "yaxis": "y"
          },
          {
           "hovertemplate": "<b>%{hovertext}</b><br><br>country=Oman<br>year=2004<br>gdp=%{x}<br>life exp=%{y}<br>pop=%{marker.size}<extra></extra>",
           "hovertext": [
            "Oman"
           ],
           "ids": [
            "Oman"
           ],
           "legendgroup": "Oman",
           "marker": {
            "color": "#00cc96",
            "size": [
             2450000
            ],
            "sizemode": "area",
            "sizeref": 17187.5,
            "symbol": "circle"
           },
           "mode": "markers",
           "name": "Oman",
           "orientation": "v",
           "showlegend": true,
           "type": "scatter",
           "x": [
            36500
           ],
           "xaxis": "x",
           "y": [
            70.2
           ],
           "yaxis": "y"
          },
          {
           "hovertemplate": "<b>%{hovertext}</b><br><br>country=Palestine<br>year=2004<br>gdp=%{x}<br>life exp=%{y}<br>pop=%{marker.size}<extra></extra>",
           "hovertext": [
            "Palestine"
           ],
           "ids": [
            "Palestine"
           ],
           "legendgroup": "Palestine",
           "marker": {
            "color": "#ab63fa",
            "size": [
             3510000
            ],
            "sizemode": "area",
            "sizeref": 17187.5,
            "symbol": "circle"
           },
           "mode": "markers",
           "name": "Palestine",
           "orientation": "v",
           "showlegend": true,
           "type": "scatter",
           "x": [
            4490
           ],
           "xaxis": "x",
           "y": [
            69.8
           ],
           "yaxis": "y"
          },
          {
           "hovertemplate": "<b>%{hovertext}</b><br><br>country=Egypt<br>year=2004<br>gdp=%{x}<br>life exp=%{y}<br>pop=%{marker.size}<extra></extra>",
           "hovertext": [
            "Egypt"
           ],
           "ids": [
            "Egypt"
           ],
           "legendgroup": "Egypt",
           "marker": {
            "color": "#FFA15A",
            "size": [
             74200000
            ],
            "sizemode": "area",
            "sizeref": 17187.5,
            "symbol": "circle"
           },
           "mode": "markers",
           "name": "Egypt",
           "orientation": "v",
           "showlegend": true,
           "type": "scatter",
           "x": [
            8180
           ],
           "xaxis": "x",
           "y": [
            68.5
           ],
           "yaxis": "y"
          }
         ],
         "name": "2004"
        },
        {
         "data": [
          {
           "hovertemplate": "<b>%{hovertext}</b><br><br>country=Iran<br>year=2005<br>gdp=%{x}<br>life exp=%{y}<br>pop=%{marker.size}<extra></extra>",
           "hovertext": [
            "Iran"
           ],
           "ids": [
            "Iran"
           ],
           "legendgroup": "Iran",
           "marker": {
            "color": "#636efa",
            "size": [
             69800000
            ],
            "sizemode": "area",
            "sizeref": 17187.5,
            "symbol": "circle"
           },
           "mode": "markers",
           "name": "Iran",
           "orientation": "v",
           "showlegend": true,
           "type": "scatter",
           "x": [
            12000
           ],
           "xaxis": "x",
           "y": [
            73.5
           ],
           "yaxis": "y"
          },
          {
           "hovertemplate": "<b>%{hovertext}</b><br><br>country=Iraq<br>year=2005<br>gdp=%{x}<br>life exp=%{y}<br>pop=%{marker.size}<extra></extra>",
           "hovertext": [
            "Iraq"
           ],
           "ids": [
            "Iraq"
           ],
           "legendgroup": "Iraq",
           "marker": {
            "color": "#EF553B",
            "size": [
             26900000
            ],
            "sizemode": "area",
            "sizeref": 17187.5,
            "symbol": "circle"
           },
           "mode": "markers",
           "name": "Iraq",
           "orientation": "v",
           "showlegend": true,
           "type": "scatter",
           "x": [
            7490
           ],
           "xaxis": "x",
           "y": [
            67.7
           ],
           "yaxis": "y"
          },
          {
           "hovertemplate": "<b>%{hovertext}</b><br><br>country=Yemen<br>year=2005<br>gdp=%{x}<br>life exp=%{y}<br>pop=%{marker.size}<extra></extra>",
           "hovertext": [
            "Yemen"
           ],
           "ids": [
            "Yemen"
           ],
           "legendgroup": "Yemen",
           "marker": {
            "color": "#00cc96",
            "size": [
             20100000
            ],
            "sizemode": "area",
            "sizeref": 17187.5,
            "symbol": "circle"
           },
           "mode": "markers",
           "name": "Yemen",
           "orientation": "v",
           "showlegend": true,
           "type": "scatter",
           "x": [
            5210
           ],
           "xaxis": "x",
           "y": [
            65.8
           ],
           "yaxis": "y"
          },
          {
           "hovertemplate": "<b>%{hovertext}</b><br><br>country=Syria<br>year=2005<br>gdp=%{x}<br>life exp=%{y}<br>pop=%{marker.size}<extra></extra>",
           "hovertext": [
            "Syria"
           ],
           "ids": [
            "Syria"
           ],
           "legendgroup": "Syria",
           "marker": {
            "color": "#ab63fa",
            "size": [
             18400000
            ],
            "sizemode": "area",
            "sizeref": 17187.5,
            "symbol": "circle"
           },
           "mode": "markers",
           "name": "Syria",
           "orientation": "v",
           "showlegend": true,
           "type": "scatter",
           "x": [
            8180
           ],
           "xaxis": "x",
           "y": [
            74.4
           ],
           "yaxis": "y"
          },
          {
           "hovertemplate": "<b>%{hovertext}</b><br><br>country=Turkey<br>year=2005<br>gdp=%{x}<br>life exp=%{y}<br>pop=%{marker.size}<extra></extra>",
           "hovertext": [
            "Turkey"
           ],
           "ids": [
            "Turkey"
           ],
           "legendgroup": "Turkey",
           "marker": {
            "color": "#FFA15A",
            "size": [
             67900000
            ],
            "sizemode": "area",
            "sizeref": 17187.5,
            "symbol": "circle"
           },
           "mode": "markers",
           "name": "Turkey",
           "orientation": "v",
           "showlegend": true,
           "type": "scatter",
           "x": [
            18300
           ],
           "xaxis": "x",
           "y": [
            76.8
           ],
           "yaxis": "y"
          },
          {
           "hovertemplate": "<b>%{hovertext}</b><br><br>country=Bahrain<br>year=2005<br>gdp=%{x}<br>life exp=%{y}<br>pop=%{marker.size}<extra></extra>",
           "hovertext": [
            "Bahrain"
           ],
           "ids": [
            "Bahrain"
           ],
           "legendgroup": "Bahrain",
           "marker": {
            "color": "#19d3f3",
            "size": [
             889000
            ],
            "sizemode": "area",
            "sizeref": 17187.5,
            "symbol": "circle"
           },
           "mode": "markers",
           "name": "Bahrain",
           "orientation": "v",
           "showlegend": true,
           "type": "scatter",
           "x": [
            47500
           ],
           "xaxis": "x",
           "y": [
            72.7
           ],
           "yaxis": "y"
          },
          {
           "hovertemplate": "<b>%{hovertext}</b><br><br>country=United Arab Emirates<br>year=2005<br>gdp=%{x}<br>life exp=%{y}<br>pop=%{marker.size}<extra></extra>",
           "hovertext": [
            "United Arab Emirates"
           ],
           "ids": [
            "United Arab Emirates"
           ],
           "legendgroup": "United Arab Emirates",
           "marker": {
            "color": "#FF6692",
            "size": [
             4590000
            ],
            "sizemode": "area",
            "sizeref": 17187.5,
            "symbol": "circle"
           },
           "mode": "markers",
           "name": "United Arab Emirates",
           "orientation": "v",
           "showlegend": true,
           "type": "scatter",
           "x": [
            80800
           ],
           "xaxis": "x",
           "y": [
            69.2
           ],
           "yaxis": "y"
          },
          {
           "hovertemplate": "<b>%{hovertext}</b><br><br>country=Qatar<br>year=2005<br>gdp=%{x}<br>life exp=%{y}<br>pop=%{marker.size}<extra></extra>",
           "hovertext": [
            "Qatar"
           ],
           "ids": [
            "Qatar"
           ],
           "legendgroup": "Qatar",
           "marker": {
            "color": "#B6E880",
            "size": [
             865000
            ],
            "sizemode": "area",
            "sizeref": 17187.5,
            "symbol": "circle"
           },
           "mode": "markers",
           "name": "Qatar",
           "orientation": "v",
           "showlegend": true,
           "type": "scatter",
           "x": [
            87700
           ],
           "xaxis": "x",
           "y": [
            72.3
           ],
           "yaxis": "y"
          },
          {
           "hovertemplate": "<b>%{hovertext}</b><br><br>country=Jordan<br>year=2005<br>gdp=%{x}<br>life exp=%{y}<br>pop=%{marker.size}<extra></extra>",
           "hovertext": [
            "Jordan"
           ],
           "ids": [
            "Jordan"
           ],
           "legendgroup": "Jordan",
           "marker": {
            "color": "#FF97FF",
            "size": [
             5770000
            ],
            "sizemode": "area",
            "sizeref": 17187.5,
            "symbol": "circle"
           },
           "mode": "markers",
           "name": "Jordan",
           "orientation": "v",
           "showlegend": true,
           "type": "scatter",
           "x": [
            10600
           ],
           "xaxis": "x",
           "y": [
            74.1
           ],
           "yaxis": "y"
          },
          {
           "hovertemplate": "<b>%{hovertext}</b><br><br>country=Kuwait<br>year=2005<br>gdp=%{x}<br>life exp=%{y}<br>pop=%{marker.size}<extra></extra>",
           "hovertext": [
            "Kuwait"
           ],
           "ids": [
            "Kuwait"
           ],
           "legendgroup": "Kuwait",
           "marker": {
            "color": "#FECB52",
            "size": [
             2270000
            ],
            "sizemode": "area",
            "sizeref": 17187.5,
            "symbol": "circle"
           },
           "mode": "markers",
           "name": "Kuwait",
           "orientation": "v",
           "showlegend": true,
           "type": "scatter",
           "x": [
            73200
           ],
           "xaxis": "x",
           "y": [
            78.7
           ],
           "yaxis": "y"
          },
          {
           "hovertemplate": "<b>%{hovertext}</b><br><br>country=Israel<br>year=2005<br>gdp=%{x}<br>life exp=%{y}<br>pop=%{marker.size}<extra></extra>",
           "hovertext": [
            "Israel"
           ],
           "ids": [
            "Israel"
           ],
           "legendgroup": "Israel",
           "marker": {
            "color": "#636efa",
            "size": [
             6530000
            ],
            "sizemode": "area",
            "sizeref": 17187.5,
            "symbol": "circle"
           },
           "mode": "markers",
           "name": "Israel",
           "orientation": "v",
           "showlegend": true,
           "type": "scatter",
           "x": [
            30000
           ],
           "xaxis": "x",
           "y": [
            80.3
           ],
           "yaxis": "y"
          },
          {
           "hovertemplate": "<b>%{hovertext}</b><br><br>country=Saudi Arabia<br>year=2005<br>gdp=%{x}<br>life exp=%{y}<br>pop=%{marker.size}<extra></extra>",
           "hovertext": [
            "Saudi Arabia"
           ],
           "ids": [
            "Saudi Arabia"
           ],
           "legendgroup": "Saudi Arabia",
           "marker": {
            "color": "#EF553B",
            "size": [
             23800000
            ],
            "sizemode": "area",
            "sizeref": 17187.5,
            "symbol": "circle"
           },
           "mode": "markers",
           "name": "Saudi Arabia",
           "orientation": "v",
           "showlegend": true,
           "type": "scatter",
           "x": [
            38000
           ],
           "xaxis": "x",
           "y": [
            71.2
           ],
           "yaxis": "y"
          },
          {
           "hovertemplate": "<b>%{hovertext}</b><br><br>country=Oman<br>year=2005<br>gdp=%{x}<br>life exp=%{y}<br>pop=%{marker.size}<extra></extra>",
           "hovertext": [
            "Oman"
           ],
           "ids": [
            "Oman"
           ],
           "legendgroup": "Oman",
           "marker": {
            "color": "#00cc96",
            "size": [
             2510000
            ],
            "sizemode": "area",
            "sizeref": 17187.5,
            "symbol": "circle"
           },
           "mode": "markers",
           "name": "Oman",
           "orientation": "v",
           "showlegend": true,
           "type": "scatter",
           "x": [
            36400
           ],
           "xaxis": "x",
           "y": [
            70.3
           ],
           "yaxis": "y"
          },
          {
           "hovertemplate": "<b>%{hovertext}</b><br><br>country=Palestine<br>year=2005<br>gdp=%{x}<br>life exp=%{y}<br>pop=%{marker.size}<extra></extra>",
           "hovertext": [
            "Palestine"
           ],
           "ids": [
            "Palestine"
           ],
           "legendgroup": "Palestine",
           "marker": {
            "color": "#ab63fa",
            "size": [
             3580000
            ],
            "sizemode": "area",
            "sizeref": 17187.5,
            "symbol": "circle"
           },
           "mode": "markers",
           "name": "Palestine",
           "orientation": "v",
           "showlegend": true,
           "type": "scatter",
           "x": [
            4870
           ],
           "xaxis": "x",
           "y": [
            71.1
           ],
           "yaxis": "y"
          },
          {
           "hovertemplate": "<b>%{hovertext}</b><br><br>country=Egypt<br>year=2005<br>gdp=%{x}<br>life exp=%{y}<br>pop=%{marker.size}<extra></extra>",
           "hovertext": [
            "Egypt"
           ],
           "ids": [
            "Egypt"
           ],
           "legendgroup": "Egypt",
           "marker": {
            "color": "#FFA15A",
            "size": [
             75500000
            ],
            "sizemode": "area",
            "sizeref": 17187.5,
            "symbol": "circle"
           },
           "mode": "markers",
           "name": "Egypt",
           "orientation": "v",
           "showlegend": true,
           "type": "scatter",
           "x": [
            8400
           ],
           "xaxis": "x",
           "y": [
            68.8
           ],
           "yaxis": "y"
          }
         ],
         "name": "2005"
        },
        {
         "data": [
          {
           "hovertemplate": "<b>%{hovertext}</b><br><br>country=Iran<br>year=2006<br>gdp=%{x}<br>life exp=%{y}<br>pop=%{marker.size}<extra></extra>",
           "hovertext": [
            "Iran"
           ],
           "ids": [
            "Iran"
           ],
           "legendgroup": "Iran",
           "marker": {
            "color": "#636efa",
            "size": [
             70600000
            ],
            "sizemode": "area",
            "sizeref": 17187.5,
            "symbol": "circle"
           },
           "mode": "markers",
           "name": "Iran",
           "orientation": "v",
           "showlegend": true,
           "type": "scatter",
           "x": [
            12500
           ],
           "xaxis": "x",
           "y": [
            74
           ],
           "yaxis": "y"
          },
          {
           "hovertemplate": "<b>%{hovertext}</b><br><br>country=Iraq<br>year=2006<br>gdp=%{x}<br>life exp=%{y}<br>pop=%{marker.size}<extra></extra>",
           "hovertext": [
            "Iraq"
           ],
           "ids": [
            "Iraq"
           ],
           "legendgroup": "Iraq",
           "marker": {
            "color": "#EF553B",
            "size": [
             27400000
            ],
            "sizemode": "area",
            "sizeref": 17187.5,
            "symbol": "circle"
           },
           "mode": "markers",
           "name": "Iraq",
           "orientation": "v",
           "showlegend": true,
           "type": "scatter",
           "x": [
            8080
           ],
           "xaxis": "x",
           "y": [
            66.6
           ],
           "yaxis": "y"
          },
          {
           "hovertemplate": "<b>%{hovertext}</b><br><br>country=Yemen<br>year=2006<br>gdp=%{x}<br>life exp=%{y}<br>pop=%{marker.size}<extra></extra>",
           "hovertext": [
            "Yemen"
           ],
           "ids": [
            "Yemen"
           ],
           "legendgroup": "Yemen",
           "marker": {
            "color": "#00cc96",
            "size": [
             20700000
            ],
            "sizemode": "area",
            "sizeref": 17187.5,
            "symbol": "circle"
           },
           "mode": "markers",
           "name": "Yemen",
           "orientation": "v",
           "showlegend": true,
           "type": "scatter",
           "x": [
            5230
           ],
           "xaxis": "x",
           "y": [
            66.2
           ],
           "yaxis": "y"
          },
          {
           "hovertemplate": "<b>%{hovertext}</b><br><br>country=Syria<br>year=2006<br>gdp=%{x}<br>life exp=%{y}<br>pop=%{marker.size}<extra></extra>",
           "hovertext": [
            "Syria"
           ],
           "ids": [
            "Syria"
           ],
           "legendgroup": "Syria",
           "marker": {
            "color": "#ab63fa",
            "size": [
             19100000
            ],
            "sizemode": "area",
            "sizeref": 17187.5,
            "symbol": "circle"
           },
           "mode": "markers",
           "name": "Syria",
           "orientation": "v",
           "showlegend": true,
           "type": "scatter",
           "x": [
            8020
           ],
           "xaxis": "x",
           "y": [
            74.5
           ],
           "yaxis": "y"
          },
          {
           "hovertemplate": "<b>%{hovertext}</b><br><br>country=Turkey<br>year=2006<br>gdp=%{x}<br>life exp=%{y}<br>pop=%{marker.size}<extra></extra>",
           "hovertext": [
            "Turkey"
           ],
           "ids": [
            "Turkey"
           ],
           "legendgroup": "Turkey",
           "marker": {
            "color": "#FFA15A",
            "size": [
             68800000
            ],
            "sizemode": "area",
            "sizeref": 17187.5,
            "symbol": "circle"
           },
           "mode": "markers",
           "name": "Turkey",
           "orientation": "v",
           "showlegend": true,
           "type": "scatter",
           "x": [
            19300
           ],
           "xaxis": "x",
           "y": [
            77
           ],
           "yaxis": "y"
          },
          {
           "hovertemplate": "<b>%{hovertext}</b><br><br>country=Bahrain<br>year=2006<br>gdp=%{x}<br>life exp=%{y}<br>pop=%{marker.size}<extra></extra>",
           "hovertext": [
            "Bahrain"
           ],
           "ids": [
            "Bahrain"
           ],
           "legendgroup": "Bahrain",
           "marker": {
            "color": "#19d3f3",
            "size": [
             958000
            ],
            "sizemode": "area",
            "sizeref": 17187.5,
            "symbol": "circle"
           },
           "mode": "markers",
           "name": "Bahrain",
           "orientation": "v",
           "showlegend": true,
           "type": "scatter",
           "x": [
            46900
           ],
           "xaxis": "x",
           "y": [
            73
           ],
           "yaxis": "y"
          },
          {
           "hovertemplate": "<b>%{hovertext}</b><br><br>country=United Arab Emirates<br>year=2006<br>gdp=%{x}<br>life exp=%{y}<br>pop=%{marker.size}<extra></extra>",
           "hovertext": [
            "United Arab Emirates"
           ],
           "ids": [
            "United Arab Emirates"
           ],
           "legendgroup": "United Arab Emirates",
           "marker": {
            "color": "#FF6692",
            "size": [
             5300000
            ],
            "sizemode": "area",
            "sizeref": 17187.5,
            "symbol": "circle"
           },
           "mode": "markers",
           "name": "United Arab Emirates",
           "orientation": "v",
           "showlegend": true,
           "type": "scatter",
           "x": [
            86400
           ],
           "xaxis": "x",
           "y": [
            69.5
           ],
           "yaxis": "y"
          },
          {
           "hovertemplate": "<b>%{hovertext}</b><br><br>country=Qatar<br>year=2006<br>gdp=%{x}<br>life exp=%{y}<br>pop=%{marker.size}<extra></extra>",
           "hovertext": [
            "Qatar"
           ],
           "ids": [
            "Qatar"
           ],
           "legendgroup": "Qatar",
           "marker": {
            "color": "#B6E880",
            "size": [
             1020000
            ],
            "sizemode": "area",
            "sizeref": 17187.5,
            "symbol": "circle"
           },
           "mode": "markers",
           "name": "Qatar",
           "orientation": "v",
           "showlegend": true,
           "type": "scatter",
           "x": [
            93700
           ],
           "xaxis": "x",
           "y": [
            72.1
           ],
           "yaxis": "y"
          },
          {
           "hovertemplate": "<b>%{hovertext}</b><br><br>country=Jordan<br>year=2006<br>gdp=%{x}<br>life exp=%{y}<br>pop=%{marker.size}<extra></extra>",
           "hovertext": [
            "Jordan"
           ],
           "ids": [
            "Jordan"
           ],
           "legendgroup": "Jordan",
           "marker": {
            "color": "#FF97FF",
            "size": [
             5990000
            ],
            "sizemode": "area",
            "sizeref": 17187.5,
            "symbol": "circle"
           },
           "mode": "markers",
           "name": "Jordan",
           "orientation": "v",
           "showlegend": true,
           "type": "scatter",
           "x": [
            11000
           ],
           "xaxis": "x",
           "y": [
            74.5
           ],
           "yaxis": "y"
          },
          {
           "hovertemplate": "<b>%{hovertext}</b><br><br>country=Kuwait<br>year=2006<br>gdp=%{x}<br>life exp=%{y}<br>pop=%{marker.size}<extra></extra>",
           "hovertext": [
            "Kuwait"
           ],
           "ids": [
            "Kuwait"
           ],
           "legendgroup": "Kuwait",
           "marker": {
            "color": "#FECB52",
            "size": [
             2370000
            ],
            "sizemode": "area",
            "sizeref": 17187.5,
            "symbol": "circle"
           },
           "mode": "markers",
           "name": "Kuwait",
           "orientation": "v",
           "showlegend": true,
           "type": "scatter",
           "x": [
            75200
           ],
           "xaxis": "x",
           "y": [
            78.8
           ],
           "yaxis": "y"
          },
          {
           "hovertemplate": "<b>%{hovertext}</b><br><br>country=Israel<br>year=2006<br>gdp=%{x}<br>life exp=%{y}<br>pop=%{marker.size}<extra></extra>",
           "hovertext": [
            "Israel"
           ],
           "ids": [
            "Israel"
           ],
           "legendgroup": "Israel",
           "marker": {
            "color": "#636efa",
            "size": [
             6680000
            ],
            "sizemode": "area",
            "sizeref": 17187.5,
            "symbol": "circle"
           },
           "mode": "markers",
           "name": "Israel",
           "orientation": "v",
           "showlegend": true,
           "type": "scatter",
           "x": [
            31200
           ],
           "xaxis": "x",
           "y": [
            80.4
           ],
           "yaxis": "y"
          },
          {
           "hovertemplate": "<b>%{hovertext}</b><br><br>country=Saudi Arabia<br>year=2006<br>gdp=%{x}<br>life exp=%{y}<br>pop=%{marker.size}<extra></extra>",
           "hovertext": [
            "Saudi Arabia"
           ],
           "ids": [
            "Saudi Arabia"
           ],
           "legendgroup": "Saudi Arabia",
           "marker": {
            "color": "#EF553B",
            "size": [
             24500000
            ],
            "sizemode": "area",
            "sizeref": 17187.5,
            "symbol": "circle"
           },
           "mode": "markers",
           "name": "Saudi Arabia",
           "orientation": "v",
           "showlegend": true,
           "type": "scatter",
           "x": [
            40100
           ],
           "xaxis": "x",
           "y": [
            71.2
           ],
           "yaxis": "y"
          },
          {
           "hovertemplate": "<b>%{hovertext}</b><br><br>country=Oman<br>year=2006<br>gdp=%{x}<br>life exp=%{y}<br>pop=%{marker.size}<extra></extra>",
           "hovertext": [
            "Oman"
           ],
           "ids": [
            "Oman"
           ],
           "legendgroup": "Oman",
           "marker": {
            "color": "#00cc96",
            "size": [
             2580000
            ],
            "sizemode": "area",
            "sizeref": 17187.5,
            "symbol": "circle"
           },
           "mode": "markers",
           "name": "Oman",
           "orientation": "v",
           "showlegend": true,
           "type": "scatter",
           "x": [
            37400
           ],
           "xaxis": "x",
           "y": [
            70.1
           ],
           "yaxis": "y"
          },
          {
           "hovertemplate": "<b>%{hovertext}</b><br><br>country=Palestine<br>year=2006<br>gdp=%{x}<br>life exp=%{y}<br>pop=%{marker.size}<extra></extra>",
           "hovertext": [
            "Palestine"
           ],
           "ids": [
            "Palestine"
           ],
           "legendgroup": "Palestine",
           "marker": {
            "color": "#ab63fa",
            "size": [
             3660000
            ],
            "sizemode": "area",
            "sizeref": 17187.5,
            "symbol": "circle"
           },
           "mode": "markers",
           "name": "Palestine",
           "orientation": "v",
           "showlegend": true,
           "type": "scatter",
           "x": [
            4700
           ],
           "xaxis": "x",
           "y": [
            69.6
           ],
           "yaxis": "y"
          },
          {
           "hovertemplate": "<b>%{hovertext}</b><br><br>country=Egypt<br>year=2006<br>gdp=%{x}<br>life exp=%{y}<br>pop=%{marker.size}<extra></extra>",
           "hovertext": [
            "Egypt"
           ],
           "ids": [
            "Egypt"
           ],
           "legendgroup": "Egypt",
           "marker": {
            "color": "#FFA15A",
            "size": [
             76900000
            ],
            "sizemode": "area",
            "sizeref": 17187.5,
            "symbol": "circle"
           },
           "mode": "markers",
           "name": "Egypt",
           "orientation": "v",
           "showlegend": true,
           "type": "scatter",
           "x": [
            8810
           ],
           "xaxis": "x",
           "y": [
            68.9
           ],
           "yaxis": "y"
          }
         ],
         "name": "2006"
        },
        {
         "data": [
          {
           "hovertemplate": "<b>%{hovertext}</b><br><br>country=Iran<br>year=2007<br>gdp=%{x}<br>life exp=%{y}<br>pop=%{marker.size}<extra></extra>",
           "hovertext": [
            "Iran"
           ],
           "ids": [
            "Iran"
           ],
           "legendgroup": "Iran",
           "marker": {
            "color": "#636efa",
            "size": [
             71300000
            ],
            "sizemode": "area",
            "sizeref": 17187.5,
            "symbol": "circle"
           },
           "mode": "markers",
           "name": "Iran",
           "orientation": "v",
           "showlegend": true,
           "type": "scatter",
           "x": [
            13300
           ],
           "xaxis": "x",
           "y": [
            74.4
           ],
           "yaxis": "y"
          },
          {
           "hovertemplate": "<b>%{hovertext}</b><br><br>country=Iraq<br>year=2007<br>gdp=%{x}<br>life exp=%{y}<br>pop=%{marker.size}<extra></extra>",
           "hovertext": [
            "Iraq"
           ],
           "ids": [
            "Iraq"
           ],
           "legendgroup": "Iraq",
           "marker": {
            "color": "#EF553B",
            "size": [
             27900000
            ],
            "sizemode": "area",
            "sizeref": 17187.5,
            "symbol": "circle"
           },
           "mode": "markers",
           "name": "Iraq",
           "orientation": "v",
           "showlegend": true,
           "type": "scatter",
           "x": [
            8070
           ],
           "xaxis": "x",
           "y": [
            67.2
           ],
           "yaxis": "y"
          },
          {
           "hovertemplate": "<b>%{hovertext}</b><br><br>country=Yemen<br>year=2007<br>gdp=%{x}<br>life exp=%{y}<br>pop=%{marker.size}<extra></extra>",
           "hovertext": [
            "Yemen"
           ],
           "ids": [
            "Yemen"
           ],
           "legendgroup": "Yemen",
           "marker": {
            "color": "#00cc96",
            "size": [
             21300000
            ],
            "sizemode": "area",
            "sizeref": 17187.5,
            "symbol": "circle"
           },
           "mode": "markers",
           "name": "Yemen",
           "orientation": "v",
           "showlegend": true,
           "type": "scatter",
           "x": [
            5250
           ],
           "xaxis": "x",
           "y": [
            66.5
           ],
           "yaxis": "y"
          },
          {
           "hovertemplate": "<b>%{hovertext}</b><br><br>country=Syria<br>year=2007<br>gdp=%{x}<br>life exp=%{y}<br>pop=%{marker.size}<extra></extra>",
           "hovertext": [
            "Syria"
           ],
           "ids": [
            "Syria"
           ],
           "legendgroup": "Syria",
           "marker": {
            "color": "#ab63fa",
            "size": [
             19900000
            ],
            "sizemode": "area",
            "sizeref": 17187.5,
            "symbol": "circle"
           },
           "mode": "markers",
           "name": "Syria",
           "orientation": "v",
           "showlegend": true,
           "type": "scatter",
           "x": [
            7880
           ],
           "xaxis": "x",
           "y": [
            74.6
           ],
           "yaxis": "y"
          },
          {
           "hovertemplate": "<b>%{hovertext}</b><br><br>country=Turkey<br>year=2007<br>gdp=%{x}<br>life exp=%{y}<br>pop=%{marker.size}<extra></extra>",
           "hovertext": [
            "Turkey"
           ],
           "ids": [
            "Turkey"
           ],
           "legendgroup": "Turkey",
           "marker": {
            "color": "#FFA15A",
            "size": [
             69600000
            ],
            "sizemode": "area",
            "sizeref": 17187.5,
            "symbol": "circle"
           },
           "mode": "markers",
           "name": "Turkey",
           "orientation": "v",
           "showlegend": true,
           "type": "scatter",
           "x": [
            20000
           ],
           "xaxis": "x",
           "y": [
            77.1
           ],
           "yaxis": "y"
          },
          {
           "hovertemplate": "<b>%{hovertext}</b><br><br>country=Bahrain<br>year=2007<br>gdp=%{x}<br>life exp=%{y}<br>pop=%{marker.size}<extra></extra>",
           "hovertext": [
            "Bahrain"
           ],
           "ids": [
            "Bahrain"
           ],
           "legendgroup": "Bahrain",
           "marker": {
            "color": "#19d3f3",
            "size": [
             1040000
            ],
            "sizemode": "area",
            "sizeref": 17187.5,
            "symbol": "circle"
           },
           "mode": "markers",
           "name": "Bahrain",
           "orientation": "v",
           "showlegend": true,
           "type": "scatter",
           "x": [
            47000
           ],
           "xaxis": "x",
           "y": [
            73.6
           ],
           "yaxis": "y"
          },
          {
           "hovertemplate": "<b>%{hovertext}</b><br><br>country=United Arab Emirates<br>year=2007<br>gdp=%{x}<br>life exp=%{y}<br>pop=%{marker.size}<extra></extra>",
           "hovertext": [
            "United Arab Emirates"
           ],
           "ids": [
            "United Arab Emirates"
           ],
           "legendgroup": "United Arab Emirates",
           "marker": {
            "color": "#FF6692",
            "size": [
             6170000
            ],
            "sizemode": "area",
            "sizeref": 17187.5,
            "symbol": "circle"
           },
           "mode": "markers",
           "name": "United Arab Emirates",
           "orientation": "v",
           "showlegend": true,
           "type": "scatter",
           "x": [
            76600
           ],
           "xaxis": "x",
           "y": [
            70
           ],
           "yaxis": "y"
          },
          {
           "hovertemplate": "<b>%{hovertext}</b><br><br>country=Qatar<br>year=2007<br>gdp=%{x}<br>life exp=%{y}<br>pop=%{marker.size}<extra></extra>",
           "hovertext": [
            "Qatar"
           ],
           "ids": [
            "Qatar"
           ],
           "legendgroup": "Qatar",
           "marker": {
            "color": "#B6E880",
            "size": [
             1220000
            ],
            "sizemode": "area",
            "sizeref": 17187.5,
            "symbol": "circle"
           },
           "mode": "markers",
           "name": "Qatar",
           "orientation": "v",
           "showlegend": true,
           "type": "scatter",
           "x": [
            92800
           ],
           "xaxis": "x",
           "y": [
            72.2
           ],
           "yaxis": "y"
          },
          {
           "hovertemplate": "<b>%{hovertext}</b><br><br>country=Jordan<br>year=2007<br>gdp=%{x}<br>life exp=%{y}<br>pop=%{marker.size}<extra></extra>",
           "hovertext": [
            "Jordan"
           ],
           "ids": [
            "Jordan"
           ],
           "legendgroup": "Jordan",
           "marker": {
            "color": "#FF97FF",
            "size": [
             6260000
            ],
            "sizemode": "area",
            "sizeref": 17187.5,
            "symbol": "circle"
           },
           "mode": "markers",
           "name": "Jordan",
           "orientation": "v",
           "showlegend": true,
           "type": "scatter",
           "x": [
            11400
           ],
           "xaxis": "x",
           "y": [
            75.5
           ],
           "yaxis": "y"
          },
          {
           "hovertemplate": "<b>%{hovertext}</b><br><br>country=Kuwait<br>year=2007<br>gdp=%{x}<br>life exp=%{y}<br>pop=%{marker.size}<extra></extra>",
           "hovertext": [
            "Kuwait"
           ],
           "ids": [
            "Kuwait"
           ],
           "legendgroup": "Kuwait",
           "marker": {
            "color": "#FECB52",
            "size": [
             2500000
            ],
            "sizemode": "area",
            "sizeref": 17187.5,
            "symbol": "circle"
           },
           "mode": "markers",
           "name": "Kuwait",
           "orientation": "v",
           "showlegend": true,
           "type": "scatter",
           "x": [
            75600
           ],
           "xaxis": "x",
           "y": [
            79
           ],
           "yaxis": "y"
          },
          {
           "hovertemplate": "<b>%{hovertext}</b><br><br>country=Israel<br>year=2007<br>gdp=%{x}<br>life exp=%{y}<br>pop=%{marker.size}<extra></extra>",
           "hovertext": [
            "Israel"
           ],
           "ids": [
            "Israel"
           ],
           "legendgroup": "Israel",
           "marker": {
            "color": "#636efa",
            "size": [
             6850000
            ],
            "sizemode": "area",
            "sizeref": 17187.5,
            "symbol": "circle"
           },
           "mode": "markers",
           "name": "Israel",
           "orientation": "v",
           "showlegend": true,
           "type": "scatter",
           "x": [
            32500
           ],
           "xaxis": "x",
           "y": [
            80.8
           ],
           "yaxis": "y"
          },
          {
           "hovertemplate": "<b>%{hovertext}</b><br><br>country=Saudi Arabia<br>year=2007<br>gdp=%{x}<br>life exp=%{y}<br>pop=%{marker.size}<extra></extra>",
           "hovertext": [
            "Saudi Arabia"
           ],
           "ids": [
            "Saudi Arabia"
           ],
           "legendgroup": "Saudi Arabia",
           "marker": {
            "color": "#EF553B",
            "size": [
             25200000
            ],
            "sizemode": "area",
            "sizeref": 17187.5,
            "symbol": "circle"
           },
           "mode": "markers",
           "name": "Saudi Arabia",
           "orientation": "v",
           "showlegend": true,
           "type": "scatter",
           "x": [
            41900
           ],
           "xaxis": "x",
           "y": [
            71.3
           ],
           "yaxis": "y"
          },
          {
           "hovertemplate": "<b>%{hovertext}</b><br><br>country=Oman<br>year=2007<br>gdp=%{x}<br>life exp=%{y}<br>pop=%{marker.size}<extra></extra>",
           "hovertext": [
            "Oman"
           ],
           "ids": [
            "Oman"
           ],
           "legendgroup": "Oman",
           "marker": {
            "color": "#00cc96",
            "size": [
             2660000
            ],
            "sizemode": "area",
            "sizeref": 17187.5,
            "symbol": "circle"
           },
           "mode": "markers",
           "name": "Oman",
           "orientation": "v",
           "showlegend": true,
           "type": "scatter",
           "x": [
            37900
           ],
           "xaxis": "x",
           "y": [
            69.9
           ],
           "yaxis": "y"
          },
          {
           "hovertemplate": "<b>%{hovertext}</b><br><br>country=Palestine<br>year=2007<br>gdp=%{x}<br>life exp=%{y}<br>pop=%{marker.size}<extra></extra>",
           "hovertext": [
            "Palestine"
           ],
           "ids": [
            "Palestine"
           ],
           "legendgroup": "Palestine",
           "marker": {
            "color": "#ab63fa",
            "size": [
             3760000
            ],
            "sizemode": "area",
            "sizeref": 17187.5,
            "symbol": "circle"
           },
           "mode": "markers",
           "name": "Palestine",
           "orientation": "v",
           "showlegend": true,
           "type": "scatter",
           "x": [
            4750
           ],
           "xaxis": "x",
           "y": [
            71.6
           ],
           "yaxis": "y"
          },
          {
           "hovertemplate": "<b>%{hovertext}</b><br><br>country=Egypt<br>year=2007<br>gdp=%{x}<br>life exp=%{y}<br>pop=%{marker.size}<extra></extra>",
           "hovertext": [
            "Egypt"
           ],
           "ids": [
            "Egypt"
           ],
           "legendgroup": "Egypt",
           "marker": {
            "color": "#FFA15A",
            "size": [
             78200000
            ],
            "sizemode": "area",
            "sizeref": 17187.5,
            "symbol": "circle"
           },
           "mode": "markers",
           "name": "Egypt",
           "orientation": "v",
           "showlegend": true,
           "type": "scatter",
           "x": [
            9280
           ],
           "xaxis": "x",
           "y": [
            69.2
           ],
           "yaxis": "y"
          }
         ],
         "name": "2007"
        },
        {
         "data": [
          {
           "hovertemplate": "<b>%{hovertext}</b><br><br>country=Iran<br>year=2008<br>gdp=%{x}<br>life exp=%{y}<br>pop=%{marker.size}<extra></extra>",
           "hovertext": [
            "Iran"
           ],
           "ids": [
            "Iran"
           ],
           "legendgroup": "Iran",
           "marker": {
            "color": "#636efa",
            "size": [
             72100000
            ],
            "sizemode": "area",
            "sizeref": 17187.5,
            "symbol": "circle"
           },
           "mode": "markers",
           "name": "Iran",
           "orientation": "v",
           "showlegend": true,
           "type": "scatter",
           "x": [
            13200
           ],
           "xaxis": "x",
           "y": [
            74.8
           ],
           "yaxis": "y"
          },
          {
           "hovertemplate": "<b>%{hovertext}</b><br><br>country=Iraq<br>year=2008<br>gdp=%{x}<br>life exp=%{y}<br>pop=%{marker.size}<extra></extra>",
           "hovertext": [
            "Iraq"
           ],
           "ids": [
            "Iraq"
           ],
           "legendgroup": "Iraq",
           "marker": {
            "color": "#EF553B",
            "size": [
             28400000
            ],
            "sizemode": "area",
            "sizeref": 17187.5,
            "symbol": "circle"
           },
           "mode": "markers",
           "name": "Iraq",
           "orientation": "v",
           "showlegend": true,
           "type": "scatter",
           "x": [
            8190
           ],
           "xaxis": "x",
           "y": [
            69.3
           ],
           "yaxis": "y"
          },
          {
           "hovertemplate": "<b>%{hovertext}</b><br><br>country=Yemen<br>year=2008<br>gdp=%{x}<br>life exp=%{y}<br>pop=%{marker.size}<extra></extra>",
           "hovertext": [
            "Yemen"
           ],
           "ids": [
            "Yemen"
           ],
           "legendgroup": "Yemen",
           "marker": {
            "color": "#00cc96",
            "size": [
             21900000
            ],
            "sizemode": "area",
            "sizeref": 17187.5,
            "symbol": "circle"
           },
           "mode": "markers",
           "name": "Yemen",
           "orientation": "v",
           "showlegend": true,
           "type": "scatter",
           "x": [
            5290
           ],
           "xaxis": "x",
           "y": [
            66.9
           ],
           "yaxis": "y"
          },
          {
           "hovertemplate": "<b>%{hovertext}</b><br><br>country=Syria<br>year=2008<br>gdp=%{x}<br>life exp=%{y}<br>pop=%{marker.size}<extra></extra>",
           "hovertext": [
            "Syria"
           ],
           "ids": [
            "Syria"
           ],
           "legendgroup": "Syria",
           "marker": {
            "color": "#ab63fa",
            "size": [
             20700000
            ],
            "sizemode": "area",
            "sizeref": 17187.5,
            "symbol": "circle"
           },
           "mode": "markers",
           "name": "Syria",
           "orientation": "v",
           "showlegend": true,
           "type": "scatter",
           "x": [
            7670
           ],
           "xaxis": "x",
           "y": [
            74.4
           ],
           "yaxis": "y"
          },
          {
           "hovertemplate": "<b>%{hovertext}</b><br><br>country=Turkey<br>year=2008<br>gdp=%{x}<br>life exp=%{y}<br>pop=%{marker.size}<extra></extra>",
           "hovertext": [
            "Turkey"
           ],
           "ids": [
            "Turkey"
           ],
           "legendgroup": "Turkey",
           "marker": {
            "color": "#FFA15A",
            "size": [
             70400000
            ],
            "sizemode": "area",
            "sizeref": 17187.5,
            "symbol": "circle"
           },
           "mode": "markers",
           "name": "Turkey",
           "orientation": "v",
           "showlegend": true,
           "type": "scatter",
           "x": [
            19900
           ],
           "xaxis": "x",
           "y": [
            77
           ],
           "yaxis": "y"
          },
          {
           "hovertemplate": "<b>%{hovertext}</b><br><br>country=Bahrain<br>year=2008<br>gdp=%{x}<br>life exp=%{y}<br>pop=%{marker.size}<extra></extra>",
           "hovertext": [
            "Bahrain"
           ],
           "ids": [
            "Bahrain"
           ],
           "legendgroup": "Bahrain",
           "marker": {
            "color": "#19d3f3",
            "size": [
             1110000
            ],
            "sizemode": "area",
            "sizeref": 17187.5,
            "symbol": "circle"
           },
           "mode": "markers",
           "name": "Bahrain",
           "orientation": "v",
           "showlegend": true,
           "type": "scatter",
           "x": [
            46400
           ],
           "xaxis": "x",
           "y": [
            74
           ],
           "yaxis": "y"
          },
          {
           "hovertemplate": "<b>%{hovertext}</b><br><br>country=United Arab Emirates<br>year=2008<br>gdp=%{x}<br>life exp=%{y}<br>pop=%{marker.size}<extra></extra>",
           "hovertext": [
            "United Arab Emirates"
           ],
           "ids": [
            "United Arab Emirates"
           ],
           "legendgroup": "United Arab Emirates",
           "marker": {
            "color": "#FF6692",
            "size": [
             7090000
            ],
            "sizemode": "area",
            "sizeref": 17187.5,
            "symbol": "circle"
           },
           "mode": "markers",
           "name": "United Arab Emirates",
           "orientation": "v",
           "showlegend": true,
           "type": "scatter",
           "x": [
            68800
           ],
           "xaxis": "x",
           "y": [
            70.4
           ],
           "yaxis": "y"
          },
          {
           "hovertemplate": "<b>%{hovertext}</b><br><br>country=Qatar<br>year=2008<br>gdp=%{x}<br>life exp=%{y}<br>pop=%{marker.size}<extra></extra>",
           "hovertext": [
            "Qatar"
           ],
           "ids": [
            "Qatar"
           ],
           "legendgroup": "Qatar",
           "marker": {
            "color": "#B6E880",
            "size": [
             1440000
            ],
            "sizemode": "area",
            "sizeref": 17187.5,
            "symbol": "circle"
           },
           "mode": "markers",
           "name": "Qatar",
           "orientation": "v",
           "showlegend": true,
           "type": "scatter",
           "x": [
            92600
           ],
           "xaxis": "x",
           "y": [
            72.5
           ],
           "yaxis": "y"
          },
          {
           "hovertemplate": "<b>%{hovertext}</b><br><br>country=Jordan<br>year=2008<br>gdp=%{x}<br>life exp=%{y}<br>pop=%{marker.size}<extra></extra>",
           "hovertext": [
            "Jordan"
           ],
           "ids": [
            "Jordan"
           ],
           "legendgroup": "Jordan",
           "marker": {
            "color": "#FF97FF",
            "size": [
             6560000
            ],
            "sizemode": "area",
            "sizeref": 17187.5,
            "symbol": "circle"
           },
           "mode": "markers",
           "name": "Jordan",
           "orientation": "v",
           "showlegend": true,
           "type": "scatter",
           "x": [
            11700
           ],
           "xaxis": "x",
           "y": [
            76.2
           ],
           "yaxis": "y"
          },
          {
           "hovertemplate": "<b>%{hovertext}</b><br><br>country=Kuwait<br>year=2008<br>gdp=%{x}<br>life exp=%{y}<br>pop=%{marker.size}<extra></extra>",
           "hovertext": [
            "Kuwait"
           ],
           "ids": [
            "Kuwait"
           ],
           "legendgroup": "Kuwait",
           "marker": {
            "color": "#FECB52",
            "size": [
             2660000
            ],
            "sizemode": "area",
            "sizeref": 17187.5,
            "symbol": "circle"
           },
           "mode": "markers",
           "name": "Kuwait",
           "orientation": "v",
           "showlegend": true,
           "type": "scatter",
           "x": [
            73000
           ],
           "xaxis": "x",
           "y": [
            78.1
           ],
           "yaxis": "y"
          },
          {
           "hovertemplate": "<b>%{hovertext}</b><br><br>country=Israel<br>year=2008<br>gdp=%{x}<br>life exp=%{y}<br>pop=%{marker.size}<extra></extra>",
           "hovertext": [
            "Israel"
           ],
           "ids": [
            "Israel"
           ],
           "legendgroup": "Israel",
           "marker": {
            "color": "#636efa",
            "size": [
             7020000
            ],
            "sizemode": "area",
            "sizeref": 17187.5,
            "symbol": "circle"
           },
           "mode": "markers",
           "name": "Israel",
           "orientation": "v",
           "showlegend": true,
           "type": "scatter",
           "x": [
            33000
           ],
           "xaxis": "x",
           "y": [
            81
           ],
           "yaxis": "y"
          },
          {
           "hovertemplate": "<b>%{hovertext}</b><br><br>country=Saudi Arabia<br>year=2008<br>gdp=%{x}<br>life exp=%{y}<br>pop=%{marker.size}<extra></extra>",
           "hovertext": [
            "Saudi Arabia"
           ],
           "ids": [
            "Saudi Arabia"
           ],
           "legendgroup": "Saudi Arabia",
           "marker": {
            "color": "#EF553B",
            "size": [
             25900000
            ],
            "sizemode": "area",
            "sizeref": 17187.5,
            "symbol": "circle"
           },
           "mode": "markers",
           "name": "Saudi Arabia",
           "orientation": "v",
           "showlegend": true,
           "type": "scatter",
           "x": [
            45800
           ],
           "xaxis": "x",
           "y": [
            71.4
           ],
           "yaxis": "y"
          },
          {
           "hovertemplate": "<b>%{hovertext}</b><br><br>country=Oman<br>year=2008<br>gdp=%{x}<br>life exp=%{y}<br>pop=%{marker.size}<extra></extra>",
           "hovertext": [
            "Oman"
           ],
           "ids": [
            "Oman"
           ],
           "legendgroup": "Oman",
           "marker": {
            "color": "#00cc96",
            "size": [
             2750000
            ],
            "sizemode": "area",
            "sizeref": 17187.5,
            "symbol": "circle"
           },
           "mode": "markers",
           "name": "Oman",
           "orientation": "v",
           "showlegend": true,
           "type": "scatter",
           "x": [
            39600
           ],
           "xaxis": "x",
           "y": [
            70
           ],
           "yaxis": "y"
          },
          {
           "hovertemplate": "<b>%{hovertext}</b><br><br>country=Palestine<br>year=2008<br>gdp=%{x}<br>life exp=%{y}<br>pop=%{marker.size}<extra></extra>",
           "hovertext": [
            "Palestine"
           ],
           "ids": [
            "Palestine"
           ],
           "legendgroup": "Palestine",
           "marker": {
            "color": "#ab63fa",
            "size": [
             3860000
            ],
            "sizemode": "area",
            "sizeref": 17187.5,
            "symbol": "circle"
           },
           "mode": "markers",
           "name": "Palestine",
           "orientation": "v",
           "showlegend": true,
           "type": "scatter",
           "x": [
            4970
           ],
           "xaxis": "x",
           "y": [
            69.3
           ],
           "yaxis": "y"
          },
          {
           "hovertemplate": "<b>%{hovertext}</b><br><br>country=Egypt<br>year=2008<br>gdp=%{x}<br>life exp=%{y}<br>pop=%{marker.size}<extra></extra>",
           "hovertext": [
            "Egypt"
           ],
           "ids": [
            "Egypt"
           ],
           "legendgroup": "Egypt",
           "marker": {
            "color": "#FFA15A",
            "size": [
             79600000
            ],
            "sizemode": "area",
            "sizeref": 17187.5,
            "symbol": "circle"
           },
           "mode": "markers",
           "name": "Egypt",
           "orientation": "v",
           "showlegend": true,
           "type": "scatter",
           "x": [
            9760
           ],
           "xaxis": "x",
           "y": [
            69.3
           ],
           "yaxis": "y"
          }
         ],
         "name": "2008"
        },
        {
         "data": [
          {
           "hovertemplate": "<b>%{hovertext}</b><br><br>country=Iran<br>year=2009<br>gdp=%{x}<br>life exp=%{y}<br>pop=%{marker.size}<extra></extra>",
           "hovertext": [
            "Iran"
           ],
           "ids": [
            "Iran"
           ],
           "legendgroup": "Iran",
           "marker": {
            "color": "#636efa",
            "size": [
             72900000
            ],
            "sizemode": "area",
            "sizeref": 17187.5,
            "symbol": "circle"
           },
           "mode": "markers",
           "name": "Iran",
           "orientation": "v",
           "showlegend": true,
           "type": "scatter",
           "x": [
            13200
           ],
           "xaxis": "x",
           "y": [
            75.1
           ],
           "yaxis": "y"
          },
          {
           "hovertemplate": "<b>%{hovertext}</b><br><br>country=Iraq<br>year=2009<br>gdp=%{x}<br>life exp=%{y}<br>pop=%{marker.size}<extra></extra>",
           "hovertext": [
            "Iraq"
           ],
           "ids": [
            "Iraq"
           ],
           "legendgroup": "Iraq",
           "marker": {
            "color": "#EF553B",
            "size": [
             29000000
            ],
            "sizemode": "area",
            "sizeref": 17187.5,
            "symbol": "circle"
           },
           "mode": "markers",
           "name": "Iraq",
           "orientation": "v",
           "showlegend": true,
           "type": "scatter",
           "x": [
            8290
           ],
           "xaxis": "x",
           "y": [
            70.1
           ],
           "yaxis": "y"
          },
          {
           "hovertemplate": "<b>%{hovertext}</b><br><br>country=Yemen<br>year=2009<br>gdp=%{x}<br>life exp=%{y}<br>pop=%{marker.size}<extra></extra>",
           "hovertext": [
            "Yemen"
           ],
           "ids": [
            "Yemen"
           ],
           "legendgroup": "Yemen",
           "marker": {
            "color": "#00cc96",
            "size": [
             22500000
            ],
            "sizemode": "area",
            "sizeref": 17187.5,
            "symbol": "circle"
           },
           "mode": "markers",
           "name": "Yemen",
           "orientation": "v",
           "showlegend": true,
           "type": "scatter",
           "x": [
            5340
           ],
           "xaxis": "x",
           "y": [
            67.2
           ],
           "yaxis": "y"
          },
          {
           "hovertemplate": "<b>%{hovertext}</b><br><br>country=Syria<br>year=2009<br>gdp=%{x}<br>life exp=%{y}<br>pop=%{marker.size}<extra></extra>",
           "hovertext": [
            "Syria"
           ],
           "ids": [
            "Syria"
           ],
           "legendgroup": "Syria",
           "marker": {
            "color": "#ab63fa",
            "size": [
             21200000
            ],
            "sizemode": "area",
            "sizeref": 17187.5,
            "symbol": "circle"
           },
           "mode": "markers",
           "name": "Syria",
           "orientation": "v",
           "showlegend": true,
           "type": "scatter",
           "x": [
            7660
           ],
           "xaxis": "x",
           "y": [
            74.7
           ],
           "yaxis": "y"
          },
          {
           "hovertemplate": "<b>%{hovertext}</b><br><br>country=Turkey<br>year=2009<br>gdp=%{x}<br>life exp=%{y}<br>pop=%{marker.size}<extra></extra>",
           "hovertext": [
            "Turkey"
           ],
           "ids": [
            "Turkey"
           ],
           "legendgroup": "Turkey",
           "marker": {
            "color": "#FFA15A",
            "size": [
             71300000
            ],
            "sizemode": "area",
            "sizeref": 17187.5,
            "symbol": "circle"
           },
           "mode": "markers",
           "name": "Turkey",
           "orientation": "v",
           "showlegend": true,
           "type": "scatter",
           "x": [
            18700
           ],
           "xaxis": "x",
           "y": [
            76.8
           ],
           "yaxis": "y"
          },
          {
           "hovertemplate": "<b>%{hovertext}</b><br><br>country=Bahrain<br>year=2009<br>gdp=%{x}<br>life exp=%{y}<br>pop=%{marker.size}<extra></extra>",
           "hovertext": [
            "Bahrain"
           ],
           "ids": [
            "Bahrain"
           ],
           "legendgroup": "Bahrain",
           "marker": {
            "color": "#19d3f3",
            "size": [
             1190000
            ],
            "sizemode": "area",
            "sizeref": 17187.5,
            "symbol": "circle"
           },
           "mode": "markers",
           "name": "Bahrain",
           "orientation": "v",
           "showlegend": true,
           "type": "scatter",
           "x": [
            44800
           ],
           "xaxis": "x",
           "y": [
            74.5
           ],
           "yaxis": "y"
          },
          {
           "hovertemplate": "<b>%{hovertext}</b><br><br>country=United Arab Emirates<br>year=2009<br>gdp=%{x}<br>life exp=%{y}<br>pop=%{marker.size}<extra></extra>",
           "hovertext": [
            "United Arab Emirates"
           ],
           "ids": [
            "United Arab Emirates"
           ],
           "legendgroup": "United Arab Emirates",
           "marker": {
            "color": "#FF6692",
            "size": [
             7920000
            ],
            "sizemode": "area",
            "sizeref": 17187.5,
            "symbol": "circle"
           },
           "mode": "markers",
           "name": "United Arab Emirates",
           "orientation": "v",
           "showlegend": true,
           "type": "scatter",
           "x": [
            58400
           ],
           "xaxis": "x",
           "y": [
            70.6
           ],
           "yaxis": "y"
          },
          {
           "hovertemplate": "<b>%{hovertext}</b><br><br>country=Qatar<br>year=2009<br>gdp=%{x}<br>life exp=%{y}<br>pop=%{marker.size}<extra></extra>",
           "hovertext": [
            "Qatar"
           ],
           "ids": [
            "Qatar"
           ],
           "legendgroup": "Qatar",
           "marker": {
            "color": "#B6E880",
            "size": [
             1650000
            ],
            "sizemode": "area",
            "sizeref": 17187.5,
            "symbol": "circle"
           },
           "mode": "markers",
           "name": "Qatar",
           "orientation": "v",
           "showlegend": true,
           "type": "scatter",
           "x": [
            90000
           ],
           "xaxis": "x",
           "y": [
            72.8
           ],
           "yaxis": "y"
          },
          {
           "hovertemplate": "<b>%{hovertext}</b><br><br>country=Jordan<br>year=2009<br>gdp=%{x}<br>life exp=%{y}<br>pop=%{marker.size}<extra></extra>",
           "hovertext": [
            "Jordan"
           ],
           "ids": [
            "Jordan"
           ],
           "legendgroup": "Jordan",
           "marker": {
            "color": "#FF97FF",
            "size": [
             6890000
            ],
            "sizemode": "area",
            "sizeref": 17187.5,
            "symbol": "circle"
           },
           "mode": "markers",
           "name": "Jordan",
           "orientation": "v",
           "showlegend": true,
           "type": "scatter",
           "x": [
            11700
           ],
           "xaxis": "x",
           "y": [
            76.7
           ],
           "yaxis": "y"
          },
          {
           "hovertemplate": "<b>%{hovertext}</b><br><br>country=Kuwait<br>year=2009<br>gdp=%{x}<br>life exp=%{y}<br>pop=%{marker.size}<extra></extra>",
           "hovertext": [
            "Kuwait"
           ],
           "ids": [
            "Kuwait"
           ],
           "legendgroup": "Kuwait",
           "marker": {
            "color": "#FECB52",
            "size": [
             2820000
            ],
            "sizemode": "area",
            "sizeref": 17187.5,
            "symbol": "circle"
           },
           "mode": "markers",
           "name": "Kuwait",
           "orientation": "v",
           "showlegend": true,
           "type": "scatter",
           "x": [
            63900
           ],
           "xaxis": "x",
           "y": [
            78.7
           ],
           "yaxis": "y"
          },
          {
           "hovertemplate": "<b>%{hovertext}</b><br><br>country=Israel<br>year=2009<br>gdp=%{x}<br>life exp=%{y}<br>pop=%{marker.size}<extra></extra>",
           "hovertext": [
            "Israel"
           ],
           "ids": [
            "Israel"
           ],
           "legendgroup": "Israel",
           "marker": {
            "color": "#636efa",
            "size": [
             7190000
            ],
            "sizemode": "area",
            "sizeref": 17187.5,
            "symbol": "circle"
           },
           "mode": "markers",
           "name": "Israel",
           "orientation": "v",
           "showlegend": true,
           "type": "scatter",
           "x": [
            32600
           ],
           "xaxis": "x",
           "y": [
            81.4
           ],
           "yaxis": "y"
          },
          {
           "hovertemplate": "<b>%{hovertext}</b><br><br>country=Saudi Arabia<br>year=2009<br>gdp=%{x}<br>life exp=%{y}<br>pop=%{marker.size}<extra></extra>",
           "hovertext": [
            "Saudi Arabia"
           ],
           "ids": [
            "Saudi Arabia"
           ],
           "legendgroup": "Saudi Arabia",
           "marker": {
            "color": "#EF553B",
            "size": [
             26600000
            ],
            "sizemode": "area",
            "sizeref": 17187.5,
            "symbol": "circle"
           },
           "mode": "markers",
           "name": "Saudi Arabia",
           "orientation": "v",
           "showlegend": true,
           "type": "scatter",
           "x": [
            44600
           ],
           "xaxis": "x",
           "y": [
            71.6
           ],
           "yaxis": "y"
          },
          {
           "hovertemplate": "<b>%{hovertext}</b><br><br>country=Oman<br>year=2009<br>gdp=%{x}<br>life exp=%{y}<br>pop=%{marker.size}<extra></extra>",
           "hovertext": [
            "Oman"
           ],
           "ids": [
            "Oman"
           ],
           "legendgroup": "Oman",
           "marker": {
            "color": "#00cc96",
            "size": [
             2880000
            ],
            "sizemode": "area",
            "sizeref": 17187.5,
            "symbol": "circle"
           },
           "mode": "markers",
           "name": "Oman",
           "orientation": "v",
           "showlegend": true,
           "type": "scatter",
           "x": [
            40200
           ],
           "xaxis": "x",
           "y": [
            70.2
           ],
           "yaxis": "y"
          },
          {
           "hovertemplate": "<b>%{hovertext}</b><br><br>country=Palestine<br>year=2009<br>gdp=%{x}<br>life exp=%{y}<br>pop=%{marker.size}<extra></extra>",
           "hovertext": [
            "Palestine"
           ],
           "ids": [
            "Palestine"
           ],
           "legendgroup": "Palestine",
           "marker": {
            "color": "#ab63fa",
            "size": [
             3960000
            ],
            "sizemode": "area",
            "sizeref": 17187.5,
            "symbol": "circle"
           },
           "mode": "markers",
           "name": "Palestine",
           "orientation": "v",
           "showlegend": true,
           "type": "scatter",
           "x": [
            5250
           ],
           "xaxis": "x",
           "y": [
            69.8
           ],
           "yaxis": "y"
          },
          {
           "hovertemplate": "<b>%{hovertext}</b><br><br>country=Egypt<br>year=2009<br>gdp=%{x}<br>life exp=%{y}<br>pop=%{marker.size}<extra></extra>",
           "hovertext": [
            "Egypt"
           ],
           "ids": [
            "Egypt"
           ],
           "legendgroup": "Egypt",
           "marker": {
            "color": "#FFA15A",
            "size": [
             81100000
            ],
            "sizemode": "area",
            "sizeref": 17187.5,
            "symbol": "circle"
           },
           "mode": "markers",
           "name": "Egypt",
           "orientation": "v",
           "showlegend": true,
           "type": "scatter",
           "x": [
            10000
           ],
           "xaxis": "x",
           "y": [
            69.3
           ],
           "yaxis": "y"
          }
         ],
         "name": "2009"
        },
        {
         "data": [
          {
           "hovertemplate": "<b>%{hovertext}</b><br><br>country=Iran<br>year=2010<br>gdp=%{x}<br>life exp=%{y}<br>pop=%{marker.size}<extra></extra>",
           "hovertext": [
            "Iran"
           ],
           "ids": [
            "Iran"
           ],
           "legendgroup": "Iran",
           "marker": {
            "color": "#636efa",
            "size": [
             73800000
            ],
            "sizemode": "area",
            "sizeref": 17187.5,
            "symbol": "circle"
           },
           "mode": "markers",
           "name": "Iran",
           "orientation": "v",
           "showlegend": true,
           "type": "scatter",
           "x": [
            13800
           ],
           "xaxis": "x",
           "y": [
            75.5
           ],
           "yaxis": "y"
          },
          {
           "hovertemplate": "<b>%{hovertext}</b><br><br>country=Iraq<br>year=2010<br>gdp=%{x}<br>life exp=%{y}<br>pop=%{marker.size}<extra></extra>",
           "hovertext": [
            "Iraq"
           ],
           "ids": [
            "Iraq"
           ],
           "legendgroup": "Iraq",
           "marker": {
            "color": "#EF553B",
            "size": [
             29700000
            ],
            "sizemode": "area",
            "sizeref": 17187.5,
            "symbol": "circle"
           },
           "mode": "markers",
           "name": "Iraq",
           "orientation": "v",
           "showlegend": true,
           "type": "scatter",
           "x": [
            8600
           ],
           "xaxis": "x",
           "y": [
            70.6
           ],
           "yaxis": "y"
          },
          {
           "hovertemplate": "<b>%{hovertext}</b><br><br>country=Yemen<br>year=2010<br>gdp=%{x}<br>life exp=%{y}<br>pop=%{marker.size}<extra></extra>",
           "hovertext": [
            "Yemen"
           ],
           "ids": [
            "Yemen"
           ],
           "legendgroup": "Yemen",
           "marker": {
            "color": "#00cc96",
            "size": [
             23200000
            ],
            "sizemode": "area",
            "sizeref": 17187.5,
            "symbol": "circle"
           },
           "mode": "markers",
           "name": "Yemen",
           "orientation": "v",
           "showlegend": true,
           "type": "scatter",
           "x": [
            5590
           ],
           "xaxis": "x",
           "y": [
            67.6
           ],
           "yaxis": "y"
          },
          {
           "hovertemplate": "<b>%{hovertext}</b><br><br>country=Syria<br>year=2010<br>gdp=%{x}<br>life exp=%{y}<br>pop=%{marker.size}<extra></extra>",
           "hovertext": [
            "Syria"
           ],
           "ids": [
            "Syria"
           ],
           "legendgroup": "Syria",
           "marker": {
            "color": "#ab63fa",
            "size": [
             21400000
            ],
            "sizemode": "area",
            "sizeref": 17187.5,
            "symbol": "circle"
           },
           "mode": "markers",
           "name": "Syria",
           "orientation": "v",
           "showlegend": true,
           "type": "scatter",
           "x": [
            7580
           ],
           "xaxis": "x",
           "y": [
            74.7
           ],
           "yaxis": "y"
          },
          {
           "hovertemplate": "<b>%{hovertext}</b><br><br>country=Turkey<br>year=2010<br>gdp=%{x}<br>life exp=%{y}<br>pop=%{marker.size}<extra></extra>",
           "hovertext": [
            "Turkey"
           ],
           "ids": [
            "Turkey"
           ],
           "legendgroup": "Turkey",
           "marker": {
            "color": "#FFA15A",
            "size": [
             72300000
            ],
            "sizemode": "area",
            "sizeref": 17187.5,
            "symbol": "circle"
           },
           "mode": "markers",
           "name": "Turkey",
           "orientation": "v",
           "showlegend": true,
           "type": "scatter",
           "x": [
            20000
           ],
           "xaxis": "x",
           "y": [
            76.7
           ],
           "yaxis": "y"
          },
          {
           "hovertemplate": "<b>%{hovertext}</b><br><br>country=Bahrain<br>year=2010<br>gdp=%{x}<br>life exp=%{y}<br>pop=%{marker.size}<extra></extra>",
           "hovertext": [
            "Bahrain"
           ],
           "ids": [
            "Bahrain"
           ],
           "legendgroup": "Bahrain",
           "marker": {
            "color": "#19d3f3",
            "size": [
             1240000
            ],
            "sizemode": "area",
            "sizeref": 17187.5,
            "symbol": "circle"
           },
           "mode": "markers",
           "name": "Bahrain",
           "orientation": "v",
           "showlegend": true,
           "type": "scatter",
           "x": [
            44600
           ],
           "xaxis": "x",
           "y": [
            75
           ],
           "yaxis": "y"
          },
          {
           "hovertemplate": "<b>%{hovertext}</b><br><br>country=United Arab Emirates<br>year=2010<br>gdp=%{x}<br>life exp=%{y}<br>pop=%{marker.size}<extra></extra>",
           "hovertext": [
            "United Arab Emirates"
           ],
           "ids": [
            "United Arab Emirates"
           ],
           "legendgroup": "United Arab Emirates",
           "marker": {
            "color": "#FF6692",
            "size": [
             8550000
            ],
            "sizemode": "area",
            "sizeref": 17187.5,
            "symbol": "circle"
           },
           "mode": "markers",
           "name": "United Arab Emirates",
           "orientation": "v",
           "showlegend": true,
           "type": "scatter",
           "x": [
            54900
           ],
           "xaxis": "x",
           "y": [
            70.8
           ],
           "yaxis": "y"
          },
          {
           "hovertemplate": "<b>%{hovertext}</b><br><br>country=Qatar<br>year=2010<br>gdp=%{x}<br>life exp=%{y}<br>pop=%{marker.size}<extra></extra>",
           "hovertext": [
            "Qatar"
           ],
           "ids": [
            "Qatar"
           ],
           "legendgroup": "Qatar",
           "marker": {
            "color": "#B6E880",
            "size": [
             1860000
            ],
            "sizemode": "area",
            "sizeref": 17187.5,
            "symbol": "circle"
           },
           "mode": "markers",
           "name": "Qatar",
           "orientation": "v",
           "showlegend": true,
           "type": "scatter",
           "x": [
            95900
           ],
           "xaxis": "x",
           "y": [
            73.4
           ],
           "yaxis": "y"
          },
          {
           "hovertemplate": "<b>%{hovertext}</b><br><br>country=Jordan<br>year=2010<br>gdp=%{x}<br>life exp=%{y}<br>pop=%{marker.size}<extra></extra>",
           "hovertext": [
            "Jordan"
           ],
           "ids": [
            "Jordan"
           ],
           "legendgroup": "Jordan",
           "marker": {
            "color": "#FF97FF",
            "size": [
             7260000
            ],
            "sizemode": "area",
            "sizeref": 17187.5,
            "symbol": "circle"
           },
           "mode": "markers",
           "name": "Jordan",
           "orientation": "v",
           "showlegend": true,
           "type": "scatter",
           "x": [
            11300
           ],
           "xaxis": "x",
           "y": [
            76.9
           ],
           "yaxis": "y"
          },
          {
           "hovertemplate": "<b>%{hovertext}</b><br><br>country=Kuwait<br>year=2010<br>gdp=%{x}<br>life exp=%{y}<br>pop=%{marker.size}<extra></extra>",
           "hovertext": [
            "Kuwait"
           ],
           "ids": [
            "Kuwait"
           ],
           "legendgroup": "Kuwait",
           "marker": {
            "color": "#FECB52",
            "size": [
             2990000
            ],
            "sizemode": "area",
            "sizeref": 17187.5,
            "symbol": "circle"
           },
           "mode": "markers",
           "name": "Kuwait",
           "orientation": "v",
           "showlegend": true,
           "type": "scatter",
           "x": [
            58800
           ],
           "xaxis": "x",
           "y": [
            80.1
           ],
           "yaxis": "y"
          },
          {
           "hovertemplate": "<b>%{hovertext}</b><br><br>country=Israel<br>year=2010<br>gdp=%{x}<br>life exp=%{y}<br>pop=%{marker.size}<extra></extra>",
           "hovertext": [
            "Israel"
           ],
           "ids": [
            "Israel"
           ],
           "legendgroup": "Israel",
           "marker": {
            "color": "#636efa",
            "size": [
             7350000
            ],
            "sizemode": "area",
            "sizeref": 17187.5,
            "symbol": "circle"
           },
           "mode": "markers",
           "name": "Israel",
           "orientation": "v",
           "showlegend": true,
           "type": "scatter",
           "x": [
            33900
           ],
           "xaxis": "x",
           "y": [
            81.9
           ],
           "yaxis": "y"
          },
          {
           "hovertemplate": "<b>%{hovertext}</b><br><br>country=Saudi Arabia<br>year=2010<br>gdp=%{x}<br>life exp=%{y}<br>pop=%{marker.size}<extra></extra>",
           "hovertext": [
            "Saudi Arabia"
           ],
           "ids": [
            "Saudi Arabia"
           ],
           "legendgroup": "Saudi Arabia",
           "marker": {
            "color": "#EF553B",
            "size": [
             27400000
            ],
            "sizemode": "area",
            "sizeref": 17187.5,
            "symbol": "circle"
           },
           "mode": "markers",
           "name": "Saudi Arabia",
           "orientation": "v",
           "showlegend": true,
           "type": "scatter",
           "x": [
            44000
           ],
           "xaxis": "x",
           "y": [
            71.8
           ],
           "yaxis": "y"
          },
          {
           "hovertemplate": "<b>%{hovertext}</b><br><br>country=Oman<br>year=2010<br>gdp=%{x}<br>life exp=%{y}<br>pop=%{marker.size}<extra></extra>",
           "hovertext": [
            "Oman"
           ],
           "ids": [
            "Oman"
           ],
           "legendgroup": "Oman",
           "marker": {
            "color": "#00cc96",
            "size": [
             3040000
            ],
            "sizemode": "area",
            "sizeref": 17187.5,
            "symbol": "circle"
           },
           "mode": "markers",
           "name": "Oman",
           "orientation": "v",
           "showlegend": true,
           "type": "scatter",
           "x": [
            38700
           ],
           "xaxis": "x",
           "y": [
            70.4
           ],
           "yaxis": "y"
          },
          {
           "hovertemplate": "<b>%{hovertext}</b><br><br>country=Palestine<br>year=2010<br>gdp=%{x}<br>life exp=%{y}<br>pop=%{marker.size}<extra></extra>",
           "hovertext": [
            "Palestine"
           ],
           "ids": [
            "Palestine"
           ],
           "legendgroup": "Palestine",
           "marker": {
            "color": "#ab63fa",
            "size": [
             4059999.9999999995
            ],
            "sizemode": "area",
            "sizeref": 17187.5,
            "symbol": "circle"
           },
           "mode": "markers",
           "name": "Palestine",
           "orientation": "v",
           "showlegend": true,
           "type": "scatter",
           "x": [
            5410
           ],
           "xaxis": "x",
           "y": [
            73.7
           ],
           "yaxis": "y"
          },
          {
           "hovertemplate": "<b>%{hovertext}</b><br><br>country=Egypt<br>year=2010<br>gdp=%{x}<br>life exp=%{y}<br>pop=%{marker.size}<extra></extra>",
           "hovertext": [
            "Egypt"
           ],
           "ids": [
            "Egypt"
           ],
           "legendgroup": "Egypt",
           "marker": {
            "color": "#FFA15A",
            "size": [
             82800000
            ],
            "sizemode": "area",
            "sizeref": 17187.5,
            "symbol": "circle"
           },
           "mode": "markers",
           "name": "Egypt",
           "orientation": "v",
           "showlegend": true,
           "type": "scatter",
           "x": [
            10300
           ],
           "xaxis": "x",
           "y": [
            69.4
           ],
           "yaxis": "y"
          }
         ],
         "name": "2010"
        },
        {
         "data": [
          {
           "hovertemplate": "<b>%{hovertext}</b><br><br>country=Iran<br>year=2011<br>gdp=%{x}<br>life exp=%{y}<br>pop=%{marker.size}<extra></extra>",
           "hovertext": [
            "Iran"
           ],
           "ids": [
            "Iran"
           ],
           "legendgroup": "Iran",
           "marker": {
            "color": "#636efa",
            "size": [
             74600000
            ],
            "sizemode": "area",
            "sizeref": 17187.5,
            "symbol": "circle"
           },
           "mode": "markers",
           "name": "Iran",
           "orientation": "v",
           "showlegend": true,
           "type": "scatter",
           "x": [
            14000
           ],
           "xaxis": "x",
           "y": [
            75.8
           ],
           "yaxis": "y"
          },
          {
           "hovertemplate": "<b>%{hovertext}</b><br><br>country=Iraq<br>year=2011<br>gdp=%{x}<br>life exp=%{y}<br>pop=%{marker.size}<extra></extra>",
           "hovertext": [
            "Iraq"
           ],
           "ids": [
            "Iraq"
           ],
           "legendgroup": "Iraq",
           "marker": {
            "color": "#EF553B",
            "size": [
             30700000
            ],
            "sizemode": "area",
            "sizeref": 17187.5,
            "symbol": "circle"
           },
           "mode": "markers",
           "name": "Iraq",
           "orientation": "v",
           "showlegend": true,
           "type": "scatter",
           "x": [
            8950
           ],
           "xaxis": "x",
           "y": [
            71
           ],
           "yaxis": "y"
          },
          {
           "hovertemplate": "<b>%{hovertext}</b><br><br>country=Yemen<br>year=2011<br>gdp=%{x}<br>life exp=%{y}<br>pop=%{marker.size}<extra></extra>",
           "hovertext": [
            "Yemen"
           ],
           "ids": [
            "Yemen"
           ],
           "legendgroup": "Yemen",
           "marker": {
            "color": "#00cc96",
            "size": [
             23800000
            ],
            "sizemode": "area",
            "sizeref": 17187.5,
            "symbol": "circle"
           },
           "mode": "markers",
           "name": "Yemen",
           "orientation": "v",
           "showlegend": true,
           "type": "scatter",
           "x": [
            4750
           ],
           "xaxis": "x",
           "y": [
            67.8
           ],
           "yaxis": "y"
          },
          {
           "hovertemplate": "<b>%{hovertext}</b><br><br>country=Syria<br>year=2011<br>gdp=%{x}<br>life exp=%{y}<br>pop=%{marker.size}<extra></extra>",
           "hovertext": [
            "Syria"
           ],
           "ids": [
            "Syria"
           ],
           "legendgroup": "Syria",
           "marker": {
            "color": "#ab63fa",
            "size": [
             21100000
            ],
            "sizemode": "area",
            "sizeref": 17187.5,
            "symbol": "circle"
           },
           "mode": "markers",
           "name": "Syria",
           "orientation": "v",
           "showlegend": true,
           "type": "scatter",
           "x": [
            6950
           ],
           "xaxis": "x",
           "y": [
            72.8
           ],
           "yaxis": "y"
          },
          {
           "hovertemplate": "<b>%{hovertext}</b><br><br>country=Turkey<br>year=2011<br>gdp=%{x}<br>life exp=%{y}<br>pop=%{marker.size}<extra></extra>",
           "hovertext": [
            "Turkey"
           ],
           "ids": [
            "Turkey"
           ],
           "legendgroup": "Turkey",
           "marker": {
            "color": "#FFA15A",
            "size": [
             73400000
            ],
            "sizemode": "area",
            "sizeref": 17187.5,
            "symbol": "circle"
           },
           "mode": "markers",
           "name": "Turkey",
           "orientation": "v",
           "showlegend": true,
           "type": "scatter",
           "x": [
            21900
           ],
           "xaxis": "x",
           "y": [
            76.8
           ],
           "yaxis": "y"
          },
          {
           "hovertemplate": "<b>%{hovertext}</b><br><br>country=Bahrain<br>year=2011<br>gdp=%{x}<br>life exp=%{y}<br>pop=%{marker.size}<extra></extra>",
           "hovertext": [
            "Bahrain"
           ],
           "ids": [
            "Bahrain"
           ],
           "legendgroup": "Bahrain",
           "marker": {
            "color": "#19d3f3",
            "size": [
             1280000
            ],
            "sizemode": "area",
            "sizeref": 17187.5,
            "symbol": "circle"
           },
           "mode": "markers",
           "name": "Bahrain",
           "orientation": "v",
           "showlegend": true,
           "type": "scatter",
           "x": [
            44200
           ],
           "xaxis": "x",
           "y": [
            75.3
           ],
           "yaxis": "y"
          },
          {
           "hovertemplate": "<b>%{hovertext}</b><br><br>country=United Arab Emirates<br>year=2011<br>gdp=%{x}<br>life exp=%{y}<br>pop=%{marker.size}<extra></extra>",
           "hovertext": [
            "United Arab Emirates"
           ],
           "ids": [
            "United Arab Emirates"
           ],
           "legendgroup": "United Arab Emirates",
           "marker": {
            "color": "#FF6692",
            "size": [
             8950000
            ],
            "sizemode": "area",
            "sizeref": 17187.5,
            "symbol": "circle"
           },
           "mode": "markers",
           "name": "United Arab Emirates",
           "orientation": "v",
           "showlegend": true,
           "type": "scatter",
           "x": [
            56100
           ],
           "xaxis": "x",
           "y": [
            71
           ],
           "yaxis": "y"
          },
          {
           "hovertemplate": "<b>%{hovertext}</b><br><br>country=Qatar<br>year=2011<br>gdp=%{x}<br>life exp=%{y}<br>pop=%{marker.size}<extra></extra>",
           "hovertext": [
            "Qatar"
           ],
           "ids": [
            "Qatar"
           ],
           "legendgroup": "Qatar",
           "marker": {
            "color": "#B6E880",
            "size": [
             2040000
            ],
            "sizemode": "area",
            "sizeref": 17187.5,
            "symbol": "circle"
           },
           "mode": "markers",
           "name": "Qatar",
           "orientation": "v",
           "showlegend": true,
           "type": "scatter",
           "x": [
            99100
           ],
           "xaxis": "x",
           "y": [
            73.9
           ],
           "yaxis": "y"
          },
          {
           "hovertemplate": "<b>%{hovertext}</b><br><br>country=Jordan<br>year=2011<br>gdp=%{x}<br>life exp=%{y}<br>pop=%{marker.size}<extra></extra>",
           "hovertext": [
            "Jordan"
           ],
           "ids": [
            "Jordan"
           ],
           "legendgroup": "Jordan",
           "marker": {
            "color": "#FF97FF",
            "size": [
             7660000
            ],
            "sizemode": "area",
            "sizeref": 17187.5,
            "symbol": "circle"
           },
           "mode": "markers",
           "name": "Jordan",
           "orientation": "v",
           "showlegend": true,
           "type": "scatter",
           "x": [
            11000
           ],
           "xaxis": "x",
           "y": [
            77.2
           ],
           "yaxis": "y"
          },
          {
           "hovertemplate": "<b>%{hovertext}</b><br><br>country=Kuwait<br>year=2011<br>gdp=%{x}<br>life exp=%{y}<br>pop=%{marker.size}<extra></extra>",
           "hovertext": [
            "Kuwait"
           ],
           "ids": [
            "Kuwait"
           ],
           "legendgroup": "Kuwait",
           "marker": {
            "color": "#FECB52",
            "size": [
             3170000
            ],
            "sizemode": "area",
            "sizeref": 17187.5,
            "symbol": "circle"
           },
           "mode": "markers",
           "name": "Kuwait",
           "orientation": "v",
           "showlegend": true,
           "type": "scatter",
           "x": [
            60900
           ],
           "xaxis": "x",
           "y": [
            80.9
           ],
           "yaxis": "y"
          },
          {
           "hovertemplate": "<b>%{hovertext}</b><br><br>country=Israel<br>year=2011<br>gdp=%{x}<br>life exp=%{y}<br>pop=%{marker.size}<extra></extra>",
           "hovertext": [
            "Israel"
           ],
           "ids": [
            "Israel"
           ],
           "legendgroup": "Israel",
           "marker": {
            "color": "#636efa",
            "size": [
             7490000
            ],
            "sizemode": "area",
            "sizeref": 17187.5,
            "symbol": "circle"
           },
           "mode": "markers",
           "name": "Israel",
           "orientation": "v",
           "showlegend": true,
           "type": "scatter",
           "x": [
            35100
           ],
           "xaxis": "x",
           "y": [
            82
           ],
           "yaxis": "y"
          },
          {
           "hovertemplate": "<b>%{hovertext}</b><br><br>country=Saudi Arabia<br>year=2011<br>gdp=%{x}<br>life exp=%{y}<br>pop=%{marker.size}<extra></extra>",
           "hovertext": [
            "Saudi Arabia"
           ],
           "ids": [
            "Saudi Arabia"
           ],
           "legendgroup": "Saudi Arabia",
           "marker": {
            "color": "#EF553B",
            "size": [
             28300000
            ],
            "sizemode": "area",
            "sizeref": 17187.5,
            "symbol": "circle"
           },
           "mode": "markers",
           "name": "Saudi Arabia",
           "orientation": "v",
           "showlegend": true,
           "type": "scatter",
           "x": [
            47000
           ],
           "xaxis": "x",
           "y": [
            72.2
           ],
           "yaxis": "y"
          },
          {
           "hovertemplate": "<b>%{hovertext}</b><br><br>country=Oman<br>year=2011<br>gdp=%{x}<br>life exp=%{y}<br>pop=%{marker.size}<extra></extra>",
           "hovertext": [
            "Oman"
           ],
           "ids": [
            "Oman"
           ],
           "legendgroup": "Oman",
           "marker": {
            "color": "#00cc96",
            "size": [
             3250000
            ],
            "sizemode": "area",
            "sizeref": 17187.5,
            "symbol": "circle"
           },
           "mode": "markers",
           "name": "Oman",
           "orientation": "v",
           "showlegend": true,
           "type": "scatter",
           "x": [
            37200
           ],
           "xaxis": "x",
           "y": [
            70.8
           ],
           "yaxis": "y"
          },
          {
           "hovertemplate": "<b>%{hovertext}</b><br><br>country=Palestine<br>year=2011<br>gdp=%{x}<br>life exp=%{y}<br>pop=%{marker.size}<extra></extra>",
           "hovertext": [
            "Palestine"
           ],
           "ids": [
            "Palestine"
           ],
           "legendgroup": "Palestine",
           "marker": {
            "color": "#ab63fa",
            "size": [
             4150000.0000000005
            ],
            "sizemode": "area",
            "sizeref": 17187.5,
            "symbol": "circle"
           },
           "mode": "markers",
           "name": "Palestine",
           "orientation": "v",
           "showlegend": true,
           "type": "scatter",
           "x": [
            5780
           ],
           "xaxis": "x",
           "y": [
            73.7
           ],
           "yaxis": "y"
          },
          {
           "hovertemplate": "<b>%{hovertext}</b><br><br>country=Egypt<br>year=2011<br>gdp=%{x}<br>life exp=%{y}<br>pop=%{marker.size}<extra></extra>",
           "hovertext": [
            "Egypt"
           ],
           "ids": [
            "Egypt"
           ],
           "legendgroup": "Egypt",
           "marker": {
            "color": "#FFA15A",
            "size": [
             84500000
            ],
            "sizemode": "area",
            "sizeref": 17187.5,
            "symbol": "circle"
           },
           "mode": "markers",
           "name": "Egypt",
           "orientation": "v",
           "showlegend": true,
           "type": "scatter",
           "x": [
            10300
           ],
           "xaxis": "x",
           "y": [
            69.6
           ],
           "yaxis": "y"
          }
         ],
         "name": "2011"
        },
        {
         "data": [
          {
           "hovertemplate": "<b>%{hovertext}</b><br><br>country=Iran<br>year=2012<br>gdp=%{x}<br>life exp=%{y}<br>pop=%{marker.size}<extra></extra>",
           "hovertext": [
            "Iran"
           ],
           "ids": [
            "Iran"
           ],
           "legendgroup": "Iran",
           "marker": {
            "color": "#636efa",
            "size": [
             75500000
            ],
            "sizemode": "area",
            "sizeref": 17187.5,
            "symbol": "circle"
           },
           "mode": "markers",
           "name": "Iran",
           "orientation": "v",
           "showlegend": true,
           "type": "scatter",
           "x": [
            12800
           ],
           "xaxis": "x",
           "y": [
            76
           ],
           "yaxis": "y"
          },
          {
           "hovertemplate": "<b>%{hovertext}</b><br><br>country=Iraq<br>year=2012<br>gdp=%{x}<br>life exp=%{y}<br>pop=%{marker.size}<extra></extra>",
           "hovertext": [
            "Iraq"
           ],
           "ids": [
            "Iraq"
           ],
           "legendgroup": "Iraq",
           "marker": {
            "color": "#EF553B",
            "size": [
             31900000
            ],
            "sizemode": "area",
            "sizeref": 17187.5,
            "symbol": "circle"
           },
           "mode": "markers",
           "name": "Iraq",
           "orientation": "v",
           "showlegend": true,
           "type": "scatter",
           "x": [
            9830
           ],
           "xaxis": "x",
           "y": [
            71.3
           ],
           "yaxis": "y"
          },
          {
           "hovertemplate": "<b>%{hovertext}</b><br><br>country=Yemen<br>year=2012<br>gdp=%{x}<br>life exp=%{y}<br>pop=%{marker.size}<extra></extra>",
           "hovertext": [
            "Yemen"
           ],
           "ids": [
            "Yemen"
           ],
           "legendgroup": "Yemen",
           "marker": {
            "color": "#00cc96",
            "size": [
             24500000
            ],
            "sizemode": "area",
            "sizeref": 17187.5,
            "symbol": "circle"
           },
           "mode": "markers",
           "name": "Yemen",
           "orientation": "v",
           "showlegend": true,
           "type": "scatter",
           "x": [
            4740
           ],
           "xaxis": "x",
           "y": [
            67.9
           ],
           "yaxis": "y"
          },
          {
           "hovertemplate": "<b>%{hovertext}</b><br><br>country=Syria<br>year=2012<br>gdp=%{x}<br>life exp=%{y}<br>pop=%{marker.size}<extra></extra>",
           "hovertext": [
            "Syria"
           ],
           "ids": [
            "Syria"
           ],
           "legendgroup": "Syria",
           "marker": {
            "color": "#ab63fa",
            "size": [
             20400000
            ],
            "sizemode": "area",
            "sizeref": 17187.5,
            "symbol": "circle"
           },
           "mode": "markers",
           "name": "Syria",
           "orientation": "v",
           "showlegend": true,
           "type": "scatter",
           "x": [
            5610
           ],
           "xaxis": "x",
           "y": [
            65.8
           ],
           "yaxis": "y"
          },
          {
           "hovertemplate": "<b>%{hovertext}</b><br><br>country=Turkey<br>year=2012<br>gdp=%{x}<br>life exp=%{y}<br>pop=%{marker.size}<extra></extra>",
           "hovertext": [
            "Turkey"
           ],
           "ids": [
            "Turkey"
           ],
           "legendgroup": "Turkey",
           "marker": {
            "color": "#FFA15A",
            "size": [
             74700000
            ],
            "sizemode": "area",
            "sizeref": 17187.5,
            "symbol": "circle"
           },
           "mode": "markers",
           "name": "Turkey",
           "orientation": "v",
           "showlegend": true,
           "type": "scatter",
           "x": [
            22600
           ],
           "xaxis": "x",
           "y": [
            77
           ],
           "yaxis": "y"
          },
          {
           "hovertemplate": "<b>%{hovertext}</b><br><br>country=Bahrain<br>year=2012<br>gdp=%{x}<br>life exp=%{y}<br>pop=%{marker.size}<extra></extra>",
           "hovertext": [
            "Bahrain"
           ],
           "ids": [
            "Bahrain"
           ],
           "legendgroup": "Bahrain",
           "marker": {
            "color": "#19d3f3",
            "size": [
             1300000
            ],
            "sizemode": "area",
            "sizeref": 17187.5,
            "symbol": "circle"
           },
           "mode": "markers",
           "name": "Bahrain",
           "orientation": "v",
           "showlegend": true,
           "type": "scatter",
           "x": [
            45000
           ],
           "xaxis": "x",
           "y": [
            75.7
           ],
           "yaxis": "y"
          },
          {
           "hovertemplate": "<b>%{hovertext}</b><br><br>country=United Arab Emirates<br>year=2012<br>gdp=%{x}<br>life exp=%{y}<br>pop=%{marker.size}<extra></extra>",
           "hovertext": [
            "United Arab Emirates"
           ],
           "ids": [
            "United Arab Emirates"
           ],
           "legendgroup": "United Arab Emirates",
           "marker": {
            "color": "#FF6692",
            "size": [
             9140000
            ],
            "sizemode": "area",
            "sizeref": 17187.5,
            "symbol": "circle"
           },
           "mode": "markers",
           "name": "United Arab Emirates",
           "orientation": "v",
           "showlegend": true,
           "type": "scatter",
           "x": [
            57400
           ],
           "xaxis": "x",
           "y": [
            71.2
           ],
           "yaxis": "y"
          },
          {
           "hovertemplate": "<b>%{hovertext}</b><br><br>country=Qatar<br>year=2012<br>gdp=%{x}<br>life exp=%{y}<br>pop=%{marker.size}<extra></extra>",
           "hovertext": [
            "Qatar"
           ],
           "ids": [
            "Qatar"
           ],
           "legendgroup": "Qatar",
           "marker": {
            "color": "#B6E880",
            "size": [
             2200000
            ],
            "sizemode": "area",
            "sizeref": 17187.5,
            "symbol": "circle"
           },
           "mode": "markers",
           "name": "Qatar",
           "orientation": "v",
           "showlegend": true,
           "type": "scatter",
           "x": [
            96300
           ],
           "xaxis": "x",
           "y": [
            74.3
           ],
           "yaxis": "y"
          },
          {
           "hovertemplate": "<b>%{hovertext}</b><br><br>country=Jordan<br>year=2012<br>gdp=%{x}<br>life exp=%{y}<br>pop=%{marker.size}<extra></extra>",
           "hovertext": [
            "Jordan"
           ],
           "ids": [
            "Jordan"
           ],
           "legendgroup": "Jordan",
           "marker": {
            "color": "#FF97FF",
            "size": [
             8090000
            ],
            "sizemode": "area",
            "sizeref": 17187.5,
            "symbol": "circle"
           },
           "mode": "markers",
           "name": "Jordan",
           "orientation": "v",
           "showlegend": true,
           "type": "scatter",
           "x": [
            10700
           ],
           "xaxis": "x",
           "y": [
            77.5
           ],
           "yaxis": "y"
          },
          {
           "hovertemplate": "<b>%{hovertext}</b><br><br>country=Kuwait<br>year=2012<br>gdp=%{x}<br>life exp=%{y}<br>pop=%{marker.size}<extra></extra>",
           "hovertext": [
            "Kuwait"
           ],
           "ids": [
            "Kuwait"
           ],
           "legendgroup": "Kuwait",
           "marker": {
            "color": "#FECB52",
            "size": [
             3350000
            ],
            "sizemode": "area",
            "sizeref": 17187.5,
            "symbol": "circle"
           },
           "mode": "markers",
           "name": "Kuwait",
           "orientation": "v",
           "showlegend": true,
           "type": "scatter",
           "x": [
            61400
           ],
           "xaxis": "x",
           "y": [
            81
           ],
           "yaxis": "y"
          },
          {
           "hovertemplate": "<b>%{hovertext}</b><br><br>country=Israel<br>year=2012<br>gdp=%{x}<br>life exp=%{y}<br>pop=%{marker.size}<extra></extra>",
           "hovertext": [
            "Israel"
           ],
           "ids": [
            "Israel"
           ],
           "legendgroup": "Israel",
           "marker": {
            "color": "#636efa",
            "size": [
             7610000
            ],
            "sizemode": "area",
            "sizeref": 17187.5,
            "symbol": "circle"
           },
           "mode": "markers",
           "name": "Israel",
           "orientation": "v",
           "showlegend": true,
           "type": "scatter",
           "x": [
            35400
           ],
           "xaxis": "x",
           "y": [
            82.3
           ],
           "yaxis": "y"
          },
          {
           "hovertemplate": "<b>%{hovertext}</b><br><br>country=Saudi Arabia<br>year=2012<br>gdp=%{x}<br>life exp=%{y}<br>pop=%{marker.size}<extra></extra>",
           "hovertext": [
            "Saudi Arabia"
           ],
           "ids": [
            "Saudi Arabia"
           ],
           "legendgroup": "Saudi Arabia",
           "marker": {
            "color": "#EF553B",
            "size": [
             29200000
            ],
            "sizemode": "area",
            "sizeref": 17187.5,
            "symbol": "circle"
           },
           "mode": "markers",
           "name": "Saudi Arabia",
           "orientation": "v",
           "showlegend": true,
           "type": "scatter",
           "x": [
            48000
           ],
           "xaxis": "x",
           "y": [
            72.6
           ],
           "yaxis": "y"
          },
          {
           "hovertemplate": "<b>%{hovertext}</b><br><br>country=Oman<br>year=2012<br>gdp=%{x}<br>life exp=%{y}<br>pop=%{marker.size}<extra></extra>",
           "hovertext": [
            "Oman"
           ],
           "ids": [
            "Oman"
           ],
           "legendgroup": "Oman",
           "marker": {
            "color": "#00cc96",
            "size": [
             3500000
            ],
            "sizemode": "area",
            "sizeref": 17187.5,
            "symbol": "circle"
           },
           "mode": "markers",
           "name": "Oman",
           "orientation": "v",
           "showlegend": true,
           "type": "scatter",
           "x": [
            37700
           ],
           "xaxis": "x",
           "y": [
            71.5
           ],
           "yaxis": "y"
          },
          {
           "hovertemplate": "<b>%{hovertext}</b><br><br>country=Palestine<br>year=2012<br>gdp=%{x}<br>life exp=%{y}<br>pop=%{marker.size}<extra></extra>",
           "hovertext": [
            "Palestine"
           ],
           "ids": [
            "Palestine"
           ],
           "legendgroup": "Palestine",
           "marker": {
            "color": "#ab63fa",
            "size": [
             4240000
            ],
            "sizemode": "area",
            "sizeref": 17187.5,
            "symbol": "circle"
           },
           "mode": "markers",
           "name": "Palestine",
           "orientation": "v",
           "showlegend": true,
           "type": "scatter",
           "x": [
            5990
           ],
           "xaxis": "x",
           "y": [
            73.9
           ],
           "yaxis": "y"
          },
          {
           "hovertemplate": "<b>%{hovertext}</b><br><br>country=Egypt<br>year=2012<br>gdp=%{x}<br>life exp=%{y}<br>pop=%{marker.size}<extra></extra>",
           "hovertext": [
            "Egypt"
           ],
           "ids": [
            "Egypt"
           ],
           "legendgroup": "Egypt",
           "marker": {
            "color": "#FFA15A",
            "size": [
             86400000
            ],
            "sizemode": "area",
            "sizeref": 17187.5,
            "symbol": "circle"
           },
           "mode": "markers",
           "name": "Egypt",
           "orientation": "v",
           "showlegend": true,
           "type": "scatter",
           "x": [
            10300
           ],
           "xaxis": "x",
           "y": [
            69.7
           ],
           "yaxis": "y"
          }
         ],
         "name": "2012"
        },
        {
         "data": [
          {
           "hovertemplate": "<b>%{hovertext}</b><br><br>country=Iran<br>year=2013<br>gdp=%{x}<br>life exp=%{y}<br>pop=%{marker.size}<extra></extra>",
           "hovertext": [
            "Iran"
           ],
           "ids": [
            "Iran"
           ],
           "legendgroup": "Iran",
           "marker": {
            "color": "#636efa",
            "size": [
             76500000
            ],
            "sizemode": "area",
            "sizeref": 17187.5,
            "symbol": "circle"
           },
           "mode": "markers",
           "name": "Iran",
           "orientation": "v",
           "showlegend": true,
           "type": "scatter",
           "x": [
            12600
           ],
           "xaxis": "x",
           "y": [
            76.2
           ],
           "yaxis": "y"
          },
          {
           "hovertemplate": "<b>%{hovertext}</b><br><br>country=Iraq<br>year=2013<br>gdp=%{x}<br>life exp=%{y}<br>pop=%{marker.size}<extra></extra>",
           "hovertext": [
            "Iraq"
           ],
           "ids": [
            "Iraq"
           ],
           "legendgroup": "Iraq",
           "marker": {
            "color": "#EF553B",
            "size": [
             33200000.000000004
            ],
            "sizemode": "area",
            "sizeref": 17187.5,
            "symbol": "circle"
           },
           "mode": "markers",
           "name": "Iraq",
           "orientation": "v",
           "showlegend": true,
           "type": "scatter",
           "x": [
            10200
           ],
           "xaxis": "x",
           "y": [
            70.9
           ],
           "yaxis": "y"
          },
          {
           "hovertemplate": "<b>%{hovertext}</b><br><br>country=Yemen<br>year=2013<br>gdp=%{x}<br>life exp=%{y}<br>pop=%{marker.size}<extra></extra>",
           "hovertext": [
            "Yemen"
           ],
           "ids": [
            "Yemen"
           ],
           "legendgroup": "Yemen",
           "marker": {
            "color": "#00cc96",
            "size": [
             25100000
            ],
            "sizemode": "area",
            "sizeref": 17187.5,
            "symbol": "circle"
           },
           "mode": "markers",
           "name": "Yemen",
           "orientation": "v",
           "showlegend": true,
           "type": "scatter",
           "x": [
            4840
           ],
           "xaxis": "x",
           "y": [
            68.4
           ],
           "yaxis": "y"
          },
          {
           "hovertemplate": "<b>%{hovertext}</b><br><br>country=Syria<br>year=2013<br>gdp=%{x}<br>life exp=%{y}<br>pop=%{marker.size}<extra></extra>",
           "hovertext": [
            "Syria"
           ],
           "ids": [
            "Syria"
           ],
           "legendgroup": "Syria",
           "marker": {
            "color": "#ab63fa",
            "size": [
             19600000
            ],
            "sizemode": "area",
            "sizeref": 17187.5,
            "symbol": "circle"
           },
           "mode": "markers",
           "name": "Syria",
           "orientation": "v",
           "showlegend": true,
           "type": "scatter",
           "x": [
            4790
           ],
           "xaxis": "x",
           "y": [
            66.4
           ],
           "yaxis": "y"
          },
          {
           "hovertemplate": "<b>%{hovertext}</b><br><br>country=Turkey<br>year=2013<br>gdp=%{x}<br>life exp=%{y}<br>pop=%{marker.size}<extra></extra>",
           "hovertext": [
            "Turkey"
           ],
           "ids": [
            "Turkey"
           ],
           "legendgroup": "Turkey",
           "marker": {
            "color": "#FFA15A",
            "size": [
             75900000
            ],
            "sizemode": "area",
            "sizeref": 17187.5,
            "symbol": "circle"
           },
           "mode": "markers",
           "name": "Turkey",
           "orientation": "v",
           "showlegend": true,
           "type": "scatter",
           "x": [
            24100
           ],
           "xaxis": "x",
           "y": [
            77
           ],
           "yaxis": "y"
          },
          {
           "hovertemplate": "<b>%{hovertext}</b><br><br>country=Bahrain<br>year=2013<br>gdp=%{x}<br>life exp=%{y}<br>pop=%{marker.size}<extra></extra>",
           "hovertext": [
            "Bahrain"
           ],
           "ids": [
            "Bahrain"
           ],
           "legendgroup": "Bahrain",
           "marker": {
            "color": "#19d3f3",
            "size": [
             1320000
            ],
            "sizemode": "area",
            "sizeref": 17187.5,
            "symbol": "circle"
           },
           "mode": "markers",
           "name": "Bahrain",
           "orientation": "v",
           "showlegend": true,
           "type": "scatter",
           "x": [
            46900
           ],
           "xaxis": "x",
           "y": [
            76.2
           ],
           "yaxis": "y"
          },
          {
           "hovertemplate": "<b>%{hovertext}</b><br><br>country=United Arab Emirates<br>year=2013<br>gdp=%{x}<br>life exp=%{y}<br>pop=%{marker.size}<extra></extra>",
           "hovertext": [
            "United Arab Emirates"
           ],
           "ids": [
            "United Arab Emirates"
           ],
           "legendgroup": "United Arab Emirates",
           "marker": {
            "color": "#FF6692",
            "size": [
             9200000
            ],
            "sizemode": "area",
            "sizeref": 17187.5,
            "symbol": "circle"
           },
           "mode": "markers",
           "name": "United Arab Emirates",
           "orientation": "v",
           "showlegend": true,
           "type": "scatter",
           "x": [
            59900
           ],
           "xaxis": "x",
           "y": [
            71.6
           ],
           "yaxis": "y"
          },
          {
           "hovertemplate": "<b>%{hovertext}</b><br><br>country=Qatar<br>year=2013<br>gdp=%{x}<br>life exp=%{y}<br>pop=%{marker.size}<extra></extra>",
           "hovertext": [
            "Qatar"
           ],
           "ids": [
            "Qatar"
           ],
           "legendgroup": "Qatar",
           "marker": {
            "color": "#B6E880",
            "size": [
             2340000
            ],
            "sizemode": "area",
            "sizeref": 17187.5,
            "symbol": "circle"
           },
           "mode": "markers",
           "name": "Qatar",
           "orientation": "v",
           "showlegend": true,
           "type": "scatter",
           "x": [
            95500
           ],
           "xaxis": "x",
           "y": [
            74.7
           ],
           "yaxis": "y"
          },
          {
           "hovertemplate": "<b>%{hovertext}</b><br><br>country=Jordan<br>year=2013<br>gdp=%{x}<br>life exp=%{y}<br>pop=%{marker.size}<extra></extra>",
           "hovertext": [
            "Jordan"
           ],
           "ids": [
            "Jordan"
           ],
           "legendgroup": "Jordan",
           "marker": {
            "color": "#FF97FF",
            "size": [
             8520000
            ],
            "sizemode": "area",
            "sizeref": 17187.5,
            "symbol": "circle"
           },
           "mode": "markers",
           "name": "Jordan",
           "orientation": "v",
           "showlegend": true,
           "type": "scatter",
           "x": [
            10400
           ],
           "xaxis": "x",
           "y": [
            77.9
           ],
           "yaxis": "y"
          },
          {
           "hovertemplate": "<b>%{hovertext}</b><br><br>country=Kuwait<br>year=2013<br>gdp=%{x}<br>life exp=%{y}<br>pop=%{marker.size}<extra></extra>",
           "hovertext": [
            "Kuwait"
           ],
           "ids": [
            "Kuwait"
           ],
           "legendgroup": "Kuwait",
           "marker": {
            "color": "#FECB52",
            "size": [
             3530000
            ],
            "sizemode": "area",
            "sizeref": 17187.5,
            "symbol": "circle"
           },
           "mode": "markers",
           "name": "Kuwait",
           "orientation": "v",
           "showlegend": true,
           "type": "scatter",
           "x": [
            59000
           ],
           "xaxis": "x",
           "y": [
            81.3
           ],
           "yaxis": "y"
          },
          {
           "hovertemplate": "<b>%{hovertext}</b><br><br>country=Israel<br>year=2013<br>gdp=%{x}<br>life exp=%{y}<br>pop=%{marker.size}<extra></extra>",
           "hovertext": [
            "Israel"
           ],
           "ids": [
            "Israel"
           ],
           "legendgroup": "Israel",
           "marker": {
            "color": "#636efa",
            "size": [
             7730000
            ],
            "sizemode": "area",
            "sizeref": 17187.5,
            "symbol": "circle"
           },
           "mode": "markers",
           "name": "Israel",
           "orientation": "v",
           "showlegend": true,
           "type": "scatter",
           "x": [
            36400
           ],
           "xaxis": "x",
           "y": [
            82.5
           ],
           "yaxis": "y"
          },
          {
           "hovertemplate": "<b>%{hovertext}</b><br><br>country=Saudi Arabia<br>year=2013<br>gdp=%{x}<br>life exp=%{y}<br>pop=%{marker.size}<extra></extra>",
           "hovertext": [
            "Saudi Arabia"
           ],
           "ids": [
            "Saudi Arabia"
           ],
           "legendgroup": "Saudi Arabia",
           "marker": {
            "color": "#EF553B",
            "size": [
             30100000
            ],
            "sizemode": "area",
            "sizeref": 17187.5,
            "symbol": "circle"
           },
           "mode": "markers",
           "name": "Saudi Arabia",
           "orientation": "v",
           "showlegend": true,
           "type": "scatter",
           "x": [
            47800
           ],
           "xaxis": "x",
           "y": [
            72.9
           ],
           "yaxis": "y"
          },
          {
           "hovertemplate": "<b>%{hovertext}</b><br><br>country=Oman<br>year=2013<br>gdp=%{x}<br>life exp=%{y}<br>pop=%{marker.size}<extra></extra>",
           "hovertext": [
            "Oman"
           ],
           "ids": [
            "Oman"
           ],
           "legendgroup": "Oman",
           "marker": {
            "color": "#00cc96",
            "size": [
             3760000
            ],
            "sizemode": "area",
            "sizeref": 17187.5,
            "symbol": "circle"
           },
           "mode": "markers",
           "name": "Oman",
           "orientation": "v",
           "showlegend": true,
           "type": "scatter",
           "x": [
            36800
           ],
           "xaxis": "x",
           "y": [
            71.9
           ],
           "yaxis": "y"
          },
          {
           "hovertemplate": "<b>%{hovertext}</b><br><br>country=Palestine<br>year=2013<br>gdp=%{x}<br>life exp=%{y}<br>pop=%{marker.size}<extra></extra>",
           "hovertext": [
            "Palestine"
           ],
           "ids": [
            "Palestine"
           ],
           "legendgroup": "Palestine",
           "marker": {
            "color": "#ab63fa",
            "size": [
             4330000
            ],
            "sizemode": "area",
            "sizeref": 17187.5,
            "symbol": "circle"
           },
           "mode": "markers",
           "name": "Palestine",
           "orientation": "v",
           "showlegend": true,
           "type": "scatter",
           "x": [
            6120
           ],
           "xaxis": "x",
           "y": [
            74.8
           ],
           "yaxis": "y"
          },
          {
           "hovertemplate": "<b>%{hovertext}</b><br><br>country=Egypt<br>year=2013<br>gdp=%{x}<br>life exp=%{y}<br>pop=%{marker.size}<extra></extra>",
           "hovertext": [
            "Egypt"
           ],
           "ids": [
            "Egypt"
           ],
           "legendgroup": "Egypt",
           "marker": {
            "color": "#FFA15A",
            "size": [
             88400000
            ],
            "sizemode": "area",
            "sizeref": 17187.5,
            "symbol": "circle"
           },
           "mode": "markers",
           "name": "Egypt",
           "orientation": "v",
           "showlegend": true,
           "type": "scatter",
           "x": [
            10300
           ],
           "xaxis": "x",
           "y": [
            70.1
           ],
           "yaxis": "y"
          }
         ],
         "name": "2013"
        },
        {
         "data": [
          {
           "hovertemplate": "<b>%{hovertext}</b><br><br>country=Iran<br>year=2014<br>gdp=%{x}<br>life exp=%{y}<br>pop=%{marker.size}<extra></extra>",
           "hovertext": [
            "Iran"
           ],
           "ids": [
            "Iran"
           ],
           "legendgroup": "Iran",
           "marker": {
            "color": "#636efa",
            "size": [
             77500000
            ],
            "sizemode": "area",
            "sizeref": 17187.5,
            "symbol": "circle"
           },
           "mode": "markers",
           "name": "Iran",
           "orientation": "v",
           "showlegend": true,
           "type": "scatter",
           "x": [
            13000
           ],
           "xaxis": "x",
           "y": [
            76.5
           ],
           "yaxis": "y"
          },
          {
           "hovertemplate": "<b>%{hovertext}</b><br><br>country=Iraq<br>year=2014<br>gdp=%{x}<br>life exp=%{y}<br>pop=%{marker.size}<extra></extra>",
           "hovertext": [
            "Iraq"
           ],
           "ids": [
            "Iraq"
           ],
           "legendgroup": "Iraq",
           "marker": {
            "color": "#EF553B",
            "size": [
             34400000
            ],
            "sizemode": "area",
            "sizeref": 17187.5,
            "symbol": "circle"
           },
           "mode": "markers",
           "name": "Iraq",
           "orientation": "v",
           "showlegend": true,
           "type": "scatter",
           "x": [
            9820
           ],
           "xaxis": "x",
           "y": [
            69.9
           ],
           "yaxis": "y"
          },
          {
           "hovertemplate": "<b>%{hovertext}</b><br><br>country=Yemen<br>year=2014<br>gdp=%{x}<br>life exp=%{y}<br>pop=%{marker.size}<extra></extra>",
           "hovertext": [
            "Yemen"
           ],
           "ids": [
            "Yemen"
           ],
           "legendgroup": "Yemen",
           "marker": {
            "color": "#00cc96",
            "size": [
             25800000
            ],
            "sizemode": "area",
            "sizeref": 17187.5,
            "symbol": "circle"
           },
           "mode": "markers",
           "name": "Yemen",
           "orientation": "v",
           "showlegend": true,
           "type": "scatter",
           "x": [
            4710
           ],
           "xaxis": "x",
           "y": [
            68.5
           ],
           "yaxis": "y"
          },
          {
           "hovertemplate": "<b>%{hovertext}</b><br><br>country=Syria<br>year=2014<br>gdp=%{x}<br>life exp=%{y}<br>pop=%{marker.size}<extra></extra>",
           "hovertext": [
            "Syria"
           ],
           "ids": [
            "Syria"
           ],
           "legendgroup": "Syria",
           "marker": {
            "color": "#ab63fa",
            "size": [
             18700000
            ],
            "sizemode": "area",
            "sizeref": 17187.5,
            "symbol": "circle"
           },
           "mode": "markers",
           "name": "Syria",
           "orientation": "v",
           "showlegend": true,
           "type": "scatter",
           "x": [
            4110
           ],
           "xaxis": "x",
           "y": [
            63.6
           ],
           "yaxis": "y"
          },
          {
           "hovertemplate": "<b>%{hovertext}</b><br><br>country=Turkey<br>year=2014<br>gdp=%{x}<br>life exp=%{y}<br>pop=%{marker.size}<extra></extra>",
           "hovertext": [
            "Turkey"
           ],
           "ids": [
            "Turkey"
           ],
           "legendgroup": "Turkey",
           "marker": {
            "color": "#FFA15A",
            "size": [
             77200000
            ],
            "sizemode": "area",
            "sizeref": 17187.5,
            "symbol": "circle"
           },
           "mode": "markers",
           "name": "Turkey",
           "orientation": "v",
           "showlegend": true,
           "type": "scatter",
           "x": [
            24900
           ],
           "xaxis": "x",
           "y": [
            77.1
           ],
           "yaxis": "y"
          },
          {
           "hovertemplate": "<b>%{hovertext}</b><br><br>country=Bahrain<br>year=2014<br>gdp=%{x}<br>life exp=%{y}<br>pop=%{marker.size}<extra></extra>",
           "hovertext": [
            "Bahrain"
           ],
           "ids": [
            "Bahrain"
           ],
           "legendgroup": "Bahrain",
           "marker": {
            "color": "#19d3f3",
            "size": [
             1340000
            ],
            "sizemode": "area",
            "sizeref": 17187.5,
            "symbol": "circle"
           },
           "mode": "markers",
           "name": "Bahrain",
           "orientation": "v",
           "showlegend": true,
           "type": "scatter",
           "x": [
            48200
           ],
           "xaxis": "x",
           "y": [
            76.6
           ],
           "yaxis": "y"
          },
          {
           "hovertemplate": "<b>%{hovertext}</b><br><br>country=United Arab Emirates<br>year=2014<br>gdp=%{x}<br>life exp=%{y}<br>pop=%{marker.size}<extra></extra>",
           "hovertext": [
            "United Arab Emirates"
           ],
           "ids": [
            "United Arab Emirates"
           ],
           "legendgroup": "United Arab Emirates",
           "marker": {
            "color": "#FF6692",
            "size": [
             9210000
            ],
            "sizemode": "area",
            "sizeref": 17187.5,
            "symbol": "circle"
           },
           "mode": "markers",
           "name": "United Arab Emirates",
           "orientation": "v",
           "showlegend": true,
           "type": "scatter",
           "x": [
            62500
           ],
           "xaxis": "x",
           "y": [
            73
           ],
           "yaxis": "y"
          },
          {
           "hovertemplate": "<b>%{hovertext}</b><br><br>country=Qatar<br>year=2014<br>gdp=%{x}<br>life exp=%{y}<br>pop=%{marker.size}<extra></extra>",
           "hovertext": [
            "Qatar"
           ],
           "ids": [
            "Qatar"
           ],
           "legendgroup": "Qatar",
           "marker": {
            "color": "#B6E880",
            "size": [
             2460000
            ],
            "sizemode": "area",
            "sizeref": 17187.5,
            "symbol": "circle"
           },
           "mode": "markers",
           "name": "Qatar",
           "orientation": "v",
           "showlegend": true,
           "type": "scatter",
           "x": [
            95600
           ],
           "xaxis": "x",
           "y": [
            74.9
           ],
           "yaxis": "y"
          },
          {
           "hovertemplate": "<b>%{hovertext}</b><br><br>country=Jordan<br>year=2014<br>gdp=%{x}<br>life exp=%{y}<br>pop=%{marker.size}<extra></extra>",
           "hovertext": [
            "Jordan"
           ],
           "ids": [
            "Jordan"
           ],
           "legendgroup": "Jordan",
           "marker": {
            "color": "#FF97FF",
            "size": [
             8920000
            ],
            "sizemode": "area",
            "sizeref": 17187.5,
            "symbol": "circle"
           },
           "mode": "markers",
           "name": "Jordan",
           "orientation": "v",
           "showlegend": true,
           "type": "scatter",
           "x": [
            10300
           ],
           "xaxis": "x",
           "y": [
            78.1
           ],
           "yaxis": "y"
          },
          {
           "hovertemplate": "<b>%{hovertext}</b><br><br>country=Kuwait<br>year=2014<br>gdp=%{x}<br>life exp=%{y}<br>pop=%{marker.size}<extra></extra>",
           "hovertext": [
            "Kuwait"
           ],
           "ids": [
            "Kuwait"
           ],
           "legendgroup": "Kuwait",
           "marker": {
            "color": "#FECB52",
            "size": [
             3690000
            ],
            "sizemode": "area",
            "sizeref": 17187.5,
            "symbol": "circle"
           },
           "mode": "markers",
           "name": "Kuwait",
           "orientation": "v",
           "showlegend": true,
           "type": "scatter",
           "x": [
            56600
           ],
           "xaxis": "x",
           "y": [
            81.6
           ],
           "yaxis": "y"
          },
          {
           "hovertemplate": "<b>%{hovertext}</b><br><br>country=Israel<br>year=2014<br>gdp=%{x}<br>life exp=%{y}<br>pop=%{marker.size}<extra></extra>",
           "hovertext": [
            "Israel"
           ],
           "ids": [
            "Israel"
           ],
           "legendgroup": "Israel",
           "marker": {
            "color": "#636efa",
            "size": [
             7850000
            ],
            "sizemode": "area",
            "sizeref": 17187.5,
            "symbol": "circle"
           },
           "mode": "markers",
           "name": "Israel",
           "orientation": "v",
           "showlegend": true,
           "type": "scatter",
           "x": [
            37200
           ],
           "xaxis": "x",
           "y": [
            82
           ],
           "yaxis": "y"
          },
          {
           "hovertemplate": "<b>%{hovertext}</b><br><br>country=Saudi Arabia<br>year=2014<br>gdp=%{x}<br>life exp=%{y}<br>pop=%{marker.size}<extra></extra>",
           "hovertext": [
            "Saudi Arabia"
           ],
           "ids": [
            "Saudi Arabia"
           ],
           "legendgroup": "Saudi Arabia",
           "marker": {
            "color": "#EF553B",
            "size": [
             30900000
            ],
            "sizemode": "area",
            "sizeref": 17187.5,
            "symbol": "circle"
           },
           "mode": "markers",
           "name": "Saudi Arabia",
           "orientation": "v",
           "showlegend": true,
           "type": "scatter",
           "x": [
            48200
           ],
           "xaxis": "x",
           "y": [
            73.2
           ],
           "yaxis": "y"
          },
          {
           "hovertemplate": "<b>%{hovertext}</b><br><br>country=Oman<br>year=2014<br>gdp=%{x}<br>life exp=%{y}<br>pop=%{marker.size}<extra></extra>",
           "hovertext": [
            "Oman"
           ],
           "ids": [
            "Oman"
           ],
           "legendgroup": "Oman",
           "marker": {
            "color": "#00cc96",
            "size": [
             4030000.0000000005
            ],
            "sizemode": "area",
            "sizeref": 17187.5,
            "symbol": "circle"
           },
           "mode": "markers",
           "name": "Oman",
           "orientation": "v",
           "showlegend": true,
           "type": "scatter",
           "x": [
            34900
           ],
           "xaxis": "x",
           "y": [
            72.3
           ],
           "yaxis": "y"
          },
          {
           "hovertemplate": "<b>%{hovertext}</b><br><br>country=Palestine<br>year=2014<br>gdp=%{x}<br>life exp=%{y}<br>pop=%{marker.size}<extra></extra>",
           "hovertext": [
            "Palestine"
           ],
           "ids": [
            "Palestine"
           ],
           "legendgroup": "Palestine",
           "marker": {
            "color": "#ab63fa",
            "size": [
             4430000
            ],
            "sizemode": "area",
            "sizeref": 17187.5,
            "symbol": "circle"
           },
           "mode": "markers",
           "name": "Palestine",
           "orientation": "v",
           "showlegend": true,
           "type": "scatter",
           "x": [
            5970
           ],
           "xaxis": "x",
           "y": [
            74.5
           ],
           "yaxis": "y"
          },
          {
           "hovertemplate": "<b>%{hovertext}</b><br><br>country=Egypt<br>year=2014<br>gdp=%{x}<br>life exp=%{y}<br>pop=%{marker.size}<extra></extra>",
           "hovertext": [
            "Egypt"
           ],
           "ids": [
            "Egypt"
           ],
           "legendgroup": "Egypt",
           "marker": {
            "color": "#FFA15A",
            "size": [
             90400000
            ],
            "sizemode": "area",
            "sizeref": 17187.5,
            "symbol": "circle"
           },
           "mode": "markers",
           "name": "Egypt",
           "orientation": "v",
           "showlegend": true,
           "type": "scatter",
           "x": [
            10400
           ],
           "xaxis": "x",
           "y": [
            70.3
           ],
           "yaxis": "y"
          }
         ],
         "name": "2014"
        },
        {
         "data": [
          {
           "hovertemplate": "<b>%{hovertext}</b><br><br>country=Iran<br>year=2015<br>gdp=%{x}<br>life exp=%{y}<br>pop=%{marker.size}<extra></extra>",
           "hovertext": [
            "Iran"
           ],
           "ids": [
            "Iran"
           ],
           "legendgroup": "Iran",
           "marker": {
            "color": "#636efa",
            "size": [
             78500000
            ],
            "sizemode": "area",
            "sizeref": 17187.5,
            "symbol": "circle"
           },
           "mode": "markers",
           "name": "Iran",
           "orientation": "v",
           "showlegend": true,
           "type": "scatter",
           "x": [
            12700
           ],
           "xaxis": "x",
           "y": [
            76.7
           ],
           "yaxis": "y"
          },
          {
           "hovertemplate": "<b>%{hovertext}</b><br><br>country=Iraq<br>year=2015<br>gdp=%{x}<br>life exp=%{y}<br>pop=%{marker.size}<extra></extra>",
           "hovertext": [
            "Iraq"
           ],
           "ids": [
            "Iraq"
           ],
           "legendgroup": "Iraq",
           "marker": {
            "color": "#EF553B",
            "size": [
             35600000
            ],
            "sizemode": "area",
            "sizeref": 17187.5,
            "symbol": "circle"
           },
           "mode": "markers",
           "name": "Iraq",
           "orientation": "v",
           "showlegend": true,
           "type": "scatter",
           "x": [
            9950
           ],
           "xaxis": "x",
           "y": [
            70.7
           ],
           "yaxis": "y"
          },
          {
           "hovertemplate": "<b>%{hovertext}</b><br><br>country=Yemen<br>year=2015<br>gdp=%{x}<br>life exp=%{y}<br>pop=%{marker.size}<extra></extra>",
           "hovertext": [
            "Yemen"
           ],
           "ids": [
            "Yemen"
           ],
           "legendgroup": "Yemen",
           "marker": {
            "color": "#00cc96",
            "size": [
             26500000
            ],
            "sizemode": "area",
            "sizeref": 17187.5,
            "symbol": "circle"
           },
           "mode": "markers",
           "name": "Yemen",
           "orientation": "v",
           "showlegend": true,
           "type": "scatter",
           "x": [
            3310
           ],
           "xaxis": "x",
           "y": [
            68.2
           ],
           "yaxis": "y"
          },
          {
           "hovertemplate": "<b>%{hovertext}</b><br><br>country=Syria<br>year=2015<br>gdp=%{x}<br>life exp=%{y}<br>pop=%{marker.size}<extra></extra>",
           "hovertext": [
            "Syria"
           ],
           "ids": [
            "Syria"
           ],
           "legendgroup": "Syria",
           "marker": {
            "color": "#ab63fa",
            "size": [
             18000000
            ],
            "sizemode": "area",
            "sizeref": 17187.5,
            "symbol": "circle"
           },
           "mode": "markers",
           "name": "Syria",
           "orientation": "v",
           "showlegend": true,
           "type": "scatter",
           "x": [
            3540
           ],
           "xaxis": "x",
           "y": [
            65.5
           ],
           "yaxis": "y"
          },
          {
           "hovertemplate": "<b>%{hovertext}</b><br><br>country=Turkey<br>year=2015<br>gdp=%{x}<br>life exp=%{y}<br>pop=%{marker.size}<extra></extra>",
           "hovertext": [
            "Turkey"
           ],
           "ids": [
            "Turkey"
           ],
           "legendgroup": "Turkey",
           "marker": {
            "color": "#FFA15A",
            "size": [
             78500000
            ],
            "sizemode": "area",
            "sizeref": 17187.5,
            "symbol": "circle"
           },
           "mode": "markers",
           "name": "Turkey",
           "orientation": "v",
           "showlegend": true,
           "type": "scatter",
           "x": [
            26000
           ],
           "xaxis": "x",
           "y": [
            77.4
           ],
           "yaxis": "y"
          },
          {
           "hovertemplate": "<b>%{hovertext}</b><br><br>country=Bahrain<br>year=2015<br>gdp=%{x}<br>life exp=%{y}<br>pop=%{marker.size}<extra></extra>",
           "hovertext": [
            "Bahrain"
           ],
           "ids": [
            "Bahrain"
           ],
           "legendgroup": "Bahrain",
           "marker": {
            "color": "#19d3f3",
            "size": [
             1370000
            ],
            "sizemode": "area",
            "sizeref": 17187.5,
            "symbol": "circle"
           },
           "mode": "markers",
           "name": "Bahrain",
           "orientation": "v",
           "showlegend": true,
           "type": "scatter",
           "x": [
            48100
           ],
           "xaxis": "x",
           "y": [
            76.8
           ],
           "yaxis": "y"
          },
          {
           "hovertemplate": "<b>%{hovertext}</b><br><br>country=United Arab Emirates<br>year=2015<br>gdp=%{x}<br>life exp=%{y}<br>pop=%{marker.size}<extra></extra>",
           "hovertext": [
            "United Arab Emirates"
           ],
           "ids": [
            "United Arab Emirates"
           ],
           "legendgroup": "United Arab Emirates",
           "marker": {
            "color": "#FF6692",
            "size": [
             9260000
            ],
            "sizemode": "area",
            "sizeref": 17187.5,
            "symbol": "circle"
           },
           "mode": "markers",
           "name": "United Arab Emirates",
           "orientation": "v",
           "showlegend": true,
           "type": "scatter",
           "x": [
            65300
           ],
           "xaxis": "x",
           "y": [
            73.2
           ],
           "yaxis": "y"
          },
          {
           "hovertemplate": "<b>%{hovertext}</b><br><br>country=Qatar<br>year=2015<br>gdp=%{x}<br>life exp=%{y}<br>pop=%{marker.size}<extra></extra>",
           "hovertext": [
            "Qatar"
           ],
           "ids": [
            "Qatar"
           ],
           "legendgroup": "Qatar",
           "marker": {
            "color": "#B6E880",
            "size": [
             2570000
            ],
            "sizemode": "area",
            "sizeref": 17187.5,
            "symbol": "circle"
           },
           "mode": "markers",
           "name": "Qatar",
           "orientation": "v",
           "showlegend": true,
           "type": "scatter",
           "x": [
            96000
           ],
           "xaxis": "x",
           "y": [
            75.5
           ],
           "yaxis": "y"
          },
          {
           "hovertemplate": "<b>%{hovertext}</b><br><br>country=Jordan<br>year=2015<br>gdp=%{x}<br>life exp=%{y}<br>pop=%{marker.size}<extra></extra>",
           "hovertext": [
            "Jordan"
           ],
           "ids": [
            "Jordan"
           ],
           "legendgroup": "Jordan",
           "marker": {
            "color": "#FF97FF",
            "size": [
             9270000
            ],
            "sizemode": "area",
            "sizeref": 17187.5,
            "symbol": "circle"
           },
           "mode": "markers",
           "name": "Jordan",
           "orientation": "v",
           "showlegend": true,
           "type": "scatter",
           "x": [
            10100
           ],
           "xaxis": "x",
           "y": [
            78.2
           ],
           "yaxis": "y"
          },
          {
           "hovertemplate": "<b>%{hovertext}</b><br><br>country=Kuwait<br>year=2015<br>gdp=%{x}<br>life exp=%{y}<br>pop=%{marker.size}<extra></extra>",
           "hovertext": [
            "Kuwait"
           ],
           "ids": [
            "Kuwait"
           ],
           "legendgroup": "Kuwait",
           "marker": {
            "color": "#FECB52",
            "size": [
             3840000
            ],
            "sizemode": "area",
            "sizeref": 17187.5,
            "symbol": "circle"
           },
           "mode": "markers",
           "name": "Kuwait",
           "orientation": "v",
           "showlegend": true,
           "type": "scatter",
           "x": [
            54800
           ],
           "xaxis": "x",
           "y": [
            81.5
           ],
           "yaxis": "y"
          },
          {
           "hovertemplate": "<b>%{hovertext}</b><br><br>country=Israel<br>year=2015<br>gdp=%{x}<br>life exp=%{y}<br>pop=%{marker.size}<extra></extra>",
           "hovertext": [
            "Israel"
           ],
           "ids": [
            "Israel"
           ],
           "legendgroup": "Israel",
           "marker": {
            "color": "#636efa",
            "size": [
             7980000
            ],
            "sizemode": "area",
            "sizeref": 17187.5,
            "symbol": "circle"
           },
           "mode": "markers",
           "name": "Israel",
           "orientation": "v",
           "showlegend": true,
           "type": "scatter",
           "x": [
            37300
           ],
           "xaxis": "x",
           "y": [
            82.7
           ],
           "yaxis": "y"
          },
          {
           "hovertemplate": "<b>%{hovertext}</b><br><br>country=Saudi Arabia<br>year=2015<br>gdp=%{x}<br>life exp=%{y}<br>pop=%{marker.size}<extra></extra>",
           "hovertext": [
            "Saudi Arabia"
           ],
           "ids": [
            "Saudi Arabia"
           ],
           "legendgroup": "Saudi Arabia",
           "marker": {
            "color": "#EF553B",
            "size": [
             31700000
            ],
            "sizemode": "area",
            "sizeref": 17187.5,
            "symbol": "circle"
           },
           "mode": "markers",
           "name": "Saudi Arabia",
           "orientation": "v",
           "showlegend": true,
           "type": "scatter",
           "x": [
            48900
           ],
           "xaxis": "x",
           "y": [
            73.3
           ],
           "yaxis": "y"
          },
          {
           "hovertemplate": "<b>%{hovertext}</b><br><br>country=Oman<br>year=2015<br>gdp=%{x}<br>life exp=%{y}<br>pop=%{marker.size}<extra></extra>",
           "hovertext": [
            "Oman"
           ],
           "ids": [
            "Oman"
           ],
           "legendgroup": "Oman",
           "marker": {
            "color": "#00cc96",
            "size": [
             4270000
            ],
            "sizemode": "area",
            "sizeref": 17187.5,
            "symbol": "circle"
           },
           "mode": "markers",
           "name": "Oman",
           "orientation": "v",
           "showlegend": true,
           "type": "scatter",
           "x": [
            34600
           ],
           "xaxis": "x",
           "y": [
            72.4
           ],
           "yaxis": "y"
          },
          {
           "hovertemplate": "<b>%{hovertext}</b><br><br>country=Palestine<br>year=2015<br>gdp=%{x}<br>life exp=%{y}<br>pop=%{marker.size}<extra></extra>",
           "hovertext": [
            "Palestine"
           ],
           "ids": [
            "Palestine"
           ],
           "legendgroup": "Palestine",
           "marker": {
            "color": "#ab63fa",
            "size": [
             4530000
            ],
            "sizemode": "area",
            "sizeref": 17187.5,
            "symbol": "circle"
           },
           "mode": "markers",
           "name": "Palestine",
           "orientation": "v",
           "showlegend": true,
           "type": "scatter",
           "x": [
            6050
           ],
           "xaxis": "x",
           "y": [
            74.3
           ],
           "yaxis": "y"
          },
          {
           "hovertemplate": "<b>%{hovertext}</b><br><br>country=Egypt<br>year=2015<br>gdp=%{x}<br>life exp=%{y}<br>pop=%{marker.size}<extra></extra>",
           "hovertext": [
            "Egypt"
           ],
           "ids": [
            "Egypt"
           ],
           "legendgroup": "Egypt",
           "marker": {
            "color": "#FFA15A",
            "size": [
             92400000
            ],
            "sizemode": "area",
            "sizeref": 17187.5,
            "symbol": "circle"
           },
           "mode": "markers",
           "name": "Egypt",
           "orientation": "v",
           "showlegend": true,
           "type": "scatter",
           "x": [
            10600
           ],
           "xaxis": "x",
           "y": [
            69.9
           ],
           "yaxis": "y"
          }
         ],
         "name": "2015"
        },
        {
         "data": [
          {
           "hovertemplate": "<b>%{hovertext}</b><br><br>country=Iran<br>year=2016<br>gdp=%{x}<br>life exp=%{y}<br>pop=%{marker.size}<extra></extra>",
           "hovertext": [
            "Iran"
           ],
           "ids": [
            "Iran"
           ],
           "legendgroup": "Iran",
           "marker": {
            "color": "#636efa",
            "size": [
             79600000
            ],
            "sizemode": "area",
            "sizeref": 17187.5,
            "symbol": "circle"
           },
           "mode": "markers",
           "name": "Iran",
           "orientation": "v",
           "showlegend": true,
           "type": "scatter",
           "x": [
            14200
           ],
           "xaxis": "x",
           "y": [
            77.1
           ],
           "yaxis": "y"
          },
          {
           "hovertemplate": "<b>%{hovertext}</b><br><br>country=Iraq<br>year=2016<br>gdp=%{x}<br>life exp=%{y}<br>pop=%{marker.size}<extra></extra>",
           "hovertext": [
            "Iraq"
           ],
           "ids": [
            "Iraq"
           ],
           "legendgroup": "Iraq",
           "marker": {
            "color": "#EF553B",
            "size": [
             36600000
            ],
            "sizemode": "area",
            "sizeref": 17187.5,
            "symbol": "circle"
           },
           "mode": "markers",
           "name": "Iraq",
           "orientation": "v",
           "showlegend": true,
           "type": "scatter",
           "x": [
            11000
           ],
           "xaxis": "x",
           "y": [
            70.9
           ],
           "yaxis": "y"
          },
          {
           "hovertemplate": "<b>%{hovertext}</b><br><br>country=Yemen<br>year=2016<br>gdp=%{x}<br>life exp=%{y}<br>pop=%{marker.size}<extra></extra>",
           "hovertext": [
            "Yemen"
           ],
           "ids": [
            "Yemen"
           ],
           "legendgroup": "Yemen",
           "marker": {
            "color": "#00cc96",
            "size": [
             27200000
            ],
            "sizemode": "area",
            "sizeref": 17187.5,
            "symbol": "circle"
           },
           "mode": "markers",
           "name": "Yemen",
           "orientation": "v",
           "showlegend": true,
           "type": "scatter",
           "x": [
            2910
           ],
           "xaxis": "x",
           "y": [
            67.5
           ],
           "yaxis": "y"
          },
          {
           "hovertemplate": "<b>%{hovertext}</b><br><br>country=Syria<br>year=2016<br>gdp=%{x}<br>life exp=%{y}<br>pop=%{marker.size}<extra></extra>",
           "hovertext": [
            "Syria"
           ],
           "ids": [
            "Syria"
           ],
           "legendgroup": "Syria",
           "marker": {
            "color": "#ab63fa",
            "size": [
             17500000
            ],
            "sizemode": "area",
            "sizeref": 17187.5,
            "symbol": "circle"
           },
           "mode": "markers",
           "name": "Syria",
           "orientation": "v",
           "showlegend": true,
           "type": "scatter",
           "x": [
            3590
           ],
           "xaxis": "x",
           "y": [
            64.3
           ],
           "yaxis": "y"
          },
          {
           "hovertemplate": "<b>%{hovertext}</b><br><br>country=Turkey<br>year=2016<br>gdp=%{x}<br>life exp=%{y}<br>pop=%{marker.size}<extra></extra>",
           "hovertext": [
            "Turkey"
           ],
           "ids": [
            "Turkey"
           ],
           "legendgroup": "Turkey",
           "marker": {
            "color": "#FFA15A",
            "size": [
             79800000
            ],
            "sizemode": "area",
            "sizeref": 17187.5,
            "symbol": "circle"
           },
           "mode": "markers",
           "name": "Turkey",
           "orientation": "v",
           "showlegend": true,
           "type": "scatter",
           "x": [
            26400
           ],
           "xaxis": "x",
           "y": [
            77.5
           ],
           "yaxis": "y"
          },
          {
           "hovertemplate": "<b>%{hovertext}</b><br><br>country=Bahrain<br>year=2016<br>gdp=%{x}<br>life exp=%{y}<br>pop=%{marker.size}<extra></extra>",
           "hovertext": [
            "Bahrain"
           ],
           "ids": [
            "Bahrain"
           ],
           "legendgroup": "Bahrain",
           "marker": {
            "color": "#19d3f3",
            "size": [
             1430000
            ],
            "sizemode": "area",
            "sizeref": 17187.5,
            "symbol": "circle"
           },
           "mode": "markers",
           "name": "Bahrain",
           "orientation": "v",
           "showlegend": true,
           "type": "scatter",
           "x": [
            47900
           ],
           "xaxis": "x",
           "y": [
            76.8
           ],
           "yaxis": "y"
          },
          {
           "hovertemplate": "<b>%{hovertext}</b><br><br>country=United Arab Emirates<br>year=2016<br>gdp=%{x}<br>life exp=%{y}<br>pop=%{marker.size}<extra></extra>",
           "hovertext": [
            "United Arab Emirates"
           ],
           "ids": [
            "United Arab Emirates"
           ],
           "legendgroup": "United Arab Emirates",
           "marker": {
            "color": "#FF6692",
            "size": [
             9360000
            ],
            "sizemode": "area",
            "sizeref": 17187.5,
            "symbol": "circle"
           },
           "mode": "markers",
           "name": "United Arab Emirates",
           "orientation": "v",
           "showlegend": true,
           "type": "scatter",
           "x": [
            66500
           ],
           "xaxis": "x",
           "y": [
            73.4
           ],
           "yaxis": "y"
          },
          {
           "hovertemplate": "<b>%{hovertext}</b><br><br>country=Qatar<br>year=2016<br>gdp=%{x}<br>life exp=%{y}<br>pop=%{marker.size}<extra></extra>",
           "hovertext": [
            "Qatar"
           ],
           "ids": [
            "Qatar"
           ],
           "legendgroup": "Qatar",
           "marker": {
            "color": "#B6E880",
            "size": [
             2650000
            ],
            "sizemode": "area",
            "sizeref": 17187.5,
            "symbol": "circle"
           },
           "mode": "markers",
           "name": "Qatar",
           "orientation": "v",
           "showlegend": true,
           "type": "scatter",
           "x": [
            95600
           ],
           "xaxis": "x",
           "y": [
            75.7
           ],
           "yaxis": "y"
          },
          {
           "hovertemplate": "<b>%{hovertext}</b><br><br>country=Jordan<br>year=2016<br>gdp=%{x}<br>life exp=%{y}<br>pop=%{marker.size}<extra></extra>",
           "hovertext": [
            "Jordan"
           ],
           "ids": [
            "Jordan"
           ],
           "legendgroup": "Jordan",
           "marker": {
            "color": "#FF97FF",
            "size": [
             9550000
            ],
            "sizemode": "area",
            "sizeref": 17187.5,
            "symbol": "circle"
           },
           "mode": "markers",
           "name": "Jordan",
           "orientation": "v",
           "showlegend": true,
           "type": "scatter",
           "x": [
            10000
           ],
           "xaxis": "x",
           "y": [
            78.1
           ],
           "yaxis": "y"
          },
          {
           "hovertemplate": "<b>%{hovertext}</b><br><br>country=Kuwait<br>year=2016<br>gdp=%{x}<br>life exp=%{y}<br>pop=%{marker.size}<extra></extra>",
           "hovertext": [
            "Kuwait"
           ],
           "ids": [
            "Kuwait"
           ],
           "legendgroup": "Kuwait",
           "marker": {
            "color": "#FECB52",
            "size": [
             3960000
            ],
            "sizemode": "area",
            "sizeref": 17187.5,
            "symbol": "circle"
           },
           "mode": "markers",
           "name": "Kuwait",
           "orientation": "v",
           "showlegend": true,
           "type": "scatter",
           "x": [
            54700
           ],
           "xaxis": "x",
           "y": [
            81.6
           ],
           "yaxis": "y"
          },
          {
           "hovertemplate": "<b>%{hovertext}</b><br><br>country=Israel<br>year=2016<br>gdp=%{x}<br>life exp=%{y}<br>pop=%{marker.size}<extra></extra>",
           "hovertext": [
            "Israel"
           ],
           "ids": [
            "Israel"
           ],
           "legendgroup": "Israel",
           "marker": {
            "color": "#636efa",
            "size": [
             8109999.999999999
            ],
            "sizemode": "area",
            "sizeref": 17187.5,
            "symbol": "circle"
           },
           "mode": "markers",
           "name": "Israel",
           "orientation": "v",
           "showlegend": true,
           "type": "scatter",
           "x": [
            38200
           ],
           "xaxis": "x",
           "y": [
            83
           ],
           "yaxis": "y"
          },
          {
           "hovertemplate": "<b>%{hovertext}</b><br><br>country=Saudi Arabia<br>year=2016<br>gdp=%{x}<br>life exp=%{y}<br>pop=%{marker.size}<extra></extra>",
           "hovertext": [
            "Saudi Arabia"
           ],
           "ids": [
            "Saudi Arabia"
           ],
           "legendgroup": "Saudi Arabia",
           "marker": {
            "color": "#EF553B",
            "size": [
             32400000
            ],
            "sizemode": "area",
            "sizeref": 17187.5,
            "symbol": "circle"
           },
           "mode": "markers",
           "name": "Saudi Arabia",
           "orientation": "v",
           "showlegend": true,
           "type": "scatter",
           "x": [
            48600
           ],
           "xaxis": "x",
           "y": [
            73.7
           ],
           "yaxis": "y"
          },
          {
           "hovertemplate": "<b>%{hovertext}</b><br><br>country=Oman<br>year=2016<br>gdp=%{x}<br>life exp=%{y}<br>pop=%{marker.size}<extra></extra>",
           "hovertext": [
            "Oman"
           ],
           "ids": [
            "Oman"
           ],
           "legendgroup": "Oman",
           "marker": {
            "color": "#00cc96",
            "size": [
             4480000
            ],
            "sizemode": "area",
            "sizeref": 17187.5,
            "symbol": "circle"
           },
           "mode": "markers",
           "name": "Oman",
           "orientation": "v",
           "showlegend": true,
           "type": "scatter",
           "x": [
            34600
           ],
           "xaxis": "x",
           "y": [
            72.6
           ],
           "yaxis": "y"
          },
          {
           "hovertemplate": "<b>%{hovertext}</b><br><br>country=Palestine<br>year=2016<br>gdp=%{x}<br>life exp=%{y}<br>pop=%{marker.size}<extra></extra>",
           "hovertext": [
            "Palestine"
           ],
           "ids": [
            "Palestine"
           ],
           "legendgroup": "Palestine",
           "marker": {
            "color": "#ab63fa",
            "size": [
             4640000
            ],
            "sizemode": "area",
            "sizeref": 17187.5,
            "symbol": "circle"
           },
           "mode": "markers",
           "name": "Palestine",
           "orientation": "v",
           "showlegend": true,
           "type": "scatter",
           "x": [
            6440
           ],
           "xaxis": "x",
           "y": [
            74.5
           ],
           "yaxis": "y"
          },
          {
           "hovertemplate": "<b>%{hovertext}</b><br><br>country=Egypt<br>year=2016<br>gdp=%{x}<br>life exp=%{y}<br>pop=%{marker.size}<extra></extra>",
           "hovertext": [
            "Egypt"
           ],
           "ids": [
            "Egypt"
           ],
           "legendgroup": "Egypt",
           "marker": {
            "color": "#FFA15A",
            "size": [
             94400000
            ],
            "sizemode": "area",
            "sizeref": 17187.5,
            "symbol": "circle"
           },
           "mode": "markers",
           "name": "Egypt",
           "orientation": "v",
           "showlegend": true,
           "type": "scatter",
           "x": [
            10800
           ],
           "xaxis": "x",
           "y": [
            70.2
           ],
           "yaxis": "y"
          }
         ],
         "name": "2016"
        },
        {
         "data": [
          {
           "hovertemplate": "<b>%{hovertext}</b><br><br>country=Iran<br>year=2017<br>gdp=%{x}<br>life exp=%{y}<br>pop=%{marker.size}<extra></extra>",
           "hovertext": [
            "Iran"
           ],
           "ids": [
            "Iran"
           ],
           "legendgroup": "Iran",
           "marker": {
            "color": "#636efa",
            "size": [
             80700000
            ],
            "sizemode": "area",
            "sizeref": 17187.5,
            "symbol": "circle"
           },
           "mode": "markers",
           "name": "Iran",
           "orientation": "v",
           "showlegend": true,
           "type": "scatter",
           "x": [
            14500
           ],
           "xaxis": "x",
           "y": [
            77.3
           ],
           "yaxis": "y"
          },
          {
           "hovertemplate": "<b>%{hovertext}</b><br><br>country=Iraq<br>year=2017<br>gdp=%{x}<br>life exp=%{y}<br>pop=%{marker.size}<extra></extra>",
           "hovertext": [
            "Iraq"
           ],
           "ids": [
            "Iraq"
           ],
           "legendgroup": "Iraq",
           "marker": {
            "color": "#EF553B",
            "size": [
             37600000
            ],
            "sizemode": "area",
            "sizeref": 17187.5,
            "symbol": "circle"
           },
           "mode": "markers",
           "name": "Iraq",
           "orientation": "v",
           "showlegend": true,
           "type": "scatter",
           "x": [
            10500
           ],
           "xaxis": "x",
           "y": [
            71.5
           ],
           "yaxis": "y"
          },
          {
           "hovertemplate": "<b>%{hovertext}</b><br><br>country=Yemen<br>year=2017<br>gdp=%{x}<br>life exp=%{y}<br>pop=%{marker.size}<extra></extra>",
           "hovertext": [
            "Yemen"
           ],
           "ids": [
            "Yemen"
           ],
           "legendgroup": "Yemen",
           "marker": {
            "color": "#00cc96",
            "size": [
             27800000
            ],
            "sizemode": "area",
            "sizeref": 17187.5,
            "symbol": "circle"
           },
           "mode": "markers",
           "name": "Yemen",
           "orientation": "v",
           "showlegend": true,
           "type": "scatter",
           "x": [
            2700
           ],
           "xaxis": "x",
           "y": [
            67.3
           ],
           "yaxis": "y"
          },
          {
           "hovertemplate": "<b>%{hovertext}</b><br><br>country=Syria<br>year=2017<br>gdp=%{x}<br>life exp=%{y}<br>pop=%{marker.size}<extra></extra>",
           "hovertext": [
            "Syria"
           ],
           "ids": [
            "Syria"
           ],
           "legendgroup": "Syria",
           "marker": {
            "color": "#ab63fa",
            "size": [
             17100000
            ],
            "sizemode": "area",
            "sizeref": 17187.5,
            "symbol": "circle"
           },
           "mode": "markers",
           "name": "Syria",
           "orientation": "v",
           "showlegend": true,
           "type": "scatter",
           "x": [
            3770
           ],
           "xaxis": "x",
           "y": [
            68.3
           ],
           "yaxis": "y"
          },
          {
           "hovertemplate": "<b>%{hovertext}</b><br><br>country=Turkey<br>year=2017<br>gdp=%{x}<br>life exp=%{y}<br>pop=%{marker.size}<extra></extra>",
           "hovertext": [
            "Turkey"
           ],
           "ids": [
            "Turkey"
           ],
           "legendgroup": "Turkey",
           "marker": {
            "color": "#FFA15A",
            "size": [
             81100000
            ],
            "sizemode": "area",
            "sizeref": 17187.5,
            "symbol": "circle"
           },
           "mode": "markers",
           "name": "Turkey",
           "orientation": "v",
           "showlegend": true,
           "type": "scatter",
           "x": [
            27900
           ],
           "xaxis": "x",
           "y": [
            77.8
           ],
           "yaxis": "y"
          },
          {
           "hovertemplate": "<b>%{hovertext}</b><br><br>country=Bahrain<br>year=2017<br>gdp=%{x}<br>life exp=%{y}<br>pop=%{marker.size}<extra></extra>",
           "hovertext": [
            "Bahrain"
           ],
           "ids": [
            "Bahrain"
           ],
           "legendgroup": "Bahrain",
           "marker": {
            "color": "#19d3f3",
            "size": [
             1490000
            ],
            "sizemode": "area",
            "sizeref": 17187.5,
            "symbol": "circle"
           },
           "mode": "markers",
           "name": "Bahrain",
           "orientation": "v",
           "showlegend": true,
           "type": "scatter",
           "x": [
            47700
           ],
           "xaxis": "x",
           "y": [
            76.8
           ],
           "yaxis": "y"
          },
          {
           "hovertemplate": "<b>%{hovertext}</b><br><br>country=United Arab Emirates<br>year=2017<br>gdp=%{x}<br>life exp=%{y}<br>pop=%{marker.size}<extra></extra>",
           "hovertext": [
            "United Arab Emirates"
           ],
           "ids": [
            "United Arab Emirates"
           ],
           "legendgroup": "United Arab Emirates",
           "marker": {
            "color": "#FF6692",
            "size": [
             9490000
            ],
            "sizemode": "area",
            "sizeref": 17187.5,
            "symbol": "circle"
           },
           "mode": "markers",
           "name": "United Arab Emirates",
           "orientation": "v",
           "showlegend": true,
           "type": "scatter",
           "x": [
            67200
           ],
           "xaxis": "x",
           "y": [
            73.5
           ],
           "yaxis": "y"
          },
          {
           "hovertemplate": "<b>%{hovertext}</b><br><br>country=Qatar<br>year=2017<br>gdp=%{x}<br>life exp=%{y}<br>pop=%{marker.size}<extra></extra>",
           "hovertext": [
            "Qatar"
           ],
           "ids": [
            "Qatar"
           ],
           "legendgroup": "Qatar",
           "marker": {
            "color": "#B6E880",
            "size": [
             2720000
            ],
            "sizemode": "area",
            "sizeref": 17187.5,
            "symbol": "circle"
           },
           "mode": "markers",
           "name": "Qatar",
           "orientation": "v",
           "showlegend": true,
           "type": "scatter",
           "x": [
            91700
           ],
           "xaxis": "x",
           "y": [
            75.9
           ],
           "yaxis": "y"
          },
          {
           "hovertemplate": "<b>%{hovertext}</b><br><br>country=Jordan<br>year=2017<br>gdp=%{x}<br>life exp=%{y}<br>pop=%{marker.size}<extra></extra>",
           "hovertext": [
            "Jordan"
           ],
           "ids": [
            "Jordan"
           ],
           "legendgroup": "Jordan",
           "marker": {
            "color": "#FF97FF",
            "size": [
             9790000
            ],
            "sizemode": "area",
            "sizeref": 17187.5,
            "symbol": "circle"
           },
           "mode": "markers",
           "name": "Jordan",
           "orientation": "v",
           "showlegend": true,
           "type": "scatter",
           "x": [
            10000
           ],
           "xaxis": "x",
           "y": [
            78.2
           ],
           "yaxis": "y"
          },
          {
           "hovertemplate": "<b>%{hovertext}</b><br><br>country=Kuwait<br>year=2017<br>gdp=%{x}<br>life exp=%{y}<br>pop=%{marker.size}<extra></extra>",
           "hovertext": [
            "Kuwait"
           ],
           "ids": [
            "Kuwait"
           ],
           "legendgroup": "Kuwait",
           "marker": {
            "color": "#FECB52",
            "size": [
             4059999.9999999995
            ],
            "sizemode": "area",
            "sizeref": 17187.5,
            "symbol": "circle"
           },
           "mode": "markers",
           "name": "Kuwait",
           "orientation": "v",
           "showlegend": true,
           "type": "scatter",
           "x": [
            50900
           ],
           "xaxis": "x",
           "y": [
            81.6
           ],
           "yaxis": "y"
          },
          {
           "hovertemplate": "<b>%{hovertext}</b><br><br>country=Israel<br>year=2017<br>gdp=%{x}<br>life exp=%{y}<br>pop=%{marker.size}<extra></extra>",
           "hovertext": [
            "Israel"
           ],
           "ids": [
            "Israel"
           ],
           "legendgroup": "Israel",
           "marker": {
            "color": "#636efa",
            "size": [
             8240000
            ],
            "sizemode": "area",
            "sizeref": 17187.5,
            "symbol": "circle"
           },
           "mode": "markers",
           "name": "Israel",
           "orientation": "v",
           "showlegend": true,
           "type": "scatter",
           "x": [
            39100
           ],
           "xaxis": "x",
           "y": [
            83
           ],
           "yaxis": "y"
          },
          {
           "hovertemplate": "<b>%{hovertext}</b><br><br>country=Saudi Arabia<br>year=2017<br>gdp=%{x}<br>life exp=%{y}<br>pop=%{marker.size}<extra></extra>",
           "hovertext": [
            "Saudi Arabia"
           ],
           "ids": [
            "Saudi Arabia"
           ],
           "legendgroup": "Saudi Arabia",
           "marker": {
            "color": "#EF553B",
            "size": [
             33100000
            ],
            "sizemode": "area",
            "sizeref": 17187.5,
            "symbol": "circle"
           },
           "mode": "markers",
           "name": "Saudi Arabia",
           "orientation": "v",
           "showlegend": true,
           "type": "scatter",
           "x": [
            47300
           ],
           "xaxis": "x",
           "y": [
            74
           ],
           "yaxis": "y"
          },
          {
           "hovertemplate": "<b>%{hovertext}</b><br><br>country=Oman<br>year=2017<br>gdp=%{x}<br>life exp=%{y}<br>pop=%{marker.size}<extra></extra>",
           "hovertext": [
            "Oman"
           ],
           "ids": [
            "Oman"
           ],
           "legendgroup": "Oman",
           "marker": {
            "color": "#00cc96",
            "size": [
             4670000
            ],
            "sizemode": "area",
            "sizeref": 17187.5,
            "symbol": "circle"
           },
           "mode": "markers",
           "name": "Oman",
           "orientation": "v",
           "showlegend": true,
           "type": "scatter",
           "x": [
            33300
           ],
           "xaxis": "x",
           "y": [
            72.9
           ],
           "yaxis": "y"
          },
          {
           "hovertemplate": "<b>%{hovertext}</b><br><br>country=Palestine<br>year=2017<br>gdp=%{x}<br>life exp=%{y}<br>pop=%{marker.size}<extra></extra>",
           "hovertext": [
            "Palestine"
           ],
           "ids": [
            "Palestine"
           ],
           "legendgroup": "Palestine",
           "marker": {
            "color": "#ab63fa",
            "size": [
             4750000
            ],
            "sizemode": "area",
            "sizeref": 17187.5,
            "symbol": "circle"
           },
           "mode": "markers",
           "name": "Palestine",
           "orientation": "v",
           "showlegend": true,
           "type": "scatter",
           "x": [
            6400
           ],
           "xaxis": "x",
           "y": [
            74.7
           ],
           "yaxis": "y"
          },
          {
           "hovertemplate": "<b>%{hovertext}</b><br><br>country=Egypt<br>year=2017<br>gdp=%{x}<br>life exp=%{y}<br>pop=%{marker.size}<extra></extra>",
           "hovertext": [
            "Egypt"
           ],
           "ids": [
            "Egypt"
           ],
           "legendgroup": "Egypt",
           "marker": {
            "color": "#FFA15A",
            "size": [
             96400000
            ],
            "sizemode": "area",
            "sizeref": 17187.5,
            "symbol": "circle"
           },
           "mode": "markers",
           "name": "Egypt",
           "orientation": "v",
           "showlegend": true,
           "type": "scatter",
           "x": [
            11000
           ],
           "xaxis": "x",
           "y": [
            70.5
           ],
           "yaxis": "y"
          }
         ],
         "name": "2017"
        },
        {
         "data": [
          {
           "hovertemplate": "<b>%{hovertext}</b><br><br>country=Iran<br>year=2018<br>gdp=%{x}<br>life exp=%{y}<br>pop=%{marker.size}<extra></extra>",
           "hovertext": [
            "Iran"
           ],
           "ids": [
            "Iran"
           ],
           "legendgroup": "Iran",
           "marker": {
            "color": "#636efa",
            "size": [
             81800000
            ],
            "sizemode": "area",
            "sizeref": 17187.5,
            "symbol": "circle"
           },
           "mode": "markers",
           "name": "Iran",
           "orientation": "v",
           "showlegend": true,
           "type": "scatter",
           "x": [
            13500
           ],
           "xaxis": "x",
           "y": [
            77.6
           ],
           "yaxis": "y"
          },
          {
           "hovertemplate": "<b>%{hovertext}</b><br><br>country=Iraq<br>year=2018<br>gdp=%{x}<br>life exp=%{y}<br>pop=%{marker.size}<extra></extra>",
           "hovertext": [
            "Iraq"
           ],
           "ids": [
            "Iraq"
           ],
           "legendgroup": "Iraq",
           "marker": {
            "color": "#EF553B",
            "size": [
             38400000
            ],
            "sizemode": "area",
            "sizeref": 17187.5,
            "symbol": "circle"
           },
           "mode": "markers",
           "name": "Iraq",
           "orientation": "v",
           "showlegend": true,
           "type": "scatter",
           "x": [
            10600
           ],
           "xaxis": "x",
           "y": [
            73.3
           ],
           "yaxis": "y"
          },
          {
           "hovertemplate": "<b>%{hovertext}</b><br><br>country=Yemen<br>year=2018<br>gdp=%{x}<br>life exp=%{y}<br>pop=%{marker.size}<extra></extra>",
           "hovertext": [
            "Yemen"
           ],
           "ids": [
            "Yemen"
           ],
           "legendgroup": "Yemen",
           "marker": {
            "color": "#00cc96",
            "size": [
             28500000
            ],
            "sizemode": "area",
            "sizeref": 17187.5,
            "symbol": "circle"
           },
           "mode": "markers",
           "name": "Yemen",
           "orientation": "v",
           "showlegend": true,
           "type": "scatter",
           "x": [
            2660
           ],
           "xaxis": "x",
           "y": [
            66.1
           ],
           "yaxis": "y"
          },
          {
           "hovertemplate": "<b>%{hovertext}</b><br><br>country=Syria<br>year=2018<br>gdp=%{x}<br>life exp=%{y}<br>pop=%{marker.size}<extra></extra>",
           "hovertext": [
            "Syria"
           ],
           "ids": [
            "Syria"
           ],
           "legendgroup": "Syria",
           "marker": {
            "color": "#ab63fa",
            "size": [
             16900000
            ],
            "sizemode": "area",
            "sizeref": 17187.5,
            "symbol": "circle"
           },
           "mode": "markers",
           "name": "Syria",
           "orientation": "v",
           "showlegend": true,
           "type": "scatter",
           "x": [
            3890
           ],
           "xaxis": "x",
           "y": [
            73.2
           ],
           "yaxis": "y"
          },
          {
           "hovertemplate": "<b>%{hovertext}</b><br><br>country=Turkey<br>year=2018<br>gdp=%{x}<br>life exp=%{y}<br>pop=%{marker.size}<extra></extra>",
           "hovertext": [
            "Turkey"
           ],
           "ids": [
            "Turkey"
           ],
           "legendgroup": "Turkey",
           "marker": {
            "color": "#FFA15A",
            "size": [
             82300000
            ],
            "sizemode": "area",
            "sizeref": 17187.5,
            "symbol": "circle"
           },
           "mode": "markers",
           "name": "Turkey",
           "orientation": "v",
           "showlegend": true,
           "type": "scatter",
           "x": [
            28300
           ],
           "xaxis": "x",
           "y": [
            78.1
           ],
           "yaxis": "y"
          },
          {
           "hovertemplate": "<b>%{hovertext}</b><br><br>country=Bahrain<br>year=2018<br>gdp=%{x}<br>life exp=%{y}<br>pop=%{marker.size}<extra></extra>",
           "hovertext": [
            "Bahrain"
           ],
           "ids": [
            "Bahrain"
           ],
           "legendgroup": "Bahrain",
           "marker": {
            "color": "#19d3f3",
            "size": [
             1570000
            ],
            "sizemode": "area",
            "sizeref": 17187.5,
            "symbol": "circle"
           },
           "mode": "markers",
           "name": "Bahrain",
           "orientation": "v",
           "showlegend": true,
           "type": "scatter",
           "x": [
            46400
           ],
           "xaxis": "x",
           "y": [
            77
           ],
           "yaxis": "y"
          },
          {
           "hovertemplate": "<b>%{hovertext}</b><br><br>country=United Arab Emirates<br>year=2018<br>gdp=%{x}<br>life exp=%{y}<br>pop=%{marker.size}<extra></extra>",
           "hovertext": [
            "United Arab Emirates"
           ],
           "ids": [
            "United Arab Emirates"
           ],
           "legendgroup": "United Arab Emirates",
           "marker": {
            "color": "#FF6692",
            "size": [
             9630000
            ],
            "sizemode": "area",
            "sizeref": 17187.5,
            "symbol": "circle"
           },
           "mode": "markers",
           "name": "United Arab Emirates",
           "orientation": "v",
           "showlegend": true,
           "type": "scatter",
           "x": [
            67000
           ],
           "xaxis": "x",
           "y": [
            73.7
           ],
           "yaxis": "y"
          },
          {
           "hovertemplate": "<b>%{hovertext}</b><br><br>country=Qatar<br>year=2018<br>gdp=%{x}<br>life exp=%{y}<br>pop=%{marker.size}<extra></extra>",
           "hovertext": [
            "Qatar"
           ],
           "ids": [
            "Qatar"
           ],
           "legendgroup": "Qatar",
           "marker": {
            "color": "#B6E880",
            "size": [
             2780000
            ],
            "sizemode": "area",
            "sizeref": 17187.5,
            "symbol": "circle"
           },
           "mode": "markers",
           "name": "Qatar",
           "orientation": "v",
           "showlegend": true,
           "type": "scatter",
           "x": [
            91000
           ],
           "xaxis": "x",
           "y": [
            76.1
           ],
           "yaxis": "y"
          },
          {
           "hovertemplate": "<b>%{hovertext}</b><br><br>country=Jordan<br>year=2018<br>gdp=%{x}<br>life exp=%{y}<br>pop=%{marker.size}<extra></extra>",
           "hovertext": [
            "Jordan"
           ],
           "ids": [
            "Jordan"
           ],
           "legendgroup": "Jordan",
           "marker": {
            "color": "#FF97FF",
            "size": [
             9970000
            ],
            "sizemode": "area",
            "sizeref": 17187.5,
            "symbol": "circle"
           },
           "mode": "markers",
           "name": "Jordan",
           "orientation": "v",
           "showlegend": true,
           "type": "scatter",
           "x": [
            10000
           ],
           "xaxis": "x",
           "y": [
            77.9
           ],
           "yaxis": "y"
          },
          {
           "hovertemplate": "<b>%{hovertext}</b><br><br>country=Kuwait<br>year=2018<br>gdp=%{x}<br>life exp=%{y}<br>pop=%{marker.size}<extra></extra>",
           "hovertext": [
            "Kuwait"
           ],
           "ids": [
            "Kuwait"
           ],
           "legendgroup": "Kuwait",
           "marker": {
            "color": "#FECB52",
            "size": [
             4139999.9999999995
            ],
            "sizemode": "area",
            "sizeref": 17187.5,
            "symbol": "circle"
           },
           "mode": "markers",
           "name": "Kuwait",
           "orientation": "v",
           "showlegend": true,
           "type": "scatter",
           "x": [
            50500
           ],
           "xaxis": "x",
           "y": [
            81.6
           ],
           "yaxis": "y"
          },
          {
           "hovertemplate": "<b>%{hovertext}</b><br><br>country=Israel<br>year=2018<br>gdp=%{x}<br>life exp=%{y}<br>pop=%{marker.size}<extra></extra>",
           "hovertext": [
            "Israel"
           ],
           "ids": [
            "Israel"
           ],
           "legendgroup": "Israel",
           "marker": {
            "color": "#636efa",
            "size": [
             8380000.000000001
            ],
            "sizemode": "area",
            "sizeref": 17187.5,
            "symbol": "circle"
           },
           "mode": "markers",
           "name": "Israel",
           "orientation": "v",
           "showlegend": true,
           "type": "scatter",
           "x": [
            39900
           ],
           "xaxis": "x",
           "y": [
            83
           ],
           "yaxis": "y"
          },
          {
           "hovertemplate": "<b>%{hovertext}</b><br><br>country=Saudi Arabia<br>year=2018<br>gdp=%{x}<br>life exp=%{y}<br>pop=%{marker.size}<extra></extra>",
           "hovertext": [
            "Saudi Arabia"
           ],
           "ids": [
            "Saudi Arabia"
           ],
           "legendgroup": "Saudi Arabia",
           "marker": {
            "color": "#EF553B",
            "size": [
             33700000
            ],
            "sizemode": "area",
            "sizeref": 17187.5,
            "symbol": "circle"
           },
           "mode": "markers",
           "name": "Saudi Arabia",
           "orientation": "v",
           "showlegend": true,
           "type": "scatter",
           "x": [
            47600
           ],
           "xaxis": "x",
           "y": [
            74.3
           ],
           "yaxis": "y"
          },
          {
           "hovertemplate": "<b>%{hovertext}</b><br><br>country=Oman<br>year=2018<br>gdp=%{x}<br>life exp=%{y}<br>pop=%{marker.size}<extra></extra>",
           "hovertext": [
            "Oman"
           ],
           "ids": [
            "Oman"
           ],
           "legendgroup": "Oman",
           "marker": {
            "color": "#00cc96",
            "size": [
             4830000
            ],
            "sizemode": "area",
            "sizeref": 17187.5,
            "symbol": "circle"
           },
           "mode": "markers",
           "name": "Oman",
           "orientation": "v",
           "showlegend": true,
           "type": "scatter",
           "x": [
            32600
           ],
           "xaxis": "x",
           "y": [
            73.6
           ],
           "yaxis": "y"
          },
          {
           "hovertemplate": "<b>%{hovertext}</b><br><br>country=Palestine<br>year=2018<br>gdp=%{x}<br>life exp=%{y}<br>pop=%{marker.size}<extra></extra>",
           "hovertext": [
            "Palestine"
           ],
           "ids": [
            "Palestine"
           ],
           "legendgroup": "Palestine",
           "marker": {
            "color": "#ab63fa",
            "size": [
             4860000
            ],
            "sizemode": "area",
            "sizeref": 17187.5,
            "symbol": "circle"
           },
           "mode": "markers",
           "name": "Palestine",
           "orientation": "v",
           "showlegend": true,
           "type": "scatter",
           "x": [
            6320
           ],
           "xaxis": "x",
           "y": [
            74.7
           ],
           "yaxis": "y"
          },
          {
           "hovertemplate": "<b>%{hovertext}</b><br><br>country=Egypt<br>year=2018<br>gdp=%{x}<br>life exp=%{y}<br>pop=%{marker.size}<extra></extra>",
           "hovertext": [
            "Egypt"
           ],
           "ids": [
            "Egypt"
           ],
           "legendgroup": "Egypt",
           "marker": {
            "color": "#FFA15A",
            "size": [
             98400000
            ],
            "sizemode": "area",
            "sizeref": 17187.5,
            "symbol": "circle"
           },
           "mode": "markers",
           "name": "Egypt",
           "orientation": "v",
           "showlegend": true,
           "type": "scatter",
           "x": [
            11400
           ],
           "xaxis": "x",
           "y": [
            70.7
           ],
           "yaxis": "y"
          }
         ],
         "name": "2018"
        },
        {
         "data": [
          {
           "hovertemplate": "<b>%{hovertext}</b><br><br>country=Iran<br>year=2019<br>gdp=%{x}<br>life exp=%{y}<br>pop=%{marker.size}<extra></extra>",
           "hovertext": [
            "Iran"
           ],
           "ids": [
            "Iran"
           ],
           "legendgroup": "Iran",
           "marker": {
            "color": "#636efa",
            "size": [
             82900000
            ],
            "sizemode": "area",
            "sizeref": 17187.5,
            "symbol": "circle"
           },
           "mode": "markers",
           "name": "Iran",
           "orientation": "v",
           "showlegend": true,
           "type": "scatter",
           "x": [
            12400
           ],
           "xaxis": "x",
           "y": [
            77.8
           ],
           "yaxis": "y"
          },
          {
           "hovertemplate": "<b>%{hovertext}</b><br><br>country=Iraq<br>year=2019<br>gdp=%{x}<br>life exp=%{y}<br>pop=%{marker.size}<extra></extra>",
           "hovertext": [
            "Iraq"
           ],
           "ids": [
            "Iraq"
           ],
           "legendgroup": "Iraq",
           "marker": {
            "color": "#EF553B",
            "size": [
             39300000
            ],
            "sizemode": "area",
            "sizeref": 17187.5,
            "symbol": "circle"
           },
           "mode": "markers",
           "name": "Iraq",
           "orientation": "v",
           "showlegend": true,
           "type": "scatter",
           "x": [
            10900
           ],
           "xaxis": "x",
           "y": [
            73.3
           ],
           "yaxis": "y"
          },
          {
           "hovertemplate": "<b>%{hovertext}</b><br><br>country=Yemen<br>year=2019<br>gdp=%{x}<br>life exp=%{y}<br>pop=%{marker.size}<extra></extra>",
           "hovertext": [
            "Yemen"
           ],
           "ids": [
            "Yemen"
           ],
           "legendgroup": "Yemen",
           "marker": {
            "color": "#00cc96",
            "size": [
             29200000
            ],
            "sizemode": "area",
            "sizeref": 17187.5,
            "symbol": "circle"
           },
           "mode": "markers",
           "name": "Yemen",
           "orientation": "v",
           "showlegend": true,
           "type": "scatter",
           "x": [
            2630
           ],
           "xaxis": "x",
           "y": [
            67.7
           ],
           "yaxis": "y"
          },
          {
           "hovertemplate": "<b>%{hovertext}</b><br><br>country=Syria<br>year=2019<br>gdp=%{x}<br>life exp=%{y}<br>pop=%{marker.size}<extra></extra>",
           "hovertext": [
            "Syria"
           ],
           "ids": [
            "Syria"
           ],
           "legendgroup": "Syria",
           "marker": {
            "color": "#ab63fa",
            "size": [
             17100000
            ],
            "sizemode": "area",
            "sizeref": 17187.5,
            "symbol": "circle"
           },
           "mode": "markers",
           "name": "Syria",
           "orientation": "v",
           "showlegend": true,
           "type": "scatter",
           "x": [
            3850
           ],
           "xaxis": "x",
           "y": [
            73.9
           ],
           "yaxis": "y"
          },
          {
           "hovertemplate": "<b>%{hovertext}</b><br><br>country=Turkey<br>year=2019<br>gdp=%{x}<br>life exp=%{y}<br>pop=%{marker.size}<extra></extra>",
           "hovertext": [
            "Turkey"
           ],
           "ids": [
            "Turkey"
           ],
           "legendgroup": "Turkey",
           "marker": {
            "color": "#FFA15A",
            "size": [
             83400000
            ],
            "sizemode": "area",
            "sizeref": 17187.5,
            "symbol": "circle"
           },
           "mode": "markers",
           "name": "Turkey",
           "orientation": "v",
           "showlegend": true,
           "type": "scatter",
           "x": [
            28200
           ],
           "xaxis": "x",
           "y": [
            78.4
           ],
           "yaxis": "y"
          },
          {
           "hovertemplate": "<b>%{hovertext}</b><br><br>country=Bahrain<br>year=2019<br>gdp=%{x}<br>life exp=%{y}<br>pop=%{marker.size}<extra></extra>",
           "hovertext": [
            "Bahrain"
           ],
           "ids": [
            "Bahrain"
           ],
           "legendgroup": "Bahrain",
           "marker": {
            "color": "#19d3f3",
            "size": [
             1640000
            ],
            "sizemode": "area",
            "sizeref": 17187.5,
            "symbol": "circle"
           },
           "mode": "markers",
           "name": "Bahrain",
           "orientation": "v",
           "showlegend": true,
           "type": "scatter",
           "x": [
            45300
           ],
           "xaxis": "x",
           "y": [
            77
           ],
           "yaxis": "y"
          },
          {
           "hovertemplate": "<b>%{hovertext}</b><br><br>country=United Arab Emirates<br>year=2019<br>gdp=%{x}<br>life exp=%{y}<br>pop=%{marker.size}<extra></extra>",
           "hovertext": [
            "United Arab Emirates"
           ],
           "ids": [
            "United Arab Emirates"
           ],
           "legendgroup": "United Arab Emirates",
           "marker": {
            "color": "#FF6692",
            "size": [
             9770000
            ],
            "sizemode": "area",
            "sizeref": 17187.5,
            "symbol": "circle"
           },
           "mode": "markers",
           "name": "United Arab Emirates",
           "orientation": "v",
           "showlegend": true,
           "type": "scatter",
           "x": [
            68300
           ],
           "xaxis": "x",
           "y": [
            73.9
           ],
           "yaxis": "y"
          },
          {
           "hovertemplate": "<b>%{hovertext}</b><br><br>country=Qatar<br>year=2019<br>gdp=%{x}<br>life exp=%{y}<br>pop=%{marker.size}<extra></extra>",
           "hovertext": [
            "Qatar"
           ],
           "ids": [
            "Qatar"
           ],
           "legendgroup": "Qatar",
           "marker": {
            "color": "#B6E880",
            "size": [
             2830000
            ],
            "sizemode": "area",
            "sizeref": 17187.5,
            "symbol": "circle"
           },
           "mode": "markers",
           "name": "Qatar",
           "orientation": "v",
           "showlegend": true,
           "type": "scatter",
           "x": [
            90000
           ],
           "xaxis": "x",
           "y": [
            76.3
           ],
           "yaxis": "y"
          },
          {
           "hovertemplate": "<b>%{hovertext}</b><br><br>country=Jordan<br>year=2019<br>gdp=%{x}<br>life exp=%{y}<br>pop=%{marker.size}<extra></extra>",
           "hovertext": [
            "Jordan"
           ],
           "ids": [
            "Jordan"
           ],
           "legendgroup": "Jordan",
           "marker": {
            "color": "#FF97FF",
            "size": [
             10100000
            ],
            "sizemode": "area",
            "sizeref": 17187.5,
            "symbol": "circle"
           },
           "mode": "markers",
           "name": "Jordan",
           "orientation": "v",
           "showlegend": true,
           "type": "scatter",
           "x": [
            10100
           ],
           "xaxis": "x",
           "y": [
            78.2
           ],
           "yaxis": "y"
          },
          {
           "hovertemplate": "<b>%{hovertext}</b><br><br>country=Kuwait<br>year=2019<br>gdp=%{x}<br>life exp=%{y}<br>pop=%{marker.size}<extra></extra>",
           "hovertext": [
            "Kuwait"
           ],
           "ids": [
            "Kuwait"
           ],
           "legendgroup": "Kuwait",
           "marker": {
            "color": "#FECB52",
            "size": [
             4210000
            ],
            "sizemode": "area",
            "sizeref": 17187.5,
            "symbol": "circle"
           },
           "mode": "markers",
           "name": "Kuwait",
           "orientation": "v",
           "showlegend": true,
           "type": "scatter",
           "x": [
            49900
           ],
           "xaxis": "x",
           "y": [
            81.5
           ],
           "yaxis": "y"
          },
          {
           "hovertemplate": "<b>%{hovertext}</b><br><br>country=Israel<br>year=2019<br>gdp=%{x}<br>life exp=%{y}<br>pop=%{marker.size}<extra></extra>",
           "hovertext": [
            "Israel"
           ],
           "ids": [
            "Israel"
           ],
           "legendgroup": "Israel",
           "marker": {
            "color": "#636efa",
            "size": [
             8520000
            ],
            "sizemode": "area",
            "sizeref": 17187.5,
            "symbol": "circle"
           },
           "mode": "markers",
           "name": "Israel",
           "orientation": "v",
           "showlegend": true,
           "type": "scatter",
           "x": [
            40600
           ],
           "xaxis": "x",
           "y": [
            83
           ],
           "yaxis": "y"
          },
          {
           "hovertemplate": "<b>%{hovertext}</b><br><br>country=Saudi Arabia<br>year=2019<br>gdp=%{x}<br>life exp=%{y}<br>pop=%{marker.size}<extra></extra>",
           "hovertext": [
            "Saudi Arabia"
           ],
           "ids": [
            "Saudi Arabia"
           ],
           "legendgroup": "Saudi Arabia",
           "marker": {
            "color": "#EF553B",
            "size": [
             34300000
            ],
            "sizemode": "area",
            "sizeref": 17187.5,
            "symbol": "circle"
           },
           "mode": "markers",
           "name": "Saudi Arabia",
           "orientation": "v",
           "showlegend": true,
           "type": "scatter",
           "x": [
            47000
           ],
           "xaxis": "x",
           "y": [
            74.5
           ],
           "yaxis": "y"
          },
          {
           "hovertemplate": "<b>%{hovertext}</b><br><br>country=Oman<br>year=2019<br>gdp=%{x}<br>life exp=%{y}<br>pop=%{marker.size}<extra></extra>",
           "hovertext": [
            "Oman"
           ],
           "ids": [
            "Oman"
           ],
           "legendgroup": "Oman",
           "marker": {
            "color": "#00cc96",
            "size": [
             4970000
            ],
            "sizemode": "area",
            "sizeref": 17187.5,
            "symbol": "circle"
           },
           "mode": "markers",
           "name": "Oman",
           "orientation": "v",
           "showlegend": true,
           "type": "scatter",
           "x": [
            31300
           ],
           "xaxis": "x",
           "y": [
            74
           ],
           "yaxis": "y"
          },
          {
           "hovertemplate": "<b>%{hovertext}</b><br><br>country=Palestine<br>year=2019<br>gdp=%{x}<br>life exp=%{y}<br>pop=%{marker.size}<extra></extra>",
           "hovertext": [
            "Palestine"
           ],
           "ids": [
            "Palestine"
           ],
           "legendgroup": "Palestine",
           "marker": {
            "color": "#ab63fa",
            "size": [
             4980000
            ],
            "sizemode": "area",
            "sizeref": 17187.5,
            "symbol": "circle"
           },
           "mode": "markers",
           "name": "Palestine",
           "orientation": "v",
           "showlegend": true,
           "type": "scatter",
           "x": [
            6250
           ],
           "xaxis": "x",
           "y": [
            74.8
           ],
           "yaxis": "y"
          },
          {
           "hovertemplate": "<b>%{hovertext}</b><br><br>country=Egypt<br>year=2019<br>gdp=%{x}<br>life exp=%{y}<br>pop=%{marker.size}<extra></extra>",
           "hovertext": [
            "Egypt"
           ],
           "ids": [
            "Egypt"
           ],
           "legendgroup": "Egypt",
           "marker": {
            "color": "#FFA15A",
            "size": [
             100000000
            ],
            "sizemode": "area",
            "sizeref": 17187.5,
            "symbol": "circle"
           },
           "mode": "markers",
           "name": "Egypt",
           "orientation": "v",
           "showlegend": true,
           "type": "scatter",
           "x": [
            11800
           ],
           "xaxis": "x",
           "y": [
            71
           ],
           "yaxis": "y"
          }
         ],
         "name": "2019"
        },
        {
         "data": [
          {
           "hovertemplate": "<b>%{hovertext}</b><br><br>country=Iran<br>year=2020<br>gdp=%{x}<br>life exp=%{y}<br>pop=%{marker.size}<extra></extra>",
           "hovertext": [
            "Iran"
           ],
           "ids": [
            "Iran"
           ],
           "legendgroup": "Iran",
           "marker": {
            "color": "#636efa",
            "size": [
             84000000
            ],
            "sizemode": "area",
            "sizeref": 17187.5,
            "symbol": "circle"
           },
           "mode": "markers",
           "name": "Iran",
           "orientation": "v",
           "showlegend": true,
           "type": "scatter",
           "x": [
            12500
           ],
           "xaxis": "x",
           "y": [
            76.2
           ],
           "yaxis": "y"
          },
          {
           "hovertemplate": "<b>%{hovertext}</b><br><br>country=Iraq<br>year=2020<br>gdp=%{x}<br>life exp=%{y}<br>pop=%{marker.size}<extra></extra>",
           "hovertext": [
            "Iraq"
           ],
           "ids": [
            "Iraq"
           ],
           "legendgroup": "Iraq",
           "marker": {
            "color": "#EF553B",
            "size": [
             40200000
            ],
            "sizemode": "area",
            "sizeref": 17187.5,
            "symbol": "circle"
           },
           "mode": "markers",
           "name": "Iraq",
           "orientation": "v",
           "showlegend": true,
           "type": "scatter",
           "x": [
            8990
           ],
           "xaxis": "x",
           "y": [
            72.1
           ],
           "yaxis": "y"
          },
          {
           "hovertemplate": "<b>%{hovertext}</b><br><br>country=Yemen<br>year=2020<br>gdp=%{x}<br>life exp=%{y}<br>pop=%{marker.size}<extra></extra>",
           "hovertext": [
            "Yemen"
           ],
           "ids": [
            "Yemen"
           ],
           "legendgroup": "Yemen",
           "marker": {
            "color": "#00cc96",
            "size": [
             29800000
            ],
            "sizemode": "area",
            "sizeref": 17187.5,
            "symbol": "circle"
           },
           "mode": "markers",
           "name": "Yemen",
           "orientation": "v",
           "showlegend": true,
           "type": "scatter",
           "x": [
            2360
           ],
           "xaxis": "x",
           "y": [
            67.8
           ],
           "yaxis": "y"
          },
          {
           "hovertemplate": "<b>%{hovertext}</b><br><br>country=Syria<br>year=2020<br>gdp=%{x}<br>life exp=%{y}<br>pop=%{marker.size}<extra></extra>",
           "hovertext": [
            "Syria"
           ],
           "ids": [
            "Syria"
           ],
           "legendgroup": "Syria",
           "marker": {
            "color": "#ab63fa",
            "size": [
             17500000
            ],
            "sizemode": "area",
            "sizeref": 17187.5,
            "symbol": "circle"
           },
           "mode": "markers",
           "name": "Syria",
           "orientation": "v",
           "showlegend": true,
           "type": "scatter",
           "x": [
            3940
           ],
           "xaxis": "x",
           "y": [
            74.4
           ],
           "yaxis": "y"
          },
          {
           "hovertemplate": "<b>%{hovertext}</b><br><br>country=Turkey<br>year=2020<br>gdp=%{x}<br>life exp=%{y}<br>pop=%{marker.size}<extra></extra>",
           "hovertext": [
            "Turkey"
           ],
           "ids": [
            "Turkey"
           ],
           "legendgroup": "Turkey",
           "marker": {
            "color": "#FFA15A",
            "size": [
             84300000
            ],
            "sizemode": "area",
            "sizeref": 17187.5,
            "symbol": "circle"
           },
           "mode": "markers",
           "name": "Turkey",
           "orientation": "v",
           "showlegend": true,
           "type": "scatter",
           "x": [
            28500
           ],
           "xaxis": "x",
           "y": [
            77.8
           ],
           "yaxis": "y"
          },
          {
           "hovertemplate": "<b>%{hovertext}</b><br><br>country=Bahrain<br>year=2020<br>gdp=%{x}<br>life exp=%{y}<br>pop=%{marker.size}<extra></extra>",
           "hovertext": [
            "Bahrain"
           ],
           "ids": [
            "Bahrain"
           ],
           "legendgroup": "Bahrain",
           "marker": {
            "color": "#19d3f3",
            "size": [
             1700000
            ],
            "sizemode": "area",
            "sizeref": 17187.5,
            "symbol": "circle"
           },
           "mode": "markers",
           "name": "Bahrain",
           "orientation": "v",
           "showlegend": true,
           "type": "scatter",
           "x": [
            43400
           ],
           "xaxis": "x",
           "y": [
            76.3
           ],
           "yaxis": "y"
          },
          {
           "hovertemplate": "<b>%{hovertext}</b><br><br>country=United Arab Emirates<br>year=2020<br>gdp=%{x}<br>life exp=%{y}<br>pop=%{marker.size}<extra></extra>",
           "hovertext": [
            "United Arab Emirates"
           ],
           "ids": [
            "United Arab Emirates"
           ],
           "legendgroup": "United Arab Emirates",
           "marker": {
            "color": "#FF6692",
            "size": [
             9890000
            ],
            "sizemode": "area",
            "sizeref": 17187.5,
            "symbol": "circle"
           },
           "mode": "markers",
           "name": "United Arab Emirates",
           "orientation": "v",
           "showlegend": true,
           "type": "scatter",
           "x": [
            65600
           ],
           "xaxis": "x",
           "y": [
            74
           ],
           "yaxis": "y"
          },
          {
           "hovertemplate": "<b>%{hovertext}</b><br><br>country=Qatar<br>year=2020<br>gdp=%{x}<br>life exp=%{y}<br>pop=%{marker.size}<extra></extra>",
           "hovertext": [
            "Qatar"
           ],
           "ids": [
            "Qatar"
           ],
           "legendgroup": "Qatar",
           "marker": {
            "color": "#B6E880",
            "size": [
             2880000
            ],
            "sizemode": "area",
            "sizeref": 17187.5,
            "symbol": "circle"
           },
           "mode": "markers",
           "name": "Qatar",
           "orientation": "v",
           "showlegend": true,
           "type": "scatter",
           "x": [
            90500
           ],
           "xaxis": "x",
           "y": [
            76.2
           ],
           "yaxis": "y"
          },
          {
           "hovertemplate": "<b>%{hovertext}</b><br><br>country=Jordan<br>year=2020<br>gdp=%{x}<br>life exp=%{y}<br>pop=%{marker.size}<extra></extra>",
           "hovertext": [
            "Jordan"
           ],
           "ids": [
            "Jordan"
           ],
           "legendgroup": "Jordan",
           "marker": {
            "color": "#FF97FF",
            "size": [
             10200000
            ],
            "sizemode": "area",
            "sizeref": 17187.5,
            "symbol": "circle"
           },
           "mode": "markers",
           "name": "Jordan",
           "orientation": "v",
           "showlegend": true,
           "type": "scatter",
           "x": [
            9820
           ],
           "xaxis": "x",
           "y": [
            76.9
           ],
           "yaxis": "y"
          },
          {
           "hovertemplate": "<b>%{hovertext}</b><br><br>country=Kuwait<br>year=2020<br>gdp=%{x}<br>life exp=%{y}<br>pop=%{marker.size}<extra></extra>",
           "hovertext": [
            "Kuwait"
           ],
           "ids": [
            "Kuwait"
           ],
           "legendgroup": "Kuwait",
           "marker": {
            "color": "#FECB52",
            "size": [
             4270000
            ],
            "sizemode": "area",
            "sizeref": 17187.5,
            "symbol": "circle"
           },
           "mode": "markers",
           "name": "Kuwait",
           "orientation": "v",
           "showlegend": true,
           "type": "scatter",
           "x": [
            46500
           ],
           "xaxis": "x",
           "y": [
            81.2
           ],
           "yaxis": "y"
          },
          {
           "hovertemplate": "<b>%{hovertext}</b><br><br>country=Israel<br>year=2020<br>gdp=%{x}<br>life exp=%{y}<br>pop=%{marker.size}<extra></extra>",
           "hovertext": [
            "Israel"
           ],
           "ids": [
            "Israel"
           ],
           "legendgroup": "Israel",
           "marker": {
            "color": "#636efa",
            "size": [
             8660000
            ],
            "sizemode": "area",
            "sizeref": 17187.5,
            "symbol": "circle"
           },
           "mode": "markers",
           "name": "Israel",
           "orientation": "v",
           "showlegend": true,
           "type": "scatter",
           "x": [
            39000
           ],
           "xaxis": "x",
           "y": [
            82
           ],
           "yaxis": "y"
          },
          {
           "hovertemplate": "<b>%{hovertext}</b><br><br>country=Saudi Arabia<br>year=2020<br>gdp=%{x}<br>life exp=%{y}<br>pop=%{marker.size}<extra></extra>",
           "hovertext": [
            "Saudi Arabia"
           ],
           "ids": [
            "Saudi Arabia"
           ],
           "legendgroup": "Saudi Arabia",
           "marker": {
            "color": "#EF553B",
            "size": [
             34800000
            ],
            "sizemode": "area",
            "sizeref": 17187.5,
            "symbol": "circle"
           },
           "mode": "markers",
           "name": "Saudi Arabia",
           "orientation": "v",
           "showlegend": true,
           "type": "scatter",
           "x": [
            44000
           ],
           "xaxis": "x",
           "y": [
            74.3
           ],
           "yaxis": "y"
          },
          {
           "hovertemplate": "<b>%{hovertext}</b><br><br>country=Oman<br>year=2020<br>gdp=%{x}<br>life exp=%{y}<br>pop=%{marker.size}<extra></extra>",
           "hovertext": [
            "Oman"
           ],
           "ids": [
            "Oman"
           ],
           "legendgroup": "Oman",
           "marker": {
            "color": "#00cc96",
            "size": [
             5110000
            ],
            "sizemode": "area",
            "sizeref": 17187.5,
            "symbol": "circle"
           },
           "mode": "markers",
           "name": "Oman",
           "orientation": "v",
           "showlegend": true,
           "type": "scatter",
           "x": [
            31600
           ],
           "xaxis": "x",
           "y": [
            72.7
           ],
           "yaxis": "y"
          },
          {
           "hovertemplate": "<b>%{hovertext}</b><br><br>country=Palestine<br>year=2020<br>gdp=%{x}<br>life exp=%{y}<br>pop=%{marker.size}<extra></extra>",
           "hovertext": [
            "Palestine"
           ],
           "ids": [
            "Palestine"
           ],
           "legendgroup": "Palestine",
           "marker": {
            "color": "#ab63fa",
            "size": [
             5100000
            ],
            "sizemode": "area",
            "sizeref": 17187.5,
            "symbol": "circle"
           },
           "mode": "markers",
           "name": "Palestine",
           "orientation": "v",
           "showlegend": true,
           "type": "scatter",
           "x": [
            5400
           ],
           "xaxis": "x",
           "y": [
            73.6
           ],
           "yaxis": "y"
          },
          {
           "hovertemplate": "<b>%{hovertext}</b><br><br>country=Egypt<br>year=2020<br>gdp=%{x}<br>life exp=%{y}<br>pop=%{marker.size}<extra></extra>",
           "hovertext": [
            "Egypt"
           ],
           "ids": [
            "Egypt"
           ],
           "legendgroup": "Egypt",
           "marker": {
            "color": "#FFA15A",
            "size": [
             102000000
            ],
            "sizemode": "area",
            "sizeref": 17187.5,
            "symbol": "circle"
           },
           "mode": "markers",
           "name": "Egypt",
           "orientation": "v",
           "showlegend": true,
           "type": "scatter",
           "x": [
            12000
           ],
           "xaxis": "x",
           "y": [
            71
           ],
           "yaxis": "y"
          }
         ],
         "name": "2020"
        },
        {
         "data": [
          {
           "hovertemplate": "<b>%{hovertext}</b><br><br>country=Iran<br>year=2021<br>gdp=%{x}<br>life exp=%{y}<br>pop=%{marker.size}<extra></extra>",
           "hovertext": [
            "Iran"
           ],
           "ids": [
            "Iran"
           ],
           "legendgroup": "Iran",
           "marker": {
            "color": "#636efa",
            "size": [
             85000000
            ],
            "sizemode": "area",
            "sizeref": 17187.5,
            "symbol": "circle"
           },
           "mode": "markers",
           "name": "Iran",
           "orientation": "v",
           "showlegend": true,
           "type": "scatter",
           "x": [
            12800
           ],
           "xaxis": "x",
           "y": [
            78.2
           ],
           "yaxis": "y"
          },
          {
           "hovertemplate": "<b>%{hovertext}</b><br><br>country=Iraq<br>year=2021<br>gdp=%{x}<br>life exp=%{y}<br>pop=%{marker.size}<extra></extra>",
           "hovertext": [
            "Iraq"
           ],
           "ids": [
            "Iraq"
           ],
           "legendgroup": "Iraq",
           "marker": {
            "color": "#EF553B",
            "size": [
             41200000
            ],
            "sizemode": "area",
            "sizeref": 17187.5,
            "symbol": "circle"
           },
           "mode": "markers",
           "name": "Iraq",
           "orientation": "v",
           "showlegend": true,
           "type": "scatter",
           "x": [
            9280
           ],
           "xaxis": "x",
           "y": [
            73.6
           ],
           "yaxis": "y"
          },
          {
           "hovertemplate": "<b>%{hovertext}</b><br><br>country=Yemen<br>year=2021<br>gdp=%{x}<br>life exp=%{y}<br>pop=%{marker.size}<extra></extra>",
           "hovertext": [
            "Yemen"
           ],
           "ids": [
            "Yemen"
           ],
           "legendgroup": "Yemen",
           "marker": {
            "color": "#00cc96",
            "size": [
             30500000
            ],
            "sizemode": "area",
            "sizeref": 17187.5,
            "symbol": "circle"
           },
           "mode": "markers",
           "name": "Yemen",
           "orientation": "v",
           "showlegend": true,
           "type": "scatter",
           "x": [
            2260
           ],
           "xaxis": "x",
           "y": [
            67.9
           ],
           "yaxis": "y"
          },
          {
           "hovertemplate": "<b>%{hovertext}</b><br><br>country=Syria<br>year=2021<br>gdp=%{x}<br>life exp=%{y}<br>pop=%{marker.size}<extra></extra>",
           "hovertext": [
            "Syria"
           ],
           "ids": [
            "Syria"
           ],
           "legendgroup": "Syria",
           "marker": {
            "color": "#ab63fa",
            "size": [
             18300000
            ],
            "sizemode": "area",
            "sizeref": 17187.5,
            "symbol": "circle"
           },
           "mode": "markers",
           "name": "Syria",
           "orientation": "v",
           "showlegend": true,
           "type": "scatter",
           "x": [
            4030
           ],
           "xaxis": "x",
           "y": [
            75.8
           ],
           "yaxis": "y"
          },
          {
           "hovertemplate": "<b>%{hovertext}</b><br><br>country=Turkey<br>year=2021<br>gdp=%{x}<br>life exp=%{y}<br>pop=%{marker.size}<extra></extra>",
           "hovertext": [
            "Turkey"
           ],
           "ids": [
            "Turkey"
           ],
           "legendgroup": "Turkey",
           "marker": {
            "color": "#FFA15A",
            "size": [
             85000000
            ],
            "sizemode": "area",
            "sizeref": 17187.5,
            "symbol": "circle"
           },
           "mode": "markers",
           "name": "Turkey",
           "orientation": "v",
           "showlegend": true,
           "type": "scatter",
           "x": [
            31300
           ],
           "xaxis": "x",
           "y": [
            78.9
           ],
           "yaxis": "y"
          },
          {
           "hovertemplate": "<b>%{hovertext}</b><br><br>country=Bahrain<br>year=2021<br>gdp=%{x}<br>life exp=%{y}<br>pop=%{marker.size}<extra></extra>",
           "hovertext": [
            "Bahrain"
           ],
           "ids": [
            "Bahrain"
           ],
           "legendgroup": "Bahrain",
           "marker": {
            "color": "#19d3f3",
            "size": [
             1750000
            ],
            "sizemode": "area",
            "sizeref": 17187.5,
            "symbol": "circle"
           },
           "mode": "markers",
           "name": "Bahrain",
           "orientation": "v",
           "showlegend": true,
           "type": "scatter",
           "x": [
            43900
           ],
           "xaxis": "x",
           "y": [
            77.3
           ],
           "yaxis": "y"
          },
          {
           "hovertemplate": "<b>%{hovertext}</b><br><br>country=United Arab Emirates<br>year=2021<br>gdp=%{x}<br>life exp=%{y}<br>pop=%{marker.size}<extra></extra>",
           "hovertext": [
            "United Arab Emirates"
           ],
           "ids": [
            "United Arab Emirates"
           ],
           "legendgroup": "United Arab Emirates",
           "marker": {
            "color": "#FF6692",
            "size": [
             9990000
            ],
            "sizemode": "area",
            "sizeref": 17187.5,
            "symbol": "circle"
           },
           "mode": "markers",
           "name": "United Arab Emirates",
           "orientation": "v",
           "showlegend": true,
           "type": "scatter",
           "x": [
            65099.99999999999
           ],
           "xaxis": "x",
           "y": [
            74.2
           ],
           "yaxis": "y"
          },
          {
           "hovertemplate": "<b>%{hovertext}</b><br><br>country=Qatar<br>year=2021<br>gdp=%{x}<br>life exp=%{y}<br>pop=%{marker.size}<extra></extra>",
           "hovertext": [
            "Qatar"
           ],
           "ids": [
            "Qatar"
           ],
           "legendgroup": "Qatar",
           "marker": {
            "color": "#B6E880",
            "size": [
             2930000
            ],
            "sizemode": "area",
            "sizeref": 17187.5,
            "symbol": "circle"
           },
           "mode": "markers",
           "name": "Qatar",
           "orientation": "v",
           "showlegend": true,
           "type": "scatter",
           "x": [
            94200
           ],
           "xaxis": "x",
           "y": [
            76.5
           ],
           "yaxis": "y"
          },
          {
           "hovertemplate": "<b>%{hovertext}</b><br><br>country=Jordan<br>year=2021<br>gdp=%{x}<br>life exp=%{y}<br>pop=%{marker.size}<extra></extra>",
           "hovertext": [
            "Jordan"
           ],
           "ids": [
            "Jordan"
           ],
           "legendgroup": "Jordan",
           "marker": {
            "color": "#FF97FF",
            "size": [
             10300000
            ],
            "sizemode": "area",
            "sizeref": 17187.5,
            "symbol": "circle"
           },
           "mode": "markers",
           "name": "Jordan",
           "orientation": "v",
           "showlegend": true,
           "type": "scatter",
           "x": [
            9950
           ],
           "xaxis": "x",
           "y": [
            78.5
           ],
           "yaxis": "y"
          },
          {
           "hovertemplate": "<b>%{hovertext}</b><br><br>country=Kuwait<br>year=2021<br>gdp=%{x}<br>life exp=%{y}<br>pop=%{marker.size}<extra></extra>",
           "hovertext": [
            "Kuwait"
           ],
           "ids": [
            "Kuwait"
           ],
           "legendgroup": "Kuwait",
           "marker": {
            "color": "#FECB52",
            "size": [
             4330000
            ],
            "sizemode": "area",
            "sizeref": 17187.5,
            "symbol": "circle"
           },
           "mode": "markers",
           "name": "Kuwait",
           "orientation": "v",
           "showlegend": true,
           "type": "scatter",
           "x": [
            46400
           ],
           "xaxis": "x",
           "y": [
            81.7
           ],
           "yaxis": "y"
          },
          {
           "hovertemplate": "<b>%{hovertext}</b><br><br>country=Israel<br>year=2021<br>gdp=%{x}<br>life exp=%{y}<br>pop=%{marker.size}<extra></extra>",
           "hovertext": [
            "Israel"
           ],
           "ids": [
            "Israel"
           ],
           "legendgroup": "Israel",
           "marker": {
            "color": "#636efa",
            "size": [
             8790000
            ],
            "sizemode": "area",
            "sizeref": 17187.5,
            "symbol": "circle"
           },
           "mode": "markers",
           "name": "Israel",
           "orientation": "v",
           "showlegend": true,
           "type": "scatter",
           "x": [
            41600
           ],
           "xaxis": "x",
           "y": [
            83.3
           ],
           "yaxis": "y"
          },
          {
           "hovertemplate": "<b>%{hovertext}</b><br><br>country=Saudi Arabia<br>year=2021<br>gdp=%{x}<br>life exp=%{y}<br>pop=%{marker.size}<extra></extra>",
           "hovertext": [
            "Saudi Arabia"
           ],
           "ids": [
            "Saudi Arabia"
           ],
           "legendgroup": "Saudi Arabia",
           "marker": {
            "color": "#EF553B",
            "size": [
             35300000
            ],
            "sizemode": "area",
            "sizeref": 17187.5,
            "symbol": "circle"
           },
           "mode": "markers",
           "name": "Saudi Arabia",
           "orientation": "v",
           "showlegend": true,
           "type": "scatter",
           "x": [
            44900
           ],
           "xaxis": "x",
           "y": [
            74.8
           ],
           "yaxis": "y"
          },
          {
           "hovertemplate": "<b>%{hovertext}</b><br><br>country=Oman<br>year=2021<br>gdp=%{x}<br>life exp=%{y}<br>pop=%{marker.size}<extra></extra>",
           "hovertext": [
            "Oman"
           ],
           "ids": [
            "Oman"
           ],
           "legendgroup": "Oman",
           "marker": {
            "color": "#00cc96",
            "size": [
             5220000
            ],
            "sizemode": "area",
            "sizeref": 17187.5,
            "symbol": "circle"
           },
           "mode": "markers",
           "name": "Oman",
           "orientation": "v",
           "showlegend": true,
           "type": "scatter",
           "x": [
            31300
           ],
           "xaxis": "x",
           "y": [
            74.4
           ],
           "yaxis": "y"
          },
          {
           "hovertemplate": "<b>%{hovertext}</b><br><br>country=Palestine<br>year=2021<br>gdp=%{x}<br>life exp=%{y}<br>pop=%{marker.size}<extra></extra>",
           "hovertext": [
            "Palestine"
           ],
           "ids": [
            "Palestine"
           ],
           "legendgroup": "Palestine",
           "marker": {
            "color": "#ab63fa",
            "size": [
             5220000
            ],
            "sizemode": "area",
            "sizeref": 17187.5,
            "symbol": "circle"
           },
           "mode": "markers",
           "name": "Palestine",
           "orientation": "v",
           "showlegend": true,
           "type": "scatter",
           "x": [
            5590
           ],
           "xaxis": "x",
           "y": [
            75.1
           ],
           "yaxis": "y"
          },
          {
           "hovertemplate": "<b>%{hovertext}</b><br><br>country=Egypt<br>year=2021<br>gdp=%{x}<br>life exp=%{y}<br>pop=%{marker.size}<extra></extra>",
           "hovertext": [
            "Egypt"
           ],
           "ids": [
            "Egypt"
           ],
           "legendgroup": "Egypt",
           "marker": {
            "color": "#FFA15A",
            "size": [
             104000000
            ],
            "sizemode": "area",
            "sizeref": 17187.5,
            "symbol": "circle"
           },
           "mode": "markers",
           "name": "Egypt",
           "orientation": "v",
           "showlegend": true,
           "type": "scatter",
           "x": [
            12100
           ],
           "xaxis": "x",
           "y": [
            71.3
           ],
           "yaxis": "y"
          }
         ],
         "name": "2021"
        },
        {
         "data": [
          {
           "hovertemplate": "<b>%{hovertext}</b><br><br>country=Iran<br>year=2022<br>gdp=%{x}<br>life exp=%{y}<br>pop=%{marker.size}<extra></extra>",
           "hovertext": [
            "Iran"
           ],
           "ids": [
            "Iran"
           ],
           "legendgroup": "Iran",
           "marker": {
            "color": "#636efa",
            "size": [
             86000000
            ],
            "sizemode": "area",
            "sizeref": 17187.5,
            "symbol": "circle"
           },
           "mode": "markers",
           "name": "Iran",
           "orientation": "v",
           "showlegend": true,
           "type": "scatter",
           "x": [
            13100
           ],
           "xaxis": "x",
           "y": [
            78.3
           ],
           "yaxis": "y"
          },
          {
           "hovertemplate": "<b>%{hovertext}</b><br><br>country=Iraq<br>year=2022<br>gdp=%{x}<br>life exp=%{y}<br>pop=%{marker.size}<extra></extra>",
           "hovertext": [
            "Iraq"
           ],
           "ids": [
            "Iraq"
           ],
           "legendgroup": "Iraq",
           "marker": {
            "color": "#EF553B",
            "size": [
             42200000
            ],
            "sizemode": "area",
            "sizeref": 17187.5,
            "symbol": "circle"
           },
           "mode": "markers",
           "name": "Iraq",
           "orientation": "v",
           "showlegend": true,
           "type": "scatter",
           "x": [
            9900
           ],
           "xaxis": "x",
           "y": [
            73.7
           ],
           "yaxis": "y"
          },
          {
           "hovertemplate": "<b>%{hovertext}</b><br><br>country=Yemen<br>year=2022<br>gdp=%{x}<br>life exp=%{y}<br>pop=%{marker.size}<extra></extra>",
           "hovertext": [
            "Yemen"
           ],
           "ids": [
            "Yemen"
           ],
           "legendgroup": "Yemen",
           "marker": {
            "color": "#00cc96",
            "size": [
             31200000
            ],
            "sizemode": "area",
            "sizeref": 17187.5,
            "symbol": "circle"
           },
           "mode": "markers",
           "name": "Yemen",
           "orientation": "v",
           "showlegend": true,
           "type": "scatter",
           "x": [
            2230
           ],
           "xaxis": "x",
           "y": [
            68
           ],
           "yaxis": "y"
          },
          {
           "hovertemplate": "<b>%{hovertext}</b><br><br>country=Syria<br>year=2022<br>gdp=%{x}<br>life exp=%{y}<br>pop=%{marker.size}<extra></extra>",
           "hovertext": [
            "Syria"
           ],
           "ids": [
            "Syria"
           ],
           "legendgroup": "Syria",
           "marker": {
            "color": "#ab63fa",
            "size": [
             19400000
            ],
            "sizemode": "area",
            "sizeref": 17187.5,
            "symbol": "circle"
           },
           "mode": "markers",
           "name": "Syria",
           "orientation": "v",
           "showlegend": true,
           "type": "scatter",
           "x": [
            4090
           ],
           "xaxis": "x",
           "y": [
            76.7
           ],
           "yaxis": "y"
          },
          {
           "hovertemplate": "<b>%{hovertext}</b><br><br>country=Turkey<br>year=2022<br>gdp=%{x}<br>life exp=%{y}<br>pop=%{marker.size}<extra></extra>",
           "hovertext": [
            "Turkey"
           ],
           "ids": [
            "Turkey"
           ],
           "legendgroup": "Turkey",
           "marker": {
            "color": "#FFA15A",
            "size": [
             85600000
            ],
            "sizemode": "area",
            "sizeref": 17187.5,
            "symbol": "circle"
           },
           "mode": "markers",
           "name": "Turkey",
           "orientation": "v",
           "showlegend": true,
           "type": "scatter",
           "x": [
            31800
           ],
           "xaxis": "x",
           "y": [
            79.1
           ],
           "yaxis": "y"
          },
          {
           "hovertemplate": "<b>%{hovertext}</b><br><br>country=Bahrain<br>year=2022<br>gdp=%{x}<br>life exp=%{y}<br>pop=%{marker.size}<extra></extra>",
           "hovertext": [
            "Bahrain"
           ],
           "ids": [
            "Bahrain"
           ],
           "legendgroup": "Bahrain",
           "marker": {
            "color": "#19d3f3",
            "size": [
             1780000
            ],
            "sizemode": "area",
            "sizeref": 17187.5,
            "symbol": "circle"
           },
           "mode": "markers",
           "name": "Bahrain",
           "orientation": "v",
           "showlegend": true,
           "type": "scatter",
           "x": [
            44500
           ],
           "xaxis": "x",
           "y": [
            77.4
           ],
           "yaxis": "y"
          },
          {
           "hovertemplate": "<b>%{hovertext}</b><br><br>country=United Arab Emirates<br>year=2022<br>gdp=%{x}<br>life exp=%{y}<br>pop=%{marker.size}<extra></extra>",
           "hovertext": [
            "United Arab Emirates"
           ],
           "ids": [
            "United Arab Emirates"
           ],
           "legendgroup": "United Arab Emirates",
           "marker": {
            "color": "#FF6692",
            "size": [
             10100000
            ],
            "sizemode": "area",
            "sizeref": 17187.5,
            "symbol": "circle"
           },
           "mode": "markers",
           "name": "United Arab Emirates",
           "orientation": "v",
           "showlegend": true,
           "type": "scatter",
           "x": [
            65200
           ],
           "xaxis": "x",
           "y": [
            74.3
           ],
           "yaxis": "y"
          },
          {
           "hovertemplate": "<b>%{hovertext}</b><br><br>country=Qatar<br>year=2022<br>gdp=%{x}<br>life exp=%{y}<br>pop=%{marker.size}<extra></extra>",
           "hovertext": [
            "Qatar"
           ],
           "ids": [
            "Qatar"
           ],
           "legendgroup": "Qatar",
           "marker": {
            "color": "#B6E880",
            "size": [
             2980000
            ],
            "sizemode": "area",
            "sizeref": 17187.5,
            "symbol": "circle"
           },
           "mode": "markers",
           "name": "Qatar",
           "orientation": "v",
           "showlegend": true,
           "type": "scatter",
           "x": [
            95500
           ],
           "xaxis": "x",
           "y": [
            76.7
           ],
           "yaxis": "y"
          },
          {
           "hovertemplate": "<b>%{hovertext}</b><br><br>country=Jordan<br>year=2022<br>gdp=%{x}<br>life exp=%{y}<br>pop=%{marker.size}<extra></extra>",
           "hovertext": [
            "Jordan"
           ],
           "ids": [
            "Jordan"
           ],
           "legendgroup": "Jordan",
           "marker": {
            "color": "#FF97FF",
            "size": [
             10300000
            ],
            "sizemode": "area",
            "sizeref": 17187.5,
            "symbol": "circle"
           },
           "mode": "markers",
           "name": "Jordan",
           "orientation": "v",
           "showlegend": true,
           "type": "scatter",
           "x": [
            10200
           ],
           "xaxis": "x",
           "y": [
            78.7
           ],
           "yaxis": "y"
          },
          {
           "hovertemplate": "<b>%{hovertext}</b><br><br>country=Kuwait<br>year=2022<br>gdp=%{x}<br>life exp=%{y}<br>pop=%{marker.size}<extra></extra>",
           "hovertext": [
            "Kuwait"
           ],
           "ids": [
            "Kuwait"
           ],
           "legendgroup": "Kuwait",
           "marker": {
            "color": "#FECB52",
            "size": [
             4380000
            ],
            "sizemode": "area",
            "sizeref": 17187.5,
            "symbol": "circle"
           },
           "mode": "markers",
           "name": "Kuwait",
           "orientation": "v",
           "showlegend": true,
           "type": "scatter",
           "x": [
            49400
           ],
           "xaxis": "x",
           "y": [
            81.8
           ],
           "yaxis": "y"
          },
          {
           "hovertemplate": "<b>%{hovertext}</b><br><br>country=Israel<br>year=2022<br>gdp=%{x}<br>life exp=%{y}<br>pop=%{marker.size}<extra></extra>",
           "hovertext": [
            "Israel"
           ],
           "ids": [
            "Israel"
           ],
           "legendgroup": "Israel",
           "marker": {
            "color": "#636efa",
            "size": [
             8920000
            ],
            "sizemode": "area",
            "sizeref": 17187.5,
            "symbol": "circle"
           },
           "mode": "markers",
           "name": "Israel",
           "orientation": "v",
           "showlegend": true,
           "type": "scatter",
           "x": [
            42900
           ],
           "xaxis": "x",
           "y": [
            83.5
           ],
           "yaxis": "y"
          },
          {
           "hovertemplate": "<b>%{hovertext}</b><br><br>country=Saudi Arabia<br>year=2022<br>gdp=%{x}<br>life exp=%{y}<br>pop=%{marker.size}<extra></extra>",
           "hovertext": [
            "Saudi Arabia"
           ],
           "ids": [
            "Saudi Arabia"
           ],
           "legendgroup": "Saudi Arabia",
           "marker": {
            "color": "#EF553B",
            "size": [
             35800000
            ],
            "sizemode": "area",
            "sizeref": 17187.5,
            "symbol": "circle"
           },
           "mode": "markers",
           "name": "Saudi Arabia",
           "orientation": "v",
           "showlegend": true,
           "type": "scatter",
           "x": [
            47300
           ],
           "xaxis": "x",
           "y": [
            75
           ],
           "yaxis": "y"
          },
          {
           "hovertemplate": "<b>%{hovertext}</b><br><br>country=Oman<br>year=2022<br>gdp=%{x}<br>life exp=%{y}<br>pop=%{marker.size}<extra></extra>",
           "hovertext": [
            "Oman"
           ],
           "ids": [
            "Oman"
           ],
           "legendgroup": "Oman",
           "marker": {
            "color": "#00cc96",
            "size": [
             5320000
            ],
            "sizemode": "area",
            "sizeref": 17187.5,
            "symbol": "circle"
           },
           "mode": "markers",
           "name": "Oman",
           "orientation": "v",
           "showlegend": true,
           "type": "scatter",
           "x": [
            32100
           ],
           "xaxis": "x",
           "y": [
            74.6
           ],
           "yaxis": "y"
          },
          {
           "hovertemplate": "<b>%{hovertext}</b><br><br>country=Palestine<br>year=2022<br>gdp=%{x}<br>life exp=%{y}<br>pop=%{marker.size}<extra></extra>",
           "hovertext": [
            "Palestine"
           ],
           "ids": [
            "Palestine"
           ],
           "legendgroup": "Palestine",
           "marker": {
            "color": "#ab63fa",
            "size": [
             5350000
            ],
            "sizemode": "area",
            "sizeref": 17187.5,
            "symbol": "circle"
           },
           "mode": "markers",
           "name": "Palestine",
           "orientation": "v",
           "showlegend": true,
           "type": "scatter",
           "x": [
            5680
           ],
           "xaxis": "x",
           "y": [
            75.3
           ],
           "yaxis": "y"
          },
          {
           "hovertemplate": "<b>%{hovertext}</b><br><br>country=Egypt<br>year=2022<br>gdp=%{x}<br>life exp=%{y}<br>pop=%{marker.size}<extra></extra>",
           "hovertext": [
            "Egypt"
           ],
           "ids": [
            "Egypt"
           ],
           "legendgroup": "Egypt",
           "marker": {
            "color": "#FFA15A",
            "size": [
             106000000
            ],
            "sizemode": "area",
            "sizeref": 17187.5,
            "symbol": "circle"
           },
           "mode": "markers",
           "name": "Egypt",
           "orientation": "v",
           "showlegend": true,
           "type": "scatter",
           "x": [
            12600
           ],
           "xaxis": "x",
           "y": [
            71.4
           ],
           "yaxis": "y"
          }
         ],
         "name": "2022"
        },
        {
         "data": [
          {
           "hovertemplate": "<b>%{hovertext}</b><br><br>country=Iran<br>year=2023<br>gdp=%{x}<br>life exp=%{y}<br>pop=%{marker.size}<extra></extra>",
           "hovertext": [
            "Iran"
           ],
           "ids": [
            "Iran"
           ],
           "legendgroup": "Iran",
           "marker": {
            "color": "#636efa",
            "size": [
             87000000
            ],
            "sizemode": "area",
            "sizeref": 17187.5,
            "symbol": "circle"
           },
           "mode": "markers",
           "name": "Iran",
           "orientation": "v",
           "showlegend": true,
           "type": "scatter",
           "x": [
            13200
           ],
           "xaxis": "x",
           "y": [
            78.5
           ],
           "yaxis": "y"
          },
          {
           "hovertemplate": "<b>%{hovertext}</b><br><br>country=Iraq<br>year=2023<br>gdp=%{x}<br>life exp=%{y}<br>pop=%{marker.size}<extra></extra>",
           "hovertext": [
            "Iraq"
           ],
           "ids": [
            "Iraq"
           ],
           "legendgroup": "Iraq",
           "marker": {
            "color": "#EF553B",
            "size": [
             43200000
            ],
            "sizemode": "area",
            "sizeref": 17187.5,
            "symbol": "circle"
           },
           "mode": "markers",
           "name": "Iraq",
           "orientation": "v",
           "showlegend": true,
           "type": "scatter",
           "x": [
            10200
           ],
           "xaxis": "x",
           "y": [
            73.8
           ],
           "yaxis": "y"
          },
          {
           "hovertemplate": "<b>%{hovertext}</b><br><br>country=Yemen<br>year=2023<br>gdp=%{x}<br>life exp=%{y}<br>pop=%{marker.size}<extra></extra>",
           "hovertext": [
            "Yemen"
           ],
           "ids": [
            "Yemen"
           ],
           "legendgroup": "Yemen",
           "marker": {
            "color": "#00cc96",
            "size": [
             31800000
            ],
            "sizemode": "area",
            "sizeref": 17187.5,
            "symbol": "circle"
           },
           "mode": "markers",
           "name": "Yemen",
           "orientation": "v",
           "showlegend": true,
           "type": "scatter",
           "x": [
            2240
           ],
           "xaxis": "x",
           "y": [
            68.1
           ],
           "yaxis": "y"
          },
          {
           "hovertemplate": "<b>%{hovertext}</b><br><br>country=Syria<br>year=2023<br>gdp=%{x}<br>life exp=%{y}<br>pop=%{marker.size}<extra></extra>",
           "hovertext": [
            "Syria"
           ],
           "ids": [
            "Syria"
           ],
           "legendgroup": "Syria",
           "marker": {
            "color": "#ab63fa",
            "size": [
             20600000
            ],
            "sizemode": "area",
            "sizeref": 17187.5,
            "symbol": "circle"
           },
           "mode": "markers",
           "name": "Syria",
           "orientation": "v",
           "showlegend": true,
           "type": "scatter",
           "x": [
            4150
           ],
           "xaxis": "x",
           "y": [
            77.4
           ],
           "yaxis": "y"
          },
          {
           "hovertemplate": "<b>%{hovertext}</b><br><br>country=Turkey<br>year=2023<br>gdp=%{x}<br>life exp=%{y}<br>pop=%{marker.size}<extra></extra>",
           "hovertext": [
            "Turkey"
           ],
           "ids": [
            "Turkey"
           ],
           "legendgroup": "Turkey",
           "marker": {
            "color": "#FFA15A",
            "size": [
             86000000
            ],
            "sizemode": "area",
            "sizeref": 17187.5,
            "symbol": "circle"
           },
           "mode": "markers",
           "name": "Turkey",
           "orientation": "v",
           "showlegend": true,
           "type": "scatter",
           "x": [
            32299.999999999996
           ],
           "xaxis": "x",
           "y": [
            79.3
           ],
           "yaxis": "y"
          },
          {
           "hovertemplate": "<b>%{hovertext}</b><br><br>country=Bahrain<br>year=2023<br>gdp=%{x}<br>life exp=%{y}<br>pop=%{marker.size}<extra></extra>",
           "hovertext": [
            "Bahrain"
           ],
           "ids": [
            "Bahrain"
           ],
           "legendgroup": "Bahrain",
           "marker": {
            "color": "#19d3f3",
            "size": [
             1810000
            ],
            "sizemode": "area",
            "sizeref": 17187.5,
            "symbol": "circle"
           },
           "mode": "markers",
           "name": "Bahrain",
           "orientation": "v",
           "showlegend": true,
           "type": "scatter",
           "x": [
            44900
           ],
           "xaxis": "x",
           "y": [
            77.5
           ],
           "yaxis": "y"
          },
          {
           "hovertemplate": "<b>%{hovertext}</b><br><br>country=United Arab Emirates<br>year=2023<br>gdp=%{x}<br>life exp=%{y}<br>pop=%{marker.size}<extra></extra>",
           "hovertext": [
            "United Arab Emirates"
           ],
           "ids": [
            "United Arab Emirates"
           ],
           "legendgroup": "United Arab Emirates",
           "marker": {
            "color": "#FF6692",
            "size": [
             10200000
            ],
            "sizemode": "area",
            "sizeref": 17187.5,
            "symbol": "circle"
           },
           "mode": "markers",
           "name": "United Arab Emirates",
           "orientation": "v",
           "showlegend": true,
           "type": "scatter",
           "x": [
            66300
           ],
           "xaxis": "x",
           "y": [
            74.4
           ],
           "yaxis": "y"
          },
          {
           "hovertemplate": "<b>%{hovertext}</b><br><br>country=Qatar<br>year=2023<br>gdp=%{x}<br>life exp=%{y}<br>pop=%{marker.size}<extra></extra>",
           "hovertext": [
            "Qatar"
           ],
           "ids": [
            "Qatar"
           ],
           "legendgroup": "Qatar",
           "marker": {
            "color": "#B6E880",
            "size": [
             3030000
            ],
            "sizemode": "area",
            "sizeref": 17187.5,
            "symbol": "circle"
           },
           "mode": "markers",
           "name": "Qatar",
           "orientation": "v",
           "showlegend": true,
           "type": "scatter",
           "x": [
            99900
           ],
           "xaxis": "x",
           "y": [
            76.8
           ],
           "yaxis": "y"
          },
          {
           "hovertemplate": "<b>%{hovertext}</b><br><br>country=Jordan<br>year=2023<br>gdp=%{x}<br>life exp=%{y}<br>pop=%{marker.size}<extra></extra>",
           "hovertext": [
            "Jordan"
           ],
           "ids": [
            "Jordan"
           ],
           "legendgroup": "Jordan",
           "marker": {
            "color": "#FF97FF",
            "size": [
             10300000
            ],
            "sizemode": "area",
            "sizeref": 17187.5,
            "symbol": "circle"
           },
           "mode": "markers",
           "name": "Jordan",
           "orientation": "v",
           "showlegend": true,
           "type": "scatter",
           "x": [
            10500
           ],
           "xaxis": "x",
           "y": [
            78.8
           ],
           "yaxis": "y"
          },
          {
           "hovertemplate": "<b>%{hovertext}</b><br><br>country=Kuwait<br>year=2023<br>gdp=%{x}<br>life exp=%{y}<br>pop=%{marker.size}<extra></extra>",
           "hovertext": [
            "Kuwait"
           ],
           "ids": [
            "Kuwait"
           ],
           "legendgroup": "Kuwait",
           "marker": {
            "color": "#FECB52",
            "size": [
             4430000
            ],
            "sizemode": "area",
            "sizeref": 17187.5,
            "symbol": "circle"
           },
           "mode": "markers",
           "name": "Kuwait",
           "orientation": "v",
           "showlegend": true,
           "type": "scatter",
           "x": [
            49900
           ],
           "xaxis": "x",
           "y": [
            81.9
           ],
           "yaxis": "y"
          },
          {
           "hovertemplate": "<b>%{hovertext}</b><br><br>country=Israel<br>year=2023<br>gdp=%{x}<br>life exp=%{y}<br>pop=%{marker.size}<extra></extra>",
           "hovertext": [
            "Israel"
           ],
           "ids": [
            "Israel"
           ],
           "legendgroup": "Israel",
           "marker": {
            "color": "#636efa",
            "size": [
             9060000
            ],
            "sizemode": "area",
            "sizeref": 17187.5,
            "symbol": "circle"
           },
           "mode": "markers",
           "name": "Israel",
           "orientation": "v",
           "showlegend": true,
           "type": "scatter",
           "x": [
            43700
           ],
           "xaxis": "x",
           "y": [
            83.6
           ],
           "yaxis": "y"
          },
          {
           "hovertemplate": "<b>%{hovertext}</b><br><br>country=Saudi Arabia<br>year=2023<br>gdp=%{x}<br>life exp=%{y}<br>pop=%{marker.size}<extra></extra>",
           "hovertext": [
            "Saudi Arabia"
           ],
           "ids": [
            "Saudi Arabia"
           ],
           "legendgroup": "Saudi Arabia",
           "marker": {
            "color": "#EF553B",
            "size": [
             36300000
            ],
            "sizemode": "area",
            "sizeref": 17187.5,
            "symbol": "circle"
           },
           "mode": "markers",
           "name": "Saudi Arabia",
           "orientation": "v",
           "showlegend": true,
           "type": "scatter",
           "x": [
            48100
           ],
           "xaxis": "x",
           "y": [
            75.1
           ],
           "yaxis": "y"
          },
          {
           "hovertemplate": "<b>%{hovertext}</b><br><br>country=Oman<br>year=2023<br>gdp=%{x}<br>life exp=%{y}<br>pop=%{marker.size}<extra></extra>",
           "hovertext": [
            "Oman"
           ],
           "ids": [
            "Oman"
           ],
           "legendgroup": "Oman",
           "marker": {
            "color": "#00cc96",
            "size": [
             5410000
            ],
            "sizemode": "area",
            "sizeref": 17187.5,
            "symbol": "circle"
           },
           "mode": "markers",
           "name": "Oman",
           "orientation": "v",
           "showlegend": true,
           "type": "scatter",
           "x": [
            32000
           ],
           "xaxis": "x",
           "y": [
            74.7
           ],
           "yaxis": "y"
          },
          {
           "hovertemplate": "<b>%{hovertext}</b><br><br>country=Palestine<br>year=2023<br>gdp=%{x}<br>life exp=%{y}<br>pop=%{marker.size}<extra></extra>",
           "hovertext": [
            "Palestine"
           ],
           "ids": [
            "Palestine"
           ],
           "legendgroup": "Palestine",
           "marker": {
            "color": "#ab63fa",
            "size": [
             5470000
            ],
            "sizemode": "area",
            "sizeref": 17187.5,
            "symbol": "circle"
           },
           "mode": "markers",
           "name": "Palestine",
           "orientation": "v",
           "showlegend": true,
           "type": "scatter",
           "x": [
            5750
           ],
           "xaxis": "x",
           "y": [
            75.5
           ],
           "yaxis": "y"
          },
          {
           "hovertemplate": "<b>%{hovertext}</b><br><br>country=Egypt<br>year=2023<br>gdp=%{x}<br>life exp=%{y}<br>pop=%{marker.size}<extra></extra>",
           "hovertext": [
            "Egypt"
           ],
           "ids": [
            "Egypt"
           ],
           "legendgroup": "Egypt",
           "marker": {
            "color": "#FFA15A",
            "size": [
             108000000
            ],
            "sizemode": "area",
            "sizeref": 17187.5,
            "symbol": "circle"
           },
           "mode": "markers",
           "name": "Egypt",
           "orientation": "v",
           "showlegend": true,
           "type": "scatter",
           "x": [
            13000
           ],
           "xaxis": "x",
           "y": [
            71.6
           ],
           "yaxis": "y"
          }
         ],
         "name": "2023"
        },
        {
         "data": [
          {
           "hovertemplate": "<b>%{hovertext}</b><br><br>country=Iran<br>year=2024<br>gdp=%{x}<br>life exp=%{y}<br>pop=%{marker.size}<extra></extra>",
           "hovertext": [
            "Iran"
           ],
           "ids": [
            "Iran"
           ],
           "legendgroup": "Iran",
           "marker": {
            "color": "#636efa",
            "size": [
             87900000
            ],
            "sizemode": "area",
            "sizeref": 17187.5,
            "symbol": "circle"
           },
           "mode": "markers",
           "name": "Iran",
           "orientation": "v",
           "showlegend": true,
           "type": "scatter",
           "x": [
            13400
           ],
           "xaxis": "x",
           "y": [
            78.7
           ],
           "yaxis": "y"
          },
          {
           "hovertemplate": "<b>%{hovertext}</b><br><br>country=Iraq<br>year=2024<br>gdp=%{x}<br>life exp=%{y}<br>pop=%{marker.size}<extra></extra>",
           "hovertext": [
            "Iraq"
           ],
           "ids": [
            "Iraq"
           ],
           "legendgroup": "Iraq",
           "marker": {
            "color": "#EF553B",
            "size": [
             44200000
            ],
            "sizemode": "area",
            "sizeref": 17187.5,
            "symbol": "circle"
           },
           "mode": "markers",
           "name": "Iraq",
           "orientation": "v",
           "showlegend": true,
           "type": "scatter",
           "x": [
            10200
           ],
           "xaxis": "x",
           "y": [
            74
           ],
           "yaxis": "y"
          },
          {
           "hovertemplate": "<b>%{hovertext}</b><br><br>country=Yemen<br>year=2024<br>gdp=%{x}<br>life exp=%{y}<br>pop=%{marker.size}<extra></extra>",
           "hovertext": [
            "Yemen"
           ],
           "ids": [
            "Yemen"
           ],
           "legendgroup": "Yemen",
           "marker": {
            "color": "#00cc96",
            "size": [
             32500000
            ],
            "sizemode": "area",
            "sizeref": 17187.5,
            "symbol": "circle"
           },
           "mode": "markers",
           "name": "Yemen",
           "orientation": "v",
           "showlegend": true,
           "type": "scatter",
           "x": [
            2350
           ],
           "xaxis": "x",
           "y": [
            68.3
           ],
           "yaxis": "y"
          },
          {
           "hovertemplate": "<b>%{hovertext}</b><br><br>country=Syria<br>year=2024<br>gdp=%{x}<br>life exp=%{y}<br>pop=%{marker.size}<extra></extra>",
           "hovertext": [
            "Syria"
           ],
           "ids": [
            "Syria"
           ],
           "legendgroup": "Syria",
           "marker": {
            "color": "#ab63fa",
            "size": [
             21900000
            ],
            "sizemode": "area",
            "sizeref": 17187.5,
            "symbol": "circle"
           },
           "mode": "markers",
           "name": "Syria",
           "orientation": "v",
           "showlegend": true,
           "type": "scatter",
           "x": [
            4220
           ],
           "xaxis": "x",
           "y": [
            78
           ],
           "yaxis": "y"
          },
          {
           "hovertemplate": "<b>%{hovertext}</b><br><br>country=Turkey<br>year=2024<br>gdp=%{x}<br>life exp=%{y}<br>pop=%{marker.size}<extra></extra>",
           "hovertext": [
            "Turkey"
           ],
           "ids": [
            "Turkey"
           ],
           "legendgroup": "Turkey",
           "marker": {
            "color": "#FFA15A",
            "size": [
             86300000
            ],
            "sizemode": "area",
            "sizeref": 17187.5,
            "symbol": "circle"
           },
           "mode": "markers",
           "name": "Turkey",
           "orientation": "v",
           "showlegend": true,
           "type": "scatter",
           "x": [
            33200
           ],
           "xaxis": "x",
           "y": [
            79.5
           ],
           "yaxis": "y"
          },
          {
           "hovertemplate": "<b>%{hovertext}</b><br><br>country=Bahrain<br>year=2024<br>gdp=%{x}<br>life exp=%{y}<br>pop=%{marker.size}<extra></extra>",
           "hovertext": [
            "Bahrain"
           ],
           "ids": [
            "Bahrain"
           ],
           "legendgroup": "Bahrain",
           "marker": {
            "color": "#19d3f3",
            "size": [
             1840000
            ],
            "sizemode": "area",
            "sizeref": 17187.5,
            "symbol": "circle"
           },
           "mode": "markers",
           "name": "Bahrain",
           "orientation": "v",
           "showlegend": true,
           "type": "scatter",
           "x": [
            45300
           ],
           "xaxis": "x",
           "y": [
            77.7
           ],
           "yaxis": "y"
          },
          {
           "hovertemplate": "<b>%{hovertext}</b><br><br>country=United Arab Emirates<br>year=2024<br>gdp=%{x}<br>life exp=%{y}<br>pop=%{marker.size}<extra></extra>",
           "hovertext": [
            "United Arab Emirates"
           ],
           "ids": [
            "United Arab Emirates"
           ],
           "legendgroup": "United Arab Emirates",
           "marker": {
            "color": "#FF6692",
            "size": [
             10200000
            ],
            "sizemode": "area",
            "sizeref": 17187.5,
            "symbol": "circle"
           },
           "mode": "markers",
           "name": "United Arab Emirates",
           "orientation": "v",
           "showlegend": true,
           "type": "scatter",
           "x": [
            67900
           ],
           "xaxis": "x",
           "y": [
            74.6
           ],
           "yaxis": "y"
          },
          {
           "hovertemplate": "<b>%{hovertext}</b><br><br>country=Qatar<br>year=2024<br>gdp=%{x}<br>life exp=%{y}<br>pop=%{marker.size}<extra></extra>",
           "hovertext": [
            "Qatar"
           ],
           "ids": [
            "Qatar"
           ],
           "legendgroup": "Qatar",
           "marker": {
            "color": "#B6E880",
            "size": [
             3080000
            ],
            "sizemode": "area",
            "sizeref": 17187.5,
            "symbol": "circle"
           },
           "mode": "markers",
           "name": "Qatar",
           "orientation": "v",
           "showlegend": true,
           "type": "scatter",
           "x": [
            103000
           ],
           "xaxis": "x",
           "y": [
            77
           ],
           "yaxis": "y"
          },
          {
           "hovertemplate": "<b>%{hovertext}</b><br><br>country=Jordan<br>year=2024<br>gdp=%{x}<br>life exp=%{y}<br>pop=%{marker.size}<extra></extra>",
           "hovertext": [
            "Jordan"
           ],
           "ids": [
            "Jordan"
           ],
           "legendgroup": "Jordan",
           "marker": {
            "color": "#FF97FF",
            "size": [
             10300000
            ],
            "sizemode": "area",
            "sizeref": 17187.5,
            "symbol": "circle"
           },
           "mode": "markers",
           "name": "Jordan",
           "orientation": "v",
           "showlegend": true,
           "type": "scatter",
           "x": [
            10800
           ],
           "xaxis": "x",
           "y": [
            79
           ],
           "yaxis": "y"
          },
          {
           "hovertemplate": "<b>%{hovertext}</b><br><br>country=Kuwait<br>year=2024<br>gdp=%{x}<br>life exp=%{y}<br>pop=%{marker.size}<extra></extra>",
           "hovertext": [
            "Kuwait"
           ],
           "ids": [
            "Kuwait"
           ],
           "legendgroup": "Kuwait",
           "marker": {
            "color": "#FECB52",
            "size": [
             4470000
            ],
            "sizemode": "area",
            "sizeref": 17187.5,
            "symbol": "circle"
           },
           "mode": "markers",
           "name": "Kuwait",
           "orientation": "v",
           "showlegend": true,
           "type": "scatter",
           "x": [
            50400
           ],
           "xaxis": "x",
           "y": [
            82
           ],
           "yaxis": "y"
          },
          {
           "hovertemplate": "<b>%{hovertext}</b><br><br>country=Israel<br>year=2024<br>gdp=%{x}<br>life exp=%{y}<br>pop=%{marker.size}<extra></extra>",
           "hovertext": [
            "Israel"
           ],
           "ids": [
            "Israel"
           ],
           "legendgroup": "Israel",
           "marker": {
            "color": "#636efa",
            "size": [
             9190000
            ],
            "sizemode": "area",
            "sizeref": 17187.5,
            "symbol": "circle"
           },
           "mode": "markers",
           "name": "Israel",
           "orientation": "v",
           "showlegend": true,
           "type": "scatter",
           "x": [
            44500
           ],
           "xaxis": "x",
           "y": [
            83.7
           ],
           "yaxis": "y"
          },
          {
           "hovertemplate": "<b>%{hovertext}</b><br><br>country=Saudi Arabia<br>year=2024<br>gdp=%{x}<br>life exp=%{y}<br>pop=%{marker.size}<extra></extra>",
           "hovertext": [
            "Saudi Arabia"
           ],
           "ids": [
            "Saudi Arabia"
           ],
           "legendgroup": "Saudi Arabia",
           "marker": {
            "color": "#EF553B",
            "size": [
             36800000
            ],
            "sizemode": "area",
            "sizeref": 17187.5,
            "symbol": "circle"
           },
           "mode": "markers",
           "name": "Saudi Arabia",
           "orientation": "v",
           "showlegend": true,
           "type": "scatter",
           "x": [
            48400
           ],
           "xaxis": "x",
           "y": [
            75.3
           ],
           "yaxis": "y"
          },
          {
           "hovertemplate": "<b>%{hovertext}</b><br><br>country=Oman<br>year=2024<br>gdp=%{x}<br>life exp=%{y}<br>pop=%{marker.size}<extra></extra>",
           "hovertext": [
            "Oman"
           ],
           "ids": [
            "Oman"
           ],
           "legendgroup": "Oman",
           "marker": {
            "color": "#00cc96",
            "size": [
             5490000
            ],
            "sizemode": "area",
            "sizeref": 17187.5,
            "symbol": "circle"
           },
           "mode": "markers",
           "name": "Oman",
           "orientation": "v",
           "showlegend": true,
           "type": "scatter",
           "x": [
            31800
           ],
           "xaxis": "x",
           "y": [
            74.9
           ],
           "yaxis": "y"
          },
          {
           "hovertemplate": "<b>%{hovertext}</b><br><br>country=Palestine<br>year=2024<br>gdp=%{x}<br>life exp=%{y}<br>pop=%{marker.size}<extra></extra>",
           "hovertext": [
            "Palestine"
           ],
           "ids": [
            "Palestine"
           ],
           "legendgroup": "Palestine",
           "marker": {
            "color": "#ab63fa",
            "size": [
             5590000
            ],
            "sizemode": "area",
            "sizeref": 17187.5,
            "symbol": "circle"
           },
           "mode": "markers",
           "name": "Palestine",
           "orientation": "v",
           "showlegend": true,
           "type": "scatter",
           "x": [
            5750
           ],
           "xaxis": "x",
           "y": [
            75.6
           ],
           "yaxis": "y"
          },
          {
           "hovertemplate": "<b>%{hovertext}</b><br><br>country=Egypt<br>year=2024<br>gdp=%{x}<br>life exp=%{y}<br>pop=%{marker.size}<extra></extra>",
           "hovertext": [
            "Egypt"
           ],
           "ids": [
            "Egypt"
           ],
           "legendgroup": "Egypt",
           "marker": {
            "color": "#FFA15A",
            "size": [
             110000000
            ],
            "sizemode": "area",
            "sizeref": 17187.5,
            "symbol": "circle"
           },
           "mode": "markers",
           "name": "Egypt",
           "orientation": "v",
           "showlegend": true,
           "type": "scatter",
           "x": [
            13400
           ],
           "xaxis": "x",
           "y": [
            71.7
           ],
           "yaxis": "y"
          }
         ],
         "name": "2024"
        }
       ],
       "layout": {
        "height": 700,
        "legend": {
         "itemsizing": "constant",
         "title": {
          "text": "country"
         },
         "tracegroupgap": 0
        },
        "margin": {
         "t": 60
        },
        "sliders": [
         {
          "active": 0,
          "currentvalue": {
           "prefix": "year="
          },
          "len": 0.9,
          "pad": {
           "b": 10,
           "t": 60
          },
          "steps": [
           {
            "args": [
             [
              "1990"
             ],
             {
              "frame": {
               "duration": 0,
               "redraw": false
              },
              "fromcurrent": true,
              "mode": "immediate",
              "transition": {
               "duration": 0,
               "easing": "linear"
              }
             }
            ],
            "label": "1990",
            "method": "animate"
           },
           {
            "args": [
             [
              "1991"
             ],
             {
              "frame": {
               "duration": 0,
               "redraw": false
              },
              "fromcurrent": true,
              "mode": "immediate",
              "transition": {
               "duration": 0,
               "easing": "linear"
              }
             }
            ],
            "label": "1991",
            "method": "animate"
           },
           {
            "args": [
             [
              "1992"
             ],
             {
              "frame": {
               "duration": 0,
               "redraw": false
              },
              "fromcurrent": true,
              "mode": "immediate",
              "transition": {
               "duration": 0,
               "easing": "linear"
              }
             }
            ],
            "label": "1992",
            "method": "animate"
           },
           {
            "args": [
             [
              "1993"
             ],
             {
              "frame": {
               "duration": 0,
               "redraw": false
              },
              "fromcurrent": true,
              "mode": "immediate",
              "transition": {
               "duration": 0,
               "easing": "linear"
              }
             }
            ],
            "label": "1993",
            "method": "animate"
           },
           {
            "args": [
             [
              "1994"
             ],
             {
              "frame": {
               "duration": 0,
               "redraw": false
              },
              "fromcurrent": true,
              "mode": "immediate",
              "transition": {
               "duration": 0,
               "easing": "linear"
              }
             }
            ],
            "label": "1994",
            "method": "animate"
           },
           {
            "args": [
             [
              "1995"
             ],
             {
              "frame": {
               "duration": 0,
               "redraw": false
              },
              "fromcurrent": true,
              "mode": "immediate",
              "transition": {
               "duration": 0,
               "easing": "linear"
              }
             }
            ],
            "label": "1995",
            "method": "animate"
           },
           {
            "args": [
             [
              "1996"
             ],
             {
              "frame": {
               "duration": 0,
               "redraw": false
              },
              "fromcurrent": true,
              "mode": "immediate",
              "transition": {
               "duration": 0,
               "easing": "linear"
              }
             }
            ],
            "label": "1996",
            "method": "animate"
           },
           {
            "args": [
             [
              "1997"
             ],
             {
              "frame": {
               "duration": 0,
               "redraw": false
              },
              "fromcurrent": true,
              "mode": "immediate",
              "transition": {
               "duration": 0,
               "easing": "linear"
              }
             }
            ],
            "label": "1997",
            "method": "animate"
           },
           {
            "args": [
             [
              "1998"
             ],
             {
              "frame": {
               "duration": 0,
               "redraw": false
              },
              "fromcurrent": true,
              "mode": "immediate",
              "transition": {
               "duration": 0,
               "easing": "linear"
              }
             }
            ],
            "label": "1998",
            "method": "animate"
           },
           {
            "args": [
             [
              "1999"
             ],
             {
              "frame": {
               "duration": 0,
               "redraw": false
              },
              "fromcurrent": true,
              "mode": "immediate",
              "transition": {
               "duration": 0,
               "easing": "linear"
              }
             }
            ],
            "label": "1999",
            "method": "animate"
           },
           {
            "args": [
             [
              "2000"
             ],
             {
              "frame": {
               "duration": 0,
               "redraw": false
              },
              "fromcurrent": true,
              "mode": "immediate",
              "transition": {
               "duration": 0,
               "easing": "linear"
              }
             }
            ],
            "label": "2000",
            "method": "animate"
           },
           {
            "args": [
             [
              "2001"
             ],
             {
              "frame": {
               "duration": 0,
               "redraw": false
              },
              "fromcurrent": true,
              "mode": "immediate",
              "transition": {
               "duration": 0,
               "easing": "linear"
              }
             }
            ],
            "label": "2001",
            "method": "animate"
           },
           {
            "args": [
             [
              "2002"
             ],
             {
              "frame": {
               "duration": 0,
               "redraw": false
              },
              "fromcurrent": true,
              "mode": "immediate",
              "transition": {
               "duration": 0,
               "easing": "linear"
              }
             }
            ],
            "label": "2002",
            "method": "animate"
           },
           {
            "args": [
             [
              "2003"
             ],
             {
              "frame": {
               "duration": 0,
               "redraw": false
              },
              "fromcurrent": true,
              "mode": "immediate",
              "transition": {
               "duration": 0,
               "easing": "linear"
              }
             }
            ],
            "label": "2003",
            "method": "animate"
           },
           {
            "args": [
             [
              "2004"
             ],
             {
              "frame": {
               "duration": 0,
               "redraw": false
              },
              "fromcurrent": true,
              "mode": "immediate",
              "transition": {
               "duration": 0,
               "easing": "linear"
              }
             }
            ],
            "label": "2004",
            "method": "animate"
           },
           {
            "args": [
             [
              "2005"
             ],
             {
              "frame": {
               "duration": 0,
               "redraw": false
              },
              "fromcurrent": true,
              "mode": "immediate",
              "transition": {
               "duration": 0,
               "easing": "linear"
              }
             }
            ],
            "label": "2005",
            "method": "animate"
           },
           {
            "args": [
             [
              "2006"
             ],
             {
              "frame": {
               "duration": 0,
               "redraw": false
              },
              "fromcurrent": true,
              "mode": "immediate",
              "transition": {
               "duration": 0,
               "easing": "linear"
              }
             }
            ],
            "label": "2006",
            "method": "animate"
           },
           {
            "args": [
             [
              "2007"
             ],
             {
              "frame": {
               "duration": 0,
               "redraw": false
              },
              "fromcurrent": true,
              "mode": "immediate",
              "transition": {
               "duration": 0,
               "easing": "linear"
              }
             }
            ],
            "label": "2007",
            "method": "animate"
           },
           {
            "args": [
             [
              "2008"
             ],
             {
              "frame": {
               "duration": 0,
               "redraw": false
              },
              "fromcurrent": true,
              "mode": "immediate",
              "transition": {
               "duration": 0,
               "easing": "linear"
              }
             }
            ],
            "label": "2008",
            "method": "animate"
           },
           {
            "args": [
             [
              "2009"
             ],
             {
              "frame": {
               "duration": 0,
               "redraw": false
              },
              "fromcurrent": true,
              "mode": "immediate",
              "transition": {
               "duration": 0,
               "easing": "linear"
              }
             }
            ],
            "label": "2009",
            "method": "animate"
           },
           {
            "args": [
             [
              "2010"
             ],
             {
              "frame": {
               "duration": 0,
               "redraw": false
              },
              "fromcurrent": true,
              "mode": "immediate",
              "transition": {
               "duration": 0,
               "easing": "linear"
              }
             }
            ],
            "label": "2010",
            "method": "animate"
           },
           {
            "args": [
             [
              "2011"
             ],
             {
              "frame": {
               "duration": 0,
               "redraw": false
              },
              "fromcurrent": true,
              "mode": "immediate",
              "transition": {
               "duration": 0,
               "easing": "linear"
              }
             }
            ],
            "label": "2011",
            "method": "animate"
           },
           {
            "args": [
             [
              "2012"
             ],
             {
              "frame": {
               "duration": 0,
               "redraw": false
              },
              "fromcurrent": true,
              "mode": "immediate",
              "transition": {
               "duration": 0,
               "easing": "linear"
              }
             }
            ],
            "label": "2012",
            "method": "animate"
           },
           {
            "args": [
             [
              "2013"
             ],
             {
              "frame": {
               "duration": 0,
               "redraw": false
              },
              "fromcurrent": true,
              "mode": "immediate",
              "transition": {
               "duration": 0,
               "easing": "linear"
              }
             }
            ],
            "label": "2013",
            "method": "animate"
           },
           {
            "args": [
             [
              "2014"
             ],
             {
              "frame": {
               "duration": 0,
               "redraw": false
              },
              "fromcurrent": true,
              "mode": "immediate",
              "transition": {
               "duration": 0,
               "easing": "linear"
              }
             }
            ],
            "label": "2014",
            "method": "animate"
           },
           {
            "args": [
             [
              "2015"
             ],
             {
              "frame": {
               "duration": 0,
               "redraw": false
              },
              "fromcurrent": true,
              "mode": "immediate",
              "transition": {
               "duration": 0,
               "easing": "linear"
              }
             }
            ],
            "label": "2015",
            "method": "animate"
           },
           {
            "args": [
             [
              "2016"
             ],
             {
              "frame": {
               "duration": 0,
               "redraw": false
              },
              "fromcurrent": true,
              "mode": "immediate",
              "transition": {
               "duration": 0,
               "easing": "linear"
              }
             }
            ],
            "label": "2016",
            "method": "animate"
           },
           {
            "args": [
             [
              "2017"
             ],
             {
              "frame": {
               "duration": 0,
               "redraw": false
              },
              "fromcurrent": true,
              "mode": "immediate",
              "transition": {
               "duration": 0,
               "easing": "linear"
              }
             }
            ],
            "label": "2017",
            "method": "animate"
           },
           {
            "args": [
             [
              "2018"
             ],
             {
              "frame": {
               "duration": 0,
               "redraw": false
              },
              "fromcurrent": true,
              "mode": "immediate",
              "transition": {
               "duration": 0,
               "easing": "linear"
              }
             }
            ],
            "label": "2018",
            "method": "animate"
           },
           {
            "args": [
             [
              "2019"
             ],
             {
              "frame": {
               "duration": 0,
               "redraw": false
              },
              "fromcurrent": true,
              "mode": "immediate",
              "transition": {
               "duration": 0,
               "easing": "linear"
              }
             }
            ],
            "label": "2019",
            "method": "animate"
           },
           {
            "args": [
             [
              "2020"
             ],
             {
              "frame": {
               "duration": 0,
               "redraw": false
              },
              "fromcurrent": true,
              "mode": "immediate",
              "transition": {
               "duration": 0,
               "easing": "linear"
              }
             }
            ],
            "label": "2020",
            "method": "animate"
           },
           {
            "args": [
             [
              "2021"
             ],
             {
              "frame": {
               "duration": 0,
               "redraw": false
              },
              "fromcurrent": true,
              "mode": "immediate",
              "transition": {
               "duration": 0,
               "easing": "linear"
              }
             }
            ],
            "label": "2021",
            "method": "animate"
           },
           {
            "args": [
             [
              "2022"
             ],
             {
              "frame": {
               "duration": 0,
               "redraw": false
              },
              "fromcurrent": true,
              "mode": "immediate",
              "transition": {
               "duration": 0,
               "easing": "linear"
              }
             }
            ],
            "label": "2022",
            "method": "animate"
           },
           {
            "args": [
             [
              "2023"
             ],
             {
              "frame": {
               "duration": 0,
               "redraw": false
              },
              "fromcurrent": true,
              "mode": "immediate",
              "transition": {
               "duration": 0,
               "easing": "linear"
              }
             }
            ],
            "label": "2023",
            "method": "animate"
           },
           {
            "args": [
             [
              "2024"
             ],
             {
              "frame": {
               "duration": 0,
               "redraw": false
              },
              "fromcurrent": true,
              "mode": "immediate",
              "transition": {
               "duration": 0,
               "easing": "linear"
              }
             }
            ],
            "label": "2024",
            "method": "animate"
           }
          ],
          "x": 0.1,
          "xanchor": "left",
          "y": 0,
          "yanchor": "top"
         }
        ],
        "template": {
         "data": {
          "bar": [
           {
            "error_x": {
             "color": "#2a3f5f"
            },
            "error_y": {
             "color": "#2a3f5f"
            },
            "marker": {
             "line": {
              "color": "#E5ECF6",
              "width": 0.5
             },
             "pattern": {
              "fillmode": "overlay",
              "size": 10,
              "solidity": 0.2
             }
            },
            "type": "bar"
           }
          ],
          "barpolar": [
           {
            "marker": {
             "line": {
              "color": "#E5ECF6",
              "width": 0.5
             },
             "pattern": {
              "fillmode": "overlay",
              "size": 10,
              "solidity": 0.2
             }
            },
            "type": "barpolar"
           }
          ],
          "carpet": [
           {
            "aaxis": {
             "endlinecolor": "#2a3f5f",
             "gridcolor": "white",
             "linecolor": "white",
             "minorgridcolor": "white",
             "startlinecolor": "#2a3f5f"
            },
            "baxis": {
             "endlinecolor": "#2a3f5f",
             "gridcolor": "white",
             "linecolor": "white",
             "minorgridcolor": "white",
             "startlinecolor": "#2a3f5f"
            },
            "type": "carpet"
           }
          ],
          "choropleth": [
           {
            "colorbar": {
             "outlinewidth": 0,
             "ticks": ""
            },
            "type": "choropleth"
           }
          ],
          "contour": [
           {
            "colorbar": {
             "outlinewidth": 0,
             "ticks": ""
            },
            "colorscale": [
             [
              0,
              "#0d0887"
             ],
             [
              0.1111111111111111,
              "#46039f"
             ],
             [
              0.2222222222222222,
              "#7201a8"
             ],
             [
              0.3333333333333333,
              "#9c179e"
             ],
             [
              0.4444444444444444,
              "#bd3786"
             ],
             [
              0.5555555555555556,
              "#d8576b"
             ],
             [
              0.6666666666666666,
              "#ed7953"
             ],
             [
              0.7777777777777778,
              "#fb9f3a"
             ],
             [
              0.8888888888888888,
              "#fdca26"
             ],
             [
              1,
              "#f0f921"
             ]
            ],
            "type": "contour"
           }
          ],
          "contourcarpet": [
           {
            "colorbar": {
             "outlinewidth": 0,
             "ticks": ""
            },
            "type": "contourcarpet"
           }
          ],
          "heatmap": [
           {
            "colorbar": {
             "outlinewidth": 0,
             "ticks": ""
            },
            "colorscale": [
             [
              0,
              "#0d0887"
             ],
             [
              0.1111111111111111,
              "#46039f"
             ],
             [
              0.2222222222222222,
              "#7201a8"
             ],
             [
              0.3333333333333333,
              "#9c179e"
             ],
             [
              0.4444444444444444,
              "#bd3786"
             ],
             [
              0.5555555555555556,
              "#d8576b"
             ],
             [
              0.6666666666666666,
              "#ed7953"
             ],
             [
              0.7777777777777778,
              "#fb9f3a"
             ],
             [
              0.8888888888888888,
              "#fdca26"
             ],
             [
              1,
              "#f0f921"
             ]
            ],
            "type": "heatmap"
           }
          ],
          "heatmapgl": [
           {
            "colorbar": {
             "outlinewidth": 0,
             "ticks": ""
            },
            "colorscale": [
             [
              0,
              "#0d0887"
             ],
             [
              0.1111111111111111,
              "#46039f"
             ],
             [
              0.2222222222222222,
              "#7201a8"
             ],
             [
              0.3333333333333333,
              "#9c179e"
             ],
             [
              0.4444444444444444,
              "#bd3786"
             ],
             [
              0.5555555555555556,
              "#d8576b"
             ],
             [
              0.6666666666666666,
              "#ed7953"
             ],
             [
              0.7777777777777778,
              "#fb9f3a"
             ],
             [
              0.8888888888888888,
              "#fdca26"
             ],
             [
              1,
              "#f0f921"
             ]
            ],
            "type": "heatmapgl"
           }
          ],
          "histogram": [
           {
            "marker": {
             "pattern": {
              "fillmode": "overlay",
              "size": 10,
              "solidity": 0.2
             }
            },
            "type": "histogram"
           }
          ],
          "histogram2d": [
           {
            "colorbar": {
             "outlinewidth": 0,
             "ticks": ""
            },
            "colorscale": [
             [
              0,
              "#0d0887"
             ],
             [
              0.1111111111111111,
              "#46039f"
             ],
             [
              0.2222222222222222,
              "#7201a8"
             ],
             [
              0.3333333333333333,
              "#9c179e"
             ],
             [
              0.4444444444444444,
              "#bd3786"
             ],
             [
              0.5555555555555556,
              "#d8576b"
             ],
             [
              0.6666666666666666,
              "#ed7953"
             ],
             [
              0.7777777777777778,
              "#fb9f3a"
             ],
             [
              0.8888888888888888,
              "#fdca26"
             ],
             [
              1,
              "#f0f921"
             ]
            ],
            "type": "histogram2d"
           }
          ],
          "histogram2dcontour": [
           {
            "colorbar": {
             "outlinewidth": 0,
             "ticks": ""
            },
            "colorscale": [
             [
              0,
              "#0d0887"
             ],
             [
              0.1111111111111111,
              "#46039f"
             ],
             [
              0.2222222222222222,
              "#7201a8"
             ],
             [
              0.3333333333333333,
              "#9c179e"
             ],
             [
              0.4444444444444444,
              "#bd3786"
             ],
             [
              0.5555555555555556,
              "#d8576b"
             ],
             [
              0.6666666666666666,
              "#ed7953"
             ],
             [
              0.7777777777777778,
              "#fb9f3a"
             ],
             [
              0.8888888888888888,
              "#fdca26"
             ],
             [
              1,
              "#f0f921"
             ]
            ],
            "type": "histogram2dcontour"
           }
          ],
          "mesh3d": [
           {
            "colorbar": {
             "outlinewidth": 0,
             "ticks": ""
            },
            "type": "mesh3d"
           }
          ],
          "parcoords": [
           {
            "line": {
             "colorbar": {
              "outlinewidth": 0,
              "ticks": ""
             }
            },
            "type": "parcoords"
           }
          ],
          "pie": [
           {
            "automargin": true,
            "type": "pie"
           }
          ],
          "scatter": [
           {
            "fillpattern": {
             "fillmode": "overlay",
             "size": 10,
             "solidity": 0.2
            },
            "type": "scatter"
           }
          ],
          "scatter3d": [
           {
            "line": {
             "colorbar": {
              "outlinewidth": 0,
              "ticks": ""
             }
            },
            "marker": {
             "colorbar": {
              "outlinewidth": 0,
              "ticks": ""
             }
            },
            "type": "scatter3d"
           }
          ],
          "scattercarpet": [
           {
            "marker": {
             "colorbar": {
              "outlinewidth": 0,
              "ticks": ""
             }
            },
            "type": "scattercarpet"
           }
          ],
          "scattergeo": [
           {
            "marker": {
             "colorbar": {
              "outlinewidth": 0,
              "ticks": ""
             }
            },
            "type": "scattergeo"
           }
          ],
          "scattergl": [
           {
            "marker": {
             "colorbar": {
              "outlinewidth": 0,
              "ticks": ""
             }
            },
            "type": "scattergl"
           }
          ],
          "scattermapbox": [
           {
            "marker": {
             "colorbar": {
              "outlinewidth": 0,
              "ticks": ""
             }
            },
            "type": "scattermapbox"
           }
          ],
          "scatterpolar": [
           {
            "marker": {
             "colorbar": {
              "outlinewidth": 0,
              "ticks": ""
             }
            },
            "type": "scatterpolar"
           }
          ],
          "scatterpolargl": [
           {
            "marker": {
             "colorbar": {
              "outlinewidth": 0,
              "ticks": ""
             }
            },
            "type": "scatterpolargl"
           }
          ],
          "scatterternary": [
           {
            "marker": {
             "colorbar": {
              "outlinewidth": 0,
              "ticks": ""
             }
            },
            "type": "scatterternary"
           }
          ],
          "surface": [
           {
            "colorbar": {
             "outlinewidth": 0,
             "ticks": ""
            },
            "colorscale": [
             [
              0,
              "#0d0887"
             ],
             [
              0.1111111111111111,
              "#46039f"
             ],
             [
              0.2222222222222222,
              "#7201a8"
             ],
             [
              0.3333333333333333,
              "#9c179e"
             ],
             [
              0.4444444444444444,
              "#bd3786"
             ],
             [
              0.5555555555555556,
              "#d8576b"
             ],
             [
              0.6666666666666666,
              "#ed7953"
             ],
             [
              0.7777777777777778,
              "#fb9f3a"
             ],
             [
              0.8888888888888888,
              "#fdca26"
             ],
             [
              1,
              "#f0f921"
             ]
            ],
            "type": "surface"
           }
          ],
          "table": [
           {
            "cells": {
             "fill": {
              "color": "#EBF0F8"
             },
             "line": {
              "color": "white"
             }
            },
            "header": {
             "fill": {
              "color": "#C8D4E3"
             },
             "line": {
              "color": "white"
             }
            },
            "type": "table"
           }
          ]
         },
         "layout": {
          "annotationdefaults": {
           "arrowcolor": "#2a3f5f",
           "arrowhead": 0,
           "arrowwidth": 1
          },
          "autotypenumbers": "strict",
          "coloraxis": {
           "colorbar": {
            "outlinewidth": 0,
            "ticks": ""
           }
          },
          "colorscale": {
           "diverging": [
            [
             0,
             "#8e0152"
            ],
            [
             0.1,
             "#c51b7d"
            ],
            [
             0.2,
             "#de77ae"
            ],
            [
             0.3,
             "#f1b6da"
            ],
            [
             0.4,
             "#fde0ef"
            ],
            [
             0.5,
             "#f7f7f7"
            ],
            [
             0.6,
             "#e6f5d0"
            ],
            [
             0.7,
             "#b8e186"
            ],
            [
             0.8,
             "#7fbc41"
            ],
            [
             0.9,
             "#4d9221"
            ],
            [
             1,
             "#276419"
            ]
           ],
           "sequential": [
            [
             0,
             "#0d0887"
            ],
            [
             0.1111111111111111,
             "#46039f"
            ],
            [
             0.2222222222222222,
             "#7201a8"
            ],
            [
             0.3333333333333333,
             "#9c179e"
            ],
            [
             0.4444444444444444,
             "#bd3786"
            ],
            [
             0.5555555555555556,
             "#d8576b"
            ],
            [
             0.6666666666666666,
             "#ed7953"
            ],
            [
             0.7777777777777778,
             "#fb9f3a"
            ],
            [
             0.8888888888888888,
             "#fdca26"
            ],
            [
             1,
             "#f0f921"
            ]
           ],
           "sequentialminus": [
            [
             0,
             "#0d0887"
            ],
            [
             0.1111111111111111,
             "#46039f"
            ],
            [
             0.2222222222222222,
             "#7201a8"
            ],
            [
             0.3333333333333333,
             "#9c179e"
            ],
            [
             0.4444444444444444,
             "#bd3786"
            ],
            [
             0.5555555555555556,
             "#d8576b"
            ],
            [
             0.6666666666666666,
             "#ed7953"
            ],
            [
             0.7777777777777778,
             "#fb9f3a"
            ],
            [
             0.8888888888888888,
             "#fdca26"
            ],
            [
             1,
             "#f0f921"
            ]
           ]
          },
          "colorway": [
           "#636efa",
           "#EF553B",
           "#00cc96",
           "#ab63fa",
           "#FFA15A",
           "#19d3f3",
           "#FF6692",
           "#B6E880",
           "#FF97FF",
           "#FECB52"
          ],
          "font": {
           "color": "#2a3f5f"
          },
          "geo": {
           "bgcolor": "white",
           "lakecolor": "white",
           "landcolor": "#E5ECF6",
           "showlakes": true,
           "showland": true,
           "subunitcolor": "white"
          },
          "hoverlabel": {
           "align": "left"
          },
          "hovermode": "closest",
          "mapbox": {
           "style": "light"
          },
          "paper_bgcolor": "white",
          "plot_bgcolor": "#E5ECF6",
          "polar": {
           "angularaxis": {
            "gridcolor": "white",
            "linecolor": "white",
            "ticks": ""
           },
           "bgcolor": "#E5ECF6",
           "radialaxis": {
            "gridcolor": "white",
            "linecolor": "white",
            "ticks": ""
           }
          },
          "scene": {
           "xaxis": {
            "backgroundcolor": "#E5ECF6",
            "gridcolor": "white",
            "gridwidth": 2,
            "linecolor": "white",
            "showbackground": true,
            "ticks": "",
            "zerolinecolor": "white"
           },
           "yaxis": {
            "backgroundcolor": "#E5ECF6",
            "gridcolor": "white",
            "gridwidth": 2,
            "linecolor": "white",
            "showbackground": true,
            "ticks": "",
            "zerolinecolor": "white"
           },
           "zaxis": {
            "backgroundcolor": "#E5ECF6",
            "gridcolor": "white",
            "gridwidth": 2,
            "linecolor": "white",
            "showbackground": true,
            "ticks": "",
            "zerolinecolor": "white"
           }
          },
          "shapedefaults": {
           "line": {
            "color": "#2a3f5f"
           }
          },
          "ternary": {
           "aaxis": {
            "gridcolor": "white",
            "linecolor": "white",
            "ticks": ""
           },
           "baxis": {
            "gridcolor": "white",
            "linecolor": "white",
            "ticks": ""
           },
           "bgcolor": "#E5ECF6",
           "caxis": {
            "gridcolor": "white",
            "linecolor": "white",
            "ticks": ""
           }
          },
          "title": {
           "x": 0.05
          },
          "xaxis": {
           "automargin": true,
           "gridcolor": "white",
           "linecolor": "white",
           "ticks": "",
           "title": {
            "standoff": 15
           },
           "zerolinecolor": "white",
           "zerolinewidth": 2
          },
          "yaxis": {
           "automargin": true,
           "gridcolor": "white",
           "linecolor": "white",
           "ticks": "",
           "title": {
            "standoff": 15
           },
           "zerolinecolor": "white",
           "zerolinewidth": 2
          }
         }
        },
        "updatemenus": [
         {
          "buttons": [
           {
            "args": [
             null,
             {
              "frame": {
               "duration": 500,
               "redraw": false
              },
              "fromcurrent": true,
              "mode": "immediate",
              "transition": {
               "duration": 500,
               "easing": "linear"
              }
             }
            ],
            "label": "&#9654;",
            "method": "animate"
           },
           {
            "args": [
             [
              null
             ],
             {
              "frame": {
               "duration": 0,
               "redraw": false
              },
              "fromcurrent": true,
              "mode": "immediate",
              "transition": {
               "duration": 0,
               "easing": "linear"
              }
             }
            ],
            "label": "&#9724;",
            "method": "animate"
           }
          ],
          "direction": "left",
          "pad": {
           "r": 10,
           "t": 70
          },
          "showactive": false,
          "type": "buttons",
          "x": 0.1,
          "xanchor": "right",
          "y": 0,
          "yanchor": "top"
         }
        ],
        "xaxis": {
         "anchor": "y",
         "domain": [
          0,
          1
         ],
         "title": {
          "text": "gdp"
         },
         "type": "log"
        },
        "yaxis": {
         "anchor": "x",
         "domain": [
          0,
          1
         ],
         "title": {
          "text": "life exp"
         }
        }
       }
      }
     },
     "metadata": {},
     "output_type": "display_data"
    }
   ],
   "source": [
    "scatter_fig = px.scatter(data_frame=df, x='gdp',\n",
    "           y='life exp',\n",
    "           size='pop',\n",
    "           color='country',\n",
    "           size_max=80,\n",
    "           log_x=True,\n",
    "           height=700,\n",
    "           hover_name=\"country\",\n",
    "           animation_frame=\"year\",\n",
    "           animation_group=\"country\",)\n",
    "\n",
    "scatter_fig.show()"
   ]
  },
  {
   "cell_type": "code",
   "execution_count": 310,
   "id": "6e03ed21",
   "metadata": {},
   "outputs": [],
   "source": [
    "middel_east_country_colors = [scatter_fig.data[i].marker.color for i in range(len(middel_east_country))]"
   ]
  },
  {
   "cell_type": "code",
   "execution_count": 311,
   "id": "84c4be27",
   "metadata": {},
   "outputs": [
    {
     "data": {
      "application/vnd.plotly.v1+json": {
       "config": {
        "plotlyServerURL": "https://plot.ly"
       },
       "data": [
        {
         "labels": [
          "Iran",
          "Iraq",
          "Yemen",
          "Syria",
          "Turkey",
          "Bahrain",
          "United Arab Emirates",
          "Qatar",
          "Jordan",
          "Kuwait",
          "Israel",
          "Saudi Arabia",
          "Oman",
          "Palestine",
          "Egypt"
         ],
         "legendgroup": "1990",
         "marker": {
          "colors": [
           "#636efa",
           "#EF553B",
           "#00cc96",
           "#ab63fa",
           "#FFA15A",
           "#19d3f3",
           "#FF6692",
           "#B6E880",
           "#FF97FF",
           "#FECB52",
           "#636efa",
           "#EF553B",
           "#00cc96",
           "#ab63fa",
           "#FFA15A"
          ]
         },
         "name": "1990",
         "type": "pie",
         "values": [
          8630,
          4550,
          4210,
          10600,
          12600,
          38600,
          51300,
          61200,
          7920,
          31200,
          23600,
          16700,
          30300,
          3110,
          6090
         ]
        }
       ],
       "frames": [
        {
         "data": [
          {
           "labels": [
            "Iran",
            "Iraq",
            "Yemen",
            "Syria",
            "Turkey",
            "Bahrain",
            "United Arab Emirates",
            "Qatar",
            "Jordan",
            "Kuwait",
            "Israel",
            "Saudi Arabia",
            "Oman",
            "Palestine",
            "Egypt"
           ],
           "legendgroup": "1990",
           "marker": {
            "colors": [
             "#636efa",
             "#EF553B",
             "#00cc96",
             "#ab63fa",
             "#FFA15A",
             "#19d3f3",
             "#FF6692",
             "#B6E880",
             "#FF97FF",
             "#FECB52",
             "#636efa",
             "#EF553B",
             "#00cc96",
             "#ab63fa",
             "#FFA15A"
            ]
           },
           "name": "1990",
           "type": "pie",
           "values": [
            8630,
            4550,
            4210,
            10600,
            12600,
            38600,
            51300,
            61200,
            7920,
            31200,
            23600,
            16700,
            30300,
            3110,
            6090
           ]
          }
         ],
         "name": "1990"
        },
        {
         "data": [
          {
           "labels": [
            "Iran",
            "Iraq",
            "Yemen",
            "Syria",
            "Turkey",
            "Bahrain",
            "United Arab Emirates",
            "Qatar",
            "Jordan",
            "Kuwait",
            "Israel",
            "Saudi Arabia",
            "Oman",
            "Palestine",
            "Egypt"
           ],
           "legendgroup": "1991",
           "marker": {
            "colors": [
             "#636efa",
             "#EF553B",
             "#00cc96",
             "#ab63fa",
             "#FFA15A",
             "#19d3f3",
             "#FF6692",
             "#B6E880",
             "#FF97FF",
             "#FECB52",
             "#636efa",
             "#EF553B",
             "#00cc96",
             "#ab63fa",
             "#FFA15A"
            ]
           },
           "name": "1991",
           "type": "pie",
           "values": [
            9480,
            1770,
            4260,
            11000,
            12500,
            41800,
            50500,
            58300,
            7640,
            18900,
            24000,
            19600,
            30800,
            2850,
            6020
           ]
          }
         ],
         "name": "1991"
        },
        {
         "data": [
          {
           "labels": [
            "Iran",
            "Iraq",
            "Yemen",
            "Syria",
            "Turkey",
            "Bahrain",
            "United Arab Emirates",
            "Qatar",
            "Jordan",
            "Kuwait",
            "Israel",
            "Saudi Arabia",
            "Oman",
            "Palestine",
            "Egypt"
           ],
           "legendgroup": "1992",
           "marker": {
            "colors": [
             "#636efa",
             "#EF553B",
             "#00cc96",
             "#ab63fa",
             "#FFA15A",
             "#19d3f3",
             "#FF6692",
             "#B6E880",
             "#FF97FF",
             "#FECB52",
             "#636efa",
             "#EF553B",
             "#00cc96",
             "#ab63fa",
             "#FFA15A"
            ]
           },
           "name": "1992",
           "type": "pie",
           "values": [
            9570,
            2380,
            4370,
            11600,
            12900,
            43400,
            50500,
            63400,
            8250,
            36600,
            24900,
            20800,
            31900,
            3380,
            6150
           ]
          }
         ],
         "name": "1992"
        },
        {
         "data": [
          {
           "labels": [
            "Iran",
            "Iraq",
            "Yemen",
            "Syria",
            "Turkey",
            "Bahrain",
            "United Arab Emirates",
            "Qatar",
            "Jordan",
            "Kuwait",
            "Israel",
            "Saudi Arabia",
            "Oman",
            "Palestine",
            "Egypt"
           ],
           "legendgroup": "1993",
           "marker": {
            "colors": [
             "#636efa",
             "#EF553B",
             "#00cc96",
             "#ab63fa",
             "#FFA15A",
             "#19d3f3",
             "#FF6692",
             "#B6E880",
             "#FF97FF",
             "#FECB52",
             "#636efa",
             "#EF553B",
             "#00cc96",
             "#ab63fa",
             "#FFA15A"
            ]
           },
           "name": "1993",
           "type": "pie",
           "values": [
            9510,
            2480,
            4320,
            11700,
            13700,
            47800,
            50100,
            61300,
            8170,
            52700,
            25300,
            21000,
            32400,
            3570,
            6200
           ]
          }
         ],
         "name": "1993"
        },
        {
         "data": [
          {
           "labels": [
            "Iran",
            "Iraq",
            "Yemen",
            "Syria",
            "Turkey",
            "Bahrain",
            "United Arab Emirates",
            "Qatar",
            "Jordan",
            "Kuwait",
            "Israel",
            "Saudi Arabia",
            "Oman",
            "Palestine",
            "Egypt"
           ],
           "legendgroup": "1994",
           "marker": {
            "colors": [
             "#636efa",
             "#EF553B",
             "#00cc96",
             "#ab63fa",
             "#FFA15A",
             "#19d3f3",
             "#FF6692",
             "#B6E880",
             "#FF97FF",
             "#FECB52",
             "#636efa",
             "#EF553B",
             "#00cc96",
             "#ab63fa",
             "#FFA15A"
            ]
           },
           "name": "1994",
           "type": "pie",
           "values": [
            9240,
            2450,
            4390,
            11600,
            12800,
            46500,
            53100,
            61000,
            8170,
            61000,
            26500,
            21700,
            32400,
            3950,
            6320
           ]
          }
         ],
         "name": "1994"
        },
        {
         "data": [
          {
           "labels": [
            "Iran",
            "Iraq",
            "Yemen",
            "Syria",
            "Turkey",
            "Bahrain",
            "United Arab Emirates",
            "Qatar",
            "Jordan",
            "Kuwait",
            "Israel",
            "Saudi Arabia",
            "Oman",
            "Palestine",
            "Egypt"
           ],
           "legendgroup": "1995",
           "marker": {
            "colors": [
             "#636efa",
             "#EF553B",
             "#00cc96",
             "#ab63fa",
             "#FFA15A",
             "#19d3f3",
             "#FF6692",
             "#B6E880",
             "#FF97FF",
             "#FECB52",
             "#636efa",
             "#EF553B",
             "#00cc96",
             "#ab63fa",
             "#FFA15A"
            ]
           },
           "name": "1995",
           "type": "pie",
           "values": [
            9320,
            2320,
            4440,
            11500,
            13600,
            47200,
            56200,
            61200,
            8330,
            63700,
            26200,
            22300,
            33200,
            4050,
            6480
           ]
          }
         ],
         "name": "1995"
        },
        {
         "data": [
          {
           "labels": [
            "Iran",
            "Iraq",
            "Yemen",
            "Syria",
            "Turkey",
            "Bahrain",
            "United Arab Emirates",
            "Qatar",
            "Jordan",
            "Kuwait",
            "Israel",
            "Saudi Arabia",
            "Oman",
            "Palestine",
            "Egypt"
           ],
           "legendgroup": "1996",
           "marker": {
            "colors": [
             "#636efa",
             "#EF553B",
             "#00cc96",
             "#ab63fa",
             "#FFA15A",
             "#19d3f3",
             "#FF6692",
             "#B6E880",
             "#FF97FF",
             "#FECB52",
             "#636efa",
             "#EF553B",
             "#00cc96",
             "#ab63fa",
             "#FFA15A"
            ]
           },
           "name": "1996",
           "type": "pie",
           "values": [
            9670,
            2720,
            4480,
            11100,
            14400,
            47800,
            58600,
            62300,
            8250,
            63300,
            27100,
            23600,
            33700,
            3920,
            6670
           ]
          }
         ],
         "name": "1996"
        },
        {
         "data": [
          {
           "labels": [
            "Iran",
            "Iraq",
            "Yemen",
            "Syria",
            "Turkey",
            "Bahrain",
            "United Arab Emirates",
            "Qatar",
            "Jordan",
            "Kuwait",
            "Israel",
            "Saudi Arabia",
            "Oman",
            "Palestine",
            "Egypt"
           ],
           "legendgroup": "1997",
           "marker": {
            "colors": [
             "#636efa",
             "#EF553B",
             "#00cc96",
             "#ab63fa",
             "#FFA15A",
             "#19d3f3",
             "#FF6692",
             "#B6E880",
             "#FF97FF",
             "#FECB52",
             "#636efa",
             "#EF553B",
             "#00cc96",
             "#ab63fa",
             "#FFA15A"
            ]
           },
           "name": "1997",
           "type": "pie",
           "values": [
            9590,
            2720,
            4570,
            10300,
            15300,
            48000,
            62800,
            78400,
            8320,
            61700,
            27500,
            24500,
            35500,
            4300,
            6900
           ]
          }
         ],
         "name": "1997"
        },
        {
         "data": [
          {
           "labels": [
            "Iran",
            "Iraq",
            "Yemen",
            "Syria",
            "Turkey",
            "Bahrain",
            "United Arab Emirates",
            "Qatar",
            "Jordan",
            "Kuwait",
            "Israel",
            "Saudi Arabia",
            "Oman",
            "Palestine",
            "Egypt"
           ],
           "legendgroup": "1998",
           "marker": {
            "colors": [
             "#636efa",
             "#EF553B",
             "#00cc96",
             "#ab63fa",
             "#FFA15A",
             "#19d3f3",
             "#FF6692",
             "#B6E880",
             "#FF97FF",
             "#FECB52",
             "#636efa",
             "#EF553B",
             "#00cc96",
             "#ab63fa",
             "#FFA15A"
            ]
           },
           "name": "1998",
           "type": "pie",
           "values": [
            9670,
            3250,
            4700,
            10200,
            15400,
            48700,
            62800,
            83900,
            8400,
            59700,
            28000,
            25900,
            36400,
            4790,
            7140
           ]
          }
         ],
         "name": "1998"
        },
        {
         "data": [
          {
           "labels": [
            "Iran",
            "Iraq",
            "Yemen",
            "Syria",
            "Turkey",
            "Bahrain",
            "United Arab Emirates",
            "Qatar",
            "Jordan",
            "Kuwait",
            "Israel",
            "Saudi Arabia",
            "Oman",
            "Palestine",
            "Egypt"
           ],
           "legendgroup": "1999",
           "marker": {
            "colors": [
             "#636efa",
             "#EF553B",
             "#00cc96",
             "#ab63fa",
             "#FFA15A",
             "#19d3f3",
             "#FF6692",
             "#B6E880",
             "#FF97FF",
             "#FECB52",
             "#636efa",
             "#EF553B",
             "#00cc96",
             "#ab63fa",
             "#FFA15A"
            ]
           },
           "name": "1999",
           "type": "pie",
           "values": [
            9640,
            3670,
            4740,
            9250,
            14700,
            49000,
            64599.99999999999,
            83900,
            8540,
            55000,
            28200,
            25600,
            36500,
            5050,
            7420
           ]
          }
         ],
         "name": "1999"
        },
        {
         "data": [
          {
           "labels": [
            "Iran",
            "Iraq",
            "Yemen",
            "Syria",
            "Turkey",
            "Bahrain",
            "United Arab Emirates",
            "Qatar",
            "Jordan",
            "Kuwait",
            "Israel",
            "Saudi Arabia",
            "Oman",
            "Palestine",
            "Egypt"
           ],
           "legendgroup": "2000",
           "marker": {
            "colors": [
             "#636efa",
             "#EF553B",
             "#00cc96",
             "#ab63fa",
             "#FFA15A",
             "#19d3f3",
             "#FF6692",
             "#B6E880",
             "#FF97FF",
             "#FECB52",
             "#636efa",
             "#EF553B",
             "#00cc96",
             "#ab63fa",
             "#FFA15A"
            ]
           },
           "name": "2000",
           "type": "pie",
           "values": [
            10100,
            4240,
            4900,
            8910,
            15400,
            49400,
            71600,
            86600,
            8740,
            55000,
            29900,
            27800,
            38600,
            4500,
            7750
           ]
          }
         ],
         "name": "2000"
        },
        {
         "data": [
          {
           "labels": [
            "Iran",
            "Iraq",
            "Yemen",
            "Syria",
            "Turkey",
            "Bahrain",
            "United Arab Emirates",
            "Qatar",
            "Jordan",
            "Kuwait",
            "Israel",
            "Saudi Arabia",
            "Oman",
            "Palestine",
            "Egypt"
           ],
           "legendgroup": "2001",
           "marker": {
            "colors": [
             "#636efa",
             "#EF553B",
             "#00cc96",
             "#ab63fa",
             "#FFA15A",
             "#19d3f3",
             "#FF6692",
             "#B6E880",
             "#FF97FF",
             "#FECB52",
             "#636efa",
             "#EF553B",
             "#00cc96",
             "#ab63fa",
             "#FFA15A"
            ]
           },
           "name": "2001",
           "type": "pie",
           "values": [
            10000,
            4820,
            4940,
            8730,
            14300,
            48200,
            72200,
            86600,
            9040,
            53600,
            29300,
            28100,
            39900,
            3980,
            7870
           ]
          }
         ],
         "name": "2001"
        },
        {
         "data": [
          {
           "labels": [
            "Iran",
            "Iraq",
            "Yemen",
            "Syria",
            "Turkey",
            "Bahrain",
            "United Arab Emirates",
            "Qatar",
            "Jordan",
            "Kuwait",
            "Israel",
            "Saudi Arabia",
            "Oman",
            "Palestine",
            "Egypt"
           ],
           "legendgroup": "2002",
           "marker": {
            "colors": [
             "#636efa",
             "#EF553B",
             "#00cc96",
             "#ab63fa",
             "#FFA15A",
             "#19d3f3",
             "#FF6692",
             "#B6E880",
             "#FF97FF",
             "#FECB52",
             "#636efa",
             "#EF553B",
             "#00cc96",
             "#ab63fa",
             "#FFA15A"
            ]
           },
           "name": "2002",
           "type": "pie",
           "values": [
            10600,
            5380,
            4990,
            8750,
            15000,
            47300,
            73500,
            89100,
            9380,
            54300,
            28600,
            28000,
            38800,
            3400,
            7910
           ]
          }
         ],
         "name": "2002"
        },
        {
         "data": [
          {
           "labels": [
            "Iran",
            "Iraq",
            "Yemen",
            "Syria",
            "Turkey",
            "Bahrain",
            "United Arab Emirates",
            "Qatar",
            "Jordan",
            "Kuwait",
            "Israel",
            "Saudi Arabia",
            "Oman",
            "Palestine",
            "Egypt"
           ],
           "legendgroup": "2003",
           "marker": {
            "colors": [
             "#636efa",
             "#EF553B",
             "#00cc96",
             "#ab63fa",
             "#FFA15A",
             "#19d3f3",
             "#FF6692",
             "#B6E880",
             "#FF97FF",
             "#FECB52",
             "#636efa",
             "#EF553B",
             "#00cc96",
             "#ab63fa",
             "#FFA15A"
            ]
           },
           "name": "2003",
           "type": "pie",
           "values": [
            11400,
            4400,
            5030,
            8120,
            15700,
            47500,
            78600,
            86900,
            9560,
            63000,
            28500,
            31800,
            36900,
            3770,
            8010
           ]
          }
         ],
         "name": "2003"
        },
        {
         "data": [
          {
           "labels": [
            "Iran",
            "Iraq",
            "Yemen",
            "Syria",
            "Turkey",
            "Bahrain",
            "United Arab Emirates",
            "Qatar",
            "Jordan",
            "Kuwait",
            "Israel",
            "Saudi Arabia",
            "Oman",
            "Palestine",
            "Egypt"
           ],
           "legendgroup": "2004",
           "marker": {
            "colors": [
             "#636efa",
             "#EF553B",
             "#00cc96",
             "#ab63fa",
             "#FFA15A",
             "#19d3f3",
             "#FF6692",
             "#B6E880",
             "#FF97FF",
             "#FECB52",
             "#636efa",
             "#EF553B",
             "#00cc96",
             "#ab63fa",
             "#FFA15A"
            ]
           },
           "name": "2004",
           "type": "pie",
           "values": [
            11800,
            7050,
            5080,
            8200,
            17000,
            47700,
            82500,
            93700,
            10100,
            68200,
            29300,
            35100,
            36500,
            4490,
            8180
           ]
          }
         ],
         "name": "2004"
        },
        {
         "data": [
          {
           "labels": [
            "Iran",
            "Iraq",
            "Yemen",
            "Syria",
            "Turkey",
            "Bahrain",
            "United Arab Emirates",
            "Qatar",
            "Jordan",
            "Kuwait",
            "Israel",
            "Saudi Arabia",
            "Oman",
            "Palestine",
            "Egypt"
           ],
           "legendgroup": "2005",
           "marker": {
            "colors": [
             "#636efa",
             "#EF553B",
             "#00cc96",
             "#ab63fa",
             "#FFA15A",
             "#19d3f3",
             "#FF6692",
             "#B6E880",
             "#FF97FF",
             "#FECB52",
             "#636efa",
             "#EF553B",
             "#00cc96",
             "#ab63fa",
             "#FFA15A"
            ]
           },
           "name": "2005",
           "type": "pie",
           "values": [
            12000,
            7490,
            5210,
            8180,
            18300,
            47500,
            80800,
            87700,
            10600,
            73200,
            30000,
            38000,
            36400,
            4870,
            8400
           ]
          }
         ],
         "name": "2005"
        },
        {
         "data": [
          {
           "labels": [
            "Iran",
            "Iraq",
            "Yemen",
            "Syria",
            "Turkey",
            "Bahrain",
            "United Arab Emirates",
            "Qatar",
            "Jordan",
            "Kuwait",
            "Israel",
            "Saudi Arabia",
            "Oman",
            "Palestine",
            "Egypt"
           ],
           "legendgroup": "2006",
           "marker": {
            "colors": [
             "#636efa",
             "#EF553B",
             "#00cc96",
             "#ab63fa",
             "#FFA15A",
             "#19d3f3",
             "#FF6692",
             "#B6E880",
             "#FF97FF",
             "#FECB52",
             "#636efa",
             "#EF553B",
             "#00cc96",
             "#ab63fa",
             "#FFA15A"
            ]
           },
           "name": "2006",
           "type": "pie",
           "values": [
            12500,
            8080,
            5230,
            8020,
            19300,
            46900,
            86400,
            93700,
            11000,
            75200,
            31200,
            40100,
            37400,
            4700,
            8810
           ]
          }
         ],
         "name": "2006"
        },
        {
         "data": [
          {
           "labels": [
            "Iran",
            "Iraq",
            "Yemen",
            "Syria",
            "Turkey",
            "Bahrain",
            "United Arab Emirates",
            "Qatar",
            "Jordan",
            "Kuwait",
            "Israel",
            "Saudi Arabia",
            "Oman",
            "Palestine",
            "Egypt"
           ],
           "legendgroup": "2007",
           "marker": {
            "colors": [
             "#636efa",
             "#EF553B",
             "#00cc96",
             "#ab63fa",
             "#FFA15A",
             "#19d3f3",
             "#FF6692",
             "#B6E880",
             "#FF97FF",
             "#FECB52",
             "#636efa",
             "#EF553B",
             "#00cc96",
             "#ab63fa",
             "#FFA15A"
            ]
           },
           "name": "2007",
           "type": "pie",
           "values": [
            13300,
            8070,
            5250,
            7880,
            20000,
            47000,
            76600,
            92800,
            11400,
            75600,
            32500,
            41900,
            37900,
            4750,
            9280
           ]
          }
         ],
         "name": "2007"
        },
        {
         "data": [
          {
           "labels": [
            "Iran",
            "Iraq",
            "Yemen",
            "Syria",
            "Turkey",
            "Bahrain",
            "United Arab Emirates",
            "Qatar",
            "Jordan",
            "Kuwait",
            "Israel",
            "Saudi Arabia",
            "Oman",
            "Palestine",
            "Egypt"
           ],
           "legendgroup": "2008",
           "marker": {
            "colors": [
             "#636efa",
             "#EF553B",
             "#00cc96",
             "#ab63fa",
             "#FFA15A",
             "#19d3f3",
             "#FF6692",
             "#B6E880",
             "#FF97FF",
             "#FECB52",
             "#636efa",
             "#EF553B",
             "#00cc96",
             "#ab63fa",
             "#FFA15A"
            ]
           },
           "name": "2008",
           "type": "pie",
           "values": [
            13200,
            8190,
            5290,
            7670,
            19900,
            46400,
            68800,
            92600,
            11700,
            73000,
            33000,
            45800,
            39600,
            4970,
            9760
           ]
          }
         ],
         "name": "2008"
        },
        {
         "data": [
          {
           "labels": [
            "Iran",
            "Iraq",
            "Yemen",
            "Syria",
            "Turkey",
            "Bahrain",
            "United Arab Emirates",
            "Qatar",
            "Jordan",
            "Kuwait",
            "Israel",
            "Saudi Arabia",
            "Oman",
            "Palestine",
            "Egypt"
           ],
           "legendgroup": "2009",
           "marker": {
            "colors": [
             "#636efa",
             "#EF553B",
             "#00cc96",
             "#ab63fa",
             "#FFA15A",
             "#19d3f3",
             "#FF6692",
             "#B6E880",
             "#FF97FF",
             "#FECB52",
             "#636efa",
             "#EF553B",
             "#00cc96",
             "#ab63fa",
             "#FFA15A"
            ]
           },
           "name": "2009",
           "type": "pie",
           "values": [
            13200,
            8290,
            5340,
            7660,
            18700,
            44800,
            58400,
            90000,
            11700,
            63900,
            32600,
            44600,
            40200,
            5250,
            10000
           ]
          }
         ],
         "name": "2009"
        },
        {
         "data": [
          {
           "labels": [
            "Iran",
            "Iraq",
            "Yemen",
            "Syria",
            "Turkey",
            "Bahrain",
            "United Arab Emirates",
            "Qatar",
            "Jordan",
            "Kuwait",
            "Israel",
            "Saudi Arabia",
            "Oman",
            "Palestine",
            "Egypt"
           ],
           "legendgroup": "2010",
           "marker": {
            "colors": [
             "#636efa",
             "#EF553B",
             "#00cc96",
             "#ab63fa",
             "#FFA15A",
             "#19d3f3",
             "#FF6692",
             "#B6E880",
             "#FF97FF",
             "#FECB52",
             "#636efa",
             "#EF553B",
             "#00cc96",
             "#ab63fa",
             "#FFA15A"
            ]
           },
           "name": "2010",
           "type": "pie",
           "values": [
            13800,
            8600,
            5590,
            7580,
            20000,
            44600,
            54900,
            95900,
            11300,
            58800,
            33900,
            44000,
            38700,
            5410,
            10300
           ]
          }
         ],
         "name": "2010"
        },
        {
         "data": [
          {
           "labels": [
            "Iran",
            "Iraq",
            "Yemen",
            "Syria",
            "Turkey",
            "Bahrain",
            "United Arab Emirates",
            "Qatar",
            "Jordan",
            "Kuwait",
            "Israel",
            "Saudi Arabia",
            "Oman",
            "Palestine",
            "Egypt"
           ],
           "legendgroup": "2011",
           "marker": {
            "colors": [
             "#636efa",
             "#EF553B",
             "#00cc96",
             "#ab63fa",
             "#FFA15A",
             "#19d3f3",
             "#FF6692",
             "#B6E880",
             "#FF97FF",
             "#FECB52",
             "#636efa",
             "#EF553B",
             "#00cc96",
             "#ab63fa",
             "#FFA15A"
            ]
           },
           "name": "2011",
           "type": "pie",
           "values": [
            14000,
            8950,
            4750,
            6950,
            21900,
            44200,
            56100,
            99100,
            11000,
            60900,
            35100,
            47000,
            37200,
            5780,
            10300
           ]
          }
         ],
         "name": "2011"
        },
        {
         "data": [
          {
           "labels": [
            "Iran",
            "Iraq",
            "Yemen",
            "Syria",
            "Turkey",
            "Bahrain",
            "United Arab Emirates",
            "Qatar",
            "Jordan",
            "Kuwait",
            "Israel",
            "Saudi Arabia",
            "Oman",
            "Palestine",
            "Egypt"
           ],
           "legendgroup": "2012",
           "marker": {
            "colors": [
             "#636efa",
             "#EF553B",
             "#00cc96",
             "#ab63fa",
             "#FFA15A",
             "#19d3f3",
             "#FF6692",
             "#B6E880",
             "#FF97FF",
             "#FECB52",
             "#636efa",
             "#EF553B",
             "#00cc96",
             "#ab63fa",
             "#FFA15A"
            ]
           },
           "name": "2012",
           "type": "pie",
           "values": [
            12800,
            9830,
            4740,
            5610,
            22600,
            45000,
            57400,
            96300,
            10700,
            61400,
            35400,
            48000,
            37700,
            5990,
            10300
           ]
          }
         ],
         "name": "2012"
        },
        {
         "data": [
          {
           "labels": [
            "Iran",
            "Iraq",
            "Yemen",
            "Syria",
            "Turkey",
            "Bahrain",
            "United Arab Emirates",
            "Qatar",
            "Jordan",
            "Kuwait",
            "Israel",
            "Saudi Arabia",
            "Oman",
            "Palestine",
            "Egypt"
           ],
           "legendgroup": "2013",
           "marker": {
            "colors": [
             "#636efa",
             "#EF553B",
             "#00cc96",
             "#ab63fa",
             "#FFA15A",
             "#19d3f3",
             "#FF6692",
             "#B6E880",
             "#FF97FF",
             "#FECB52",
             "#636efa",
             "#EF553B",
             "#00cc96",
             "#ab63fa",
             "#FFA15A"
            ]
           },
           "name": "2013",
           "type": "pie",
           "values": [
            12600,
            10200,
            4840,
            4790,
            24100,
            46900,
            59900,
            95500,
            10400,
            59000,
            36400,
            47800,
            36800,
            6120,
            10300
           ]
          }
         ],
         "name": "2013"
        },
        {
         "data": [
          {
           "labels": [
            "Iran",
            "Iraq",
            "Yemen",
            "Syria",
            "Turkey",
            "Bahrain",
            "United Arab Emirates",
            "Qatar",
            "Jordan",
            "Kuwait",
            "Israel",
            "Saudi Arabia",
            "Oman",
            "Palestine",
            "Egypt"
           ],
           "legendgroup": "2014",
           "marker": {
            "colors": [
             "#636efa",
             "#EF553B",
             "#00cc96",
             "#ab63fa",
             "#FFA15A",
             "#19d3f3",
             "#FF6692",
             "#B6E880",
             "#FF97FF",
             "#FECB52",
             "#636efa",
             "#EF553B",
             "#00cc96",
             "#ab63fa",
             "#FFA15A"
            ]
           },
           "name": "2014",
           "type": "pie",
           "values": [
            13000,
            9820,
            4710,
            4110,
            24900,
            48200,
            62500,
            95600,
            10300,
            56600,
            37200,
            48200,
            34900,
            5970,
            10400
           ]
          }
         ],
         "name": "2014"
        },
        {
         "data": [
          {
           "labels": [
            "Iran",
            "Iraq",
            "Yemen",
            "Syria",
            "Turkey",
            "Bahrain",
            "United Arab Emirates",
            "Qatar",
            "Jordan",
            "Kuwait",
            "Israel",
            "Saudi Arabia",
            "Oman",
            "Palestine",
            "Egypt"
           ],
           "legendgroup": "2015",
           "marker": {
            "colors": [
             "#636efa",
             "#EF553B",
             "#00cc96",
             "#ab63fa",
             "#FFA15A",
             "#19d3f3",
             "#FF6692",
             "#B6E880",
             "#FF97FF",
             "#FECB52",
             "#636efa",
             "#EF553B",
             "#00cc96",
             "#ab63fa",
             "#FFA15A"
            ]
           },
           "name": "2015",
           "type": "pie",
           "values": [
            12700,
            9950,
            3310,
            3540,
            26000,
            48100,
            65300,
            96000,
            10100,
            54800,
            37300,
            48900,
            34600,
            6050,
            10600
           ]
          }
         ],
         "name": "2015"
        },
        {
         "data": [
          {
           "labels": [
            "Iran",
            "Iraq",
            "Yemen",
            "Syria",
            "Turkey",
            "Bahrain",
            "United Arab Emirates",
            "Qatar",
            "Jordan",
            "Kuwait",
            "Israel",
            "Saudi Arabia",
            "Oman",
            "Palestine",
            "Egypt"
           ],
           "legendgroup": "2016",
           "marker": {
            "colors": [
             "#636efa",
             "#EF553B",
             "#00cc96",
             "#ab63fa",
             "#FFA15A",
             "#19d3f3",
             "#FF6692",
             "#B6E880",
             "#FF97FF",
             "#FECB52",
             "#636efa",
             "#EF553B",
             "#00cc96",
             "#ab63fa",
             "#FFA15A"
            ]
           },
           "name": "2016",
           "type": "pie",
           "values": [
            14200,
            11000,
            2910,
            3590,
            26400,
            47900,
            66500,
            95600,
            10000,
            54700,
            38200,
            48600,
            34600,
            6440,
            10800
           ]
          }
         ],
         "name": "2016"
        },
        {
         "data": [
          {
           "labels": [
            "Iran",
            "Iraq",
            "Yemen",
            "Syria",
            "Turkey",
            "Bahrain",
            "United Arab Emirates",
            "Qatar",
            "Jordan",
            "Kuwait",
            "Israel",
            "Saudi Arabia",
            "Oman",
            "Palestine",
            "Egypt"
           ],
           "legendgroup": "2017",
           "marker": {
            "colors": [
             "#636efa",
             "#EF553B",
             "#00cc96",
             "#ab63fa",
             "#FFA15A",
             "#19d3f3",
             "#FF6692",
             "#B6E880",
             "#FF97FF",
             "#FECB52",
             "#636efa",
             "#EF553B",
             "#00cc96",
             "#ab63fa",
             "#FFA15A"
            ]
           },
           "name": "2017",
           "type": "pie",
           "values": [
            14500,
            10500,
            2700,
            3770,
            27900,
            47700,
            67200,
            91700,
            10000,
            50900,
            39100,
            47300,
            33300,
            6400,
            11000
           ]
          }
         ],
         "name": "2017"
        },
        {
         "data": [
          {
           "labels": [
            "Iran",
            "Iraq",
            "Yemen",
            "Syria",
            "Turkey",
            "Bahrain",
            "United Arab Emirates",
            "Qatar",
            "Jordan",
            "Kuwait",
            "Israel",
            "Saudi Arabia",
            "Oman",
            "Palestine",
            "Egypt"
           ],
           "legendgroup": "2018",
           "marker": {
            "colors": [
             "#636efa",
             "#EF553B",
             "#00cc96",
             "#ab63fa",
             "#FFA15A",
             "#19d3f3",
             "#FF6692",
             "#B6E880",
             "#FF97FF",
             "#FECB52",
             "#636efa",
             "#EF553B",
             "#00cc96",
             "#ab63fa",
             "#FFA15A"
            ]
           },
           "name": "2018",
           "type": "pie",
           "values": [
            13500,
            10600,
            2660,
            3890,
            28300,
            46400,
            67000,
            91000,
            10000,
            50500,
            39900,
            47600,
            32600,
            6320,
            11400
           ]
          }
         ],
         "name": "2018"
        },
        {
         "data": [
          {
           "labels": [
            "Iran",
            "Iraq",
            "Yemen",
            "Syria",
            "Turkey",
            "Bahrain",
            "United Arab Emirates",
            "Qatar",
            "Jordan",
            "Kuwait",
            "Israel",
            "Saudi Arabia",
            "Oman",
            "Palestine",
            "Egypt"
           ],
           "legendgroup": "2019",
           "marker": {
            "colors": [
             "#636efa",
             "#EF553B",
             "#00cc96",
             "#ab63fa",
             "#FFA15A",
             "#19d3f3",
             "#FF6692",
             "#B6E880",
             "#FF97FF",
             "#FECB52",
             "#636efa",
             "#EF553B",
             "#00cc96",
             "#ab63fa",
             "#FFA15A"
            ]
           },
           "name": "2019",
           "type": "pie",
           "values": [
            12400,
            10900,
            2630,
            3850,
            28200,
            45300,
            68300,
            90000,
            10100,
            49900,
            40600,
            47000,
            31300,
            6250,
            11800
           ]
          }
         ],
         "name": "2019"
        },
        {
         "data": [
          {
           "labels": [
            "Iran",
            "Iraq",
            "Yemen",
            "Syria",
            "Turkey",
            "Bahrain",
            "United Arab Emirates",
            "Qatar",
            "Jordan",
            "Kuwait",
            "Israel",
            "Saudi Arabia",
            "Oman",
            "Palestine",
            "Egypt"
           ],
           "legendgroup": "2020",
           "marker": {
            "colors": [
             "#636efa",
             "#EF553B",
             "#00cc96",
             "#ab63fa",
             "#FFA15A",
             "#19d3f3",
             "#FF6692",
             "#B6E880",
             "#FF97FF",
             "#FECB52",
             "#636efa",
             "#EF553B",
             "#00cc96",
             "#ab63fa",
             "#FFA15A"
            ]
           },
           "name": "2020",
           "type": "pie",
           "values": [
            12500,
            8990,
            2360,
            3940,
            28500,
            43400,
            65600,
            90500,
            9820,
            46500,
            39000,
            44000,
            31600,
            5400,
            12000
           ]
          }
         ],
         "name": "2020"
        },
        {
         "data": [
          {
           "labels": [
            "Iran",
            "Iraq",
            "Yemen",
            "Syria",
            "Turkey",
            "Bahrain",
            "United Arab Emirates",
            "Qatar",
            "Jordan",
            "Kuwait",
            "Israel",
            "Saudi Arabia",
            "Oman",
            "Palestine",
            "Egypt"
           ],
           "legendgroup": "2021",
           "marker": {
            "colors": [
             "#636efa",
             "#EF553B",
             "#00cc96",
             "#ab63fa",
             "#FFA15A",
             "#19d3f3",
             "#FF6692",
             "#B6E880",
             "#FF97FF",
             "#FECB52",
             "#636efa",
             "#EF553B",
             "#00cc96",
             "#ab63fa",
             "#FFA15A"
            ]
           },
           "name": "2021",
           "type": "pie",
           "values": [
            12800,
            9280,
            2260,
            4030,
            31300,
            43900,
            65099.99999999999,
            94200,
            9950,
            46400,
            41600,
            44900,
            31300,
            5590,
            12100
           ]
          }
         ],
         "name": "2021"
        },
        {
         "data": [
          {
           "labels": [
            "Iran",
            "Iraq",
            "Yemen",
            "Syria",
            "Turkey",
            "Bahrain",
            "United Arab Emirates",
            "Qatar",
            "Jordan",
            "Kuwait",
            "Israel",
            "Saudi Arabia",
            "Oman",
            "Palestine",
            "Egypt"
           ],
           "legendgroup": "2022",
           "marker": {
            "colors": [
             "#636efa",
             "#EF553B",
             "#00cc96",
             "#ab63fa",
             "#FFA15A",
             "#19d3f3",
             "#FF6692",
             "#B6E880",
             "#FF97FF",
             "#FECB52",
             "#636efa",
             "#EF553B",
             "#00cc96",
             "#ab63fa",
             "#FFA15A"
            ]
           },
           "name": "2022",
           "type": "pie",
           "values": [
            13100,
            9900,
            2230,
            4090,
            31800,
            44500,
            65200,
            95500,
            10200,
            49400,
            42900,
            47300,
            32100,
            5680,
            12600
           ]
          }
         ],
         "name": "2022"
        },
        {
         "data": [
          {
           "labels": [
            "Iran",
            "Iraq",
            "Yemen",
            "Syria",
            "Turkey",
            "Bahrain",
            "United Arab Emirates",
            "Qatar",
            "Jordan",
            "Kuwait",
            "Israel",
            "Saudi Arabia",
            "Oman",
            "Palestine",
            "Egypt"
           ],
           "legendgroup": "2023",
           "marker": {
            "colors": [
             "#636efa",
             "#EF553B",
             "#00cc96",
             "#ab63fa",
             "#FFA15A",
             "#19d3f3",
             "#FF6692",
             "#B6E880",
             "#FF97FF",
             "#FECB52",
             "#636efa",
             "#EF553B",
             "#00cc96",
             "#ab63fa",
             "#FFA15A"
            ]
           },
           "name": "2023",
           "type": "pie",
           "values": [
            13200,
            10200,
            2240,
            4150,
            32299.999999999996,
            44900,
            66300,
            99900,
            10500,
            49900,
            43700,
            48100,
            32000,
            5750,
            13000
           ]
          }
         ],
         "name": "2023"
        },
        {
         "data": [
          {
           "labels": [
            "Iran",
            "Iraq",
            "Yemen",
            "Syria",
            "Turkey",
            "Bahrain",
            "United Arab Emirates",
            "Qatar",
            "Jordan",
            "Kuwait",
            "Israel",
            "Saudi Arabia",
            "Oman",
            "Palestine",
            "Egypt"
           ],
           "legendgroup": "2024",
           "marker": {
            "colors": [
             "#636efa",
             "#EF553B",
             "#00cc96",
             "#ab63fa",
             "#FFA15A",
             "#19d3f3",
             "#FF6692",
             "#B6E880",
             "#FF97FF",
             "#FECB52",
             "#636efa",
             "#EF553B",
             "#00cc96",
             "#ab63fa",
             "#FFA15A"
            ]
           },
           "name": "2024",
           "type": "pie",
           "values": [
            13400,
            10200,
            2350,
            4220,
            33200,
            45300,
            67900,
            103000,
            10800,
            50400,
            44500,
            48400,
            31800,
            5750,
            13400
           ]
          }
         ],
         "name": "2024"
        }
       ],
       "layout": {
        "height": 700,
        "hovermode": "closest",
        "legend": {
         "traceorder": "normal"
        },
        "showlegend": true,
        "sliders": [
         {
          "active": 0,
          "currentvalue": {
           "font": {
            "size": 20
           },
           "prefix": "Year:",
           "visible": true,
           "xanchor": "right"
          },
          "len": 0.9,
          "pad": {
           "b": 10,
           "t": 50
          },
          "steps": [
           {
            "args": [
             [
              "1990"
             ],
             {
              "frame": {
               "duration": 300,
               "redraw": true
              },
              "mode": "immediate",
              "transition": {
               "duration": 300
              }
             }
            ],
            "label": "1990",
            "method": "animate"
           },
           {
            "args": [
             [
              "1991"
             ],
             {
              "frame": {
               "duration": 300,
               "redraw": true
              },
              "mode": "immediate",
              "transition": {
               "duration": 300
              }
             }
            ],
            "label": "1991",
            "method": "animate"
           },
           {
            "args": [
             [
              "1992"
             ],
             {
              "frame": {
               "duration": 300,
               "redraw": true
              },
              "mode": "immediate",
              "transition": {
               "duration": 300
              }
             }
            ],
            "label": "1992",
            "method": "animate"
           },
           {
            "args": [
             [
              "1993"
             ],
             {
              "frame": {
               "duration": 300,
               "redraw": true
              },
              "mode": "immediate",
              "transition": {
               "duration": 300
              }
             }
            ],
            "label": "1993",
            "method": "animate"
           },
           {
            "args": [
             [
              "1994"
             ],
             {
              "frame": {
               "duration": 300,
               "redraw": true
              },
              "mode": "immediate",
              "transition": {
               "duration": 300
              }
             }
            ],
            "label": "1994",
            "method": "animate"
           },
           {
            "args": [
             [
              "1995"
             ],
             {
              "frame": {
               "duration": 300,
               "redraw": true
              },
              "mode": "immediate",
              "transition": {
               "duration": 300
              }
             }
            ],
            "label": "1995",
            "method": "animate"
           },
           {
            "args": [
             [
              "1996"
             ],
             {
              "frame": {
               "duration": 300,
               "redraw": true
              },
              "mode": "immediate",
              "transition": {
               "duration": 300
              }
             }
            ],
            "label": "1996",
            "method": "animate"
           },
           {
            "args": [
             [
              "1997"
             ],
             {
              "frame": {
               "duration": 300,
               "redraw": true
              },
              "mode": "immediate",
              "transition": {
               "duration": 300
              }
             }
            ],
            "label": "1997",
            "method": "animate"
           },
           {
            "args": [
             [
              "1998"
             ],
             {
              "frame": {
               "duration": 300,
               "redraw": true
              },
              "mode": "immediate",
              "transition": {
               "duration": 300
              }
             }
            ],
            "label": "1998",
            "method": "animate"
           },
           {
            "args": [
             [
              "1999"
             ],
             {
              "frame": {
               "duration": 300,
               "redraw": true
              },
              "mode": "immediate",
              "transition": {
               "duration": 300
              }
             }
            ],
            "label": "1999",
            "method": "animate"
           },
           {
            "args": [
             [
              "2000"
             ],
             {
              "frame": {
               "duration": 300,
               "redraw": true
              },
              "mode": "immediate",
              "transition": {
               "duration": 300
              }
             }
            ],
            "label": "2000",
            "method": "animate"
           },
           {
            "args": [
             [
              "2001"
             ],
             {
              "frame": {
               "duration": 300,
               "redraw": true
              },
              "mode": "immediate",
              "transition": {
               "duration": 300
              }
             }
            ],
            "label": "2001",
            "method": "animate"
           },
           {
            "args": [
             [
              "2002"
             ],
             {
              "frame": {
               "duration": 300,
               "redraw": true
              },
              "mode": "immediate",
              "transition": {
               "duration": 300
              }
             }
            ],
            "label": "2002",
            "method": "animate"
           },
           {
            "args": [
             [
              "2003"
             ],
             {
              "frame": {
               "duration": 300,
               "redraw": true
              },
              "mode": "immediate",
              "transition": {
               "duration": 300
              }
             }
            ],
            "label": "2003",
            "method": "animate"
           },
           {
            "args": [
             [
              "2004"
             ],
             {
              "frame": {
               "duration": 300,
               "redraw": true
              },
              "mode": "immediate",
              "transition": {
               "duration": 300
              }
             }
            ],
            "label": "2004",
            "method": "animate"
           },
           {
            "args": [
             [
              "2005"
             ],
             {
              "frame": {
               "duration": 300,
               "redraw": true
              },
              "mode": "immediate",
              "transition": {
               "duration": 300
              }
             }
            ],
            "label": "2005",
            "method": "animate"
           },
           {
            "args": [
             [
              "2006"
             ],
             {
              "frame": {
               "duration": 300,
               "redraw": true
              },
              "mode": "immediate",
              "transition": {
               "duration": 300
              }
             }
            ],
            "label": "2006",
            "method": "animate"
           },
           {
            "args": [
             [
              "2007"
             ],
             {
              "frame": {
               "duration": 300,
               "redraw": true
              },
              "mode": "immediate",
              "transition": {
               "duration": 300
              }
             }
            ],
            "label": "2007",
            "method": "animate"
           },
           {
            "args": [
             [
              "2008"
             ],
             {
              "frame": {
               "duration": 300,
               "redraw": true
              },
              "mode": "immediate",
              "transition": {
               "duration": 300
              }
             }
            ],
            "label": "2008",
            "method": "animate"
           },
           {
            "args": [
             [
              "2009"
             ],
             {
              "frame": {
               "duration": 300,
               "redraw": true
              },
              "mode": "immediate",
              "transition": {
               "duration": 300
              }
             }
            ],
            "label": "2009",
            "method": "animate"
           },
           {
            "args": [
             [
              "2010"
             ],
             {
              "frame": {
               "duration": 300,
               "redraw": true
              },
              "mode": "immediate",
              "transition": {
               "duration": 300
              }
             }
            ],
            "label": "2010",
            "method": "animate"
           },
           {
            "args": [
             [
              "2011"
             ],
             {
              "frame": {
               "duration": 300,
               "redraw": true
              },
              "mode": "immediate",
              "transition": {
               "duration": 300
              }
             }
            ],
            "label": "2011",
            "method": "animate"
           },
           {
            "args": [
             [
              "2012"
             ],
             {
              "frame": {
               "duration": 300,
               "redraw": true
              },
              "mode": "immediate",
              "transition": {
               "duration": 300
              }
             }
            ],
            "label": "2012",
            "method": "animate"
           },
           {
            "args": [
             [
              "2013"
             ],
             {
              "frame": {
               "duration": 300,
               "redraw": true
              },
              "mode": "immediate",
              "transition": {
               "duration": 300
              }
             }
            ],
            "label": "2013",
            "method": "animate"
           },
           {
            "args": [
             [
              "2014"
             ],
             {
              "frame": {
               "duration": 300,
               "redraw": true
              },
              "mode": "immediate",
              "transition": {
               "duration": 300
              }
             }
            ],
            "label": "2014",
            "method": "animate"
           },
           {
            "args": [
             [
              "2015"
             ],
             {
              "frame": {
               "duration": 300,
               "redraw": true
              },
              "mode": "immediate",
              "transition": {
               "duration": 300
              }
             }
            ],
            "label": "2015",
            "method": "animate"
           },
           {
            "args": [
             [
              "2016"
             ],
             {
              "frame": {
               "duration": 300,
               "redraw": true
              },
              "mode": "immediate",
              "transition": {
               "duration": 300
              }
             }
            ],
            "label": "2016",
            "method": "animate"
           },
           {
            "args": [
             [
              "2017"
             ],
             {
              "frame": {
               "duration": 300,
               "redraw": true
              },
              "mode": "immediate",
              "transition": {
               "duration": 300
              }
             }
            ],
            "label": "2017",
            "method": "animate"
           },
           {
            "args": [
             [
              "2018"
             ],
             {
              "frame": {
               "duration": 300,
               "redraw": true
              },
              "mode": "immediate",
              "transition": {
               "duration": 300
              }
             }
            ],
            "label": "2018",
            "method": "animate"
           },
           {
            "args": [
             [
              "2019"
             ],
             {
              "frame": {
               "duration": 300,
               "redraw": true
              },
              "mode": "immediate",
              "transition": {
               "duration": 300
              }
             }
            ],
            "label": "2019",
            "method": "animate"
           },
           {
            "args": [
             [
              "2020"
             ],
             {
              "frame": {
               "duration": 300,
               "redraw": true
              },
              "mode": "immediate",
              "transition": {
               "duration": 300
              }
             }
            ],
            "label": "2020",
            "method": "animate"
           },
           {
            "args": [
             [
              "2021"
             ],
             {
              "frame": {
               "duration": 300,
               "redraw": true
              },
              "mode": "immediate",
              "transition": {
               "duration": 300
              }
             }
            ],
            "label": "2021",
            "method": "animate"
           },
           {
            "args": [
             [
              "2022"
             ],
             {
              "frame": {
               "duration": 300,
               "redraw": true
              },
              "mode": "immediate",
              "transition": {
               "duration": 300
              }
             }
            ],
            "label": "2022",
            "method": "animate"
           },
           {
            "args": [
             [
              "2023"
             ],
             {
              "frame": {
               "duration": 300,
               "redraw": true
              },
              "mode": "immediate",
              "transition": {
               "duration": 300
              }
             }
            ],
            "label": "2023",
            "method": "animate"
           },
           {
            "args": [
             [
              "2024"
             ],
             {
              "frame": {
               "duration": 300,
               "redraw": true
              },
              "mode": "immediate",
              "transition": {
               "duration": 300
              }
             }
            ],
            "label": "2024",
            "method": "animate"
           }
          ],
          "transition": {
           "duration": 300,
           "easing": "cubic-in-out"
          },
          "x": 0.1,
          "xanchor": "left",
          "y": 0,
          "yanchor": "top"
         }
        ],
        "template": {
         "data": {
          "bar": [
           {
            "error_x": {
             "color": "#2a3f5f"
            },
            "error_y": {
             "color": "#2a3f5f"
            },
            "marker": {
             "line": {
              "color": "#E5ECF6",
              "width": 0.5
             },
             "pattern": {
              "fillmode": "overlay",
              "size": 10,
              "solidity": 0.2
             }
            },
            "type": "bar"
           }
          ],
          "barpolar": [
           {
            "marker": {
             "line": {
              "color": "#E5ECF6",
              "width": 0.5
             },
             "pattern": {
              "fillmode": "overlay",
              "size": 10,
              "solidity": 0.2
             }
            },
            "type": "barpolar"
           }
          ],
          "carpet": [
           {
            "aaxis": {
             "endlinecolor": "#2a3f5f",
             "gridcolor": "white",
             "linecolor": "white",
             "minorgridcolor": "white",
             "startlinecolor": "#2a3f5f"
            },
            "baxis": {
             "endlinecolor": "#2a3f5f",
             "gridcolor": "white",
             "linecolor": "white",
             "minorgridcolor": "white",
             "startlinecolor": "#2a3f5f"
            },
            "type": "carpet"
           }
          ],
          "choropleth": [
           {
            "colorbar": {
             "outlinewidth": 0,
             "ticks": ""
            },
            "type": "choropleth"
           }
          ],
          "contour": [
           {
            "colorbar": {
             "outlinewidth": 0,
             "ticks": ""
            },
            "colorscale": [
             [
              0,
              "#0d0887"
             ],
             [
              0.1111111111111111,
              "#46039f"
             ],
             [
              0.2222222222222222,
              "#7201a8"
             ],
             [
              0.3333333333333333,
              "#9c179e"
             ],
             [
              0.4444444444444444,
              "#bd3786"
             ],
             [
              0.5555555555555556,
              "#d8576b"
             ],
             [
              0.6666666666666666,
              "#ed7953"
             ],
             [
              0.7777777777777778,
              "#fb9f3a"
             ],
             [
              0.8888888888888888,
              "#fdca26"
             ],
             [
              1,
              "#f0f921"
             ]
            ],
            "type": "contour"
           }
          ],
          "contourcarpet": [
           {
            "colorbar": {
             "outlinewidth": 0,
             "ticks": ""
            },
            "type": "contourcarpet"
           }
          ],
          "heatmap": [
           {
            "colorbar": {
             "outlinewidth": 0,
             "ticks": ""
            },
            "colorscale": [
             [
              0,
              "#0d0887"
             ],
             [
              0.1111111111111111,
              "#46039f"
             ],
             [
              0.2222222222222222,
              "#7201a8"
             ],
             [
              0.3333333333333333,
              "#9c179e"
             ],
             [
              0.4444444444444444,
              "#bd3786"
             ],
             [
              0.5555555555555556,
              "#d8576b"
             ],
             [
              0.6666666666666666,
              "#ed7953"
             ],
             [
              0.7777777777777778,
              "#fb9f3a"
             ],
             [
              0.8888888888888888,
              "#fdca26"
             ],
             [
              1,
              "#f0f921"
             ]
            ],
            "type": "heatmap"
           }
          ],
          "heatmapgl": [
           {
            "colorbar": {
             "outlinewidth": 0,
             "ticks": ""
            },
            "colorscale": [
             [
              0,
              "#0d0887"
             ],
             [
              0.1111111111111111,
              "#46039f"
             ],
             [
              0.2222222222222222,
              "#7201a8"
             ],
             [
              0.3333333333333333,
              "#9c179e"
             ],
             [
              0.4444444444444444,
              "#bd3786"
             ],
             [
              0.5555555555555556,
              "#d8576b"
             ],
             [
              0.6666666666666666,
              "#ed7953"
             ],
             [
              0.7777777777777778,
              "#fb9f3a"
             ],
             [
              0.8888888888888888,
              "#fdca26"
             ],
             [
              1,
              "#f0f921"
             ]
            ],
            "type": "heatmapgl"
           }
          ],
          "histogram": [
           {
            "marker": {
             "pattern": {
              "fillmode": "overlay",
              "size": 10,
              "solidity": 0.2
             }
            },
            "type": "histogram"
           }
          ],
          "histogram2d": [
           {
            "colorbar": {
             "outlinewidth": 0,
             "ticks": ""
            },
            "colorscale": [
             [
              0,
              "#0d0887"
             ],
             [
              0.1111111111111111,
              "#46039f"
             ],
             [
              0.2222222222222222,
              "#7201a8"
             ],
             [
              0.3333333333333333,
              "#9c179e"
             ],
             [
              0.4444444444444444,
              "#bd3786"
             ],
             [
              0.5555555555555556,
              "#d8576b"
             ],
             [
              0.6666666666666666,
              "#ed7953"
             ],
             [
              0.7777777777777778,
              "#fb9f3a"
             ],
             [
              0.8888888888888888,
              "#fdca26"
             ],
             [
              1,
              "#f0f921"
             ]
            ],
            "type": "histogram2d"
           }
          ],
          "histogram2dcontour": [
           {
            "colorbar": {
             "outlinewidth": 0,
             "ticks": ""
            },
            "colorscale": [
             [
              0,
              "#0d0887"
             ],
             [
              0.1111111111111111,
              "#46039f"
             ],
             [
              0.2222222222222222,
              "#7201a8"
             ],
             [
              0.3333333333333333,
              "#9c179e"
             ],
             [
              0.4444444444444444,
              "#bd3786"
             ],
             [
              0.5555555555555556,
              "#d8576b"
             ],
             [
              0.6666666666666666,
              "#ed7953"
             ],
             [
              0.7777777777777778,
              "#fb9f3a"
             ],
             [
              0.8888888888888888,
              "#fdca26"
             ],
             [
              1,
              "#f0f921"
             ]
            ],
            "type": "histogram2dcontour"
           }
          ],
          "mesh3d": [
           {
            "colorbar": {
             "outlinewidth": 0,
             "ticks": ""
            },
            "type": "mesh3d"
           }
          ],
          "parcoords": [
           {
            "line": {
             "colorbar": {
              "outlinewidth": 0,
              "ticks": ""
             }
            },
            "type": "parcoords"
           }
          ],
          "pie": [
           {
            "automargin": true,
            "type": "pie"
           }
          ],
          "scatter": [
           {
            "fillpattern": {
             "fillmode": "overlay",
             "size": 10,
             "solidity": 0.2
            },
            "type": "scatter"
           }
          ],
          "scatter3d": [
           {
            "line": {
             "colorbar": {
              "outlinewidth": 0,
              "ticks": ""
             }
            },
            "marker": {
             "colorbar": {
              "outlinewidth": 0,
              "ticks": ""
             }
            },
            "type": "scatter3d"
           }
          ],
          "scattercarpet": [
           {
            "marker": {
             "colorbar": {
              "outlinewidth": 0,
              "ticks": ""
             }
            },
            "type": "scattercarpet"
           }
          ],
          "scattergeo": [
           {
            "marker": {
             "colorbar": {
              "outlinewidth": 0,
              "ticks": ""
             }
            },
            "type": "scattergeo"
           }
          ],
          "scattergl": [
           {
            "marker": {
             "colorbar": {
              "outlinewidth": 0,
              "ticks": ""
             }
            },
            "type": "scattergl"
           }
          ],
          "scattermapbox": [
           {
            "marker": {
             "colorbar": {
              "outlinewidth": 0,
              "ticks": ""
             }
            },
            "type": "scattermapbox"
           }
          ],
          "scatterpolar": [
           {
            "marker": {
             "colorbar": {
              "outlinewidth": 0,
              "ticks": ""
             }
            },
            "type": "scatterpolar"
           }
          ],
          "scatterpolargl": [
           {
            "marker": {
             "colorbar": {
              "outlinewidth": 0,
              "ticks": ""
             }
            },
            "type": "scatterpolargl"
           }
          ],
          "scatterternary": [
           {
            "marker": {
             "colorbar": {
              "outlinewidth": 0,
              "ticks": ""
             }
            },
            "type": "scatterternary"
           }
          ],
          "surface": [
           {
            "colorbar": {
             "outlinewidth": 0,
             "ticks": ""
            },
            "colorscale": [
             [
              0,
              "#0d0887"
             ],
             [
              0.1111111111111111,
              "#46039f"
             ],
             [
              0.2222222222222222,
              "#7201a8"
             ],
             [
              0.3333333333333333,
              "#9c179e"
             ],
             [
              0.4444444444444444,
              "#bd3786"
             ],
             [
              0.5555555555555556,
              "#d8576b"
             ],
             [
              0.6666666666666666,
              "#ed7953"
             ],
             [
              0.7777777777777778,
              "#fb9f3a"
             ],
             [
              0.8888888888888888,
              "#fdca26"
             ],
             [
              1,
              "#f0f921"
             ]
            ],
            "type": "surface"
           }
          ],
          "table": [
           {
            "cells": {
             "fill": {
              "color": "#EBF0F8"
             },
             "line": {
              "color": "white"
             }
            },
            "header": {
             "fill": {
              "color": "#C8D4E3"
             },
             "line": {
              "color": "white"
             }
            },
            "type": "table"
           }
          ]
         },
         "layout": {
          "annotationdefaults": {
           "arrowcolor": "#2a3f5f",
           "arrowhead": 0,
           "arrowwidth": 1
          },
          "autotypenumbers": "strict",
          "coloraxis": {
           "colorbar": {
            "outlinewidth": 0,
            "ticks": ""
           }
          },
          "colorscale": {
           "diverging": [
            [
             0,
             "#8e0152"
            ],
            [
             0.1,
             "#c51b7d"
            ],
            [
             0.2,
             "#de77ae"
            ],
            [
             0.3,
             "#f1b6da"
            ],
            [
             0.4,
             "#fde0ef"
            ],
            [
             0.5,
             "#f7f7f7"
            ],
            [
             0.6,
             "#e6f5d0"
            ],
            [
             0.7,
             "#b8e186"
            ],
            [
             0.8,
             "#7fbc41"
            ],
            [
             0.9,
             "#4d9221"
            ],
            [
             1,
             "#276419"
            ]
           ],
           "sequential": [
            [
             0,
             "#0d0887"
            ],
            [
             0.1111111111111111,
             "#46039f"
            ],
            [
             0.2222222222222222,
             "#7201a8"
            ],
            [
             0.3333333333333333,
             "#9c179e"
            ],
            [
             0.4444444444444444,
             "#bd3786"
            ],
            [
             0.5555555555555556,
             "#d8576b"
            ],
            [
             0.6666666666666666,
             "#ed7953"
            ],
            [
             0.7777777777777778,
             "#fb9f3a"
            ],
            [
             0.8888888888888888,
             "#fdca26"
            ],
            [
             1,
             "#f0f921"
            ]
           ],
           "sequentialminus": [
            [
             0,
             "#0d0887"
            ],
            [
             0.1111111111111111,
             "#46039f"
            ],
            [
             0.2222222222222222,
             "#7201a8"
            ],
            [
             0.3333333333333333,
             "#9c179e"
            ],
            [
             0.4444444444444444,
             "#bd3786"
            ],
            [
             0.5555555555555556,
             "#d8576b"
            ],
            [
             0.6666666666666666,
             "#ed7953"
            ],
            [
             0.7777777777777778,
             "#fb9f3a"
            ],
            [
             0.8888888888888888,
             "#fdca26"
            ],
            [
             1,
             "#f0f921"
            ]
           ]
          },
          "colorway": [
           "#636efa",
           "#EF553B",
           "#00cc96",
           "#ab63fa",
           "#FFA15A",
           "#19d3f3",
           "#FF6692",
           "#B6E880",
           "#FF97FF",
           "#FECB52"
          ],
          "font": {
           "color": "#2a3f5f"
          },
          "geo": {
           "bgcolor": "white",
           "lakecolor": "white",
           "landcolor": "#E5ECF6",
           "showlakes": true,
           "showland": true,
           "subunitcolor": "white"
          },
          "hoverlabel": {
           "align": "left"
          },
          "hovermode": "closest",
          "mapbox": {
           "style": "light"
          },
          "paper_bgcolor": "white",
          "plot_bgcolor": "#E5ECF6",
          "polar": {
           "angularaxis": {
            "gridcolor": "white",
            "linecolor": "white",
            "ticks": ""
           },
           "bgcolor": "#E5ECF6",
           "radialaxis": {
            "gridcolor": "white",
            "linecolor": "white",
            "ticks": ""
           }
          },
          "scene": {
           "xaxis": {
            "backgroundcolor": "#E5ECF6",
            "gridcolor": "white",
            "gridwidth": 2,
            "linecolor": "white",
            "showbackground": true,
            "ticks": "",
            "zerolinecolor": "white"
           },
           "yaxis": {
            "backgroundcolor": "#E5ECF6",
            "gridcolor": "white",
            "gridwidth": 2,
            "linecolor": "white",
            "showbackground": true,
            "ticks": "",
            "zerolinecolor": "white"
           },
           "zaxis": {
            "backgroundcolor": "#E5ECF6",
            "gridcolor": "white",
            "gridwidth": 2,
            "linecolor": "white",
            "showbackground": true,
            "ticks": "",
            "zerolinecolor": "white"
           }
          },
          "shapedefaults": {
           "line": {
            "color": "#2a3f5f"
           }
          },
          "ternary": {
           "aaxis": {
            "gridcolor": "white",
            "linecolor": "white",
            "ticks": ""
           },
           "baxis": {
            "gridcolor": "white",
            "linecolor": "white",
            "ticks": ""
           },
           "bgcolor": "#E5ECF6",
           "caxis": {
            "gridcolor": "white",
            "linecolor": "white",
            "ticks": ""
           }
          },
          "title": {
           "x": 0.05
          },
          "xaxis": {
           "automargin": true,
           "gridcolor": "white",
           "linecolor": "white",
           "ticks": "",
           "title": {
            "standoff": 15
           },
           "zerolinecolor": "white",
           "zerolinewidth": 2
          },
          "yaxis": {
           "automargin": true,
           "gridcolor": "white",
           "linecolor": "white",
           "ticks": "",
           "title": {
            "standoff": 15
           },
           "zerolinecolor": "white",
           "zerolinewidth": 2
          }
         }
        },
        "title": {
         "text": "Midel East GDP"
        },
        "updatemenus": [
         {
          "buttons": [
           {
            "args": [
             null,
             {
              "frame": {
               "duration": 300,
               "redraw": true
              },
              "fromcurrent": true,
              "transition": {
               "duration": 300,
               "easing": "quadratic-in-out"
              }
             }
            ],
            "label": "Play",
            "method": "animate"
           },
           {
            "args": [
             [
              null
             ],
             {
              "frame": {
               "duration": 0,
               "redraw": true
              },
              "mode": "immediate",
              "transition": {
               "duration": 0
              }
             }
            ],
            "label": "Pause",
            "method": "animate"
           }
          ],
          "direction": "left",
          "pad": {
           "r": 10,
           "t": 87
          },
          "showactive": false,
          "type": "buttons",
          "x": 0.1,
          "xanchor": "right",
          "y": 0,
          "yanchor": "top"
         }
        ]
       }
      }
     },
     "metadata": {},
     "output_type": "display_data"
    }
   ],
   "source": [
    "# make figure\n",
    "fig_dict = {\n",
    "    \"data\": [],\n",
    "    \"layout\": {},\n",
    "    \"frames\": []\n",
    "}\n",
    "\n",
    "# fill in most of layout\n",
    "fig_dict[\"layout\"][\"height\"] = 700\n",
    "fig_dict[\"layout\"][\"title\"] = \"Midel East GDP\"\n",
    "fig_dict[\"layout\"][\"legend_traceorder\"] = \"normal\"\n",
    "fig_dict[\"layout\"][\"showlegend\"] = True\n",
    "fig_dict[\"layout\"][\"hovermode\"] = \"closest\"\n",
    "fig_dict[\"layout\"][\"updatemenus\"] = [\n",
    "    {\n",
    "        \"buttons\": [\n",
    "            {\n",
    "                \"args\": [None, {\"frame\": {\"duration\": 300, \"redraw\": True},\n",
    "                                \"fromcurrent\": True, \"transition\": {\"duration\": 300,\n",
    "                                                                    \"easing\": \"quadratic-in-out\"}}],\n",
    "                \"label\": \"Play\",\n",
    "                \"method\": \"animate\"\n",
    "            },\n",
    "            {\n",
    "                \"args\": [[None], {\"frame\": {\"duration\": 0, \"redraw\": True},\n",
    "                                  \"mode\": \"immediate\",\n",
    "                                  \"transition\": {\"duration\": 0}}],\n",
    "                \"label\": \"Pause\",\n",
    "                \"method\": \"animate\"\n",
    "            }\n",
    "        ],\n",
    "        \"direction\": \"left\",\n",
    "        \"pad\": {\"r\": 10, \"t\": 87},\n",
    "        \"showactive\": False,\n",
    "        \"type\": \"buttons\",\n",
    "        \"x\": 0.1,\n",
    "        \"xanchor\": \"right\",\n",
    "        \"y\": 0,\n",
    "        \"yanchor\": \"top\"\n",
    "    }\n",
    "]\n",
    "\n",
    "sliders_dict = {\n",
    "    \"active\": 0,\n",
    "    \"yanchor\": \"top\",\n",
    "    \"xanchor\": \"left\",\n",
    "    \"currentvalue\": {\n",
    "        \"font\": {\"size\": 20},\n",
    "        \"prefix\": \"Year:\",\n",
    "        \"visible\": True,\n",
    "        \"xanchor\": \"right\"\n",
    "    },\n",
    "    \"transition\": {\"duration\": 300, \"easing\": \"cubic-in-out\"},\n",
    "    \"pad\": {\"b\": 10, \"t\": 50},\n",
    "    \"len\": 0.9,\n",
    "    \"x\": 0.1,\n",
    "    \"y\": 0,\n",
    "    \"steps\": []\n",
    "}\n",
    "\n",
    "# make data\n",
    "dataset = df[df['year'] == years[0]]\n",
    "data_dict = {\n",
    "    \"type\": \"pie\",\n",
    "    \"labels\": list(dataset[\"country\"]),\n",
    "    \"values\": list(dataset[\"gdp\"]),\n",
    "    \"marker\": {\"colors\": middel_east_country_colors},\n",
    "    \"legendgroup\": years[0],\n",
    "    \"name\": years[0]\n",
    "}\n",
    "fig_dict[\"data\"].append(data_dict)\n",
    "\n",
    "# make frames\n",
    "for year in years:\n",
    "\n",
    "    frame = {\"data\": [], \"name\": str(year)}\n",
    "    dataset = df[df['year'] == year]\n",
    "    data_dict = {\n",
    "        \"type\": \"pie\",\n",
    "        \"labels\": list(dataset[\"country\"]),\n",
    "        \"values\": list(dataset[\"gdp\"]),\n",
    "        \"marker\": {\"colors\": middel_east_country_colors},\n",
    "        \"legendgroup\": year,\n",
    "        \"name\": year\n",
    "    }\n",
    "    frame[\"data\"].append(data_dict)\n",
    "\n",
    "    fig_dict[\"frames\"].append(frame)\n",
    "\n",
    "    slider_step = {\"args\": [\n",
    "        [year],\n",
    "        {\"frame\": {\"duration\": 300, \"redraw\": True},\n",
    "         \"mode\": \"immediate\",\n",
    "         \"transition\": {\"duration\": 300}}\n",
    "    ],\n",
    "        \"label\": year,\n",
    "        \"method\": \"animate\"}\n",
    "\n",
    "    sliders_dict[\"steps\"].append(slider_step)\n",
    "fig_dict[\"layout\"][\"sliders\"] = [sliders_dict]\n",
    "\n",
    "fig = go.Figure(fig_dict)\n",
    "fig.show()"
   ]
  },
  {
   "cell_type": "code",
   "execution_count": 312,
   "id": "12cb90e3",
   "metadata": {},
   "outputs": [
    {
     "data": {
      "application/vnd.plotly.v1+json": {
       "config": {
        "plotlyServerURL": "https://plot.ly"
       },
       "data": [
        {
         "domain": {
          "x": [
           0,
           0.2888888888888889
          ],
          "y": [
           0,
           1
          ]
         },
         "labels": [
          "Iran",
          "Iraq",
          "Yemen",
          "Syria",
          "Turkey",
          "Bahrain",
          "United Arab Emirates",
          "Qatar",
          "Jordan",
          "Kuwait",
          "Israel",
          "Saudi Arabia",
          "Oman",
          "Palestine",
          "Egypt"
         ],
         "legendgroup": "1990",
         "marker": {
          "colors": [
           "#636efa",
           "#EF553B",
           "#00cc96",
           "#ab63fa",
           "#FFA15A",
           "#19d3f3",
           "#FF6692",
           "#B6E880",
           "#FF97FF",
           "#FECB52",
           "#636efa",
           "#EF553B",
           "#00cc96",
           "#ab63fa",
           "#FFA15A"
          ]
         },
         "name": "1990",
         "title": {
          "text": "GDP"
         },
         "type": "pie",
         "values": [
          8630,
          4550,
          4210,
          10600,
          12600,
          38600,
          51300,
          61200,
          7920,
          31200,
          23600,
          16700,
          30300,
          3110,
          6090
         ]
        },
        {
         "domain": {
          "x": [
           0.35555555555555557,
           0.6444444444444445
          ],
          "y": [
           0,
           1
          ]
         },
         "labels": [
          "Iran",
          "Iraq",
          "Yemen",
          "Syria",
          "Turkey",
          "Bahrain",
          "United Arab Emirates",
          "Qatar",
          "Jordan",
          "Kuwait",
          "Israel",
          "Saudi Arabia",
          "Oman",
          "Palestine",
          "Egypt"
         ],
         "legendgroup": "1990",
         "marker": {
          "colors": [
           "#636efa",
           "#EF553B",
           "#00cc96",
           "#ab63fa",
           "#FFA15A",
           "#19d3f3",
           "#FF6692",
           "#B6E880",
           "#FF97FF",
           "#FECB52",
           "#636efa",
           "#EF553B",
           "#00cc96",
           "#ab63fa",
           "#FFA15A"
          ]
         },
         "name": "1990",
         "title": {
          "text": "Life Expectancy"
         },
         "type": "pie",
         "values": [
          66.7,
          67,
          59.1,
          68.8,
          68.8,
          69.5,
          68.7,
          69.9,
          71.2,
          74.9,
          77.3,
          68.1,
          66.8,
          69.1,
          63.9
         ]
        },
        {
         "domain": {
          "x": [
           0.6711111111111111,
           0.96
          ],
          "y": [
           0,
           1
          ]
         },
         "labels": [
          "Iran",
          "Iraq",
          "Yemen",
          "Syria",
          "Turkey",
          "Bahrain",
          "United Arab Emirates",
          "Qatar",
          "Jordan",
          "Kuwait",
          "Israel",
          "Saudi Arabia",
          "Oman",
          "Palestine",
          "Egypt"
         ],
         "legendgroup": "1990",
         "marker": {
          "colors": [
           "#636efa",
           "#EF553B",
           "#00cc96",
           "#ab63fa",
           "#FFA15A",
           "#19d3f3",
           "#FF6692",
           "#B6E880",
           "#FF97FF",
           "#FECB52",
           "#636efa",
           "#EF553B",
           "#00cc96",
           "#ab63fa",
           "#FFA15A"
          ]
         },
         "name": "1990",
         "title": {
          "text": "Population"
         },
         "type": "pie",
         "values": [
          56400000,
          17400000,
          11700000,
          12400000,
          53900000,
          496000,
          1830000,
          476000,
          3570000,
          2100000,
          4450000,
          16200000,
          1810000,
          2100000,
          56100000
         ]
        }
       ],
       "frames": [
        {
         "data": [
          {
           "domain": {
            "x": [
             0,
             0.2888888888888889
            ],
            "y": [
             0,
             1
            ]
           },
           "labels": [
            "Iran",
            "Iraq",
            "Yemen",
            "Syria",
            "Turkey",
            "Bahrain",
            "United Arab Emirates",
            "Qatar",
            "Jordan",
            "Kuwait",
            "Israel",
            "Saudi Arabia",
            "Oman",
            "Palestine",
            "Egypt"
           ],
           "legendgroup": "1990",
           "marker": {
            "colors": [
             "#636efa",
             "#EF553B",
             "#00cc96",
             "#ab63fa",
             "#FFA15A",
             "#19d3f3",
             "#FF6692",
             "#B6E880",
             "#FF97FF",
             "#FECB52",
             "#636efa",
             "#EF553B",
             "#00cc96",
             "#ab63fa",
             "#FFA15A"
            ]
           },
           "name": "1990",
           "title": {
            "text": "GDP"
           },
           "type": "pie",
           "values": [
            8630,
            4550,
            4210,
            10600,
            12600,
            38600,
            51300,
            61200,
            7920,
            31200,
            23600,
            16700,
            30300,
            3110,
            6090
           ]
          },
          {
           "domain": {
            "x": [
             0.35555555555555557,
             0.6444444444444445
            ],
            "y": [
             0,
             1
            ]
           },
           "labels": [
            "Iran",
            "Iraq",
            "Yemen",
            "Syria",
            "Turkey",
            "Bahrain",
            "United Arab Emirates",
            "Qatar",
            "Jordan",
            "Kuwait",
            "Israel",
            "Saudi Arabia",
            "Oman",
            "Palestine",
            "Egypt"
           ],
           "legendgroup": "1990",
           "marker": {
            "colors": [
             "#636efa",
             "#EF553B",
             "#00cc96",
             "#ab63fa",
             "#FFA15A",
             "#19d3f3",
             "#FF6692",
             "#B6E880",
             "#FF97FF",
             "#FECB52",
             "#636efa",
             "#EF553B",
             "#00cc96",
             "#ab63fa",
             "#FFA15A"
            ]
           },
           "name": "1990",
           "title": {
            "text": "Life Expectancy"
           },
           "type": "pie",
           "values": [
            66.7,
            67,
            59.1,
            68.8,
            68.8,
            69.5,
            68.7,
            69.9,
            71.2,
            74.9,
            77.3,
            68.1,
            66.8,
            69.1,
            63.9
           ]
          },
          {
           "domain": {
            "x": [
             0.6711111111111111,
             0.96
            ],
            "y": [
             0,
             1
            ]
           },
           "labels": [
            "Iran",
            "Iraq",
            "Yemen",
            "Syria",
            "Turkey",
            "Bahrain",
            "United Arab Emirates",
            "Qatar",
            "Jordan",
            "Kuwait",
            "Israel",
            "Saudi Arabia",
            "Oman",
            "Palestine",
            "Egypt"
           ],
           "legendgroup": "1990",
           "marker": {
            "colors": [
             "#636efa",
             "#EF553B",
             "#00cc96",
             "#ab63fa",
             "#FFA15A",
             "#19d3f3",
             "#FF6692",
             "#B6E880",
             "#FF97FF",
             "#FECB52",
             "#636efa",
             "#EF553B",
             "#00cc96",
             "#ab63fa",
             "#FFA15A"
            ]
           },
           "name": "1990",
           "title": {
            "text": "Population"
           },
           "type": "pie",
           "values": [
            56400000,
            17400000,
            11700000,
            12400000,
            53900000,
            496000,
            1830000,
            476000,
            3570000,
            2100000,
            4450000,
            16200000,
            1810000,
            2100000,
            56100000
           ]
          }
         ],
         "name": "1990"
        },
        {
         "data": [
          {
           "domain": {
            "x": [
             0,
             0.2888888888888889
            ],
            "y": [
             0,
             1
            ]
           },
           "labels": [
            "Iran",
            "Iraq",
            "Yemen",
            "Syria",
            "Turkey",
            "Bahrain",
            "United Arab Emirates",
            "Qatar",
            "Jordan",
            "Kuwait",
            "Israel",
            "Saudi Arabia",
            "Oman",
            "Palestine",
            "Egypt"
           ],
           "legendgroup": "1991",
           "marker": {
            "colors": [
             "#636efa",
             "#EF553B",
             "#00cc96",
             "#ab63fa",
             "#FFA15A",
             "#19d3f3",
             "#FF6692",
             "#B6E880",
             "#FF97FF",
             "#FECB52",
             "#636efa",
             "#EF553B",
             "#00cc96",
             "#ab63fa",
             "#FFA15A"
            ]
           },
           "name": "1991",
           "title": {
            "text": "GDP"
           },
           "type": "pie",
           "values": [
            9480,
            1770,
            4260,
            11000,
            12500,
            41800,
            50500,
            58300,
            7640,
            18900,
            24000,
            19600,
            30800,
            2850,
            6020
           ]
          },
          {
           "domain": {
            "x": [
             0.35555555555555557,
             0.6444444444444445
            ],
            "y": [
             0,
             1
            ]
           },
           "labels": [
            "Iran",
            "Iraq",
            "Yemen",
            "Syria",
            "Turkey",
            "Bahrain",
            "United Arab Emirates",
            "Qatar",
            "Jordan",
            "Kuwait",
            "Israel",
            "Saudi Arabia",
            "Oman",
            "Palestine",
            "Egypt"
           ],
           "legendgroup": "1991",
           "marker": {
            "colors": [
             "#636efa",
             "#EF553B",
             "#00cc96",
             "#ab63fa",
             "#FFA15A",
             "#19d3f3",
             "#FF6692",
             "#B6E880",
             "#FF97FF",
             "#FECB52",
             "#636efa",
             "#EF553B",
             "#00cc96",
             "#ab63fa",
             "#FFA15A"
            ]
           },
           "name": "1991",
           "title": {
            "text": "Life Expectancy"
           },
           "type": "pie",
           "values": [
            68.9,
            67,
            59.5,
            68.8,
            69.3,
            69.5,
            68.7,
            69.8,
            71.4,
            72.2,
            77.2,
            68.5,
            67,
            69.4,
            64.5
           ]
          },
          {
           "domain": {
            "x": [
             0.6711111111111111,
             0.96
            ],
            "y": [
             0,
             1
            ]
           },
           "labels": [
            "Iran",
            "Iraq",
            "Yemen",
            "Syria",
            "Turkey",
            "Bahrain",
            "United Arab Emirates",
            "Qatar",
            "Jordan",
            "Kuwait",
            "Israel",
            "Saudi Arabia",
            "Oman",
            "Palestine",
            "Egypt"
           ],
           "legendgroup": "1991",
           "marker": {
            "colors": [
             "#636efa",
             "#EF553B",
             "#00cc96",
             "#ab63fa",
             "#FFA15A",
             "#19d3f3",
             "#FF6692",
             "#B6E880",
             "#FF97FF",
             "#FECB52",
             "#636efa",
             "#EF553B",
             "#00cc96",
             "#ab63fa",
             "#FFA15A"
            ]
           },
           "name": "1991",
           "title": {
            "text": "Population"
           },
           "type": "pie",
           "values": [
            57700000,
            17900000,
            12300000,
            12800000,
            54800000,
            510000,
            1940000,
            487000,
            3760000,
            2029999.9999999998,
            4590000,
            16800000,
            1890000,
            2190000,
            57400000
           ]
          }
         ],
         "name": "1991"
        },
        {
         "data": [
          {
           "domain": {
            "x": [
             0,
             0.2888888888888889
            ],
            "y": [
             0,
             1
            ]
           },
           "labels": [
            "Iran",
            "Iraq",
            "Yemen",
            "Syria",
            "Turkey",
            "Bahrain",
            "United Arab Emirates",
            "Qatar",
            "Jordan",
            "Kuwait",
            "Israel",
            "Saudi Arabia",
            "Oman",
            "Palestine",
            "Egypt"
           ],
           "legendgroup": "1992",
           "marker": {
            "colors": [
             "#636efa",
             "#EF553B",
             "#00cc96",
             "#ab63fa",
             "#FFA15A",
             "#19d3f3",
             "#FF6692",
             "#B6E880",
             "#FF97FF",
             "#FECB52",
             "#636efa",
             "#EF553B",
             "#00cc96",
             "#ab63fa",
             "#FFA15A"
            ]
           },
           "name": "1992",
           "title": {
            "text": "GDP"
           },
           "type": "pie",
           "values": [
            9570,
            2380,
            4370,
            11600,
            12900,
            43400,
            50500,
            63400,
            8250,
            36600,
            24900,
            20800,
            31900,
            3380,
            6150
           ]
          },
          {
           "domain": {
            "x": [
             0.35555555555555557,
             0.6444444444444445
            ],
            "y": [
             0,
             1
            ]
           },
           "labels": [
            "Iran",
            "Iraq",
            "Yemen",
            "Syria",
            "Turkey",
            "Bahrain",
            "United Arab Emirates",
            "Qatar",
            "Jordan",
            "Kuwait",
            "Israel",
            "Saudi Arabia",
            "Oman",
            "Palestine",
            "Egypt"
           ],
           "legendgroup": "1992",
           "marker": {
            "colors": [
             "#636efa",
             "#EF553B",
             "#00cc96",
             "#ab63fa",
             "#FFA15A",
             "#19d3f3",
             "#FF6692",
             "#B6E880",
             "#FF97FF",
             "#FECB52",
             "#636efa",
             "#EF553B",
             "#00cc96",
             "#ab63fa",
             "#FFA15A"
            ]
           },
           "name": "1992",
           "title": {
            "text": "Life Expectancy"
           },
           "type": "pie",
           "values": [
            69.3,
            67,
            59.9,
            68.6,
            69.6,
            69.8,
            68.8,
            69.8,
            71.8,
            79.5,
            77.1,
            68.8,
            67.3,
            69.6,
            65.2
           ]
          },
          {
           "domain": {
            "x": [
             0.6711111111111111,
             0.96
            ],
            "y": [
             0,
             1
            ]
           },
           "labels": [
            "Iran",
            "Iraq",
            "Yemen",
            "Syria",
            "Turkey",
            "Bahrain",
            "United Arab Emirates",
            "Qatar",
            "Jordan",
            "Kuwait",
            "Israel",
            "Saudi Arabia",
            "Oman",
            "Palestine",
            "Egypt"
           ],
           "legendgroup": "1992",
           "marker": {
            "colors": [
             "#636efa",
             "#EF553B",
             "#00cc96",
             "#ab63fa",
             "#FFA15A",
             "#19d3f3",
             "#FF6692",
             "#B6E880",
             "#FF97FF",
             "#FECB52",
             "#636efa",
             "#EF553B",
             "#00cc96",
             "#ab63fa",
             "#FFA15A"
            ]
           },
           "name": "1992",
           "title": {
            "text": "Population"
           },
           "type": "pie",
           "values": [
            58800000,
            18400000,
            13000000,
            13200000,
            55700000,
            523000,
            2049999.9999999998,
            495000,
            3980000,
            1910000,
            4750000,
            17300000,
            1980000,
            2290000,
            58700000
           ]
          }
         ],
         "name": "1992"
        },
        {
         "data": [
          {
           "domain": {
            "x": [
             0,
             0.2888888888888889
            ],
            "y": [
             0,
             1
            ]
           },
           "labels": [
            "Iran",
            "Iraq",
            "Yemen",
            "Syria",
            "Turkey",
            "Bahrain",
            "United Arab Emirates",
            "Qatar",
            "Jordan",
            "Kuwait",
            "Israel",
            "Saudi Arabia",
            "Oman",
            "Palestine",
            "Egypt"
           ],
           "legendgroup": "1993",
           "marker": {
            "colors": [
             "#636efa",
             "#EF553B",
             "#00cc96",
             "#ab63fa",
             "#FFA15A",
             "#19d3f3",
             "#FF6692",
             "#B6E880",
             "#FF97FF",
             "#FECB52",
             "#636efa",
             "#EF553B",
             "#00cc96",
             "#ab63fa",
             "#FFA15A"
            ]
           },
           "name": "1993",
           "title": {
            "text": "GDP"
           },
           "type": "pie",
           "values": [
            9510,
            2480,
            4320,
            11700,
            13700,
            47800,
            50100,
            61300,
            8170,
            52700,
            25300,
            21000,
            32400,
            3570,
            6200
           ]
          },
          {
           "domain": {
            "x": [
             0.35555555555555557,
             0.6444444444444445
            ],
            "y": [
             0,
             1
            ]
           },
           "labels": [
            "Iran",
            "Iraq",
            "Yemen",
            "Syria",
            "Turkey",
            "Bahrain",
            "United Arab Emirates",
            "Qatar",
            "Jordan",
            "Kuwait",
            "Israel",
            "Saudi Arabia",
            "Oman",
            "Palestine",
            "Egypt"
           ],
           "legendgroup": "1993",
           "marker": {
            "colors": [
             "#636efa",
             "#EF553B",
             "#00cc96",
             "#ab63fa",
             "#FFA15A",
             "#19d3f3",
             "#FF6692",
             "#B6E880",
             "#FF97FF",
             "#FECB52",
             "#636efa",
             "#EF553B",
             "#00cc96",
             "#ab63fa",
             "#FFA15A"
            ]
           },
           "name": "1993",
           "title": {
            "text": "Life Expectancy"
           },
           "type": "pie",
           "values": [
            69.6,
            67.1,
            60.3,
            69.3,
            70.1,
            70.1,
            68.8,
            69.9,
            71.6,
            79.5,
            77.5,
            69,
            67.5,
            70,
            65.4
           ]
          },
          {
           "domain": {
            "x": [
             0.6711111111111111,
             0.96
            ],
            "y": [
             0,
             1
            ]
           },
           "labels": [
            "Iran",
            "Iraq",
            "Yemen",
            "Syria",
            "Turkey",
            "Bahrain",
            "United Arab Emirates",
            "Qatar",
            "Jordan",
            "Kuwait",
            "Israel",
            "Saudi Arabia",
            "Oman",
            "Palestine",
            "Egypt"
           ],
           "legendgroup": "1993",
           "marker": {
            "colors": [
             "#636efa",
             "#EF553B",
             "#00cc96",
             "#ab63fa",
             "#FFA15A",
             "#19d3f3",
             "#FF6692",
             "#B6E880",
             "#FF97FF",
             "#FECB52",
             "#636efa",
             "#EF553B",
             "#00cc96",
             "#ab63fa",
             "#FFA15A"
            ]
           },
           "name": "1993",
           "title": {
            "text": "Population"
           },
           "type": "pie",
           "values": [
            59700000,
            19000000,
            13600000,
            13600000,
            56700000,
            536000,
            2170000,
            501000,
            4200000,
            1770000,
            4930000,
            17800000,
            2069999.9999999998,
            2390000,
            59900000
           ]
          }
         ],
         "name": "1993"
        },
        {
         "data": [
          {
           "domain": {
            "x": [
             0,
             0.2888888888888889
            ],
            "y": [
             0,
             1
            ]
           },
           "labels": [
            "Iran",
            "Iraq",
            "Yemen",
            "Syria",
            "Turkey",
            "Bahrain",
            "United Arab Emirates",
            "Qatar",
            "Jordan",
            "Kuwait",
            "Israel",
            "Saudi Arabia",
            "Oman",
            "Palestine",
            "Egypt"
           ],
           "legendgroup": "1994",
           "marker": {
            "colors": [
             "#636efa",
             "#EF553B",
             "#00cc96",
             "#ab63fa",
             "#FFA15A",
             "#19d3f3",
             "#FF6692",
             "#B6E880",
             "#FF97FF",
             "#FECB52",
             "#636efa",
             "#EF553B",
             "#00cc96",
             "#ab63fa",
             "#FFA15A"
            ]
           },
           "name": "1994",
           "title": {
            "text": "GDP"
           },
           "type": "pie",
           "values": [
            9240,
            2450,
            4390,
            11600,
            12800,
            46500,
            53100,
            61000,
            8170,
            61000,
            26500,
            21700,
            32400,
            3950,
            6320
           ]
          },
          {
           "domain": {
            "x": [
             0.35555555555555557,
             0.6444444444444445
            ],
            "y": [
             0,
             1
            ]
           },
           "labels": [
            "Iran",
            "Iraq",
            "Yemen",
            "Syria",
            "Turkey",
            "Bahrain",
            "United Arab Emirates",
            "Qatar",
            "Jordan",
            "Kuwait",
            "Israel",
            "Saudi Arabia",
            "Oman",
            "Palestine",
            "Egypt"
           ],
           "legendgroup": "1994",
           "marker": {
            "colors": [
             "#636efa",
             "#EF553B",
             "#00cc96",
             "#ab63fa",
             "#FFA15A",
             "#19d3f3",
             "#FF6692",
             "#B6E880",
             "#FF97FF",
             "#FECB52",
             "#636efa",
             "#EF553B",
             "#00cc96",
             "#ab63fa",
             "#FFA15A"
            ]
           },
           "name": "1994",
           "title": {
            "text": "Life Expectancy"
           },
           "type": "pie",
           "values": [
            70,
            67.1,
            60.5,
            69.5,
            70.4,
            70.3,
            68.7,
            71,
            71.7,
            78.7,
            77.7,
            69.2,
            67.7,
            70.6,
            65.7
           ]
          },
          {
           "domain": {
            "x": [
             0.6711111111111111,
             0.96
            ],
            "y": [
             0,
             1
            ]
           },
           "labels": [
            "Iran",
            "Iraq",
            "Yemen",
            "Syria",
            "Turkey",
            "Bahrain",
            "United Arab Emirates",
            "Qatar",
            "Jordan",
            "Kuwait",
            "Israel",
            "Saudi Arabia",
            "Oman",
            "Palestine",
            "Egypt"
           ],
           "legendgroup": "1994",
           "marker": {
            "colors": [
             "#636efa",
             "#EF553B",
             "#00cc96",
             "#ab63fa",
             "#FFA15A",
             "#19d3f3",
             "#FF6692",
             "#B6E880",
             "#FF97FF",
             "#FECB52",
             "#636efa",
             "#EF553B",
             "#00cc96",
             "#ab63fa",
             "#FFA15A"
            ]
           },
           "name": "1994",
           "title": {
            "text": "Population"
           },
           "type": "pie",
           "values": [
            60600000,
            19500000,
            14300000,
            14000000,
            57600000,
            550000,
            2290000,
            507000,
            4410000,
            1660000,
            5110000,
            18200000,
            2150000,
            2500000,
            61100000
           ]
          }
         ],
         "name": "1994"
        },
        {
         "data": [
          {
           "domain": {
            "x": [
             0,
             0.2888888888888889
            ],
            "y": [
             0,
             1
            ]
           },
           "labels": [
            "Iran",
            "Iraq",
            "Yemen",
            "Syria",
            "Turkey",
            "Bahrain",
            "United Arab Emirates",
            "Qatar",
            "Jordan",
            "Kuwait",
            "Israel",
            "Saudi Arabia",
            "Oman",
            "Palestine",
            "Egypt"
           ],
           "legendgroup": "1995",
           "marker": {
            "colors": [
             "#636efa",
             "#EF553B",
             "#00cc96",
             "#ab63fa",
             "#FFA15A",
             "#19d3f3",
             "#FF6692",
             "#B6E880",
             "#FF97FF",
             "#FECB52",
             "#636efa",
             "#EF553B",
             "#00cc96",
             "#ab63fa",
             "#FFA15A"
            ]
           },
           "name": "1995",
           "title": {
            "text": "GDP"
           },
           "type": "pie",
           "values": [
            9320,
            2320,
            4440,
            11500,
            13600,
            47200,
            56200,
            61200,
            8330,
            63700,
            26200,
            22300,
            33200,
            4050,
            6480
           ]
          },
          {
           "domain": {
            "x": [
             0.35555555555555557,
             0.6444444444444445
            ],
            "y": [
             0,
             1
            ]
           },
           "labels": [
            "Iran",
            "Iraq",
            "Yemen",
            "Syria",
            "Turkey",
            "Bahrain",
            "United Arab Emirates",
            "Qatar",
            "Jordan",
            "Kuwait",
            "Israel",
            "Saudi Arabia",
            "Oman",
            "Palestine",
            "Egypt"
           ],
           "legendgroup": "1995",
           "marker": {
            "colors": [
             "#636efa",
             "#EF553B",
             "#00cc96",
             "#ab63fa",
             "#FFA15A",
             "#19d3f3",
             "#FF6692",
             "#B6E880",
             "#FF97FF",
             "#FECB52",
             "#636efa",
             "#EF553B",
             "#00cc96",
             "#ab63fa",
             "#FFA15A"
            ]
           },
           "name": "1995",
           "title": {
            "text": "Life Expectancy"
           },
           "type": "pie",
           "values": [
            70.4,
            67.2,
            61.1,
            69.8,
            70.8,
            70.5,
            68.8,
            71.8,
            71.8,
            78.3,
            77.8,
            69.4,
            67.9,
            70.9,
            66.4
           ]
          },
          {
           "domain": {
            "x": [
             0.6711111111111111,
             0.96
            ],
            "y": [
             0,
             1
            ]
           },
           "labels": [
            "Iran",
            "Iraq",
            "Yemen",
            "Syria",
            "Turkey",
            "Bahrain",
            "United Arab Emirates",
            "Qatar",
            "Jordan",
            "Kuwait",
            "Israel",
            "Saudi Arabia",
            "Oman",
            "Palestine",
            "Egypt"
           ],
           "legendgroup": "1995",
           "marker": {
            "colors": [
             "#636efa",
             "#EF553B",
             "#00cc96",
             "#ab63fa",
             "#FFA15A",
             "#19d3f3",
             "#FF6692",
             "#B6E880",
             "#FF97FF",
             "#FECB52",
             "#636efa",
             "#EF553B",
             "#00cc96",
             "#ab63fa",
             "#FFA15A"
            ]
           },
           "name": "1995",
           "title": {
            "text": "Population"
           },
           "type": "pie",
           "values": [
            61400000,
            20100000,
            14900000,
            14300000,
            58500000,
            564000,
            2420000,
            513000,
            4590000,
            1610000,
            5270000,
            18600000,
            2200000,
            2620000,
            62300000
           ]
          }
         ],
         "name": "1995"
        },
        {
         "data": [
          {
           "domain": {
            "x": [
             0,
             0.2888888888888889
            ],
            "y": [
             0,
             1
            ]
           },
           "labels": [
            "Iran",
            "Iraq",
            "Yemen",
            "Syria",
            "Turkey",
            "Bahrain",
            "United Arab Emirates",
            "Qatar",
            "Jordan",
            "Kuwait",
            "Israel",
            "Saudi Arabia",
            "Oman",
            "Palestine",
            "Egypt"
           ],
           "legendgroup": "1996",
           "marker": {
            "colors": [
             "#636efa",
             "#EF553B",
             "#00cc96",
             "#ab63fa",
             "#FFA15A",
             "#19d3f3",
             "#FF6692",
             "#B6E880",
             "#FF97FF",
             "#FECB52",
             "#636efa",
             "#EF553B",
             "#00cc96",
             "#ab63fa",
             "#FFA15A"
            ]
           },
           "name": "1996",
           "title": {
            "text": "GDP"
           },
           "type": "pie",
           "values": [
            9670,
            2720,
            4480,
            11100,
            14400,
            47800,
            58600,
            62300,
            8250,
            63300,
            27100,
            23600,
            33700,
            3920,
            6670
           ]
          },
          {
           "domain": {
            "x": [
             0.35555555555555557,
             0.6444444444444445
            ],
            "y": [
             0,
             1
            ]
           },
           "labels": [
            "Iran",
            "Iraq",
            "Yemen",
            "Syria",
            "Turkey",
            "Bahrain",
            "United Arab Emirates",
            "Qatar",
            "Jordan",
            "Kuwait",
            "Israel",
            "Saudi Arabia",
            "Oman",
            "Palestine",
            "Egypt"
           ],
           "legendgroup": "1996",
           "marker": {
            "colors": [
             "#636efa",
             "#EF553B",
             "#00cc96",
             "#ab63fa",
             "#FFA15A",
             "#19d3f3",
             "#FF6692",
             "#B6E880",
             "#FF97FF",
             "#FECB52",
             "#636efa",
             "#EF553B",
             "#00cc96",
             "#ab63fa",
             "#FFA15A"
            ]
           },
           "name": "1996",
           "title": {
            "text": "Life Expectancy"
           },
           "type": "pie",
           "values": [
            70.7,
            67.3,
            61.5,
            70.1,
            71.5,
            70.7,
            68.9,
            70.6,
            71.8,
            78.8,
            78,
            69.6,
            68.1,
            71.2,
            66.9
           ]
          },
          {
           "domain": {
            "x": [
             0.6711111111111111,
             0.96
            ],
            "y": [
             0,
             1
            ]
           },
           "labels": [
            "Iran",
            "Iraq",
            "Yemen",
            "Syria",
            "Turkey",
            "Bahrain",
            "United Arab Emirates",
            "Qatar",
            "Jordan",
            "Kuwait",
            "Israel",
            "Saudi Arabia",
            "Oman",
            "Palestine",
            "Egypt"
           ],
           "legendgroup": "1996",
           "marker": {
            "colors": [
             "#636efa",
             "#EF553B",
             "#00cc96",
             "#ab63fa",
             "#FFA15A",
             "#19d3f3",
             "#FF6692",
             "#B6E880",
             "#FF97FF",
             "#FECB52",
             "#636efa",
             "#EF553B",
             "#00cc96",
             "#ab63fa",
             "#FFA15A"
            ]
           },
           "name": "1996",
           "title": {
            "text": "Population"
           },
           "type": "pie",
           "values": [
            62300000,
            20800000,
            15500000,
            14800000,
            59400000,
            579000,
            2540000,
            523000,
            4730000,
            1630000,
            5420000,
            19000000,
            2240000,
            2740000,
            63600000
           ]
          }
         ],
         "name": "1996"
        },
        {
         "data": [
          {
           "domain": {
            "x": [
             0,
             0.2888888888888889
            ],
            "y": [
             0,
             1
            ]
           },
           "labels": [
            "Iran",
            "Iraq",
            "Yemen",
            "Syria",
            "Turkey",
            "Bahrain",
            "United Arab Emirates",
            "Qatar",
            "Jordan",
            "Kuwait",
            "Israel",
            "Saudi Arabia",
            "Oman",
            "Palestine",
            "Egypt"
           ],
           "legendgroup": "1997",
           "marker": {
            "colors": [
             "#636efa",
             "#EF553B",
             "#00cc96",
             "#ab63fa",
             "#FFA15A",
             "#19d3f3",
             "#FF6692",
             "#B6E880",
             "#FF97FF",
             "#FECB52",
             "#636efa",
             "#EF553B",
             "#00cc96",
             "#ab63fa",
             "#FFA15A"
            ]
           },
           "name": "1997",
           "title": {
            "text": "GDP"
           },
           "type": "pie",
           "values": [
            9590,
            2720,
            4570,
            10300,
            15300,
            48000,
            62800,
            78400,
            8320,
            61700,
            27500,
            24500,
            35500,
            4300,
            6900
           ]
          },
          {
           "domain": {
            "x": [
             0.35555555555555557,
             0.6444444444444445
            ],
            "y": [
             0,
             1
            ]
           },
           "labels": [
            "Iran",
            "Iraq",
            "Yemen",
            "Syria",
            "Turkey",
            "Bahrain",
            "United Arab Emirates",
            "Qatar",
            "Jordan",
            "Kuwait",
            "Israel",
            "Saudi Arabia",
            "Oman",
            "Palestine",
            "Egypt"
           ],
           "legendgroup": "1997",
           "marker": {
            "colors": [
             "#636efa",
             "#EF553B",
             "#00cc96",
             "#ab63fa",
             "#FFA15A",
             "#19d3f3",
             "#FF6692",
             "#B6E880",
             "#FF97FF",
             "#FECB52",
             "#636efa",
             "#EF553B",
             "#00cc96",
             "#ab63fa",
             "#FFA15A"
            ]
           },
           "name": "1997",
           "title": {
            "text": "Life Expectancy"
           },
           "type": "pie",
           "values": [
            70.9,
            67.5,
            62,
            70.4,
            72,
            70.9,
            69,
            70.1,
            72,
            77.8,
            78.2,
            69.8,
            68.4,
            71.4,
            67.2
           ]
          },
          {
           "domain": {
            "x": [
             0.6711111111111111,
             0.96
            ],
            "y": [
             0,
             1
            ]
           },
           "labels": [
            "Iran",
            "Iraq",
            "Yemen",
            "Syria",
            "Turkey",
            "Bahrain",
            "United Arab Emirates",
            "Qatar",
            "Jordan",
            "Kuwait",
            "Israel",
            "Saudi Arabia",
            "Oman",
            "Palestine",
            "Egypt"
           ],
           "legendgroup": "1997",
           "marker": {
            "colors": [
             "#636efa",
             "#EF553B",
             "#00cc96",
             "#ab63fa",
             "#FFA15A",
             "#19d3f3",
             "#FF6692",
             "#B6E880",
             "#FF97FF",
             "#FECB52",
             "#636efa",
             "#EF553B",
             "#00cc96",
             "#ab63fa",
             "#FFA15A"
            ]
           },
           "name": "1997",
           "title": {
            "text": "Population"
           },
           "type": "pie",
           "values": [
            63100000,
            21400000,
            16000000,
            15200000,
            60400000,
            595000,
            2670000,
            535000,
            4850000,
            1710000,
            5570000,
            19400000,
            2250000,
            2870000,
            64900000.00000001
           ]
          }
         ],
         "name": "1997"
        },
        {
         "data": [
          {
           "domain": {
            "x": [
             0,
             0.2888888888888889
            ],
            "y": [
             0,
             1
            ]
           },
           "labels": [
            "Iran",
            "Iraq",
            "Yemen",
            "Syria",
            "Turkey",
            "Bahrain",
            "United Arab Emirates",
            "Qatar",
            "Jordan",
            "Kuwait",
            "Israel",
            "Saudi Arabia",
            "Oman",
            "Palestine",
            "Egypt"
           ],
           "legendgroup": "1998",
           "marker": {
            "colors": [
             "#636efa",
             "#EF553B",
             "#00cc96",
             "#ab63fa",
             "#FFA15A",
             "#19d3f3",
             "#FF6692",
             "#B6E880",
             "#FF97FF",
             "#FECB52",
             "#636efa",
             "#EF553B",
             "#00cc96",
             "#ab63fa",
             "#FFA15A"
            ]
           },
           "name": "1998",
           "title": {
            "text": "GDP"
           },
           "type": "pie",
           "values": [
            9670,
            3250,
            4700,
            10200,
            15400,
            48700,
            62800,
            83900,
            8400,
            59700,
            28000,
            25900,
            36400,
            4790,
            7140
           ]
          },
          {
           "domain": {
            "x": [
             0.35555555555555557,
             0.6444444444444445
            ],
            "y": [
             0,
             1
            ]
           },
           "labels": [
            "Iran",
            "Iraq",
            "Yemen",
            "Syria",
            "Turkey",
            "Bahrain",
            "United Arab Emirates",
            "Qatar",
            "Jordan",
            "Kuwait",
            "Israel",
            "Saudi Arabia",
            "Oman",
            "Palestine",
            "Egypt"
           ],
           "legendgroup": "1998",
           "marker": {
            "colors": [
             "#636efa",
             "#EF553B",
             "#00cc96",
             "#ab63fa",
             "#FFA15A",
             "#19d3f3",
             "#FF6692",
             "#B6E880",
             "#FF97FF",
             "#FECB52",
             "#636efa",
             "#EF553B",
             "#00cc96",
             "#ab63fa",
             "#FFA15A"
            ]
           },
           "name": "1998",
           "title": {
            "text": "Life Expectancy"
           },
           "type": "pie",
           "values": [
            71.3,
            67.9,
            62.5,
            70.4,
            72.7,
            71,
            69.2,
            70.2,
            72.3,
            78.5,
            78.4,
            70,
            68.6,
            71.7,
            67.5
           ]
          },
          {
           "domain": {
            "x": [
             0.6711111111111111,
             0.96
            ],
            "y": [
             0,
             1
            ]
           },
           "labels": [
            "Iran",
            "Iraq",
            "Yemen",
            "Syria",
            "Turkey",
            "Bahrain",
            "United Arab Emirates",
            "Qatar",
            "Jordan",
            "Kuwait",
            "Israel",
            "Saudi Arabia",
            "Oman",
            "Palestine",
            "Egypt"
           ],
           "legendgroup": "1998",
           "marker": {
            "colors": [
             "#636efa",
             "#EF553B",
             "#00cc96",
             "#ab63fa",
             "#FFA15A",
             "#19d3f3",
             "#FF6692",
             "#B6E880",
             "#FF97FF",
             "#FECB52",
             "#636efa",
             "#EF553B",
             "#00cc96",
             "#ab63fa",
             "#FFA15A"
            ]
           },
           "name": "1998",
           "title": {
            "text": "Population"
           },
           "type": "pie",
           "values": [
            64000000,
            22100000,
            16500000,
            15600000,
            61300000,
            614000,
            2810000,
            552000,
            4940000,
            1830000,
            5700000,
            19800000,
            2250000,
            3000000,
            66200000
           ]
          }
         ],
         "name": "1998"
        },
        {
         "data": [
          {
           "domain": {
            "x": [
             0,
             0.2888888888888889
            ],
            "y": [
             0,
             1
            ]
           },
           "labels": [
            "Iran",
            "Iraq",
            "Yemen",
            "Syria",
            "Turkey",
            "Bahrain",
            "United Arab Emirates",
            "Qatar",
            "Jordan",
            "Kuwait",
            "Israel",
            "Saudi Arabia",
            "Oman",
            "Palestine",
            "Egypt"
           ],
           "legendgroup": "1999",
           "marker": {
            "colors": [
             "#636efa",
             "#EF553B",
             "#00cc96",
             "#ab63fa",
             "#FFA15A",
             "#19d3f3",
             "#FF6692",
             "#B6E880",
             "#FF97FF",
             "#FECB52",
             "#636efa",
             "#EF553B",
             "#00cc96",
             "#ab63fa",
             "#FFA15A"
            ]
           },
           "name": "1999",
           "title": {
            "text": "GDP"
           },
           "type": "pie",
           "values": [
            9640,
            3670,
            4740,
            9250,
            14700,
            49000,
            64599.99999999999,
            83900,
            8540,
            55000,
            28200,
            25600,
            36500,
            5050,
            7420
           ]
          },
          {
           "domain": {
            "x": [
             0.35555555555555557,
             0.6444444444444445
            ],
            "y": [
             0,
             1
            ]
           },
           "labels": [
            "Iran",
            "Iraq",
            "Yemen",
            "Syria",
            "Turkey",
            "Bahrain",
            "United Arab Emirates",
            "Qatar",
            "Jordan",
            "Kuwait",
            "Israel",
            "Saudi Arabia",
            "Oman",
            "Palestine",
            "Egypt"
           ],
           "legendgroup": "1999",
           "marker": {
            "colors": [
             "#636efa",
             "#EF553B",
             "#00cc96",
             "#ab63fa",
             "#FFA15A",
             "#19d3f3",
             "#FF6692",
             "#B6E880",
             "#FF97FF",
             "#FECB52",
             "#636efa",
             "#EF553B",
             "#00cc96",
             "#ab63fa",
             "#FFA15A"
            ]
           },
           "name": "1999",
           "title": {
            "text": "Life Expectancy"
           },
           "type": "pie",
           "values": [
            71.6,
            68.3,
            63,
            70.9,
            72.8,
            71.2,
            69.2,
            70.6,
            72.5,
            77.8,
            78.7,
            70.2,
            68.8,
            71.9,
            67.9
           ]
          },
          {
           "domain": {
            "x": [
             0.6711111111111111,
             0.96
            ],
            "y": [
             0,
             1
            ]
           },
           "labels": [
            "Iran",
            "Iraq",
            "Yemen",
            "Syria",
            "Turkey",
            "Bahrain",
            "United Arab Emirates",
            "Qatar",
            "Jordan",
            "Kuwait",
            "Israel",
            "Saudi Arabia",
            "Oman",
            "Palestine",
            "Egypt"
           ],
           "legendgroup": "1999",
           "marker": {
            "colors": [
             "#636efa",
             "#EF553B",
             "#00cc96",
             "#ab63fa",
             "#FFA15A",
             "#19d3f3",
             "#FF6692",
             "#B6E880",
             "#FF97FF",
             "#FECB52",
             "#636efa",
             "#EF553B",
             "#00cc96",
             "#ab63fa",
             "#FFA15A"
            ]
           },
           "name": "1999",
           "title": {
            "text": "Population"
           },
           "type": "pie",
           "values": [
            64800000,
            22800000,
            16900000,
            16000000,
            62300000,
            637000,
            2970000,
            570000,
            5030000,
            1950000,
            5820000,
            20200000,
            2250000,
            3120000,
            67500000
           ]
          }
         ],
         "name": "1999"
        },
        {
         "data": [
          {
           "domain": {
            "x": [
             0,
             0.2888888888888889
            ],
            "y": [
             0,
             1
            ]
           },
           "labels": [
            "Iran",
            "Iraq",
            "Yemen",
            "Syria",
            "Turkey",
            "Bahrain",
            "United Arab Emirates",
            "Qatar",
            "Jordan",
            "Kuwait",
            "Israel",
            "Saudi Arabia",
            "Oman",
            "Palestine",
            "Egypt"
           ],
           "legendgroup": "2000",
           "marker": {
            "colors": [
             "#636efa",
             "#EF553B",
             "#00cc96",
             "#ab63fa",
             "#FFA15A",
             "#19d3f3",
             "#FF6692",
             "#B6E880",
             "#FF97FF",
             "#FECB52",
             "#636efa",
             "#EF553B",
             "#00cc96",
             "#ab63fa",
             "#FFA15A"
            ]
           },
           "name": "2000",
           "title": {
            "text": "GDP"
           },
           "type": "pie",
           "values": [
            10100,
            4240,
            4900,
            8910,
            15400,
            49400,
            71600,
            86600,
            8740,
            55000,
            29900,
            27800,
            38600,
            4500,
            7750
           ]
          },
          {
           "domain": {
            "x": [
             0.35555555555555557,
             0.6444444444444445
            ],
            "y": [
             0,
             1
            ]
           },
           "labels": [
            "Iran",
            "Iraq",
            "Yemen",
            "Syria",
            "Turkey",
            "Bahrain",
            "United Arab Emirates",
            "Qatar",
            "Jordan",
            "Kuwait",
            "Israel",
            "Saudi Arabia",
            "Oman",
            "Palestine",
            "Egypt"
           ],
           "legendgroup": "2000",
           "marker": {
            "colors": [
             "#636efa",
             "#EF553B",
             "#00cc96",
             "#ab63fa",
             "#FFA15A",
             "#19d3f3",
             "#FF6692",
             "#B6E880",
             "#FF97FF",
             "#FECB52",
             "#636efa",
             "#EF553B",
             "#00cc96",
             "#ab63fa",
             "#FFA15A"
            ]
           },
           "name": "2000",
           "title": {
            "text": "Life Expectancy"
           },
           "type": "pie",
           "values": [
            71.9,
            68.6,
            63.5,
            71.6,
            74.7,
            71.7,
            69.1,
            71.2,
            72.9,
            78.1,
            78.9,
            70.4,
            69.1,
            70.2,
            68.5
           ]
          },
          {
           "domain": {
            "x": [
             0.6711111111111111,
             0.96
            ],
            "y": [
             0,
             1
            ]
           },
           "labels": [
            "Iran",
            "Iraq",
            "Yemen",
            "Syria",
            "Turkey",
            "Bahrain",
            "United Arab Emirates",
            "Qatar",
            "Jordan",
            "Kuwait",
            "Israel",
            "Saudi Arabia",
            "Oman",
            "Palestine",
            "Egypt"
           ],
           "legendgroup": "2000",
           "marker": {
            "colors": [
             "#636efa",
             "#EF553B",
             "#00cc96",
             "#ab63fa",
             "#FFA15A",
             "#19d3f3",
             "#FF6692",
             "#B6E880",
             "#FF97FF",
             "#FECB52",
             "#636efa",
             "#EF553B",
             "#00cc96",
             "#ab63fa",
             "#FFA15A"
            ]
           },
           "name": "2000",
           "title": {
            "text": "Population"
           },
           "type": "pie",
           "values": [
            65599999.99999999,
            23500000,
            17400000,
            16399999.999999998,
            63200000,
            665000,
            3130000,
            592000,
            5120000,
            2049999.9999999998,
            5950000,
            20700000,
            2270000,
            3220000,
            68800000
           ]
          }
         ],
         "name": "2000"
        },
        {
         "data": [
          {
           "domain": {
            "x": [
             0,
             0.2888888888888889
            ],
            "y": [
             0,
             1
            ]
           },
           "labels": [
            "Iran",
            "Iraq",
            "Yemen",
            "Syria",
            "Turkey",
            "Bahrain",
            "United Arab Emirates",
            "Qatar",
            "Jordan",
            "Kuwait",
            "Israel",
            "Saudi Arabia",
            "Oman",
            "Palestine",
            "Egypt"
           ],
           "legendgroup": "2001",
           "marker": {
            "colors": [
             "#636efa",
             "#EF553B",
             "#00cc96",
             "#ab63fa",
             "#FFA15A",
             "#19d3f3",
             "#FF6692",
             "#B6E880",
             "#FF97FF",
             "#FECB52",
             "#636efa",
             "#EF553B",
             "#00cc96",
             "#ab63fa",
             "#FFA15A"
            ]
           },
           "name": "2001",
           "title": {
            "text": "GDP"
           },
           "type": "pie",
           "values": [
            10000,
            4820,
            4940,
            8730,
            14300,
            48200,
            72200,
            86600,
            9040,
            53600,
            29300,
            28100,
            39900,
            3980,
            7870
           ]
          },
          {
           "domain": {
            "x": [
             0.35555555555555557,
             0.6444444444444445
            ],
            "y": [
             0,
             1
            ]
           },
           "labels": [
            "Iran",
            "Iraq",
            "Yemen",
            "Syria",
            "Turkey",
            "Bahrain",
            "United Arab Emirates",
            "Qatar",
            "Jordan",
            "Kuwait",
            "Israel",
            "Saudi Arabia",
            "Oman",
            "Palestine",
            "Egypt"
           ],
           "legendgroup": "2001",
           "marker": {
            "colors": [
             "#636efa",
             "#EF553B",
             "#00cc96",
             "#ab63fa",
             "#FFA15A",
             "#19d3f3",
             "#FF6692",
             "#B6E880",
             "#FF97FF",
             "#FECB52",
             "#636efa",
             "#EF553B",
             "#00cc96",
             "#ab63fa",
             "#FFA15A"
            ]
           },
           "name": "2001",
           "title": {
            "text": "Life Expectancy"
           },
           "type": "pie",
           "values": [
            72.2,
            69,
            64,
            72.4,
            75,
            73.4,
            69.2,
            71.5,
            73,
            79.2,
            79,
            70.6,
            69.5,
            69.6,
            68.3
           ]
          },
          {
           "domain": {
            "x": [
             0.6711111111111111,
             0.96
            ],
            "y": [
             0,
             1
            ]
           },
           "labels": [
            "Iran",
            "Iraq",
            "Yemen",
            "Syria",
            "Turkey",
            "Bahrain",
            "United Arab Emirates",
            "Qatar",
            "Jordan",
            "Kuwait",
            "Israel",
            "Saudi Arabia",
            "Oman",
            "Palestine",
            "Egypt"
           ],
           "legendgroup": "2001",
           "marker": {
            "colors": [
             "#636efa",
             "#EF553B",
             "#00cc96",
             "#ab63fa",
             "#FFA15A",
             "#19d3f3",
             "#FF6692",
             "#B6E880",
             "#FF97FF",
             "#FECB52",
             "#636efa",
             "#EF553B",
             "#00cc96",
             "#ab63fa",
             "#FFA15A"
            ]
           },
           "name": "2001",
           "title": {
            "text": "Population"
           },
           "type": "pie",
           "values": [
            66400000.00000001,
            24200000,
            17900000,
            16800000,
            64200000,
            698000,
            3300000,
            615000,
            5220000,
            2100000,
            6060000,
            21200000,
            2290000,
            3310000,
            70200000
           ]
          }
         ],
         "name": "2001"
        },
        {
         "data": [
          {
           "domain": {
            "x": [
             0,
             0.2888888888888889
            ],
            "y": [
             0,
             1
            ]
           },
           "labels": [
            "Iran",
            "Iraq",
            "Yemen",
            "Syria",
            "Turkey",
            "Bahrain",
            "United Arab Emirates",
            "Qatar",
            "Jordan",
            "Kuwait",
            "Israel",
            "Saudi Arabia",
            "Oman",
            "Palestine",
            "Egypt"
           ],
           "legendgroup": "2002",
           "marker": {
            "colors": [
             "#636efa",
             "#EF553B",
             "#00cc96",
             "#ab63fa",
             "#FFA15A",
             "#19d3f3",
             "#FF6692",
             "#B6E880",
             "#FF97FF",
             "#FECB52",
             "#636efa",
             "#EF553B",
             "#00cc96",
             "#ab63fa",
             "#FFA15A"
            ]
           },
           "name": "2002",
           "title": {
            "text": "GDP"
           },
           "type": "pie",
           "values": [
            10600,
            5380,
            4990,
            8750,
            15000,
            47300,
            73500,
            89100,
            9380,
            54300,
            28600,
            28000,
            38800,
            3400,
            7910
           ]
          },
          {
           "domain": {
            "x": [
             0.35555555555555557,
             0.6444444444444445
            ],
            "y": [
             0,
             1
            ]
           },
           "labels": [
            "Iran",
            "Iraq",
            "Yemen",
            "Syria",
            "Turkey",
            "Bahrain",
            "United Arab Emirates",
            "Qatar",
            "Jordan",
            "Kuwait",
            "Israel",
            "Saudi Arabia",
            "Oman",
            "Palestine",
            "Egypt"
           ],
           "legendgroup": "2002",
           "marker": {
            "colors": [
             "#636efa",
             "#EF553B",
             "#00cc96",
             "#ab63fa",
             "#FFA15A",
             "#19d3f3",
             "#FF6692",
             "#B6E880",
             "#FF97FF",
             "#FECB52",
             "#636efa",
             "#EF553B",
             "#00cc96",
             "#ab63fa",
             "#FFA15A"
            ]
           },
           "name": "2002",
           "title": {
            "text": "Life Expectancy"
           },
           "type": "pie",
           "values": [
            72.5,
            69.3,
            64.5,
            72.8,
            75.2,
            72.7,
            69.4,
            71.5,
            73.3,
            78.6,
            78.9,
            70.7,
            69.6,
            68.8,
            68.3
           ]
          },
          {
           "domain": {
            "x": [
             0.6711111111111111,
             0.96
            ],
            "y": [
             0,
             1
            ]
           },
           "labels": [
            "Iran",
            "Iraq",
            "Yemen",
            "Syria",
            "Turkey",
            "Bahrain",
            "United Arab Emirates",
            "Qatar",
            "Jordan",
            "Kuwait",
            "Israel",
            "Saudi Arabia",
            "Oman",
            "Palestine",
            "Egypt"
           ],
           "legendgroup": "2002",
           "marker": {
            "colors": [
             "#636efa",
             "#EF553B",
             "#00cc96",
             "#ab63fa",
             "#FFA15A",
             "#19d3f3",
             "#FF6692",
             "#B6E880",
             "#FF97FF",
             "#FECB52",
             "#636efa",
             "#EF553B",
             "#00cc96",
             "#ab63fa",
             "#FFA15A"
            ]
           },
           "name": "2002",
           "title": {
            "text": "Population"
           },
           "type": "pie",
           "values": [
            67300000,
            24900000,
            18400000,
            17100000,
            65099999.99999999,
            735000,
            3480000,
            641000,
            5320000,
            2140000,
            6170000,
            21800000,
            2330000,
            3380000,
            71500000
           ]
          }
         ],
         "name": "2002"
        },
        {
         "data": [
          {
           "domain": {
            "x": [
             0,
             0.2888888888888889
            ],
            "y": [
             0,
             1
            ]
           },
           "labels": [
            "Iran",
            "Iraq",
            "Yemen",
            "Syria",
            "Turkey",
            "Bahrain",
            "United Arab Emirates",
            "Qatar",
            "Jordan",
            "Kuwait",
            "Israel",
            "Saudi Arabia",
            "Oman",
            "Palestine",
            "Egypt"
           ],
           "legendgroup": "2003",
           "marker": {
            "colors": [
             "#636efa",
             "#EF553B",
             "#00cc96",
             "#ab63fa",
             "#FFA15A",
             "#19d3f3",
             "#FF6692",
             "#B6E880",
             "#FF97FF",
             "#FECB52",
             "#636efa",
             "#EF553B",
             "#00cc96",
             "#ab63fa",
             "#FFA15A"
            ]
           },
           "name": "2003",
           "title": {
            "text": "GDP"
           },
           "type": "pie",
           "values": [
            11400,
            4400,
            5030,
            8120,
            15700,
            47500,
            78600,
            86900,
            9560,
            63000,
            28500,
            31800,
            36900,
            3770,
            8010
           ]
          },
          {
           "domain": {
            "x": [
             0.35555555555555557,
             0.6444444444444445
            ],
            "y": [
             0,
             1
            ]
           },
           "labels": [
            "Iran",
            "Iraq",
            "Yemen",
            "Syria",
            "Turkey",
            "Bahrain",
            "United Arab Emirates",
            "Qatar",
            "Jordan",
            "Kuwait",
            "Israel",
            "Saudi Arabia",
            "Oman",
            "Palestine",
            "Egypt"
           ],
           "legendgroup": "2003",
           "marker": {
            "colors": [
             "#636efa",
             "#EF553B",
             "#00cc96",
             "#ab63fa",
             "#FFA15A",
             "#19d3f3",
             "#FF6692",
             "#B6E880",
             "#FF97FF",
             "#FECB52",
             "#636efa",
             "#EF553B",
             "#00cc96",
             "#ab63fa",
             "#FFA15A"
            ]
           },
           "name": "2003",
           "title": {
            "text": "Life Expectancy"
           },
           "type": "pie",
           "values": [
            71.8,
            68.1,
            64.9,
            73.8,
            75.7,
            72.2,
            69.3,
            71.7,
            73.8,
            78.9,
            79.5,
            70.9,
            69.8,
            70,
            68.2
           ]
          },
          {
           "domain": {
            "x": [
             0.6711111111111111,
             0.96
            ],
            "y": [
             0,
             1
            ]
           },
           "labels": [
            "Iran",
            "Iraq",
            "Yemen",
            "Syria",
            "Turkey",
            "Bahrain",
            "United Arab Emirates",
            "Qatar",
            "Jordan",
            "Kuwait",
            "Israel",
            "Saudi Arabia",
            "Oman",
            "Palestine",
            "Egypt"
           ],
           "legendgroup": "2003",
           "marker": {
            "colors": [
             "#636efa",
             "#EF553B",
             "#00cc96",
             "#ab63fa",
             "#FFA15A",
             "#19d3f3",
             "#FF6692",
             "#B6E880",
             "#FF97FF",
             "#FECB52",
             "#636efa",
             "#EF553B",
             "#00cc96",
             "#ab63fa",
             "#FFA15A"
            ]
           },
           "name": "2003",
           "title": {
            "text": "Population"
           },
           "type": "pie",
           "values": [
            68100000,
            25600000,
            19000000,
            17400000,
            66099999.99999999,
            779000,
            3710000,
            682000,
            5430000,
            2160000,
            6280000,
            22500000,
            2390000,
            3440000,
            72800000
           ]
          }
         ],
         "name": "2003"
        },
        {
         "data": [
          {
           "domain": {
            "x": [
             0,
             0.2888888888888889
            ],
            "y": [
             0,
             1
            ]
           },
           "labels": [
            "Iran",
            "Iraq",
            "Yemen",
            "Syria",
            "Turkey",
            "Bahrain",
            "United Arab Emirates",
            "Qatar",
            "Jordan",
            "Kuwait",
            "Israel",
            "Saudi Arabia",
            "Oman",
            "Palestine",
            "Egypt"
           ],
           "legendgroup": "2004",
           "marker": {
            "colors": [
             "#636efa",
             "#EF553B",
             "#00cc96",
             "#ab63fa",
             "#FFA15A",
             "#19d3f3",
             "#FF6692",
             "#B6E880",
             "#FF97FF",
             "#FECB52",
             "#636efa",
             "#EF553B",
             "#00cc96",
             "#ab63fa",
             "#FFA15A"
            ]
           },
           "name": "2004",
           "title": {
            "text": "GDP"
           },
           "type": "pie",
           "values": [
            11800,
            7050,
            5080,
            8200,
            17000,
            47700,
            82500,
            93700,
            10100,
            68200,
            29300,
            35100,
            36500,
            4490,
            8180
           ]
          },
          {
           "domain": {
            "x": [
             0.35555555555555557,
             0.6444444444444445
            ],
            "y": [
             0,
             1
            ]
           },
           "labels": [
            "Iran",
            "Iraq",
            "Yemen",
            "Syria",
            "Turkey",
            "Bahrain",
            "United Arab Emirates",
            "Qatar",
            "Jordan",
            "Kuwait",
            "Israel",
            "Saudi Arabia",
            "Oman",
            "Palestine",
            "Egypt"
           ],
           "legendgroup": "2004",
           "marker": {
            "colors": [
             "#636efa",
             "#EF553B",
             "#00cc96",
             "#ab63fa",
             "#FFA15A",
             "#19d3f3",
             "#FF6692",
             "#B6E880",
             "#FF97FF",
             "#FECB52",
             "#636efa",
             "#EF553B",
             "#00cc96",
             "#ab63fa",
             "#FFA15A"
            ]
           },
           "name": "2004",
           "title": {
            "text": "Life Expectancy"
           },
           "type": "pie",
           "values": [
            73.2,
            68.3,
            65.3,
            74.1,
            76.3,
            72.3,
            69.1,
            72.2,
            74,
            78.8,
            79.9,
            71.1,
            70.2,
            69.8,
            68.5
           ]
          },
          {
           "domain": {
            "x": [
             0.6711111111111111,
             0.96
            ],
            "y": [
             0,
             1
            ]
           },
           "labels": [
            "Iran",
            "Iraq",
            "Yemen",
            "Syria",
            "Turkey",
            "Bahrain",
            "United Arab Emirates",
            "Qatar",
            "Jordan",
            "Kuwait",
            "Israel",
            "Saudi Arabia",
            "Oman",
            "Palestine",
            "Egypt"
           ],
           "legendgroup": "2004",
           "marker": {
            "colors": [
             "#636efa",
             "#EF553B",
             "#00cc96",
             "#ab63fa",
             "#FFA15A",
             "#19d3f3",
             "#FF6692",
             "#B6E880",
             "#FF97FF",
             "#FECB52",
             "#636efa",
             "#EF553B",
             "#00cc96",
             "#ab63fa",
             "#FFA15A"
            ]
           },
           "name": "2004",
           "title": {
            "text": "Population"
           },
           "type": "pie",
           "values": [
            69000000,
            26300000,
            19500000,
            17800000,
            67000000,
            830000,
            4070000.0000000005,
            753000,
            5580000,
            2200000,
            6400000,
            23100000,
            2450000,
            3510000,
            74200000
           ]
          }
         ],
         "name": "2004"
        },
        {
         "data": [
          {
           "domain": {
            "x": [
             0,
             0.2888888888888889
            ],
            "y": [
             0,
             1
            ]
           },
           "labels": [
            "Iran",
            "Iraq",
            "Yemen",
            "Syria",
            "Turkey",
            "Bahrain",
            "United Arab Emirates",
            "Qatar",
            "Jordan",
            "Kuwait",
            "Israel",
            "Saudi Arabia",
            "Oman",
            "Palestine",
            "Egypt"
           ],
           "legendgroup": "2005",
           "marker": {
            "colors": [
             "#636efa",
             "#EF553B",
             "#00cc96",
             "#ab63fa",
             "#FFA15A",
             "#19d3f3",
             "#FF6692",
             "#B6E880",
             "#FF97FF",
             "#FECB52",
             "#636efa",
             "#EF553B",
             "#00cc96",
             "#ab63fa",
             "#FFA15A"
            ]
           },
           "name": "2005",
           "title": {
            "text": "GDP"
           },
           "type": "pie",
           "values": [
            12000,
            7490,
            5210,
            8180,
            18300,
            47500,
            80800,
            87700,
            10600,
            73200,
            30000,
            38000,
            36400,
            4870,
            8400
           ]
          },
          {
           "domain": {
            "x": [
             0.35555555555555557,
             0.6444444444444445
            ],
            "y": [
             0,
             1
            ]
           },
           "labels": [
            "Iran",
            "Iraq",
            "Yemen",
            "Syria",
            "Turkey",
            "Bahrain",
            "United Arab Emirates",
            "Qatar",
            "Jordan",
            "Kuwait",
            "Israel",
            "Saudi Arabia",
            "Oman",
            "Palestine",
            "Egypt"
           ],
           "legendgroup": "2005",
           "marker": {
            "colors": [
             "#636efa",
             "#EF553B",
             "#00cc96",
             "#ab63fa",
             "#FFA15A",
             "#19d3f3",
             "#FF6692",
             "#B6E880",
             "#FF97FF",
             "#FECB52",
             "#636efa",
             "#EF553B",
             "#00cc96",
             "#ab63fa",
             "#FFA15A"
            ]
           },
           "name": "2005",
           "title": {
            "text": "Life Expectancy"
           },
           "type": "pie",
           "values": [
            73.5,
            67.7,
            65.8,
            74.4,
            76.8,
            72.7,
            69.2,
            72.3,
            74.1,
            78.7,
            80.3,
            71.2,
            70.3,
            71.1,
            68.8
           ]
          },
          {
           "domain": {
            "x": [
             0.6711111111111111,
             0.96
            ],
            "y": [
             0,
             1
            ]
           },
           "labels": [
            "Iran",
            "Iraq",
            "Yemen",
            "Syria",
            "Turkey",
            "Bahrain",
            "United Arab Emirates",
            "Qatar",
            "Jordan",
            "Kuwait",
            "Israel",
            "Saudi Arabia",
            "Oman",
            "Palestine",
            "Egypt"
           ],
           "legendgroup": "2005",
           "marker": {
            "colors": [
             "#636efa",
             "#EF553B",
             "#00cc96",
             "#ab63fa",
             "#FFA15A",
             "#19d3f3",
             "#FF6692",
             "#B6E880",
             "#FF97FF",
             "#FECB52",
             "#636efa",
             "#EF553B",
             "#00cc96",
             "#ab63fa",
             "#FFA15A"
            ]
           },
           "name": "2005",
           "title": {
            "text": "Population"
           },
           "type": "pie",
           "values": [
            69800000,
            26900000,
            20100000,
            18400000,
            67900000,
            889000,
            4590000,
            865000,
            5770000,
            2270000,
            6530000,
            23800000,
            2510000,
            3580000,
            75500000
           ]
          }
         ],
         "name": "2005"
        },
        {
         "data": [
          {
           "domain": {
            "x": [
             0,
             0.2888888888888889
            ],
            "y": [
             0,
             1
            ]
           },
           "labels": [
            "Iran",
            "Iraq",
            "Yemen",
            "Syria",
            "Turkey",
            "Bahrain",
            "United Arab Emirates",
            "Qatar",
            "Jordan",
            "Kuwait",
            "Israel",
            "Saudi Arabia",
            "Oman",
            "Palestine",
            "Egypt"
           ],
           "legendgroup": "2006",
           "marker": {
            "colors": [
             "#636efa",
             "#EF553B",
             "#00cc96",
             "#ab63fa",
             "#FFA15A",
             "#19d3f3",
             "#FF6692",
             "#B6E880",
             "#FF97FF",
             "#FECB52",
             "#636efa",
             "#EF553B",
             "#00cc96",
             "#ab63fa",
             "#FFA15A"
            ]
           },
           "name": "2006",
           "title": {
            "text": "GDP"
           },
           "type": "pie",
           "values": [
            12500,
            8080,
            5230,
            8020,
            19300,
            46900,
            86400,
            93700,
            11000,
            75200,
            31200,
            40100,
            37400,
            4700,
            8810
           ]
          },
          {
           "domain": {
            "x": [
             0.35555555555555557,
             0.6444444444444445
            ],
            "y": [
             0,
             1
            ]
           },
           "labels": [
            "Iran",
            "Iraq",
            "Yemen",
            "Syria",
            "Turkey",
            "Bahrain",
            "United Arab Emirates",
            "Qatar",
            "Jordan",
            "Kuwait",
            "Israel",
            "Saudi Arabia",
            "Oman",
            "Palestine",
            "Egypt"
           ],
           "legendgroup": "2006",
           "marker": {
            "colors": [
             "#636efa",
             "#EF553B",
             "#00cc96",
             "#ab63fa",
             "#FFA15A",
             "#19d3f3",
             "#FF6692",
             "#B6E880",
             "#FF97FF",
             "#FECB52",
             "#636efa",
             "#EF553B",
             "#00cc96",
             "#ab63fa",
             "#FFA15A"
            ]
           },
           "name": "2006",
           "title": {
            "text": "Life Expectancy"
           },
           "type": "pie",
           "values": [
            74,
            66.6,
            66.2,
            74.5,
            77,
            73,
            69.5,
            72.1,
            74.5,
            78.8,
            80.4,
            71.2,
            70.1,
            69.6,
            68.9
           ]
          },
          {
           "domain": {
            "x": [
             0.6711111111111111,
             0.96
            ],
            "y": [
             0,
             1
            ]
           },
           "labels": [
            "Iran",
            "Iraq",
            "Yemen",
            "Syria",
            "Turkey",
            "Bahrain",
            "United Arab Emirates",
            "Qatar",
            "Jordan",
            "Kuwait",
            "Israel",
            "Saudi Arabia",
            "Oman",
            "Palestine",
            "Egypt"
           ],
           "legendgroup": "2006",
           "marker": {
            "colors": [
             "#636efa",
             "#EF553B",
             "#00cc96",
             "#ab63fa",
             "#FFA15A",
             "#19d3f3",
             "#FF6692",
             "#B6E880",
             "#FF97FF",
             "#FECB52",
             "#636efa",
             "#EF553B",
             "#00cc96",
             "#ab63fa",
             "#FFA15A"
            ]
           },
           "name": "2006",
           "title": {
            "text": "Population"
           },
           "type": "pie",
           "values": [
            70600000,
            27400000,
            20700000,
            19100000,
            68800000,
            958000,
            5300000,
            1020000,
            5990000,
            2370000,
            6680000,
            24500000,
            2580000,
            3660000,
            76900000
           ]
          }
         ],
         "name": "2006"
        },
        {
         "data": [
          {
           "domain": {
            "x": [
             0,
             0.2888888888888889
            ],
            "y": [
             0,
             1
            ]
           },
           "labels": [
            "Iran",
            "Iraq",
            "Yemen",
            "Syria",
            "Turkey",
            "Bahrain",
            "United Arab Emirates",
            "Qatar",
            "Jordan",
            "Kuwait",
            "Israel",
            "Saudi Arabia",
            "Oman",
            "Palestine",
            "Egypt"
           ],
           "legendgroup": "2007",
           "marker": {
            "colors": [
             "#636efa",
             "#EF553B",
             "#00cc96",
             "#ab63fa",
             "#FFA15A",
             "#19d3f3",
             "#FF6692",
             "#B6E880",
             "#FF97FF",
             "#FECB52",
             "#636efa",
             "#EF553B",
             "#00cc96",
             "#ab63fa",
             "#FFA15A"
            ]
           },
           "name": "2007",
           "title": {
            "text": "GDP"
           },
           "type": "pie",
           "values": [
            13300,
            8070,
            5250,
            7880,
            20000,
            47000,
            76600,
            92800,
            11400,
            75600,
            32500,
            41900,
            37900,
            4750,
            9280
           ]
          },
          {
           "domain": {
            "x": [
             0.35555555555555557,
             0.6444444444444445
            ],
            "y": [
             0,
             1
            ]
           },
           "labels": [
            "Iran",
            "Iraq",
            "Yemen",
            "Syria",
            "Turkey",
            "Bahrain",
            "United Arab Emirates",
            "Qatar",
            "Jordan",
            "Kuwait",
            "Israel",
            "Saudi Arabia",
            "Oman",
            "Palestine",
            "Egypt"
           ],
           "legendgroup": "2007",
           "marker": {
            "colors": [
             "#636efa",
             "#EF553B",
             "#00cc96",
             "#ab63fa",
             "#FFA15A",
             "#19d3f3",
             "#FF6692",
             "#B6E880",
             "#FF97FF",
             "#FECB52",
             "#636efa",
             "#EF553B",
             "#00cc96",
             "#ab63fa",
             "#FFA15A"
            ]
           },
           "name": "2007",
           "title": {
            "text": "Life Expectancy"
           },
           "type": "pie",
           "values": [
            74.4,
            67.2,
            66.5,
            74.6,
            77.1,
            73.6,
            70,
            72.2,
            75.5,
            79,
            80.8,
            71.3,
            69.9,
            71.6,
            69.2
           ]
          },
          {
           "domain": {
            "x": [
             0.6711111111111111,
             0.96
            ],
            "y": [
             0,
             1
            ]
           },
           "labels": [
            "Iran",
            "Iraq",
            "Yemen",
            "Syria",
            "Turkey",
            "Bahrain",
            "United Arab Emirates",
            "Qatar",
            "Jordan",
            "Kuwait",
            "Israel",
            "Saudi Arabia",
            "Oman",
            "Palestine",
            "Egypt"
           ],
           "legendgroup": "2007",
           "marker": {
            "colors": [
             "#636efa",
             "#EF553B",
             "#00cc96",
             "#ab63fa",
             "#FFA15A",
             "#19d3f3",
             "#FF6692",
             "#B6E880",
             "#FF97FF",
             "#FECB52",
             "#636efa",
             "#EF553B",
             "#00cc96",
             "#ab63fa",
             "#FFA15A"
            ]
           },
           "name": "2007",
           "title": {
            "text": "Population"
           },
           "type": "pie",
           "values": [
            71300000,
            27900000,
            21300000,
            19900000,
            69600000,
            1040000,
            6170000,
            1220000,
            6260000,
            2500000,
            6850000,
            25200000,
            2660000,
            3760000,
            78200000
           ]
          }
         ],
         "name": "2007"
        },
        {
         "data": [
          {
           "domain": {
            "x": [
             0,
             0.2888888888888889
            ],
            "y": [
             0,
             1
            ]
           },
           "labels": [
            "Iran",
            "Iraq",
            "Yemen",
            "Syria",
            "Turkey",
            "Bahrain",
            "United Arab Emirates",
            "Qatar",
            "Jordan",
            "Kuwait",
            "Israel",
            "Saudi Arabia",
            "Oman",
            "Palestine",
            "Egypt"
           ],
           "legendgroup": "2008",
           "marker": {
            "colors": [
             "#636efa",
             "#EF553B",
             "#00cc96",
             "#ab63fa",
             "#FFA15A",
             "#19d3f3",
             "#FF6692",
             "#B6E880",
             "#FF97FF",
             "#FECB52",
             "#636efa",
             "#EF553B",
             "#00cc96",
             "#ab63fa",
             "#FFA15A"
            ]
           },
           "name": "2008",
           "title": {
            "text": "GDP"
           },
           "type": "pie",
           "values": [
            13200,
            8190,
            5290,
            7670,
            19900,
            46400,
            68800,
            92600,
            11700,
            73000,
            33000,
            45800,
            39600,
            4970,
            9760
           ]
          },
          {
           "domain": {
            "x": [
             0.35555555555555557,
             0.6444444444444445
            ],
            "y": [
             0,
             1
            ]
           },
           "labels": [
            "Iran",
            "Iraq",
            "Yemen",
            "Syria",
            "Turkey",
            "Bahrain",
            "United Arab Emirates",
            "Qatar",
            "Jordan",
            "Kuwait",
            "Israel",
            "Saudi Arabia",
            "Oman",
            "Palestine",
            "Egypt"
           ],
           "legendgroup": "2008",
           "marker": {
            "colors": [
             "#636efa",
             "#EF553B",
             "#00cc96",
             "#ab63fa",
             "#FFA15A",
             "#19d3f3",
             "#FF6692",
             "#B6E880",
             "#FF97FF",
             "#FECB52",
             "#636efa",
             "#EF553B",
             "#00cc96",
             "#ab63fa",
             "#FFA15A"
            ]
           },
           "name": "2008",
           "title": {
            "text": "Life Expectancy"
           },
           "type": "pie",
           "values": [
            74.8,
            69.3,
            66.9,
            74.4,
            77,
            74,
            70.4,
            72.5,
            76.2,
            78.1,
            81,
            71.4,
            70,
            69.3,
            69.3
           ]
          },
          {
           "domain": {
            "x": [
             0.6711111111111111,
             0.96
            ],
            "y": [
             0,
             1
            ]
           },
           "labels": [
            "Iran",
            "Iraq",
            "Yemen",
            "Syria",
            "Turkey",
            "Bahrain",
            "United Arab Emirates",
            "Qatar",
            "Jordan",
            "Kuwait",
            "Israel",
            "Saudi Arabia",
            "Oman",
            "Palestine",
            "Egypt"
           ],
           "legendgroup": "2008",
           "marker": {
            "colors": [
             "#636efa",
             "#EF553B",
             "#00cc96",
             "#ab63fa",
             "#FFA15A",
             "#19d3f3",
             "#FF6692",
             "#B6E880",
             "#FF97FF",
             "#FECB52",
             "#636efa",
             "#EF553B",
             "#00cc96",
             "#ab63fa",
             "#FFA15A"
            ]
           },
           "name": "2008",
           "title": {
            "text": "Population"
           },
           "type": "pie",
           "values": [
            72100000,
            28400000,
            21900000,
            20700000,
            70400000,
            1110000,
            7090000,
            1440000,
            6560000,
            2660000,
            7020000,
            25900000,
            2750000,
            3860000,
            79600000
           ]
          }
         ],
         "name": "2008"
        },
        {
         "data": [
          {
           "domain": {
            "x": [
             0,
             0.2888888888888889
            ],
            "y": [
             0,
             1
            ]
           },
           "labels": [
            "Iran",
            "Iraq",
            "Yemen",
            "Syria",
            "Turkey",
            "Bahrain",
            "United Arab Emirates",
            "Qatar",
            "Jordan",
            "Kuwait",
            "Israel",
            "Saudi Arabia",
            "Oman",
            "Palestine",
            "Egypt"
           ],
           "legendgroup": "2009",
           "marker": {
            "colors": [
             "#636efa",
             "#EF553B",
             "#00cc96",
             "#ab63fa",
             "#FFA15A",
             "#19d3f3",
             "#FF6692",
             "#B6E880",
             "#FF97FF",
             "#FECB52",
             "#636efa",
             "#EF553B",
             "#00cc96",
             "#ab63fa",
             "#FFA15A"
            ]
           },
           "name": "2009",
           "title": {
            "text": "GDP"
           },
           "type": "pie",
           "values": [
            13200,
            8290,
            5340,
            7660,
            18700,
            44800,
            58400,
            90000,
            11700,
            63900,
            32600,
            44600,
            40200,
            5250,
            10000
           ]
          },
          {
           "domain": {
            "x": [
             0.35555555555555557,
             0.6444444444444445
            ],
            "y": [
             0,
             1
            ]
           },
           "labels": [
            "Iran",
            "Iraq",
            "Yemen",
            "Syria",
            "Turkey",
            "Bahrain",
            "United Arab Emirates",
            "Qatar",
            "Jordan",
            "Kuwait",
            "Israel",
            "Saudi Arabia",
            "Oman",
            "Palestine",
            "Egypt"
           ],
           "legendgroup": "2009",
           "marker": {
            "colors": [
             "#636efa",
             "#EF553B",
             "#00cc96",
             "#ab63fa",
             "#FFA15A",
             "#19d3f3",
             "#FF6692",
             "#B6E880",
             "#FF97FF",
             "#FECB52",
             "#636efa",
             "#EF553B",
             "#00cc96",
             "#ab63fa",
             "#FFA15A"
            ]
           },
           "name": "2009",
           "title": {
            "text": "Life Expectancy"
           },
           "type": "pie",
           "values": [
            75.1,
            70.1,
            67.2,
            74.7,
            76.8,
            74.5,
            70.6,
            72.8,
            76.7,
            78.7,
            81.4,
            71.6,
            70.2,
            69.8,
            69.3
           ]
          },
          {
           "domain": {
            "x": [
             0.6711111111111111,
             0.96
            ],
            "y": [
             0,
             1
            ]
           },
           "labels": [
            "Iran",
            "Iraq",
            "Yemen",
            "Syria",
            "Turkey",
            "Bahrain",
            "United Arab Emirates",
            "Qatar",
            "Jordan",
            "Kuwait",
            "Israel",
            "Saudi Arabia",
            "Oman",
            "Palestine",
            "Egypt"
           ],
           "legendgroup": "2009",
           "marker": {
            "colors": [
             "#636efa",
             "#EF553B",
             "#00cc96",
             "#ab63fa",
             "#FFA15A",
             "#19d3f3",
             "#FF6692",
             "#B6E880",
             "#FF97FF",
             "#FECB52",
             "#636efa",
             "#EF553B",
             "#00cc96",
             "#ab63fa",
             "#FFA15A"
            ]
           },
           "name": "2009",
           "title": {
            "text": "Population"
           },
           "type": "pie",
           "values": [
            72900000,
            29000000,
            22500000,
            21200000,
            71300000,
            1190000,
            7920000,
            1650000,
            6890000,
            2820000,
            7190000,
            26600000,
            2880000,
            3960000,
            81100000
           ]
          }
         ],
         "name": "2009"
        },
        {
         "data": [
          {
           "domain": {
            "x": [
             0,
             0.2888888888888889
            ],
            "y": [
             0,
             1
            ]
           },
           "labels": [
            "Iran",
            "Iraq",
            "Yemen",
            "Syria",
            "Turkey",
            "Bahrain",
            "United Arab Emirates",
            "Qatar",
            "Jordan",
            "Kuwait",
            "Israel",
            "Saudi Arabia",
            "Oman",
            "Palestine",
            "Egypt"
           ],
           "legendgroup": "2010",
           "marker": {
            "colors": [
             "#636efa",
             "#EF553B",
             "#00cc96",
             "#ab63fa",
             "#FFA15A",
             "#19d3f3",
             "#FF6692",
             "#B6E880",
             "#FF97FF",
             "#FECB52",
             "#636efa",
             "#EF553B",
             "#00cc96",
             "#ab63fa",
             "#FFA15A"
            ]
           },
           "name": "2010",
           "title": {
            "text": "GDP"
           },
           "type": "pie",
           "values": [
            13800,
            8600,
            5590,
            7580,
            20000,
            44600,
            54900,
            95900,
            11300,
            58800,
            33900,
            44000,
            38700,
            5410,
            10300
           ]
          },
          {
           "domain": {
            "x": [
             0.35555555555555557,
             0.6444444444444445
            ],
            "y": [
             0,
             1
            ]
           },
           "labels": [
            "Iran",
            "Iraq",
            "Yemen",
            "Syria",
            "Turkey",
            "Bahrain",
            "United Arab Emirates",
            "Qatar",
            "Jordan",
            "Kuwait",
            "Israel",
            "Saudi Arabia",
            "Oman",
            "Palestine",
            "Egypt"
           ],
           "legendgroup": "2010",
           "marker": {
            "colors": [
             "#636efa",
             "#EF553B",
             "#00cc96",
             "#ab63fa",
             "#FFA15A",
             "#19d3f3",
             "#FF6692",
             "#B6E880",
             "#FF97FF",
             "#FECB52",
             "#636efa",
             "#EF553B",
             "#00cc96",
             "#ab63fa",
             "#FFA15A"
            ]
           },
           "name": "2010",
           "title": {
            "text": "Life Expectancy"
           },
           "type": "pie",
           "values": [
            75.5,
            70.6,
            67.6,
            74.7,
            76.7,
            75,
            70.8,
            73.4,
            76.9,
            80.1,
            81.9,
            71.8,
            70.4,
            73.7,
            69.4
           ]
          },
          {
           "domain": {
            "x": [
             0.6711111111111111,
             0.96
            ],
            "y": [
             0,
             1
            ]
           },
           "labels": [
            "Iran",
            "Iraq",
            "Yemen",
            "Syria",
            "Turkey",
            "Bahrain",
            "United Arab Emirates",
            "Qatar",
            "Jordan",
            "Kuwait",
            "Israel",
            "Saudi Arabia",
            "Oman",
            "Palestine",
            "Egypt"
           ],
           "legendgroup": "2010",
           "marker": {
            "colors": [
             "#636efa",
             "#EF553B",
             "#00cc96",
             "#ab63fa",
             "#FFA15A",
             "#19d3f3",
             "#FF6692",
             "#B6E880",
             "#FF97FF",
             "#FECB52",
             "#636efa",
             "#EF553B",
             "#00cc96",
             "#ab63fa",
             "#FFA15A"
            ]
           },
           "name": "2010",
           "title": {
            "text": "Population"
           },
           "type": "pie",
           "values": [
            73800000,
            29700000,
            23200000,
            21400000,
            72300000,
            1240000,
            8550000,
            1860000,
            7260000,
            2990000,
            7350000,
            27400000,
            3040000,
            4059999.9999999995,
            82800000
           ]
          }
         ],
         "name": "2010"
        },
        {
         "data": [
          {
           "domain": {
            "x": [
             0,
             0.2888888888888889
            ],
            "y": [
             0,
             1
            ]
           },
           "labels": [
            "Iran",
            "Iraq",
            "Yemen",
            "Syria",
            "Turkey",
            "Bahrain",
            "United Arab Emirates",
            "Qatar",
            "Jordan",
            "Kuwait",
            "Israel",
            "Saudi Arabia",
            "Oman",
            "Palestine",
            "Egypt"
           ],
           "legendgroup": "2011",
           "marker": {
            "colors": [
             "#636efa",
             "#EF553B",
             "#00cc96",
             "#ab63fa",
             "#FFA15A",
             "#19d3f3",
             "#FF6692",
             "#B6E880",
             "#FF97FF",
             "#FECB52",
             "#636efa",
             "#EF553B",
             "#00cc96",
             "#ab63fa",
             "#FFA15A"
            ]
           },
           "name": "2011",
           "title": {
            "text": "GDP"
           },
           "type": "pie",
           "values": [
            14000,
            8950,
            4750,
            6950,
            21900,
            44200,
            56100,
            99100,
            11000,
            60900,
            35100,
            47000,
            37200,
            5780,
            10300
           ]
          },
          {
           "domain": {
            "x": [
             0.35555555555555557,
             0.6444444444444445
            ],
            "y": [
             0,
             1
            ]
           },
           "labels": [
            "Iran",
            "Iraq",
            "Yemen",
            "Syria",
            "Turkey",
            "Bahrain",
            "United Arab Emirates",
            "Qatar",
            "Jordan",
            "Kuwait",
            "Israel",
            "Saudi Arabia",
            "Oman",
            "Palestine",
            "Egypt"
           ],
           "legendgroup": "2011",
           "marker": {
            "colors": [
             "#636efa",
             "#EF553B",
             "#00cc96",
             "#ab63fa",
             "#FFA15A",
             "#19d3f3",
             "#FF6692",
             "#B6E880",
             "#FF97FF",
             "#FECB52",
             "#636efa",
             "#EF553B",
             "#00cc96",
             "#ab63fa",
             "#FFA15A"
            ]
           },
           "name": "2011",
           "title": {
            "text": "Life Expectancy"
           },
           "type": "pie",
           "values": [
            75.8,
            71,
            67.8,
            72.8,
            76.8,
            75.3,
            71,
            73.9,
            77.2,
            80.9,
            82,
            72.2,
            70.8,
            73.7,
            69.6
           ]
          },
          {
           "domain": {
            "x": [
             0.6711111111111111,
             0.96
            ],
            "y": [
             0,
             1
            ]
           },
           "labels": [
            "Iran",
            "Iraq",
            "Yemen",
            "Syria",
            "Turkey",
            "Bahrain",
            "United Arab Emirates",
            "Qatar",
            "Jordan",
            "Kuwait",
            "Israel",
            "Saudi Arabia",
            "Oman",
            "Palestine",
            "Egypt"
           ],
           "legendgroup": "2011",
           "marker": {
            "colors": [
             "#636efa",
             "#EF553B",
             "#00cc96",
             "#ab63fa",
             "#FFA15A",
             "#19d3f3",
             "#FF6692",
             "#B6E880",
             "#FF97FF",
             "#FECB52",
             "#636efa",
             "#EF553B",
             "#00cc96",
             "#ab63fa",
             "#FFA15A"
            ]
           },
           "name": "2011",
           "title": {
            "text": "Population"
           },
           "type": "pie",
           "values": [
            74600000,
            30700000,
            23800000,
            21100000,
            73400000,
            1280000,
            8950000,
            2040000,
            7660000,
            3170000,
            7490000,
            28300000,
            3250000,
            4150000.0000000005,
            84500000
           ]
          }
         ],
         "name": "2011"
        },
        {
         "data": [
          {
           "domain": {
            "x": [
             0,
             0.2888888888888889
            ],
            "y": [
             0,
             1
            ]
           },
           "labels": [
            "Iran",
            "Iraq",
            "Yemen",
            "Syria",
            "Turkey",
            "Bahrain",
            "United Arab Emirates",
            "Qatar",
            "Jordan",
            "Kuwait",
            "Israel",
            "Saudi Arabia",
            "Oman",
            "Palestine",
            "Egypt"
           ],
           "legendgroup": "2012",
           "marker": {
            "colors": [
             "#636efa",
             "#EF553B",
             "#00cc96",
             "#ab63fa",
             "#FFA15A",
             "#19d3f3",
             "#FF6692",
             "#B6E880",
             "#FF97FF",
             "#FECB52",
             "#636efa",
             "#EF553B",
             "#00cc96",
             "#ab63fa",
             "#FFA15A"
            ]
           },
           "name": "2012",
           "title": {
            "text": "GDP"
           },
           "type": "pie",
           "values": [
            12800,
            9830,
            4740,
            5610,
            22600,
            45000,
            57400,
            96300,
            10700,
            61400,
            35400,
            48000,
            37700,
            5990,
            10300
           ]
          },
          {
           "domain": {
            "x": [
             0.35555555555555557,
             0.6444444444444445
            ],
            "y": [
             0,
             1
            ]
           },
           "labels": [
            "Iran",
            "Iraq",
            "Yemen",
            "Syria",
            "Turkey",
            "Bahrain",
            "United Arab Emirates",
            "Qatar",
            "Jordan",
            "Kuwait",
            "Israel",
            "Saudi Arabia",
            "Oman",
            "Palestine",
            "Egypt"
           ],
           "legendgroup": "2012",
           "marker": {
            "colors": [
             "#636efa",
             "#EF553B",
             "#00cc96",
             "#ab63fa",
             "#FFA15A",
             "#19d3f3",
             "#FF6692",
             "#B6E880",
             "#FF97FF",
             "#FECB52",
             "#636efa",
             "#EF553B",
             "#00cc96",
             "#ab63fa",
             "#FFA15A"
            ]
           },
           "name": "2012",
           "title": {
            "text": "Life Expectancy"
           },
           "type": "pie",
           "values": [
            76,
            71.3,
            67.9,
            65.8,
            77,
            75.7,
            71.2,
            74.3,
            77.5,
            81,
            82.3,
            72.6,
            71.5,
            73.9,
            69.7
           ]
          },
          {
           "domain": {
            "x": [
             0.6711111111111111,
             0.96
            ],
            "y": [
             0,
             1
            ]
           },
           "labels": [
            "Iran",
            "Iraq",
            "Yemen",
            "Syria",
            "Turkey",
            "Bahrain",
            "United Arab Emirates",
            "Qatar",
            "Jordan",
            "Kuwait",
            "Israel",
            "Saudi Arabia",
            "Oman",
            "Palestine",
            "Egypt"
           ],
           "legendgroup": "2012",
           "marker": {
            "colors": [
             "#636efa",
             "#EF553B",
             "#00cc96",
             "#ab63fa",
             "#FFA15A",
             "#19d3f3",
             "#FF6692",
             "#B6E880",
             "#FF97FF",
             "#FECB52",
             "#636efa",
             "#EF553B",
             "#00cc96",
             "#ab63fa",
             "#FFA15A"
            ]
           },
           "name": "2012",
           "title": {
            "text": "Population"
           },
           "type": "pie",
           "values": [
            75500000,
            31900000,
            24500000,
            20400000,
            74700000,
            1300000,
            9140000,
            2200000,
            8090000,
            3350000,
            7610000,
            29200000,
            3500000,
            4240000,
            86400000
           ]
          }
         ],
         "name": "2012"
        },
        {
         "data": [
          {
           "domain": {
            "x": [
             0,
             0.2888888888888889
            ],
            "y": [
             0,
             1
            ]
           },
           "labels": [
            "Iran",
            "Iraq",
            "Yemen",
            "Syria",
            "Turkey",
            "Bahrain",
            "United Arab Emirates",
            "Qatar",
            "Jordan",
            "Kuwait",
            "Israel",
            "Saudi Arabia",
            "Oman",
            "Palestine",
            "Egypt"
           ],
           "legendgroup": "2013",
           "marker": {
            "colors": [
             "#636efa",
             "#EF553B",
             "#00cc96",
             "#ab63fa",
             "#FFA15A",
             "#19d3f3",
             "#FF6692",
             "#B6E880",
             "#FF97FF",
             "#FECB52",
             "#636efa",
             "#EF553B",
             "#00cc96",
             "#ab63fa",
             "#FFA15A"
            ]
           },
           "name": "2013",
           "title": {
            "text": "GDP"
           },
           "type": "pie",
           "values": [
            12600,
            10200,
            4840,
            4790,
            24100,
            46900,
            59900,
            95500,
            10400,
            59000,
            36400,
            47800,
            36800,
            6120,
            10300
           ]
          },
          {
           "domain": {
            "x": [
             0.35555555555555557,
             0.6444444444444445
            ],
            "y": [
             0,
             1
            ]
           },
           "labels": [
            "Iran",
            "Iraq",
            "Yemen",
            "Syria",
            "Turkey",
            "Bahrain",
            "United Arab Emirates",
            "Qatar",
            "Jordan",
            "Kuwait",
            "Israel",
            "Saudi Arabia",
            "Oman",
            "Palestine",
            "Egypt"
           ],
           "legendgroup": "2013",
           "marker": {
            "colors": [
             "#636efa",
             "#EF553B",
             "#00cc96",
             "#ab63fa",
             "#FFA15A",
             "#19d3f3",
             "#FF6692",
             "#B6E880",
             "#FF97FF",
             "#FECB52",
             "#636efa",
             "#EF553B",
             "#00cc96",
             "#ab63fa",
             "#FFA15A"
            ]
           },
           "name": "2013",
           "title": {
            "text": "Life Expectancy"
           },
           "type": "pie",
           "values": [
            76.2,
            70.9,
            68.4,
            66.4,
            77,
            76.2,
            71.6,
            74.7,
            77.9,
            81.3,
            82.5,
            72.9,
            71.9,
            74.8,
            70.1
           ]
          },
          {
           "domain": {
            "x": [
             0.6711111111111111,
             0.96
            ],
            "y": [
             0,
             1
            ]
           },
           "labels": [
            "Iran",
            "Iraq",
            "Yemen",
            "Syria",
            "Turkey",
            "Bahrain",
            "United Arab Emirates",
            "Qatar",
            "Jordan",
            "Kuwait",
            "Israel",
            "Saudi Arabia",
            "Oman",
            "Palestine",
            "Egypt"
           ],
           "legendgroup": "2013",
           "marker": {
            "colors": [
             "#636efa",
             "#EF553B",
             "#00cc96",
             "#ab63fa",
             "#FFA15A",
             "#19d3f3",
             "#FF6692",
             "#B6E880",
             "#FF97FF",
             "#FECB52",
             "#636efa",
             "#EF553B",
             "#00cc96",
             "#ab63fa",
             "#FFA15A"
            ]
           },
           "name": "2013",
           "title": {
            "text": "Population"
           },
           "type": "pie",
           "values": [
            76500000,
            33200000.000000004,
            25100000,
            19600000,
            75900000,
            1320000,
            9200000,
            2340000,
            8520000,
            3530000,
            7730000,
            30100000,
            3760000,
            4330000,
            88400000
           ]
          }
         ],
         "name": "2013"
        },
        {
         "data": [
          {
           "domain": {
            "x": [
             0,
             0.2888888888888889
            ],
            "y": [
             0,
             1
            ]
           },
           "labels": [
            "Iran",
            "Iraq",
            "Yemen",
            "Syria",
            "Turkey",
            "Bahrain",
            "United Arab Emirates",
            "Qatar",
            "Jordan",
            "Kuwait",
            "Israel",
            "Saudi Arabia",
            "Oman",
            "Palestine",
            "Egypt"
           ],
           "legendgroup": "2014",
           "marker": {
            "colors": [
             "#636efa",
             "#EF553B",
             "#00cc96",
             "#ab63fa",
             "#FFA15A",
             "#19d3f3",
             "#FF6692",
             "#B6E880",
             "#FF97FF",
             "#FECB52",
             "#636efa",
             "#EF553B",
             "#00cc96",
             "#ab63fa",
             "#FFA15A"
            ]
           },
           "name": "2014",
           "title": {
            "text": "GDP"
           },
           "type": "pie",
           "values": [
            13000,
            9820,
            4710,
            4110,
            24900,
            48200,
            62500,
            95600,
            10300,
            56600,
            37200,
            48200,
            34900,
            5970,
            10400
           ]
          },
          {
           "domain": {
            "x": [
             0.35555555555555557,
             0.6444444444444445
            ],
            "y": [
             0,
             1
            ]
           },
           "labels": [
            "Iran",
            "Iraq",
            "Yemen",
            "Syria",
            "Turkey",
            "Bahrain",
            "United Arab Emirates",
            "Qatar",
            "Jordan",
            "Kuwait",
            "Israel",
            "Saudi Arabia",
            "Oman",
            "Palestine",
            "Egypt"
           ],
           "legendgroup": "2014",
           "marker": {
            "colors": [
             "#636efa",
             "#EF553B",
             "#00cc96",
             "#ab63fa",
             "#FFA15A",
             "#19d3f3",
             "#FF6692",
             "#B6E880",
             "#FF97FF",
             "#FECB52",
             "#636efa",
             "#EF553B",
             "#00cc96",
             "#ab63fa",
             "#FFA15A"
            ]
           },
           "name": "2014",
           "title": {
            "text": "Life Expectancy"
           },
           "type": "pie",
           "values": [
            76.5,
            69.9,
            68.5,
            63.6,
            77.1,
            76.6,
            73,
            74.9,
            78.1,
            81.6,
            82,
            73.2,
            72.3,
            74.5,
            70.3
           ]
          },
          {
           "domain": {
            "x": [
             0.6711111111111111,
             0.96
            ],
            "y": [
             0,
             1
            ]
           },
           "labels": [
            "Iran",
            "Iraq",
            "Yemen",
            "Syria",
            "Turkey",
            "Bahrain",
            "United Arab Emirates",
            "Qatar",
            "Jordan",
            "Kuwait",
            "Israel",
            "Saudi Arabia",
            "Oman",
            "Palestine",
            "Egypt"
           ],
           "legendgroup": "2014",
           "marker": {
            "colors": [
             "#636efa",
             "#EF553B",
             "#00cc96",
             "#ab63fa",
             "#FFA15A",
             "#19d3f3",
             "#FF6692",
             "#B6E880",
             "#FF97FF",
             "#FECB52",
             "#636efa",
             "#EF553B",
             "#00cc96",
             "#ab63fa",
             "#FFA15A"
            ]
           },
           "name": "2014",
           "title": {
            "text": "Population"
           },
           "type": "pie",
           "values": [
            77500000,
            34400000,
            25800000,
            18700000,
            77200000,
            1340000,
            9210000,
            2460000,
            8920000,
            3690000,
            7850000,
            30900000,
            4030000.0000000005,
            4430000,
            90400000
           ]
          }
         ],
         "name": "2014"
        },
        {
         "data": [
          {
           "domain": {
            "x": [
             0,
             0.2888888888888889
            ],
            "y": [
             0,
             1
            ]
           },
           "labels": [
            "Iran",
            "Iraq",
            "Yemen",
            "Syria",
            "Turkey",
            "Bahrain",
            "United Arab Emirates",
            "Qatar",
            "Jordan",
            "Kuwait",
            "Israel",
            "Saudi Arabia",
            "Oman",
            "Palestine",
            "Egypt"
           ],
           "legendgroup": "2015",
           "marker": {
            "colors": [
             "#636efa",
             "#EF553B",
             "#00cc96",
             "#ab63fa",
             "#FFA15A",
             "#19d3f3",
             "#FF6692",
             "#B6E880",
             "#FF97FF",
             "#FECB52",
             "#636efa",
             "#EF553B",
             "#00cc96",
             "#ab63fa",
             "#FFA15A"
            ]
           },
           "name": "2015",
           "title": {
            "text": "GDP"
           },
           "type": "pie",
           "values": [
            12700,
            9950,
            3310,
            3540,
            26000,
            48100,
            65300,
            96000,
            10100,
            54800,
            37300,
            48900,
            34600,
            6050,
            10600
           ]
          },
          {
           "domain": {
            "x": [
             0.35555555555555557,
             0.6444444444444445
            ],
            "y": [
             0,
             1
            ]
           },
           "labels": [
            "Iran",
            "Iraq",
            "Yemen",
            "Syria",
            "Turkey",
            "Bahrain",
            "United Arab Emirates",
            "Qatar",
            "Jordan",
            "Kuwait",
            "Israel",
            "Saudi Arabia",
            "Oman",
            "Palestine",
            "Egypt"
           ],
           "legendgroup": "2015",
           "marker": {
            "colors": [
             "#636efa",
             "#EF553B",
             "#00cc96",
             "#ab63fa",
             "#FFA15A",
             "#19d3f3",
             "#FF6692",
             "#B6E880",
             "#FF97FF",
             "#FECB52",
             "#636efa",
             "#EF553B",
             "#00cc96",
             "#ab63fa",
             "#FFA15A"
            ]
           },
           "name": "2015",
           "title": {
            "text": "Life Expectancy"
           },
           "type": "pie",
           "values": [
            76.7,
            70.7,
            68.2,
            65.5,
            77.4,
            76.8,
            73.2,
            75.5,
            78.2,
            81.5,
            82.7,
            73.3,
            72.4,
            74.3,
            69.9
           ]
          },
          {
           "domain": {
            "x": [
             0.6711111111111111,
             0.96
            ],
            "y": [
             0,
             1
            ]
           },
           "labels": [
            "Iran",
            "Iraq",
            "Yemen",
            "Syria",
            "Turkey",
            "Bahrain",
            "United Arab Emirates",
            "Qatar",
            "Jordan",
            "Kuwait",
            "Israel",
            "Saudi Arabia",
            "Oman",
            "Palestine",
            "Egypt"
           ],
           "legendgroup": "2015",
           "marker": {
            "colors": [
             "#636efa",
             "#EF553B",
             "#00cc96",
             "#ab63fa",
             "#FFA15A",
             "#19d3f3",
             "#FF6692",
             "#B6E880",
             "#FF97FF",
             "#FECB52",
             "#636efa",
             "#EF553B",
             "#00cc96",
             "#ab63fa",
             "#FFA15A"
            ]
           },
           "name": "2015",
           "title": {
            "text": "Population"
           },
           "type": "pie",
           "values": [
            78500000,
            35600000,
            26500000,
            18000000,
            78500000,
            1370000,
            9260000,
            2570000,
            9270000,
            3840000,
            7980000,
            31700000,
            4270000,
            4530000,
            92400000
           ]
          }
         ],
         "name": "2015"
        },
        {
         "data": [
          {
           "domain": {
            "x": [
             0,
             0.2888888888888889
            ],
            "y": [
             0,
             1
            ]
           },
           "labels": [
            "Iran",
            "Iraq",
            "Yemen",
            "Syria",
            "Turkey",
            "Bahrain",
            "United Arab Emirates",
            "Qatar",
            "Jordan",
            "Kuwait",
            "Israel",
            "Saudi Arabia",
            "Oman",
            "Palestine",
            "Egypt"
           ],
           "legendgroup": "2016",
           "marker": {
            "colors": [
             "#636efa",
             "#EF553B",
             "#00cc96",
             "#ab63fa",
             "#FFA15A",
             "#19d3f3",
             "#FF6692",
             "#B6E880",
             "#FF97FF",
             "#FECB52",
             "#636efa",
             "#EF553B",
             "#00cc96",
             "#ab63fa",
             "#FFA15A"
            ]
           },
           "name": "2016",
           "title": {
            "text": "GDP"
           },
           "type": "pie",
           "values": [
            14200,
            11000,
            2910,
            3590,
            26400,
            47900,
            66500,
            95600,
            10000,
            54700,
            38200,
            48600,
            34600,
            6440,
            10800
           ]
          },
          {
           "domain": {
            "x": [
             0.35555555555555557,
             0.6444444444444445
            ],
            "y": [
             0,
             1
            ]
           },
           "labels": [
            "Iran",
            "Iraq",
            "Yemen",
            "Syria",
            "Turkey",
            "Bahrain",
            "United Arab Emirates",
            "Qatar",
            "Jordan",
            "Kuwait",
            "Israel",
            "Saudi Arabia",
            "Oman",
            "Palestine",
            "Egypt"
           ],
           "legendgroup": "2016",
           "marker": {
            "colors": [
             "#636efa",
             "#EF553B",
             "#00cc96",
             "#ab63fa",
             "#FFA15A",
             "#19d3f3",
             "#FF6692",
             "#B6E880",
             "#FF97FF",
             "#FECB52",
             "#636efa",
             "#EF553B",
             "#00cc96",
             "#ab63fa",
             "#FFA15A"
            ]
           },
           "name": "2016",
           "title": {
            "text": "Life Expectancy"
           },
           "type": "pie",
           "values": [
            77.1,
            70.9,
            67.5,
            64.3,
            77.5,
            76.8,
            73.4,
            75.7,
            78.1,
            81.6,
            83,
            73.7,
            72.6,
            74.5,
            70.2
           ]
          },
          {
           "domain": {
            "x": [
             0.6711111111111111,
             0.96
            ],
            "y": [
             0,
             1
            ]
           },
           "labels": [
            "Iran",
            "Iraq",
            "Yemen",
            "Syria",
            "Turkey",
            "Bahrain",
            "United Arab Emirates",
            "Qatar",
            "Jordan",
            "Kuwait",
            "Israel",
            "Saudi Arabia",
            "Oman",
            "Palestine",
            "Egypt"
           ],
           "legendgroup": "2016",
           "marker": {
            "colors": [
             "#636efa",
             "#EF553B",
             "#00cc96",
             "#ab63fa",
             "#FFA15A",
             "#19d3f3",
             "#FF6692",
             "#B6E880",
             "#FF97FF",
             "#FECB52",
             "#636efa",
             "#EF553B",
             "#00cc96",
             "#ab63fa",
             "#FFA15A"
            ]
           },
           "name": "2016",
           "title": {
            "text": "Population"
           },
           "type": "pie",
           "values": [
            79600000,
            36600000,
            27200000,
            17500000,
            79800000,
            1430000,
            9360000,
            2650000,
            9550000,
            3960000,
            8109999.999999999,
            32400000,
            4480000,
            4640000,
            94400000
           ]
          }
         ],
         "name": "2016"
        },
        {
         "data": [
          {
           "domain": {
            "x": [
             0,
             0.2888888888888889
            ],
            "y": [
             0,
             1
            ]
           },
           "labels": [
            "Iran",
            "Iraq",
            "Yemen",
            "Syria",
            "Turkey",
            "Bahrain",
            "United Arab Emirates",
            "Qatar",
            "Jordan",
            "Kuwait",
            "Israel",
            "Saudi Arabia",
            "Oman",
            "Palestine",
            "Egypt"
           ],
           "legendgroup": "2017",
           "marker": {
            "colors": [
             "#636efa",
             "#EF553B",
             "#00cc96",
             "#ab63fa",
             "#FFA15A",
             "#19d3f3",
             "#FF6692",
             "#B6E880",
             "#FF97FF",
             "#FECB52",
             "#636efa",
             "#EF553B",
             "#00cc96",
             "#ab63fa",
             "#FFA15A"
            ]
           },
           "name": "2017",
           "title": {
            "text": "GDP"
           },
           "type": "pie",
           "values": [
            14500,
            10500,
            2700,
            3770,
            27900,
            47700,
            67200,
            91700,
            10000,
            50900,
            39100,
            47300,
            33300,
            6400,
            11000
           ]
          },
          {
           "domain": {
            "x": [
             0.35555555555555557,
             0.6444444444444445
            ],
            "y": [
             0,
             1
            ]
           },
           "labels": [
            "Iran",
            "Iraq",
            "Yemen",
            "Syria",
            "Turkey",
            "Bahrain",
            "United Arab Emirates",
            "Qatar",
            "Jordan",
            "Kuwait",
            "Israel",
            "Saudi Arabia",
            "Oman",
            "Palestine",
            "Egypt"
           ],
           "legendgroup": "2017",
           "marker": {
            "colors": [
             "#636efa",
             "#EF553B",
             "#00cc96",
             "#ab63fa",
             "#FFA15A",
             "#19d3f3",
             "#FF6692",
             "#B6E880",
             "#FF97FF",
             "#FECB52",
             "#636efa",
             "#EF553B",
             "#00cc96",
             "#ab63fa",
             "#FFA15A"
            ]
           },
           "name": "2017",
           "title": {
            "text": "Life Expectancy"
           },
           "type": "pie",
           "values": [
            77.3,
            71.5,
            67.3,
            68.3,
            77.8,
            76.8,
            73.5,
            75.9,
            78.2,
            81.6,
            83,
            74,
            72.9,
            74.7,
            70.5
           ]
          },
          {
           "domain": {
            "x": [
             0.6711111111111111,
             0.96
            ],
            "y": [
             0,
             1
            ]
           },
           "labels": [
            "Iran",
            "Iraq",
            "Yemen",
            "Syria",
            "Turkey",
            "Bahrain",
            "United Arab Emirates",
            "Qatar",
            "Jordan",
            "Kuwait",
            "Israel",
            "Saudi Arabia",
            "Oman",
            "Palestine",
            "Egypt"
           ],
           "legendgroup": "2017",
           "marker": {
            "colors": [
             "#636efa",
             "#EF553B",
             "#00cc96",
             "#ab63fa",
             "#FFA15A",
             "#19d3f3",
             "#FF6692",
             "#B6E880",
             "#FF97FF",
             "#FECB52",
             "#636efa",
             "#EF553B",
             "#00cc96",
             "#ab63fa",
             "#FFA15A"
            ]
           },
           "name": "2017",
           "title": {
            "text": "Population"
           },
           "type": "pie",
           "values": [
            80700000,
            37600000,
            27800000,
            17100000,
            81100000,
            1490000,
            9490000,
            2720000,
            9790000,
            4059999.9999999995,
            8240000,
            33100000,
            4670000,
            4750000,
            96400000
           ]
          }
         ],
         "name": "2017"
        },
        {
         "data": [
          {
           "domain": {
            "x": [
             0,
             0.2888888888888889
            ],
            "y": [
             0,
             1
            ]
           },
           "labels": [
            "Iran",
            "Iraq",
            "Yemen",
            "Syria",
            "Turkey",
            "Bahrain",
            "United Arab Emirates",
            "Qatar",
            "Jordan",
            "Kuwait",
            "Israel",
            "Saudi Arabia",
            "Oman",
            "Palestine",
            "Egypt"
           ],
           "legendgroup": "2018",
           "marker": {
            "colors": [
             "#636efa",
             "#EF553B",
             "#00cc96",
             "#ab63fa",
             "#FFA15A",
             "#19d3f3",
             "#FF6692",
             "#B6E880",
             "#FF97FF",
             "#FECB52",
             "#636efa",
             "#EF553B",
             "#00cc96",
             "#ab63fa",
             "#FFA15A"
            ]
           },
           "name": "2018",
           "title": {
            "text": "GDP"
           },
           "type": "pie",
           "values": [
            13500,
            10600,
            2660,
            3890,
            28300,
            46400,
            67000,
            91000,
            10000,
            50500,
            39900,
            47600,
            32600,
            6320,
            11400
           ]
          },
          {
           "domain": {
            "x": [
             0.35555555555555557,
             0.6444444444444445
            ],
            "y": [
             0,
             1
            ]
           },
           "labels": [
            "Iran",
            "Iraq",
            "Yemen",
            "Syria",
            "Turkey",
            "Bahrain",
            "United Arab Emirates",
            "Qatar",
            "Jordan",
            "Kuwait",
            "Israel",
            "Saudi Arabia",
            "Oman",
            "Palestine",
            "Egypt"
           ],
           "legendgroup": "2018",
           "marker": {
            "colors": [
             "#636efa",
             "#EF553B",
             "#00cc96",
             "#ab63fa",
             "#FFA15A",
             "#19d3f3",
             "#FF6692",
             "#B6E880",
             "#FF97FF",
             "#FECB52",
             "#636efa",
             "#EF553B",
             "#00cc96",
             "#ab63fa",
             "#FFA15A"
            ]
           },
           "name": "2018",
           "title": {
            "text": "Life Expectancy"
           },
           "type": "pie",
           "values": [
            77.6,
            73.3,
            66.1,
            73.2,
            78.1,
            77,
            73.7,
            76.1,
            77.9,
            81.6,
            83,
            74.3,
            73.6,
            74.7,
            70.7
           ]
          },
          {
           "domain": {
            "x": [
             0.6711111111111111,
             0.96
            ],
            "y": [
             0,
             1
            ]
           },
           "labels": [
            "Iran",
            "Iraq",
            "Yemen",
            "Syria",
            "Turkey",
            "Bahrain",
            "United Arab Emirates",
            "Qatar",
            "Jordan",
            "Kuwait",
            "Israel",
            "Saudi Arabia",
            "Oman",
            "Palestine",
            "Egypt"
           ],
           "legendgroup": "2018",
           "marker": {
            "colors": [
             "#636efa",
             "#EF553B",
             "#00cc96",
             "#ab63fa",
             "#FFA15A",
             "#19d3f3",
             "#FF6692",
             "#B6E880",
             "#FF97FF",
             "#FECB52",
             "#636efa",
             "#EF553B",
             "#00cc96",
             "#ab63fa",
             "#FFA15A"
            ]
           },
           "name": "2018",
           "title": {
            "text": "Population"
           },
           "type": "pie",
           "values": [
            81800000,
            38400000,
            28500000,
            16900000,
            82300000,
            1570000,
            9630000,
            2780000,
            9970000,
            4139999.9999999995,
            8380000.000000001,
            33700000,
            4830000,
            4860000,
            98400000
           ]
          }
         ],
         "name": "2018"
        },
        {
         "data": [
          {
           "domain": {
            "x": [
             0,
             0.2888888888888889
            ],
            "y": [
             0,
             1
            ]
           },
           "labels": [
            "Iran",
            "Iraq",
            "Yemen",
            "Syria",
            "Turkey",
            "Bahrain",
            "United Arab Emirates",
            "Qatar",
            "Jordan",
            "Kuwait",
            "Israel",
            "Saudi Arabia",
            "Oman",
            "Palestine",
            "Egypt"
           ],
           "legendgroup": "2019",
           "marker": {
            "colors": [
             "#636efa",
             "#EF553B",
             "#00cc96",
             "#ab63fa",
             "#FFA15A",
             "#19d3f3",
             "#FF6692",
             "#B6E880",
             "#FF97FF",
             "#FECB52",
             "#636efa",
             "#EF553B",
             "#00cc96",
             "#ab63fa",
             "#FFA15A"
            ]
           },
           "name": "2019",
           "title": {
            "text": "GDP"
           },
           "type": "pie",
           "values": [
            12400,
            10900,
            2630,
            3850,
            28200,
            45300,
            68300,
            90000,
            10100,
            49900,
            40600,
            47000,
            31300,
            6250,
            11800
           ]
          },
          {
           "domain": {
            "x": [
             0.35555555555555557,
             0.6444444444444445
            ],
            "y": [
             0,
             1
            ]
           },
           "labels": [
            "Iran",
            "Iraq",
            "Yemen",
            "Syria",
            "Turkey",
            "Bahrain",
            "United Arab Emirates",
            "Qatar",
            "Jordan",
            "Kuwait",
            "Israel",
            "Saudi Arabia",
            "Oman",
            "Palestine",
            "Egypt"
           ],
           "legendgroup": "2019",
           "marker": {
            "colors": [
             "#636efa",
             "#EF553B",
             "#00cc96",
             "#ab63fa",
             "#FFA15A",
             "#19d3f3",
             "#FF6692",
             "#B6E880",
             "#FF97FF",
             "#FECB52",
             "#636efa",
             "#EF553B",
             "#00cc96",
             "#ab63fa",
             "#FFA15A"
            ]
           },
           "name": "2019",
           "title": {
            "text": "Life Expectancy"
           },
           "type": "pie",
           "values": [
            77.8,
            73.3,
            67.7,
            73.9,
            78.4,
            77,
            73.9,
            76.3,
            78.2,
            81.5,
            83,
            74.5,
            74,
            74.8,
            71
           ]
          },
          {
           "domain": {
            "x": [
             0.6711111111111111,
             0.96
            ],
            "y": [
             0,
             1
            ]
           },
           "labels": [
            "Iran",
            "Iraq",
            "Yemen",
            "Syria",
            "Turkey",
            "Bahrain",
            "United Arab Emirates",
            "Qatar",
            "Jordan",
            "Kuwait",
            "Israel",
            "Saudi Arabia",
            "Oman",
            "Palestine",
            "Egypt"
           ],
           "legendgroup": "2019",
           "marker": {
            "colors": [
             "#636efa",
             "#EF553B",
             "#00cc96",
             "#ab63fa",
             "#FFA15A",
             "#19d3f3",
             "#FF6692",
             "#B6E880",
             "#FF97FF",
             "#FECB52",
             "#636efa",
             "#EF553B",
             "#00cc96",
             "#ab63fa",
             "#FFA15A"
            ]
           },
           "name": "2019",
           "title": {
            "text": "Population"
           },
           "type": "pie",
           "values": [
            82900000,
            39300000,
            29200000,
            17100000,
            83400000,
            1640000,
            9770000,
            2830000,
            10100000,
            4210000,
            8520000,
            34300000,
            4970000,
            4980000,
            100000000
           ]
          }
         ],
         "name": "2019"
        },
        {
         "data": [
          {
           "domain": {
            "x": [
             0,
             0.2888888888888889
            ],
            "y": [
             0,
             1
            ]
           },
           "labels": [
            "Iran",
            "Iraq",
            "Yemen",
            "Syria",
            "Turkey",
            "Bahrain",
            "United Arab Emirates",
            "Qatar",
            "Jordan",
            "Kuwait",
            "Israel",
            "Saudi Arabia",
            "Oman",
            "Palestine",
            "Egypt"
           ],
           "legendgroup": "2020",
           "marker": {
            "colors": [
             "#636efa",
             "#EF553B",
             "#00cc96",
             "#ab63fa",
             "#FFA15A",
             "#19d3f3",
             "#FF6692",
             "#B6E880",
             "#FF97FF",
             "#FECB52",
             "#636efa",
             "#EF553B",
             "#00cc96",
             "#ab63fa",
             "#FFA15A"
            ]
           },
           "name": "2020",
           "title": {
            "text": "GDP"
           },
           "type": "pie",
           "values": [
            12500,
            8990,
            2360,
            3940,
            28500,
            43400,
            65600,
            90500,
            9820,
            46500,
            39000,
            44000,
            31600,
            5400,
            12000
           ]
          },
          {
           "domain": {
            "x": [
             0.35555555555555557,
             0.6444444444444445
            ],
            "y": [
             0,
             1
            ]
           },
           "labels": [
            "Iran",
            "Iraq",
            "Yemen",
            "Syria",
            "Turkey",
            "Bahrain",
            "United Arab Emirates",
            "Qatar",
            "Jordan",
            "Kuwait",
            "Israel",
            "Saudi Arabia",
            "Oman",
            "Palestine",
            "Egypt"
           ],
           "legendgroup": "2020",
           "marker": {
            "colors": [
             "#636efa",
             "#EF553B",
             "#00cc96",
             "#ab63fa",
             "#FFA15A",
             "#19d3f3",
             "#FF6692",
             "#B6E880",
             "#FF97FF",
             "#FECB52",
             "#636efa",
             "#EF553B",
             "#00cc96",
             "#ab63fa",
             "#FFA15A"
            ]
           },
           "name": "2020",
           "title": {
            "text": "Life Expectancy"
           },
           "type": "pie",
           "values": [
            76.2,
            72.1,
            67.8,
            74.4,
            77.8,
            76.3,
            74,
            76.2,
            76.9,
            81.2,
            82,
            74.3,
            72.7,
            73.6,
            71
           ]
          },
          {
           "domain": {
            "x": [
             0.6711111111111111,
             0.96
            ],
            "y": [
             0,
             1
            ]
           },
           "labels": [
            "Iran",
            "Iraq",
            "Yemen",
            "Syria",
            "Turkey",
            "Bahrain",
            "United Arab Emirates",
            "Qatar",
            "Jordan",
            "Kuwait",
            "Israel",
            "Saudi Arabia",
            "Oman",
            "Palestine",
            "Egypt"
           ],
           "legendgroup": "2020",
           "marker": {
            "colors": [
             "#636efa",
             "#EF553B",
             "#00cc96",
             "#ab63fa",
             "#FFA15A",
             "#19d3f3",
             "#FF6692",
             "#B6E880",
             "#FF97FF",
             "#FECB52",
             "#636efa",
             "#EF553B",
             "#00cc96",
             "#ab63fa",
             "#FFA15A"
            ]
           },
           "name": "2020",
           "title": {
            "text": "Population"
           },
           "type": "pie",
           "values": [
            84000000,
            40200000,
            29800000,
            17500000,
            84300000,
            1700000,
            9890000,
            2880000,
            10200000,
            4270000,
            8660000,
            34800000,
            5110000,
            5100000,
            102000000
           ]
          }
         ],
         "name": "2020"
        },
        {
         "data": [
          {
           "domain": {
            "x": [
             0,
             0.2888888888888889
            ],
            "y": [
             0,
             1
            ]
           },
           "labels": [
            "Iran",
            "Iraq",
            "Yemen",
            "Syria",
            "Turkey",
            "Bahrain",
            "United Arab Emirates",
            "Qatar",
            "Jordan",
            "Kuwait",
            "Israel",
            "Saudi Arabia",
            "Oman",
            "Palestine",
            "Egypt"
           ],
           "legendgroup": "2021",
           "marker": {
            "colors": [
             "#636efa",
             "#EF553B",
             "#00cc96",
             "#ab63fa",
             "#FFA15A",
             "#19d3f3",
             "#FF6692",
             "#B6E880",
             "#FF97FF",
             "#FECB52",
             "#636efa",
             "#EF553B",
             "#00cc96",
             "#ab63fa",
             "#FFA15A"
            ]
           },
           "name": "2021",
           "title": {
            "text": "GDP"
           },
           "type": "pie",
           "values": [
            12800,
            9280,
            2260,
            4030,
            31300,
            43900,
            65099.99999999999,
            94200,
            9950,
            46400,
            41600,
            44900,
            31300,
            5590,
            12100
           ]
          },
          {
           "domain": {
            "x": [
             0.35555555555555557,
             0.6444444444444445
            ],
            "y": [
             0,
             1
            ]
           },
           "labels": [
            "Iran",
            "Iraq",
            "Yemen",
            "Syria",
            "Turkey",
            "Bahrain",
            "United Arab Emirates",
            "Qatar",
            "Jordan",
            "Kuwait",
            "Israel",
            "Saudi Arabia",
            "Oman",
            "Palestine",
            "Egypt"
           ],
           "legendgroup": "2021",
           "marker": {
            "colors": [
             "#636efa",
             "#EF553B",
             "#00cc96",
             "#ab63fa",
             "#FFA15A",
             "#19d3f3",
             "#FF6692",
             "#B6E880",
             "#FF97FF",
             "#FECB52",
             "#636efa",
             "#EF553B",
             "#00cc96",
             "#ab63fa",
             "#FFA15A"
            ]
           },
           "name": "2021",
           "title": {
            "text": "Life Expectancy"
           },
           "type": "pie",
           "values": [
            78.2,
            73.6,
            67.9,
            75.8,
            78.9,
            77.3,
            74.2,
            76.5,
            78.5,
            81.7,
            83.3,
            74.8,
            74.4,
            75.1,
            71.3
           ]
          },
          {
           "domain": {
            "x": [
             0.6711111111111111,
             0.96
            ],
            "y": [
             0,
             1
            ]
           },
           "labels": [
            "Iran",
            "Iraq",
            "Yemen",
            "Syria",
            "Turkey",
            "Bahrain",
            "United Arab Emirates",
            "Qatar",
            "Jordan",
            "Kuwait",
            "Israel",
            "Saudi Arabia",
            "Oman",
            "Palestine",
            "Egypt"
           ],
           "legendgroup": "2021",
           "marker": {
            "colors": [
             "#636efa",
             "#EF553B",
             "#00cc96",
             "#ab63fa",
             "#FFA15A",
             "#19d3f3",
             "#FF6692",
             "#B6E880",
             "#FF97FF",
             "#FECB52",
             "#636efa",
             "#EF553B",
             "#00cc96",
             "#ab63fa",
             "#FFA15A"
            ]
           },
           "name": "2021",
           "title": {
            "text": "Population"
           },
           "type": "pie",
           "values": [
            85000000,
            41200000,
            30500000,
            18300000,
            85000000,
            1750000,
            9990000,
            2930000,
            10300000,
            4330000,
            8790000,
            35300000,
            5220000,
            5220000,
            104000000
           ]
          }
         ],
         "name": "2021"
        },
        {
         "data": [
          {
           "domain": {
            "x": [
             0,
             0.2888888888888889
            ],
            "y": [
             0,
             1
            ]
           },
           "labels": [
            "Iran",
            "Iraq",
            "Yemen",
            "Syria",
            "Turkey",
            "Bahrain",
            "United Arab Emirates",
            "Qatar",
            "Jordan",
            "Kuwait",
            "Israel",
            "Saudi Arabia",
            "Oman",
            "Palestine",
            "Egypt"
           ],
           "legendgroup": "2022",
           "marker": {
            "colors": [
             "#636efa",
             "#EF553B",
             "#00cc96",
             "#ab63fa",
             "#FFA15A",
             "#19d3f3",
             "#FF6692",
             "#B6E880",
             "#FF97FF",
             "#FECB52",
             "#636efa",
             "#EF553B",
             "#00cc96",
             "#ab63fa",
             "#FFA15A"
            ]
           },
           "name": "2022",
           "title": {
            "text": "GDP"
           },
           "type": "pie",
           "values": [
            13100,
            9900,
            2230,
            4090,
            31800,
            44500,
            65200,
            95500,
            10200,
            49400,
            42900,
            47300,
            32100,
            5680,
            12600
           ]
          },
          {
           "domain": {
            "x": [
             0.35555555555555557,
             0.6444444444444445
            ],
            "y": [
             0,
             1
            ]
           },
           "labels": [
            "Iran",
            "Iraq",
            "Yemen",
            "Syria",
            "Turkey",
            "Bahrain",
            "United Arab Emirates",
            "Qatar",
            "Jordan",
            "Kuwait",
            "Israel",
            "Saudi Arabia",
            "Oman",
            "Palestine",
            "Egypt"
           ],
           "legendgroup": "2022",
           "marker": {
            "colors": [
             "#636efa",
             "#EF553B",
             "#00cc96",
             "#ab63fa",
             "#FFA15A",
             "#19d3f3",
             "#FF6692",
             "#B6E880",
             "#FF97FF",
             "#FECB52",
             "#636efa",
             "#EF553B",
             "#00cc96",
             "#ab63fa",
             "#FFA15A"
            ]
           },
           "name": "2022",
           "title": {
            "text": "Life Expectancy"
           },
           "type": "pie",
           "values": [
            78.3,
            73.7,
            68,
            76.7,
            79.1,
            77.4,
            74.3,
            76.7,
            78.7,
            81.8,
            83.5,
            75,
            74.6,
            75.3,
            71.4
           ]
          },
          {
           "domain": {
            "x": [
             0.6711111111111111,
             0.96
            ],
            "y": [
             0,
             1
            ]
           },
           "labels": [
            "Iran",
            "Iraq",
            "Yemen",
            "Syria",
            "Turkey",
            "Bahrain",
            "United Arab Emirates",
            "Qatar",
            "Jordan",
            "Kuwait",
            "Israel",
            "Saudi Arabia",
            "Oman",
            "Palestine",
            "Egypt"
           ],
           "legendgroup": "2022",
           "marker": {
            "colors": [
             "#636efa",
             "#EF553B",
             "#00cc96",
             "#ab63fa",
             "#FFA15A",
             "#19d3f3",
             "#FF6692",
             "#B6E880",
             "#FF97FF",
             "#FECB52",
             "#636efa",
             "#EF553B",
             "#00cc96",
             "#ab63fa",
             "#FFA15A"
            ]
           },
           "name": "2022",
           "title": {
            "text": "Population"
           },
           "type": "pie",
           "values": [
            86000000,
            42200000,
            31200000,
            19400000,
            85600000,
            1780000,
            10100000,
            2980000,
            10300000,
            4380000,
            8920000,
            35800000,
            5320000,
            5350000,
            106000000
           ]
          }
         ],
         "name": "2022"
        },
        {
         "data": [
          {
           "domain": {
            "x": [
             0,
             0.2888888888888889
            ],
            "y": [
             0,
             1
            ]
           },
           "labels": [
            "Iran",
            "Iraq",
            "Yemen",
            "Syria",
            "Turkey",
            "Bahrain",
            "United Arab Emirates",
            "Qatar",
            "Jordan",
            "Kuwait",
            "Israel",
            "Saudi Arabia",
            "Oman",
            "Palestine",
            "Egypt"
           ],
           "legendgroup": "2023",
           "marker": {
            "colors": [
             "#636efa",
             "#EF553B",
             "#00cc96",
             "#ab63fa",
             "#FFA15A",
             "#19d3f3",
             "#FF6692",
             "#B6E880",
             "#FF97FF",
             "#FECB52",
             "#636efa",
             "#EF553B",
             "#00cc96",
             "#ab63fa",
             "#FFA15A"
            ]
           },
           "name": "2023",
           "title": {
            "text": "GDP"
           },
           "type": "pie",
           "values": [
            13200,
            10200,
            2240,
            4150,
            32299.999999999996,
            44900,
            66300,
            99900,
            10500,
            49900,
            43700,
            48100,
            32000,
            5750,
            13000
           ]
          },
          {
           "domain": {
            "x": [
             0.35555555555555557,
             0.6444444444444445
            ],
            "y": [
             0,
             1
            ]
           },
           "labels": [
            "Iran",
            "Iraq",
            "Yemen",
            "Syria",
            "Turkey",
            "Bahrain",
            "United Arab Emirates",
            "Qatar",
            "Jordan",
            "Kuwait",
            "Israel",
            "Saudi Arabia",
            "Oman",
            "Palestine",
            "Egypt"
           ],
           "legendgroup": "2023",
           "marker": {
            "colors": [
             "#636efa",
             "#EF553B",
             "#00cc96",
             "#ab63fa",
             "#FFA15A",
             "#19d3f3",
             "#FF6692",
             "#B6E880",
             "#FF97FF",
             "#FECB52",
             "#636efa",
             "#EF553B",
             "#00cc96",
             "#ab63fa",
             "#FFA15A"
            ]
           },
           "name": "2023",
           "title": {
            "text": "Life Expectancy"
           },
           "type": "pie",
           "values": [
            78.5,
            73.8,
            68.1,
            77.4,
            79.3,
            77.5,
            74.4,
            76.8,
            78.8,
            81.9,
            83.6,
            75.1,
            74.7,
            75.5,
            71.6
           ]
          },
          {
           "domain": {
            "x": [
             0.6711111111111111,
             0.96
            ],
            "y": [
             0,
             1
            ]
           },
           "labels": [
            "Iran",
            "Iraq",
            "Yemen",
            "Syria",
            "Turkey",
            "Bahrain",
            "United Arab Emirates",
            "Qatar",
            "Jordan",
            "Kuwait",
            "Israel",
            "Saudi Arabia",
            "Oman",
            "Palestine",
            "Egypt"
           ],
           "legendgroup": "2023",
           "marker": {
            "colors": [
             "#636efa",
             "#EF553B",
             "#00cc96",
             "#ab63fa",
             "#FFA15A",
             "#19d3f3",
             "#FF6692",
             "#B6E880",
             "#FF97FF",
             "#FECB52",
             "#636efa",
             "#EF553B",
             "#00cc96",
             "#ab63fa",
             "#FFA15A"
            ]
           },
           "name": "2023",
           "title": {
            "text": "Population"
           },
           "type": "pie",
           "values": [
            87000000,
            43200000,
            31800000,
            20600000,
            86000000,
            1810000,
            10200000,
            3030000,
            10300000,
            4430000,
            9060000,
            36300000,
            5410000,
            5470000,
            108000000
           ]
          }
         ],
         "name": "2023"
        },
        {
         "data": [
          {
           "domain": {
            "x": [
             0,
             0.2888888888888889
            ],
            "y": [
             0,
             1
            ]
           },
           "labels": [
            "Iran",
            "Iraq",
            "Yemen",
            "Syria",
            "Turkey",
            "Bahrain",
            "United Arab Emirates",
            "Qatar",
            "Jordan",
            "Kuwait",
            "Israel",
            "Saudi Arabia",
            "Oman",
            "Palestine",
            "Egypt"
           ],
           "legendgroup": "2024",
           "marker": {
            "colors": [
             "#636efa",
             "#EF553B",
             "#00cc96",
             "#ab63fa",
             "#FFA15A",
             "#19d3f3",
             "#FF6692",
             "#B6E880",
             "#FF97FF",
             "#FECB52",
             "#636efa",
             "#EF553B",
             "#00cc96",
             "#ab63fa",
             "#FFA15A"
            ]
           },
           "name": "2024",
           "title": {
            "text": "GDP"
           },
           "type": "pie",
           "values": [
            13400,
            10200,
            2350,
            4220,
            33200,
            45300,
            67900,
            103000,
            10800,
            50400,
            44500,
            48400,
            31800,
            5750,
            13400
           ]
          },
          {
           "domain": {
            "x": [
             0.35555555555555557,
             0.6444444444444445
            ],
            "y": [
             0,
             1
            ]
           },
           "labels": [
            "Iran",
            "Iraq",
            "Yemen",
            "Syria",
            "Turkey",
            "Bahrain",
            "United Arab Emirates",
            "Qatar",
            "Jordan",
            "Kuwait",
            "Israel",
            "Saudi Arabia",
            "Oman",
            "Palestine",
            "Egypt"
           ],
           "legendgroup": "2024",
           "marker": {
            "colors": [
             "#636efa",
             "#EF553B",
             "#00cc96",
             "#ab63fa",
             "#FFA15A",
             "#19d3f3",
             "#FF6692",
             "#B6E880",
             "#FF97FF",
             "#FECB52",
             "#636efa",
             "#EF553B",
             "#00cc96",
             "#ab63fa",
             "#FFA15A"
            ]
           },
           "name": "2024",
           "title": {
            "text": "Life Expectancy"
           },
           "type": "pie",
           "values": [
            78.7,
            74,
            68.3,
            78,
            79.5,
            77.7,
            74.6,
            77,
            79,
            82,
            83.7,
            75.3,
            74.9,
            75.6,
            71.7
           ]
          },
          {
           "domain": {
            "x": [
             0.6711111111111111,
             0.96
            ],
            "y": [
             0,
             1
            ]
           },
           "labels": [
            "Iran",
            "Iraq",
            "Yemen",
            "Syria",
            "Turkey",
            "Bahrain",
            "United Arab Emirates",
            "Qatar",
            "Jordan",
            "Kuwait",
            "Israel",
            "Saudi Arabia",
            "Oman",
            "Palestine",
            "Egypt"
           ],
           "legendgroup": "2024",
           "marker": {
            "colors": [
             "#636efa",
             "#EF553B",
             "#00cc96",
             "#ab63fa",
             "#FFA15A",
             "#19d3f3",
             "#FF6692",
             "#B6E880",
             "#FF97FF",
             "#FECB52",
             "#636efa",
             "#EF553B",
             "#00cc96",
             "#ab63fa",
             "#FFA15A"
            ]
           },
           "name": "2024",
           "title": {
            "text": "Population"
           },
           "type": "pie",
           "values": [
            87900000,
            44200000,
            32500000,
            21900000,
            86300000,
            1840000,
            10200000,
            3080000,
            10300000,
            4470000,
            9190000,
            36800000,
            5490000,
            5590000,
            110000000
           ]
          }
         ],
         "name": "2024"
        }
       ],
       "layout": {
        "height": 700,
        "hovermode": "closest",
        "legend": {
         "traceorder": "normal"
        },
        "showlegend": true,
        "sliders": [
         {
          "active": 0,
          "currentvalue": {
           "font": {
            "size": 20
           },
           "prefix": "Year:",
           "visible": true,
           "xanchor": "right"
          },
          "len": 0.9,
          "pad": {
           "b": 10,
           "t": 50
          },
          "steps": [
           {
            "args": [
             [
              "1990"
             ],
             {
              "frame": {
               "duration": 300,
               "redraw": true
              },
              "mode": "immediate",
              "transition": {
               "duration": 300
              }
             }
            ],
            "label": "1990",
            "method": "animate"
           },
           {
            "args": [
             [
              "1991"
             ],
             {
              "frame": {
               "duration": 300,
               "redraw": true
              },
              "mode": "immediate",
              "transition": {
               "duration": 300
              }
             }
            ],
            "label": "1991",
            "method": "animate"
           },
           {
            "args": [
             [
              "1992"
             ],
             {
              "frame": {
               "duration": 300,
               "redraw": true
              },
              "mode": "immediate",
              "transition": {
               "duration": 300
              }
             }
            ],
            "label": "1992",
            "method": "animate"
           },
           {
            "args": [
             [
              "1993"
             ],
             {
              "frame": {
               "duration": 300,
               "redraw": true
              },
              "mode": "immediate",
              "transition": {
               "duration": 300
              }
             }
            ],
            "label": "1993",
            "method": "animate"
           },
           {
            "args": [
             [
              "1994"
             ],
             {
              "frame": {
               "duration": 300,
               "redraw": true
              },
              "mode": "immediate",
              "transition": {
               "duration": 300
              }
             }
            ],
            "label": "1994",
            "method": "animate"
           },
           {
            "args": [
             [
              "1995"
             ],
             {
              "frame": {
               "duration": 300,
               "redraw": true
              },
              "mode": "immediate",
              "transition": {
               "duration": 300
              }
             }
            ],
            "label": "1995",
            "method": "animate"
           },
           {
            "args": [
             [
              "1996"
             ],
             {
              "frame": {
               "duration": 300,
               "redraw": true
              },
              "mode": "immediate",
              "transition": {
               "duration": 300
              }
             }
            ],
            "label": "1996",
            "method": "animate"
           },
           {
            "args": [
             [
              "1997"
             ],
             {
              "frame": {
               "duration": 300,
               "redraw": true
              },
              "mode": "immediate",
              "transition": {
               "duration": 300
              }
             }
            ],
            "label": "1997",
            "method": "animate"
           },
           {
            "args": [
             [
              "1998"
             ],
             {
              "frame": {
               "duration": 300,
               "redraw": true
              },
              "mode": "immediate",
              "transition": {
               "duration": 300
              }
             }
            ],
            "label": "1998",
            "method": "animate"
           },
           {
            "args": [
             [
              "1999"
             ],
             {
              "frame": {
               "duration": 300,
               "redraw": true
              },
              "mode": "immediate",
              "transition": {
               "duration": 300
              }
             }
            ],
            "label": "1999",
            "method": "animate"
           },
           {
            "args": [
             [
              "2000"
             ],
             {
              "frame": {
               "duration": 300,
               "redraw": true
              },
              "mode": "immediate",
              "transition": {
               "duration": 300
              }
             }
            ],
            "label": "2000",
            "method": "animate"
           },
           {
            "args": [
             [
              "2001"
             ],
             {
              "frame": {
               "duration": 300,
               "redraw": true
              },
              "mode": "immediate",
              "transition": {
               "duration": 300
              }
             }
            ],
            "label": "2001",
            "method": "animate"
           },
           {
            "args": [
             [
              "2002"
             ],
             {
              "frame": {
               "duration": 300,
               "redraw": true
              },
              "mode": "immediate",
              "transition": {
               "duration": 300
              }
             }
            ],
            "label": "2002",
            "method": "animate"
           },
           {
            "args": [
             [
              "2003"
             ],
             {
              "frame": {
               "duration": 300,
               "redraw": true
              },
              "mode": "immediate",
              "transition": {
               "duration": 300
              }
             }
            ],
            "label": "2003",
            "method": "animate"
           },
           {
            "args": [
             [
              "2004"
             ],
             {
              "frame": {
               "duration": 300,
               "redraw": true
              },
              "mode": "immediate",
              "transition": {
               "duration": 300
              }
             }
            ],
            "label": "2004",
            "method": "animate"
           },
           {
            "args": [
             [
              "2005"
             ],
             {
              "frame": {
               "duration": 300,
               "redraw": true
              },
              "mode": "immediate",
              "transition": {
               "duration": 300
              }
             }
            ],
            "label": "2005",
            "method": "animate"
           },
           {
            "args": [
             [
              "2006"
             ],
             {
              "frame": {
               "duration": 300,
               "redraw": true
              },
              "mode": "immediate",
              "transition": {
               "duration": 300
              }
             }
            ],
            "label": "2006",
            "method": "animate"
           },
           {
            "args": [
             [
              "2007"
             ],
             {
              "frame": {
               "duration": 300,
               "redraw": true
              },
              "mode": "immediate",
              "transition": {
               "duration": 300
              }
             }
            ],
            "label": "2007",
            "method": "animate"
           },
           {
            "args": [
             [
              "2008"
             ],
             {
              "frame": {
               "duration": 300,
               "redraw": true
              },
              "mode": "immediate",
              "transition": {
               "duration": 300
              }
             }
            ],
            "label": "2008",
            "method": "animate"
           },
           {
            "args": [
             [
              "2009"
             ],
             {
              "frame": {
               "duration": 300,
               "redraw": true
              },
              "mode": "immediate",
              "transition": {
               "duration": 300
              }
             }
            ],
            "label": "2009",
            "method": "animate"
           },
           {
            "args": [
             [
              "2010"
             ],
             {
              "frame": {
               "duration": 300,
               "redraw": true
              },
              "mode": "immediate",
              "transition": {
               "duration": 300
              }
             }
            ],
            "label": "2010",
            "method": "animate"
           },
           {
            "args": [
             [
              "2011"
             ],
             {
              "frame": {
               "duration": 300,
               "redraw": true
              },
              "mode": "immediate",
              "transition": {
               "duration": 300
              }
             }
            ],
            "label": "2011",
            "method": "animate"
           },
           {
            "args": [
             [
              "2012"
             ],
             {
              "frame": {
               "duration": 300,
               "redraw": true
              },
              "mode": "immediate",
              "transition": {
               "duration": 300
              }
             }
            ],
            "label": "2012",
            "method": "animate"
           },
           {
            "args": [
             [
              "2013"
             ],
             {
              "frame": {
               "duration": 300,
               "redraw": true
              },
              "mode": "immediate",
              "transition": {
               "duration": 300
              }
             }
            ],
            "label": "2013",
            "method": "animate"
           },
           {
            "args": [
             [
              "2014"
             ],
             {
              "frame": {
               "duration": 300,
               "redraw": true
              },
              "mode": "immediate",
              "transition": {
               "duration": 300
              }
             }
            ],
            "label": "2014",
            "method": "animate"
           },
           {
            "args": [
             [
              "2015"
             ],
             {
              "frame": {
               "duration": 300,
               "redraw": true
              },
              "mode": "immediate",
              "transition": {
               "duration": 300
              }
             }
            ],
            "label": "2015",
            "method": "animate"
           },
           {
            "args": [
             [
              "2016"
             ],
             {
              "frame": {
               "duration": 300,
               "redraw": true
              },
              "mode": "immediate",
              "transition": {
               "duration": 300
              }
             }
            ],
            "label": "2016",
            "method": "animate"
           },
           {
            "args": [
             [
              "2017"
             ],
             {
              "frame": {
               "duration": 300,
               "redraw": true
              },
              "mode": "immediate",
              "transition": {
               "duration": 300
              }
             }
            ],
            "label": "2017",
            "method": "animate"
           },
           {
            "args": [
             [
              "2018"
             ],
             {
              "frame": {
               "duration": 300,
               "redraw": true
              },
              "mode": "immediate",
              "transition": {
               "duration": 300
              }
             }
            ],
            "label": "2018",
            "method": "animate"
           },
           {
            "args": [
             [
              "2019"
             ],
             {
              "frame": {
               "duration": 300,
               "redraw": true
              },
              "mode": "immediate",
              "transition": {
               "duration": 300
              }
             }
            ],
            "label": "2019",
            "method": "animate"
           },
           {
            "args": [
             [
              "2020"
             ],
             {
              "frame": {
               "duration": 300,
               "redraw": true
              },
              "mode": "immediate",
              "transition": {
               "duration": 300
              }
             }
            ],
            "label": "2020",
            "method": "animate"
           },
           {
            "args": [
             [
              "2021"
             ],
             {
              "frame": {
               "duration": 300,
               "redraw": true
              },
              "mode": "immediate",
              "transition": {
               "duration": 300
              }
             }
            ],
            "label": "2021",
            "method": "animate"
           },
           {
            "args": [
             [
              "2022"
             ],
             {
              "frame": {
               "duration": 300,
               "redraw": true
              },
              "mode": "immediate",
              "transition": {
               "duration": 300
              }
             }
            ],
            "label": "2022",
            "method": "animate"
           },
           {
            "args": [
             [
              "2023"
             ],
             {
              "frame": {
               "duration": 300,
               "redraw": true
              },
              "mode": "immediate",
              "transition": {
               "duration": 300
              }
             }
            ],
            "label": "2023",
            "method": "animate"
           },
           {
            "args": [
             [
              "2024"
             ],
             {
              "frame": {
               "duration": 300,
               "redraw": true
              },
              "mode": "immediate",
              "transition": {
               "duration": 300
              }
             }
            ],
            "label": "2024",
            "method": "animate"
           }
          ],
          "transition": {
           "duration": 300,
           "easing": "cubic-in-out"
          },
          "x": 0.1,
          "xanchor": "left",
          "y": 0,
          "yanchor": "top"
         }
        ],
        "template": {
         "data": {
          "bar": [
           {
            "error_x": {
             "color": "#2a3f5f"
            },
            "error_y": {
             "color": "#2a3f5f"
            },
            "marker": {
             "line": {
              "color": "#E5ECF6",
              "width": 0.5
             },
             "pattern": {
              "fillmode": "overlay",
              "size": 10,
              "solidity": 0.2
             }
            },
            "type": "bar"
           }
          ],
          "barpolar": [
           {
            "marker": {
             "line": {
              "color": "#E5ECF6",
              "width": 0.5
             },
             "pattern": {
              "fillmode": "overlay",
              "size": 10,
              "solidity": 0.2
             }
            },
            "type": "barpolar"
           }
          ],
          "carpet": [
           {
            "aaxis": {
             "endlinecolor": "#2a3f5f",
             "gridcolor": "white",
             "linecolor": "white",
             "minorgridcolor": "white",
             "startlinecolor": "#2a3f5f"
            },
            "baxis": {
             "endlinecolor": "#2a3f5f",
             "gridcolor": "white",
             "linecolor": "white",
             "minorgridcolor": "white",
             "startlinecolor": "#2a3f5f"
            },
            "type": "carpet"
           }
          ],
          "choropleth": [
           {
            "colorbar": {
             "outlinewidth": 0,
             "ticks": ""
            },
            "type": "choropleth"
           }
          ],
          "contour": [
           {
            "colorbar": {
             "outlinewidth": 0,
             "ticks": ""
            },
            "colorscale": [
             [
              0,
              "#0d0887"
             ],
             [
              0.1111111111111111,
              "#46039f"
             ],
             [
              0.2222222222222222,
              "#7201a8"
             ],
             [
              0.3333333333333333,
              "#9c179e"
             ],
             [
              0.4444444444444444,
              "#bd3786"
             ],
             [
              0.5555555555555556,
              "#d8576b"
             ],
             [
              0.6666666666666666,
              "#ed7953"
             ],
             [
              0.7777777777777778,
              "#fb9f3a"
             ],
             [
              0.8888888888888888,
              "#fdca26"
             ],
             [
              1,
              "#f0f921"
             ]
            ],
            "type": "contour"
           }
          ],
          "contourcarpet": [
           {
            "colorbar": {
             "outlinewidth": 0,
             "ticks": ""
            },
            "type": "contourcarpet"
           }
          ],
          "heatmap": [
           {
            "colorbar": {
             "outlinewidth": 0,
             "ticks": ""
            },
            "colorscale": [
             [
              0,
              "#0d0887"
             ],
             [
              0.1111111111111111,
              "#46039f"
             ],
             [
              0.2222222222222222,
              "#7201a8"
             ],
             [
              0.3333333333333333,
              "#9c179e"
             ],
             [
              0.4444444444444444,
              "#bd3786"
             ],
             [
              0.5555555555555556,
              "#d8576b"
             ],
             [
              0.6666666666666666,
              "#ed7953"
             ],
             [
              0.7777777777777778,
              "#fb9f3a"
             ],
             [
              0.8888888888888888,
              "#fdca26"
             ],
             [
              1,
              "#f0f921"
             ]
            ],
            "type": "heatmap"
           }
          ],
          "heatmapgl": [
           {
            "colorbar": {
             "outlinewidth": 0,
             "ticks": ""
            },
            "colorscale": [
             [
              0,
              "#0d0887"
             ],
             [
              0.1111111111111111,
              "#46039f"
             ],
             [
              0.2222222222222222,
              "#7201a8"
             ],
             [
              0.3333333333333333,
              "#9c179e"
             ],
             [
              0.4444444444444444,
              "#bd3786"
             ],
             [
              0.5555555555555556,
              "#d8576b"
             ],
             [
              0.6666666666666666,
              "#ed7953"
             ],
             [
              0.7777777777777778,
              "#fb9f3a"
             ],
             [
              0.8888888888888888,
              "#fdca26"
             ],
             [
              1,
              "#f0f921"
             ]
            ],
            "type": "heatmapgl"
           }
          ],
          "histogram": [
           {
            "marker": {
             "pattern": {
              "fillmode": "overlay",
              "size": 10,
              "solidity": 0.2
             }
            },
            "type": "histogram"
           }
          ],
          "histogram2d": [
           {
            "colorbar": {
             "outlinewidth": 0,
             "ticks": ""
            },
            "colorscale": [
             [
              0,
              "#0d0887"
             ],
             [
              0.1111111111111111,
              "#46039f"
             ],
             [
              0.2222222222222222,
              "#7201a8"
             ],
             [
              0.3333333333333333,
              "#9c179e"
             ],
             [
              0.4444444444444444,
              "#bd3786"
             ],
             [
              0.5555555555555556,
              "#d8576b"
             ],
             [
              0.6666666666666666,
              "#ed7953"
             ],
             [
              0.7777777777777778,
              "#fb9f3a"
             ],
             [
              0.8888888888888888,
              "#fdca26"
             ],
             [
              1,
              "#f0f921"
             ]
            ],
            "type": "histogram2d"
           }
          ],
          "histogram2dcontour": [
           {
            "colorbar": {
             "outlinewidth": 0,
             "ticks": ""
            },
            "colorscale": [
             [
              0,
              "#0d0887"
             ],
             [
              0.1111111111111111,
              "#46039f"
             ],
             [
              0.2222222222222222,
              "#7201a8"
             ],
             [
              0.3333333333333333,
              "#9c179e"
             ],
             [
              0.4444444444444444,
              "#bd3786"
             ],
             [
              0.5555555555555556,
              "#d8576b"
             ],
             [
              0.6666666666666666,
              "#ed7953"
             ],
             [
              0.7777777777777778,
              "#fb9f3a"
             ],
             [
              0.8888888888888888,
              "#fdca26"
             ],
             [
              1,
              "#f0f921"
             ]
            ],
            "type": "histogram2dcontour"
           }
          ],
          "mesh3d": [
           {
            "colorbar": {
             "outlinewidth": 0,
             "ticks": ""
            },
            "type": "mesh3d"
           }
          ],
          "parcoords": [
           {
            "line": {
             "colorbar": {
              "outlinewidth": 0,
              "ticks": ""
             }
            },
            "type": "parcoords"
           }
          ],
          "pie": [
           {
            "automargin": true,
            "type": "pie"
           }
          ],
          "scatter": [
           {
            "fillpattern": {
             "fillmode": "overlay",
             "size": 10,
             "solidity": 0.2
            },
            "type": "scatter"
           }
          ],
          "scatter3d": [
           {
            "line": {
             "colorbar": {
              "outlinewidth": 0,
              "ticks": ""
             }
            },
            "marker": {
             "colorbar": {
              "outlinewidth": 0,
              "ticks": ""
             }
            },
            "type": "scatter3d"
           }
          ],
          "scattercarpet": [
           {
            "marker": {
             "colorbar": {
              "outlinewidth": 0,
              "ticks": ""
             }
            },
            "type": "scattercarpet"
           }
          ],
          "scattergeo": [
           {
            "marker": {
             "colorbar": {
              "outlinewidth": 0,
              "ticks": ""
             }
            },
            "type": "scattergeo"
           }
          ],
          "scattergl": [
           {
            "marker": {
             "colorbar": {
              "outlinewidth": 0,
              "ticks": ""
             }
            },
            "type": "scattergl"
           }
          ],
          "scattermapbox": [
           {
            "marker": {
             "colorbar": {
              "outlinewidth": 0,
              "ticks": ""
             }
            },
            "type": "scattermapbox"
           }
          ],
          "scatterpolar": [
           {
            "marker": {
             "colorbar": {
              "outlinewidth": 0,
              "ticks": ""
             }
            },
            "type": "scatterpolar"
           }
          ],
          "scatterpolargl": [
           {
            "marker": {
             "colorbar": {
              "outlinewidth": 0,
              "ticks": ""
             }
            },
            "type": "scatterpolargl"
           }
          ],
          "scatterternary": [
           {
            "marker": {
             "colorbar": {
              "outlinewidth": 0,
              "ticks": ""
             }
            },
            "type": "scatterternary"
           }
          ],
          "surface": [
           {
            "colorbar": {
             "outlinewidth": 0,
             "ticks": ""
            },
            "colorscale": [
             [
              0,
              "#0d0887"
             ],
             [
              0.1111111111111111,
              "#46039f"
             ],
             [
              0.2222222222222222,
              "#7201a8"
             ],
             [
              0.3333333333333333,
              "#9c179e"
             ],
             [
              0.4444444444444444,
              "#bd3786"
             ],
             [
              0.5555555555555556,
              "#d8576b"
             ],
             [
              0.6666666666666666,
              "#ed7953"
             ],
             [
              0.7777777777777778,
              "#fb9f3a"
             ],
             [
              0.8888888888888888,
              "#fdca26"
             ],
             [
              1,
              "#f0f921"
             ]
            ],
            "type": "surface"
           }
          ],
          "table": [
           {
            "cells": {
             "fill": {
              "color": "#EBF0F8"
             },
             "line": {
              "color": "white"
             }
            },
            "header": {
             "fill": {
              "color": "#C8D4E3"
             },
             "line": {
              "color": "white"
             }
            },
            "type": "table"
           }
          ]
         },
         "layout": {
          "annotationdefaults": {
           "arrowcolor": "#2a3f5f",
           "arrowhead": 0,
           "arrowwidth": 1
          },
          "autotypenumbers": "strict",
          "coloraxis": {
           "colorbar": {
            "outlinewidth": 0,
            "ticks": ""
           }
          },
          "colorscale": {
           "diverging": [
            [
             0,
             "#8e0152"
            ],
            [
             0.1,
             "#c51b7d"
            ],
            [
             0.2,
             "#de77ae"
            ],
            [
             0.3,
             "#f1b6da"
            ],
            [
             0.4,
             "#fde0ef"
            ],
            [
             0.5,
             "#f7f7f7"
            ],
            [
             0.6,
             "#e6f5d0"
            ],
            [
             0.7,
             "#b8e186"
            ],
            [
             0.8,
             "#7fbc41"
            ],
            [
             0.9,
             "#4d9221"
            ],
            [
             1,
             "#276419"
            ]
           ],
           "sequential": [
            [
             0,
             "#0d0887"
            ],
            [
             0.1111111111111111,
             "#46039f"
            ],
            [
             0.2222222222222222,
             "#7201a8"
            ],
            [
             0.3333333333333333,
             "#9c179e"
            ],
            [
             0.4444444444444444,
             "#bd3786"
            ],
            [
             0.5555555555555556,
             "#d8576b"
            ],
            [
             0.6666666666666666,
             "#ed7953"
            ],
            [
             0.7777777777777778,
             "#fb9f3a"
            ],
            [
             0.8888888888888888,
             "#fdca26"
            ],
            [
             1,
             "#f0f921"
            ]
           ],
           "sequentialminus": [
            [
             0,
             "#0d0887"
            ],
            [
             0.1111111111111111,
             "#46039f"
            ],
            [
             0.2222222222222222,
             "#7201a8"
            ],
            [
             0.3333333333333333,
             "#9c179e"
            ],
            [
             0.4444444444444444,
             "#bd3786"
            ],
            [
             0.5555555555555556,
             "#d8576b"
            ],
            [
             0.6666666666666666,
             "#ed7953"
            ],
            [
             0.7777777777777778,
             "#fb9f3a"
            ],
            [
             0.8888888888888888,
             "#fdca26"
            ],
            [
             1,
             "#f0f921"
            ]
           ]
          },
          "colorway": [
           "#636efa",
           "#EF553B",
           "#00cc96",
           "#ab63fa",
           "#FFA15A",
           "#19d3f3",
           "#FF6692",
           "#B6E880",
           "#FF97FF",
           "#FECB52"
          ],
          "font": {
           "color": "#2a3f5f"
          },
          "geo": {
           "bgcolor": "white",
           "lakecolor": "white",
           "landcolor": "#E5ECF6",
           "showlakes": true,
           "showland": true,
           "subunitcolor": "white"
          },
          "hoverlabel": {
           "align": "left"
          },
          "hovermode": "closest",
          "mapbox": {
           "style": "light"
          },
          "paper_bgcolor": "white",
          "plot_bgcolor": "#E5ECF6",
          "polar": {
           "angularaxis": {
            "gridcolor": "white",
            "linecolor": "white",
            "ticks": ""
           },
           "bgcolor": "#E5ECF6",
           "radialaxis": {
            "gridcolor": "white",
            "linecolor": "white",
            "ticks": ""
           }
          },
          "scene": {
           "xaxis": {
            "backgroundcolor": "#E5ECF6",
            "gridcolor": "white",
            "gridwidth": 2,
            "linecolor": "white",
            "showbackground": true,
            "ticks": "",
            "zerolinecolor": "white"
           },
           "yaxis": {
            "backgroundcolor": "#E5ECF6",
            "gridcolor": "white",
            "gridwidth": 2,
            "linecolor": "white",
            "showbackground": true,
            "ticks": "",
            "zerolinecolor": "white"
           },
           "zaxis": {
            "backgroundcolor": "#E5ECF6",
            "gridcolor": "white",
            "gridwidth": 2,
            "linecolor": "white",
            "showbackground": true,
            "ticks": "",
            "zerolinecolor": "white"
           }
          },
          "shapedefaults": {
           "line": {
            "color": "#2a3f5f"
           }
          },
          "ternary": {
           "aaxis": {
            "gridcolor": "white",
            "linecolor": "white",
            "ticks": ""
           },
           "baxis": {
            "gridcolor": "white",
            "linecolor": "white",
            "ticks": ""
           },
           "bgcolor": "#E5ECF6",
           "caxis": {
            "gridcolor": "white",
            "linecolor": "white",
            "ticks": ""
           }
          },
          "title": {
           "x": 0.05
          },
          "xaxis": {
           "automargin": true,
           "gridcolor": "white",
           "linecolor": "white",
           "ticks": "",
           "title": {
            "standoff": 15
           },
           "zerolinecolor": "white",
           "zerolinewidth": 2
          },
          "yaxis": {
           "automargin": true,
           "gridcolor": "white",
           "linecolor": "white",
           "ticks": "",
           "title": {
            "standoff": 15
           },
           "zerolinecolor": "white",
           "zerolinewidth": 2
          }
         }
        },
        "title": {
         "text": "Midel East Country"
        },
        "updatemenus": [
         {
          "buttons": [
           {
            "args": [
             null,
             {
              "frame": {
               "duration": 500,
               "redraw": true
              },
              "fromcurrent": true,
              "transition": {
               "duration": 300,
               "easing": "quadratic-in-out"
              }
             }
            ],
            "label": "Play",
            "method": "animate"
           },
           {
            "args": [
             [
              null
             ],
             {
              "frame": {
               "duration": 0,
               "redraw": true
              },
              "mode": "immediate",
              "transition": {
               "duration": 0
              }
             }
            ],
            "label": "Pause",
            "method": "animate"
           }
          ],
          "direction": "left",
          "pad": {
           "r": 10,
           "t": 87
          },
          "showactive": false,
          "type": "buttons",
          "x": 0.1,
          "xanchor": "right",
          "y": 0,
          "yanchor": "top"
         }
        ]
       }
      }
     },
     "metadata": {},
     "output_type": "display_data"
    }
   ],
   "source": [
    "# make figure\n",
    "fig_dict = {\n",
    "    \"data\": [],\n",
    "    \"layout\": {},\n",
    "    \"frames\": []\n",
    "}\n",
    "\n",
    "# fill in most of layout\n",
    "fig_dict[\"layout\"][\"height\"] = 700\n",
    "fig_dict[\"layout\"][\"title\"] = \"Midel East Country\"\n",
    "fig_dict[\"layout\"][\"legend_traceorder\"] = \"normal\"\n",
    "fig_dict[\"layout\"][\"showlegend\"] = True\n",
    "fig_dict[\"layout\"][\"hovermode\"] = \"closest\"\n",
    "fig_dict[\"layout\"][\"updatemenus\"] = [\n",
    "    {\n",
    "        \"buttons\": [\n",
    "            {\n",
    "                \"args\": [None, {\"frame\": {\"duration\": 500, \"redraw\": True},\n",
    "                                \"fromcurrent\": True, \"transition\": {\"duration\": 300,\n",
    "                                                                    \"easing\": \"quadratic-in-out\"}}],\n",
    "                \"label\": \"Play\",\n",
    "                \"method\": \"animate\"\n",
    "            },\n",
    "            {\n",
    "                \"args\": [[None], {\"frame\": {\"duration\": 0, \"redraw\": True},\n",
    "                                  \"mode\": \"immediate\",\n",
    "                                  \"transition\": {\"duration\": 0}}],\n",
    "                \"label\": \"Pause\",\n",
    "                \"method\": \"animate\"\n",
    "            }\n",
    "        ],\n",
    "        \"direction\": \"left\",\n",
    "        \"pad\": {\"r\": 10, \"t\": 87},\n",
    "        \"showactive\": False,\n",
    "        \"type\": \"buttons\",\n",
    "        \"x\": 0.1,\n",
    "        \"xanchor\": \"right\",\n",
    "        \"y\": 0,\n",
    "        \"yanchor\": \"top\"\n",
    "    }\n",
    "]\n",
    "\n",
    "sliders_dict = {\n",
    "    \"active\": 0,\n",
    "    \"yanchor\": \"top\",\n",
    "    \"xanchor\": \"left\",\n",
    "    \"currentvalue\": {\n",
    "        \"font\": {\"size\": 20},\n",
    "        \"prefix\": \"Year:\",\n",
    "        \"visible\": True,\n",
    "        \"xanchor\": \"right\"\n",
    "    },\n",
    "    \"transition\": {\"duration\": 300, \"easing\": \"cubic-in-out\"},\n",
    "    \"pad\": {\"b\": 10, \"t\": 50},\n",
    "    \"len\": 0.9,\n",
    "    \"x\": 0.1,\n",
    "    \"y\": 0,\n",
    "    \"steps\": []\n",
    "}\n",
    "\n",
    "# make data\n",
    "dataset = df[df['year'] == years[0]]\n",
    "data_dict = {\n",
    "    \"type\": \"pie\",\n",
    "    \"title\": 'GDP',\n",
    "    \"labels\": list(dataset[\"country\"]),\n",
    "    \"values\": list(dataset[\"gdp\"]),\n",
    "    \"marker\": {\"colors\": middel_east_country_colors},\n",
    "    \"domain\": {'x': [0.0, 0.2888888888888889], 'y': [0.0, 1.0]},\n",
    "    \"legendgroup\": years[0],\n",
    "    \"name\": years[0]\n",
    "}\n",
    "fig_dict[\"data\"].append(data_dict)\n",
    "\n",
    "data_dict = {\n",
    "    \"type\": \"pie\",\n",
    "    \"title\": 'Life Expectancy',\n",
    "    \"labels\": list(dataset[\"country\"]),\n",
    "    \"values\": list(dataset[\"life exp\"]),\n",
    "    \"marker\": {\"colors\": middel_east_country_colors},\n",
    "    \"domain\": {'x': [0.35555555555555557, 0.6444444444444445], 'y': [0.0, 1.0]},\n",
    "    \"legendgroup\": years[0],\n",
    "    \"name\": years[0]\n",
    "}\n",
    "fig_dict[\"data\"].append(data_dict)\n",
    "\n",
    "data_dict = {\n",
    "    \"type\": \"pie\",\n",
    "    \"title\": 'Population',\n",
    "    \"labels\": list(dataset[\"country\"]),\n",
    "    \"values\": list(dataset[\"pop\"]),\n",
    "    \"marker\": {\"colors\": middel_east_country_colors},\n",
    "    \"domain\": {'x': [0.7111111111111111 - 0.04, 1.0 - 0.04], 'y': [0.0, 1.0]},\n",
    "    \"legendgroup\": years[0],\n",
    "    \"name\": years[0]\n",
    "}\n",
    "fig_dict[\"data\"].append(data_dict)\n",
    "\n",
    "# make frames\n",
    "for year in years:\n",
    "    frame = {\"data\": [], \"name\": str(year)}\n",
    "    dataset = df[df['year'] == year]\n",
    "\n",
    "    data_dict = {\n",
    "        \"type\": \"pie\",\n",
    "        \"title\": 'GDP',\n",
    "        \"labels\": list(dataset[\"country\"]),\n",
    "        \"values\": list(dataset[\"gdp\"]),\n",
    "        \"marker\": {\"colors\": middel_east_country_colors},\n",
    "        \"domain\": {'x': [0.0, 0.2888888888888889], 'y': [0.0, 1.0]},\n",
    "        \"legendgroup\": year,\n",
    "        \"name\": year\n",
    "    }\n",
    "    frame[\"data\"].append(data_dict)\n",
    "\n",
    "    data_dict = {\n",
    "        \"type\": \"pie\",\n",
    "        \"title\": 'Life Expectancy',\n",
    "        \"labels\": list(dataset[\"country\"]),\n",
    "        \"values\": list(dataset[\"life exp\"]),\n",
    "        \"marker\": {\"colors\": middel_east_country_colors},\n",
    "        \"domain\": {'x': [0.35555555555555557, 0.6444444444444445], 'y': [0.0, 1.0]},\n",
    "        \"legendgroup\": year,\n",
    "        \"name\": year\n",
    "    }\n",
    "    frame[\"data\"].append(data_dict)\n",
    "\n",
    "    data_dict = {\n",
    "        \"type\": \"pie\",\n",
    "        \"title\": 'Population',\n",
    "        \"labels\": list(dataset[\"country\"]),\n",
    "        \"values\": list(dataset[\"pop\"]),\n",
    "        \"marker\": {\"colors\": middel_east_country_colors},\n",
    "        \"domain\": {'x': [0.7111111111111111 - 0.04, 1.0 - 0.04], 'y': [0.0, 1.0]},\n",
    "        \"legendgroup\": year,\n",
    "        \"name\": year\n",
    "    }\n",
    "    frame[\"data\"].append(data_dict)\n",
    "\n",
    "    fig_dict[\"frames\"].append(frame)\n",
    "\n",
    "    slider_step = {\"args\": [\n",
    "        [year],\n",
    "        {\"frame\": {\"duration\": 300, \"redraw\": True},\n",
    "         \"mode\": \"immediate\",\n",
    "         \"transition\": {\"duration\": 300}}\n",
    "    ],\n",
    "        \"label\": year,\n",
    "        \"method\": \"animate\"}\n",
    "\n",
    "    sliders_dict[\"steps\"].append(slider_step)\n",
    "fig_dict[\"layout\"][\"sliders\"] = [sliders_dict]\n",
    "\n",
    "fig = go.Figure(fig_dict)\n",
    "fig.show()"
   ]
  },
  {
   "cell_type": "code",
   "execution_count": null,
   "id": "1cfb39b0",
   "metadata": {},
   "outputs": [],
   "source": []
  }
 ],
 "metadata": {
  "kernelspec": {
   "display_name": "Python 3",
   "language": "python",
   "name": "python3"
  },
  "language_info": {
   "codemirror_mode": {
    "name": "ipython",
    "version": 3
   },
   "file_extension": ".py",
   "mimetype": "text/x-python",
   "name": "python",
   "nbconvert_exporter": "python",
   "pygments_lexer": "ipython3",
   "version": "3.9.6"
  },
  "vscode": {
   "interpreter": {
    "hash": "e78c918433e81b4ba8438039938399e64aa6ca5fa0ab68db2dfb16a8bc7dbfa8"
   }
  }
 },
 "nbformat": 4,
 "nbformat_minor": 5
}
